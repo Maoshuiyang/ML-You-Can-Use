{
 "cells": [
  {
   "cell_type": "markdown",
   "metadata": {},
   "source": [
    "# IMDB Movie Reviews Benchmark\n",
    "The IMDB movie review benchmark is commonly used for assessing text and sentiment classification. Keras data does contain a version of it, but not the full text (just indices based on word frequency). In this notebook we'll:\n",
    "* download and store the IMDB data set locally\n",
    "* preprocess and use the data\n",
    "* develop and assess our text classification code"
   ]
  },
  {
   "cell_type": "code",
   "execution_count": 1,
   "metadata": {},
   "outputs": [],
   "source": [
    "%load_ext autoreload\n",
    "%autoreload 2\n",
    "%matplotlib inline"
   ]
  },
  {
   "cell_type": "code",
   "execution_count": 2,
   "metadata": {},
   "outputs": [
    {
     "name": "stderr",
     "output_type": "stream",
     "text": [
      "Using TensorFlow backend.\n"
     ]
    }
   ],
   "source": [
    "import random\n",
    "import logging \n",
    "from glob import glob \n",
    "from collections import Counter\n",
    "\n",
    "from IPython.display import SVG\n",
    "from keras.preprocessing.text import Tokenizer\n",
    "from keras.preprocessing.sequence import pad_sequences\n",
    "from keras.utils.vis_utils import model_to_dot\n",
    "from keras.utils import get_file\n",
    "import numpy as np  \n",
    "from sklearn.model_selection import train_test_split\n",
    "import matplotlib.pyplot as plt\n",
    "from matplotlib.ticker import MaxNLocator"
   ]
  },
  {
   "cell_type": "markdown",
   "metadata": {},
   "source": [
    "### Add our parent path, to get to our common shared library code"
   ]
  },
  {
   "cell_type": "code",
   "execution_count": 3,
   "metadata": {},
   "outputs": [],
   "source": [
    "import os\n",
    "import sys\n",
    "import inspect\n",
    "from pathlib import Path \n",
    "currentdir = Path.cwd()\n",
    "# currentdir = os.path.dirname(os.path.abspath(inspect.getfile(inspect.currentframe())))\n",
    "parentdir = os.path.dirname(currentdir)\n",
    "sys.path.insert(0,parentdir) "
   ]
  },
  {
   "cell_type": "code",
   "execution_count": 4,
   "metadata": {},
   "outputs": [],
   "source": [
    "from mlyoucanuse.text_classification_modeler import TextClassificationModeler\n",
    "from mlyoucanuse.embeddings import (load_embeddings, \n",
    "                                    create_embeddings_matrix, \n",
    "                                    get_embeddings_layer, \n",
    "                                    get_embeddings_index)"
   ]
  },
  {
   "cell_type": "markdown",
   "metadata": {},
   "source": [
    "### Fix random, for reproducible tests"
   ]
  },
  {
   "cell_type": "code",
   "execution_count": 5,
   "metadata": {},
   "outputs": [],
   "source": [
    "import tensorflow as tf\n",
    "\n",
    "# The below is necessary for starting Numpy generated random numbers\n",
    "# in a well-defined initial state.\n",
    "np.random.seed(42)\n",
    "\n",
    "# The below is necessary for starting core Python generated random numbers\n",
    "# in a well-defined state.\n",
    "random.seed(12345)\n",
    "\n",
    "# Force TensorFlow to use single thread.\n",
    "# Multiple threads are a potential source of non-reproducible results.\n",
    "# For further details, see: https://stackoverflow.com/questions/42022950/\n",
    "\n",
    "session_conf = tf.ConfigProto(intra_op_parallelism_threads=1,\n",
    "                              inter_op_parallelism_threads=1)\n",
    "\n",
    "from keras import backend as K\n",
    "\n",
    "# The below tf.set_random_seed() will make random number generation\n",
    "# in the TensorFlow backend have a well-defined initial state.\n",
    "# For further details, see:\n",
    "# https://www.tensorflow.org/api_docs/python/tf/set_random_seed\n",
    "\n",
    "tf.set_random_seed(1234)\n",
    "sess = tf.Session(graph=tf.get_default_graph(), config=session_conf)\n",
    "K.set_session(sess)"
   ]
  },
  {
   "cell_type": "code",
   "execution_count": 6,
   "metadata": {},
   "outputs": [],
   "source": [
    "LOG = logging.getLogger('pos_tagger_training')\n",
    "LOG.addHandler(logging.NullHandler())\n",
    "logging.basicConfig(level=logging.INFO)\n",
    "tf.logging.set_verbosity(tf.logging.ERROR) # silence a deprecation warning; todo revisit"
   ]
  },
  {
   "cell_type": "markdown",
   "metadata": {},
   "source": [
    "### Fetch the IMDB data set and store locally"
   ]
  },
  {
   "cell_type": "code",
   "execution_count": 7,
   "metadata": {},
   "outputs": [
    {
     "name": "stdout",
     "output_type": "stream",
     "text": [
      "https://ai.stanford.edu/~amaas/data/sentiment aclImdb_v1.tar.gz\n"
     ]
    }
   ],
   "source": [
    "file_cache =os.path.join(parentdir, 'data', 'aclImdb')\n",
    "if not os.path.exists(file_cache):\n",
    "    os.makedirs(file_cache )\n",
    "\n",
    "# https://ai.stanford.edu/~amaas/data/sentiment/aclImdb_v1.tar.gz\n",
    "imdb_archive= 'https://ai.stanford.edu/~amaas/data/sentiment/aclImdb_v1.tar.gz'\n",
    "print(imdb_archive[:imdb_archive.rfind('/')], imdb_archive[imdb_archive.rfind('/')+1:])\n",
    "\n",
    "origin, filename = imdb_archive[:imdb_archive.rfind('/')], imdb_archive[imdb_archive.rfind('/')+1:]\n",
    "data_archive= get_file(fname=filename, origin=imdb_archive, cache_dir=file_cache, untar=False, extract=True)"
   ]
  },
  {
   "cell_type": "code",
   "execution_count": 8,
   "metadata": {},
   "outputs": [
    {
     "data": {
      "text/plain": [
       "(12500, 12500, 12500, 12500)"
      ]
     },
     "execution_count": 8,
     "metadata": {},
     "output_type": "execute_result"
    }
   ],
   "source": [
    "imdb_files = os.path.join(parentdir , 'data/aclImdb/datasets/aclImdb')\n",
    "\n",
    "train_pos_files = [tmp for tmp in glob(os.path.join(imdb_files, 'train', 'pos', '*.txt'))]\n",
    "train_neg_files = [tmp for tmp in glob(os.path.join(imdb_files, 'train', 'neg', '*.txt'))]\n",
    "test_pos_files = [tmp for tmp in glob(os.path.join(imdb_files, 'test', 'pos', '*.txt'))]\n",
    "test_neg_files =  [tmp for tmp in glob(os.path.join(imdb_files, 'test', 'neg', '*.txt'))]\n",
    "len(train_neg_files), len(train_pos_files), len(test_neg_files), len(test_pos_files)"
   ]
  },
  {
   "cell_type": "code",
   "execution_count": 9,
   "metadata": {},
   "outputs": [],
   "source": [
    "def read(filename):\n",
    "    with open(filename, 'rt') as freader:\n",
    "        return freader.read()\n",
    "\n",
    "train_pos = [read(textfile) for textfile in train_pos_files ]   \n",
    "train_neg = [read(textfile) for textfile in train_neg_files ]    \n",
    " \n",
    "test_pos = [read(textfile) for textfile in test_pos_files ]   \n",
    "test_neg = [read(textfile) for textfile in test_neg_files ]    \n",
    "\n",
    "\n",
    "tokenizer = Tokenizer()\n",
    "# The Keras tokenizer can be fit incrementally\n",
    "tokenizer.fit_on_texts(train_pos)\n",
    "tokenizer.fit_on_texts(train_neg)\n",
    "tokenizer.fit_on_texts(test_pos)\n",
    "tokenizer.fit_on_texts(test_neg)\n",
    "\n",
    "sequences = tokenizer.texts_to_sequences(train_pos +   train_neg +  test_pos +  test_neg)"
   ]
  },
  {
   "cell_type": "code",
   "execution_count": 10,
   "metadata": {},
   "outputs": [
    {
     "data": {
      "image/png": "[encoded data removed]",
      "text/plain": [
       "<Figure size 504x504 with 1 Axes>"
      ]
     },
     "metadata": {
      "needs_background": "light"
     },
     "output_type": "display_data"
    }
   ],
   "source": [
    "text_lengths = [len(tmp.split())   for tmp in train_pos +   train_neg +  test_pos +  test_neg]\n",
    "\n",
    "top_label, side_label, bottom_label = ( 'Text Lengths', 'Number of texts',\n",
    "                                       'Text Lengths of IMDB review corpus')\n",
    "fig = plt.figure(figsize=(7,7))\n",
    "plt.xlabel(top_label)\n",
    "plt.ylabel(side_label)\n",
    "plt.title(bottom_label)\n",
    "n, bins, patches = plt.hist(text_lengths, bins=20, density=True)\n",
    "plt.show()"
   ]
  },
  {
   "cell_type": "code",
   "execution_count": 11,
   "metadata": {},
   "outputs": [],
   "source": [
    "MAX_SEQUENCE_LEN = 2500"
   ]
  },
  {
   "cell_type": "code",
   "execution_count": 12,
   "metadata": {},
   "outputs": [],
   "source": [
    "X = pad_sequences(sequences, maxlen=MAX_SEQUENCE_LEN)\n",
    "\n",
    "y= np.array([1] * len(train_pos_files) \n",
    "           + [0] * len (train_neg_files)\n",
    "           + [1] * len(test_pos_files)\n",
    "           + [0] * len(test_neg_files))"
   ]
  },
  {
   "cell_type": "code",
   "execution_count": 13,
   "metadata": {},
   "outputs": [],
   "source": [
    "X_train, X_test, y_train, y_test = train_test_split(X, y, test_size=0.2, random_state=12345)\n",
    "X_test, X_validation, y_test, y_validation = train_test_split(X_test, y_test, test_size=0.5, random_state=12345)"
   ]
  },
  {
   "cell_type": "code",
   "execution_count": 14,
   "metadata": {},
   "outputs": [],
   "source": [
    "EMBEDDING_SIZE = 50 # 300"
   ]
  },
  {
   "cell_type": "code",
   "execution_count": 15,
   "metadata": {},
   "outputs": [
    {
     "name": "stderr",
     "output_type": "stream",
     "text": [
      "INFO:mlyoucanuse.embeddings:Downloading, please wait.\n",
      "INFO:mlyoucanuse.embeddings:Done downloading\n",
      "INFO:mlyoucanuse.embeddings:Found 400000 word vectors.\n"
     ]
    }
   ],
   "source": [
    "embed_index = get_embeddings_index( 'glove', parentdir=parentdir, embedding_dimensions = EMBEDDING_SIZE)"
   ]
  },
  {
   "cell_type": "code",
   "execution_count": 18,
   "metadata": {},
   "outputs": [
    {
     "name": "stdout",
     "output_type": "stream",
     "text": [
      "Vocabulary size: 124,252\n"
     ]
    },
    {
     "name": "stderr",
     "output_type": "stream",
     "text": [
      "INFO:mlyoucanuse.embeddings:Embeddings matrix shape: (124253, 50)\n"
     ]
    }
   ],
   "source": [
    "print(f'Vocabulary size: {len(tokenizer.word_index):,}')\n",
    "embeddings_matrix = create_embeddings_matrix(embed_index, \n",
    "                                            vocabulary=tokenizer.word_index,\n",
    "                                            embeddings_dimensions=EMBEDDING_SIZE)"
   ]
  },
  {
   "cell_type": "code",
   "execution_count": 19,
   "metadata": {},
   "outputs": [],
   "source": [
    "embeddings_layer= get_embeddings_layer(embeddings_matrix,\n",
    "                                       'embedding_static',\n",
    "                                        max_len=MAX_SEQUENCE_LEN,\n",
    "                                        trainable=False)"
   ]
  },
  {
   "cell_type": "code",
   "execution_count": 20,
   "metadata": {},
   "outputs": [],
   "source": [
    "text_cls = TextClassificationModeler(max_sequence_len=MAX_SEQUENCE_LEN)\n",
    "model = text_cls.build_model(embeddings_layer)"
   ]
  },
  {
   "cell_type": "code",
   "execution_count": 21,
   "metadata": {},
   "outputs": [
    {
     "name": "stdout",
     "output_type": "stream",
     "text": [
      "__________________________________________________________________________________________________\n",
      "Layer (type)                    Output Shape         Param #     Connected to                     \n",
      "==================================================================================================\n",
      "main_input (InputLayer)         (None, 2500)         0                                            \n",
      "__________________________________________________________________________________________________\n",
      "embedding_static (Embedding)    (None, 2500, 50)     6212650     main_input[0][0]                 \n",
      "__________________________________________________________________________________________________\n",
      "Conv_static_2 (Conv1D)          (None, 2499, 100)    10100       embedding_static[0][0]           \n",
      "__________________________________________________________________________________________________\n",
      "Conv_static_3 (Conv1D)          (None, 2498, 100)    15100       embedding_static[0][0]           \n",
      "__________________________________________________________________________________________________\n",
      "Conv_static_4 (Conv1D)          (None, 2497, 100)    20100       embedding_static[0][0]           \n",
      "__________________________________________________________________________________________________\n",
      "Conv_static_5 (Conv1D)          (None, 2496, 100)    25100       embedding_static[0][0]           \n",
      "__________________________________________________________________________________________________\n",
      "Dropout_static_2 (Dropout)      (None, 2499, 100)    0           Conv_static_2[0][0]              \n",
      "__________________________________________________________________________________________________\n",
      "Dropout_static_3 (Dropout)      (None, 2498, 100)    0           Conv_static_3[0][0]              \n",
      "__________________________________________________________________________________________________\n",
      "Dropout_static_4 (Dropout)      (None, 2497, 100)    0           Conv_static_4[0][0]              \n",
      "__________________________________________________________________________________________________\n",
      "Dropout_static_5 (Dropout)      (None, 2496, 100)    0           Conv_static_5[0][0]              \n",
      "__________________________________________________________________________________________________\n",
      "GlobalMaxPool_static_2 (GlobalM (None, 100)          0           Dropout_static_2[0][0]           \n",
      "__________________________________________________________________________________________________\n",
      "GlobalMaxPool_static_3 (GlobalM (None, 100)          0           Dropout_static_3[0][0]           \n",
      "__________________________________________________________________________________________________\n",
      "GlobalMaxPool_static_4 (GlobalM (None, 100)          0           Dropout_static_4[0][0]           \n",
      "__________________________________________________________________________________________________\n",
      "GlobalMaxPool_static_5 (GlobalM (None, 100)          0           Dropout_static_5[0][0]           \n",
      "__________________________________________________________________________________________________\n",
      "Concatenate_4 (Concatenate)     (None, 400)          0           GlobalMaxPool_static_2[0][0]     \n",
      "                                                                 GlobalMaxPool_static_3[0][0]     \n",
      "                                                                 GlobalMaxPool_static_4[0][0]     \n",
      "                                                                 GlobalMaxPool_static_5[0][0]     \n",
      "__________________________________________________________________________________________________\n",
      "output (Dense)                  (None, 1)            401         Concatenate_4[0][0]              \n",
      "==================================================================================================\n",
      "Total params: 6,283,451\n",
      "Trainable params: 70,801\n",
      "Non-trainable params: 6,212,650\n",
      "__________________________________________________________________________________________________\n"
     ]
    }
   ],
   "source": [
    "model.summary()"
   ]
  },
  {
   "cell_type": "code",
   "execution_count": 22,
   "metadata": {},
   "outputs": [
    {
     "data": {
      "image/svg+xml": [
       "<svg height=\"539pt\" viewBox=\"0.00 0.00 1910.13 539.00\" width=\"1910pt\" xmlns=\"http://www.w3.org/2000/svg\" xmlns:xlink=\"http://www.w3.org/1999/xlink\">\n",
       "<g class=\"graph\" id=\"graph0\" transform=\"scale(1 1) rotate(0) translate(4 535)\">\n",
       "<title>G</title>\n",
       "<polygon fill=\"#ffffff\" points=\"-4,4 -4,-535 1906.1348,-535 1906.1348,4 -4,4\" stroke=\"transparent\"/>\n",
       "<!-- 6421692656 -->\n",
       "<g class=\"node\" id=\"node1\">\n",
       "<title>6421692656</title>\n",
       "<polygon fill=\"none\" points=\"799.231,-486.5 799.231,-530.5 1094.9038,-530.5 1094.9038,-486.5 799.231,-486.5\" stroke=\"#000000\"/>\n",
       "<text fill=\"#000000\" font-family=\"Times,serif\" font-size=\"14.00\" text-anchor=\"middle\" x=\"873.9087\" y=\"-504.3\">main_input: InputLayer</text>\n",
       "<polyline fill=\"none\" points=\"948.5864,-486.5 948.5864,-530.5 \" stroke=\"#000000\"/>\n",
       "<text fill=\"#000000\" font-family=\"Times,serif\" font-size=\"14.00\" text-anchor=\"middle\" x=\"976.4209\" y=\"-515.3\">input:</text>\n",
       "<polyline fill=\"none\" points=\"948.5864,-508.5 1004.2554,-508.5 \" stroke=\"#000000\"/>\n",
       "<text fill=\"#000000\" font-family=\"Times,serif\" font-size=\"14.00\" text-anchor=\"middle\" x=\"976.4209\" y=\"-493.3\">output:</text>\n",
       "<polyline fill=\"none\" points=\"1004.2554,-486.5 1004.2554,-530.5 \" stroke=\"#000000\"/>\n",
       "<text fill=\"#000000\" font-family=\"Times,serif\" font-size=\"14.00\" text-anchor=\"middle\" x=\"1049.5796\" y=\"-515.3\">(None, 2500)</text>\n",
       "<polyline fill=\"none\" points=\"1004.2554,-508.5 1094.9038,-508.5 \" stroke=\"#000000\"/>\n",
       "<text fill=\"#000000\" font-family=\"Times,serif\" font-size=\"14.00\" text-anchor=\"middle\" x=\"1049.5796\" y=\"-493.3\">(None, 2500)</text>\n",
       "</g>\n",
       "<!-- 6421693496 -->\n",
       "<g class=\"node\" id=\"node2\">\n",
       "<title>6421693496</title>\n",
       "<polygon fill=\"none\" points=\"770.0654,-405.5 770.0654,-449.5 1124.0693,-449.5 1124.0693,-405.5 770.0654,-405.5\" stroke=\"#000000\"/>\n",
       "<text fill=\"#000000\" font-family=\"Times,serif\" font-size=\"14.00\" text-anchor=\"middle\" x=\"863.4087\" y=\"-423.3\">embedding_static: Embedding</text>\n",
       "<polyline fill=\"none\" points=\"956.752,-405.5 956.752,-449.5 \" stroke=\"#000000\"/>\n",
       "<text fill=\"#000000\" font-family=\"Times,serif\" font-size=\"14.00\" text-anchor=\"middle\" x=\"984.5864\" y=\"-434.3\">input:</text>\n",
       "<polyline fill=\"none\" points=\"956.752,-427.5 1012.4209,-427.5 \" stroke=\"#000000\"/>\n",
       "<text fill=\"#000000\" font-family=\"Times,serif\" font-size=\"14.00\" text-anchor=\"middle\" x=\"984.5864\" y=\"-412.3\">output:</text>\n",
       "<polyline fill=\"none\" points=\"1012.4209,-405.5 1012.4209,-449.5 \" stroke=\"#000000\"/>\n",
       "<text fill=\"#000000\" font-family=\"Times,serif\" font-size=\"14.00\" text-anchor=\"middle\" x=\"1068.2451\" y=\"-434.3\">(None, 2500)</text>\n",
       "<polyline fill=\"none\" points=\"1012.4209,-427.5 1124.0693,-427.5 \" stroke=\"#000000\"/>\n",
       "<text fill=\"#000000\" font-family=\"Times,serif\" font-size=\"14.00\" text-anchor=\"middle\" x=\"1068.2451\" y=\"-412.3\">(None, 2500, 50)</text>\n",
       "</g>\n",
       "<!-- 6421692656&#45;&gt;6421693496 -->\n",
       "<g class=\"edge\" id=\"edge1\">\n",
       "<title>6421692656-&gt;6421693496</title>\n",
       "<path d=\"M947.0674,-486.3664C947.0674,-478.1516 947.0674,-468.6579 947.0674,-459.7252\" fill=\"none\" stroke=\"#000000\"/>\n",
       "<polygon fill=\"#000000\" points=\"950.5675,-459.6068 947.0674,-449.6068 943.5675,-459.6069 950.5675,-459.6068\" stroke=\"#000000\"/>\n",
       "</g>\n",
       "<!-- 6421695456 -->\n",
       "<g class=\"node\" id=\"node3\">\n",
       "<title>6421695456</title>\n",
       "<polygon fill=\"none\" points=\"260.0483,-324.5 260.0483,-368.5 586.0864,-368.5 586.0864,-324.5 260.0483,-324.5\" stroke=\"#000000\"/>\n",
       "<text fill=\"#000000\" font-family=\"Times,serif\" font-size=\"14.00\" text-anchor=\"middle\" x=\"335.9087\" y=\"-342.3\">Conv_static_2: Conv1D</text>\n",
       "<polyline fill=\"none\" points=\"411.769,-324.5 411.769,-368.5 \" stroke=\"#000000\"/>\n",
       "<text fill=\"#000000\" font-family=\"Times,serif\" font-size=\"14.00\" text-anchor=\"middle\" x=\"439.6035\" y=\"-353.3\">input:</text>\n",
       "<polyline fill=\"none\" points=\"411.769,-346.5 467.438,-346.5 \" stroke=\"#000000\"/>\n",
       "<text fill=\"#000000\" font-family=\"Times,serif\" font-size=\"14.00\" text-anchor=\"middle\" x=\"439.6035\" y=\"-331.3\">output:</text>\n",
       "<polyline fill=\"none\" points=\"467.438,-324.5 467.438,-368.5 \" stroke=\"#000000\"/>\n",
       "<text fill=\"#000000\" font-family=\"Times,serif\" font-size=\"14.00\" text-anchor=\"middle\" x=\"526.7622\" y=\"-353.3\">(None, 2500, 50)</text>\n",
       "<polyline fill=\"none\" points=\"467.438,-346.5 586.0864,-346.5 \" stroke=\"#000000\"/>\n",
       "<text fill=\"#000000\" font-family=\"Times,serif\" font-size=\"14.00\" text-anchor=\"middle\" x=\"526.7622\" y=\"-331.3\">(None, 2499, 100)</text>\n",
       "</g>\n",
       "<!-- 6421693496&#45;&gt;6421695456 -->\n",
       "<g class=\"edge\" id=\"edge2\">\n",
       "<title>6421693496-&gt;6421695456</title>\n",
       "<path d=\"M804.5742,-405.4734C733.66,-394.5114 647.8799,-381.2516 575.6336,-370.0837\" fill=\"none\" stroke=\"#000000\"/>\n",
       "<polygon fill=\"#000000\" points=\"575.9495,-366.591 565.5322,-368.5222 574.8801,-373.5089 575.9495,-366.591\" stroke=\"#000000\"/>\n",
       "</g>\n",
       "<!-- 6422060616 -->\n",
       "<g class=\"node\" id=\"node4\">\n",
       "<title>6422060616</title>\n",
       "<polygon fill=\"none\" points=\"612.0483,-324.5 612.0483,-368.5 938.0864,-368.5 938.0864,-324.5 612.0483,-324.5\" stroke=\"#000000\"/>\n",
       "<text fill=\"#000000\" font-family=\"Times,serif\" font-size=\"14.00\" text-anchor=\"middle\" x=\"687.9087\" y=\"-342.3\">Conv_static_3: Conv1D</text>\n",
       "<polyline fill=\"none\" points=\"763.769,-324.5 763.769,-368.5 \" stroke=\"#000000\"/>\n",
       "<text fill=\"#000000\" font-family=\"Times,serif\" font-size=\"14.00\" text-anchor=\"middle\" x=\"791.6035\" y=\"-353.3\">input:</text>\n",
       "<polyline fill=\"none\" points=\"763.769,-346.5 819.438,-346.5 \" stroke=\"#000000\"/>\n",
       "<text fill=\"#000000\" font-family=\"Times,serif\" font-size=\"14.00\" text-anchor=\"middle\" x=\"791.6035\" y=\"-331.3\">output:</text>\n",
       "<polyline fill=\"none\" points=\"819.438,-324.5 819.438,-368.5 \" stroke=\"#000000\"/>\n",
       "<text fill=\"#000000\" font-family=\"Times,serif\" font-size=\"14.00\" text-anchor=\"middle\" x=\"878.7622\" y=\"-353.3\">(None, 2500, 50)</text>\n",
       "<polyline fill=\"none\" points=\"819.438,-346.5 938.0864,-346.5 \" stroke=\"#000000\"/>\n",
       "<text fill=\"#000000\" font-family=\"Times,serif\" font-size=\"14.00\" text-anchor=\"middle\" x=\"878.7622\" y=\"-331.3\">(None, 2498, 100)</text>\n",
       "</g>\n",
       "<!-- 6421693496&#45;&gt;6422060616 -->\n",
       "<g class=\"edge\" id=\"edge3\">\n",
       "<title>6421693496-&gt;6422060616</title>\n",
       "<path d=\"M900.0676,-405.3664C878.8319,-395.3658 853.5711,-383.4698 831.3345,-372.9979\" fill=\"none\" stroke=\"#000000\"/>\n",
       "<polygon fill=\"#000000\" points=\"832.5485,-369.701 822.0103,-368.6068 829.5661,-376.0339 832.5485,-369.701\" stroke=\"#000000\"/>\n",
       "</g>\n",
       "<!-- 5131964656 -->\n",
       "<g class=\"node\" id=\"node5\">\n",
       "<title>5131964656</title>\n",
       "<polygon fill=\"none\" points=\"964.0483,-324.5 964.0483,-368.5 1290.0864,-368.5 1290.0864,-324.5 964.0483,-324.5\" stroke=\"#000000\"/>\n",
       "<text fill=\"#000000\" font-family=\"Times,serif\" font-size=\"14.00\" text-anchor=\"middle\" x=\"1039.9087\" y=\"-342.3\">Conv_static_4: Conv1D</text>\n",
       "<polyline fill=\"none\" points=\"1115.769,-324.5 1115.769,-368.5 \" stroke=\"#000000\"/>\n",
       "<text fill=\"#000000\" font-family=\"Times,serif\" font-size=\"14.00\" text-anchor=\"middle\" x=\"1143.6035\" y=\"-353.3\">input:</text>\n",
       "<polyline fill=\"none\" points=\"1115.769,-346.5 1171.438,-346.5 \" stroke=\"#000000\"/>\n",
       "<text fill=\"#000000\" font-family=\"Times,serif\" font-size=\"14.00\" text-anchor=\"middle\" x=\"1143.6035\" y=\"-331.3\">output:</text>\n",
       "<polyline fill=\"none\" points=\"1171.438,-324.5 1171.438,-368.5 \" stroke=\"#000000\"/>\n",
       "<text fill=\"#000000\" font-family=\"Times,serif\" font-size=\"14.00\" text-anchor=\"middle\" x=\"1230.7622\" y=\"-353.3\">(None, 2500, 50)</text>\n",
       "<polyline fill=\"none\" points=\"1171.438,-346.5 1290.0864,-346.5 \" stroke=\"#000000\"/>\n",
       "<text fill=\"#000000\" font-family=\"Times,serif\" font-size=\"14.00\" text-anchor=\"middle\" x=\"1230.7622\" y=\"-331.3\">(None, 2497, 100)</text>\n",
       "</g>\n",
       "<!-- 6421693496&#45;&gt;5131964656 -->\n",
       "<g class=\"edge\" id=\"edge4\">\n",
       "<title>6421693496-&gt;5131964656</title>\n",
       "<path d=\"M996.2532,-405.3664C1018.6751,-395.2765 1045.3848,-383.2572 1068.8057,-372.7177\" fill=\"none\" stroke=\"#000000\"/>\n",
       "<polygon fill=\"#000000\" points=\"1070.2581,-375.9023 1077.9411,-368.6068 1067.3855,-369.5188 1070.2581,-375.9023\" stroke=\"#000000\"/>\n",
       "</g>\n",
       "<!-- 5182439152 -->\n",
       "<g class=\"node\" id=\"node6\">\n",
       "<title>5182439152</title>\n",
       "<polygon fill=\"none\" points=\"1320.0483,-324.5 1320.0483,-368.5 1646.0864,-368.5 1646.0864,-324.5 1320.0483,-324.5\" stroke=\"#000000\"/>\n",
       "<text fill=\"#000000\" font-family=\"Times,serif\" font-size=\"14.00\" text-anchor=\"middle\" x=\"1395.9087\" y=\"-342.3\">Conv_static_5: Conv1D</text>\n",
       "<polyline fill=\"none\" points=\"1471.769,-324.5 1471.769,-368.5 \" stroke=\"#000000\"/>\n",
       "<text fill=\"#000000\" font-family=\"Times,serif\" font-size=\"14.00\" text-anchor=\"middle\" x=\"1499.6035\" y=\"-353.3\">input:</text>\n",
       "<polyline fill=\"none\" points=\"1471.769,-346.5 1527.438,-346.5 \" stroke=\"#000000\"/>\n",
       "<text fill=\"#000000\" font-family=\"Times,serif\" font-size=\"14.00\" text-anchor=\"middle\" x=\"1499.6035\" y=\"-331.3\">output:</text>\n",
       "<polyline fill=\"none\" points=\"1527.438,-324.5 1527.438,-368.5 \" stroke=\"#000000\"/>\n",
       "<text fill=\"#000000\" font-family=\"Times,serif\" font-size=\"14.00\" text-anchor=\"middle\" x=\"1586.7622\" y=\"-353.3\">(None, 2500, 50)</text>\n",
       "<polyline fill=\"none\" points=\"1527.438,-346.5 1646.0864,-346.5 \" stroke=\"#000000\"/>\n",
       "<text fill=\"#000000\" font-family=\"Times,serif\" font-size=\"14.00\" text-anchor=\"middle\" x=\"1586.7622\" y=\"-331.3\">(None, 2496, 100)</text>\n",
       "</g>\n",
       "<!-- 6421693496&#45;&gt;5182439152 -->\n",
       "<g class=\"edge\" id=\"edge5\">\n",
       "<title>6421693496-&gt;5182439152</title>\n",
       "<path d=\"M1092.8237,-405.4734C1165.362,-394.5114 1253.1065,-381.2516 1327.0072,-370.0837\" fill=\"none\" stroke=\"#000000\"/>\n",
       "<polygon fill=\"#000000\" points=\"1327.9753,-373.4772 1337.34,-368.5222 1326.9293,-366.5558 1327.9753,-373.4772\" stroke=\"#000000\"/>\n",
       "</g>\n",
       "<!-- 6422058208 -->\n",
       "<g class=\"node\" id=\"node7\">\n",
       "<title>6422058208</title>\n",
       "<polygon fill=\"none\" points=\"150.2793,-243.5 150.2793,-287.5 491.8555,-287.5 491.8555,-243.5 150.2793,-243.5\" stroke=\"#000000\"/>\n",
       "<text fill=\"#000000\" font-family=\"Times,serif\" font-size=\"14.00\" text-anchor=\"middle\" x=\"233.9087\" y=\"-261.3\">Dropout_static_2: Dropout</text>\n",
       "<polyline fill=\"none\" points=\"317.5381,-243.5 317.5381,-287.5 \" stroke=\"#000000\"/>\n",
       "<text fill=\"#000000\" font-family=\"Times,serif\" font-size=\"14.00\" text-anchor=\"middle\" x=\"345.3726\" y=\"-272.3\">input:</text>\n",
       "<polyline fill=\"none\" points=\"317.5381,-265.5 373.207,-265.5 \" stroke=\"#000000\"/>\n",
       "<text fill=\"#000000\" font-family=\"Times,serif\" font-size=\"14.00\" text-anchor=\"middle\" x=\"345.3726\" y=\"-250.3\">output:</text>\n",
       "<polyline fill=\"none\" points=\"373.207,-243.5 373.207,-287.5 \" stroke=\"#000000\"/>\n",
       "<text fill=\"#000000\" font-family=\"Times,serif\" font-size=\"14.00\" text-anchor=\"middle\" x=\"432.5313\" y=\"-272.3\">(None, 2499, 100)</text>\n",
       "<polyline fill=\"none\" points=\"373.207,-265.5 491.8555,-265.5 \" stroke=\"#000000\"/>\n",
       "<text fill=\"#000000\" font-family=\"Times,serif\" font-size=\"14.00\" text-anchor=\"middle\" x=\"432.5313\" y=\"-250.3\">(None, 2499, 100)</text>\n",
       "</g>\n",
       "<!-- 6421695456&#45;&gt;6422058208 -->\n",
       "<g class=\"edge\" id=\"edge6\">\n",
       "<title>6421695456-&gt;6422058208</title>\n",
       "<path d=\"M395.1954,-324.3664C383.3892,-314.9909 369.4851,-303.9494 356.9276,-293.9773\" fill=\"none\" stroke=\"#000000\"/>\n",
       "<polygon fill=\"#000000\" points=\"358.9134,-291.0848 348.9056,-287.6068 354.5602,-296.5666 358.9134,-291.0848\" stroke=\"#000000\"/>\n",
       "</g>\n",
       "<!-- 5131968408 -->\n",
       "<g class=\"node\" id=\"node8\">\n",
       "<title>5131968408</title>\n",
       "<polygon fill=\"none\" points=\"570.2793,-243.5 570.2793,-287.5 911.8555,-287.5 911.8555,-243.5 570.2793,-243.5\" stroke=\"#000000\"/>\n",
       "<text fill=\"#000000\" font-family=\"Times,serif\" font-size=\"14.00\" text-anchor=\"middle\" x=\"653.9087\" y=\"-261.3\">Dropout_static_3: Dropout</text>\n",
       "<polyline fill=\"none\" points=\"737.5381,-243.5 737.5381,-287.5 \" stroke=\"#000000\"/>\n",
       "<text fill=\"#000000\" font-family=\"Times,serif\" font-size=\"14.00\" text-anchor=\"middle\" x=\"765.3726\" y=\"-272.3\">input:</text>\n",
       "<polyline fill=\"none\" points=\"737.5381,-265.5 793.207,-265.5 \" stroke=\"#000000\"/>\n",
       "<text fill=\"#000000\" font-family=\"Times,serif\" font-size=\"14.00\" text-anchor=\"middle\" x=\"765.3726\" y=\"-250.3\">output:</text>\n",
       "<polyline fill=\"none\" points=\"793.207,-243.5 793.207,-287.5 \" stroke=\"#000000\"/>\n",
       "<text fill=\"#000000\" font-family=\"Times,serif\" font-size=\"14.00\" text-anchor=\"middle\" x=\"852.5313\" y=\"-272.3\">(None, 2498, 100)</text>\n",
       "<polyline fill=\"none\" points=\"793.207,-265.5 911.8555,-265.5 \" stroke=\"#000000\"/>\n",
       "<text fill=\"#000000\" font-family=\"Times,serif\" font-size=\"14.00\" text-anchor=\"middle\" x=\"852.5313\" y=\"-250.3\">(None, 2498, 100)</text>\n",
       "</g>\n",
       "<!-- 6422060616&#45;&gt;5131968408 -->\n",
       "<g class=\"edge\" id=\"edge7\">\n",
       "<title>6422060616-&gt;5131968408</title>\n",
       "<path d=\"M765.7767,-324.3664C762.2161,-315.8838 758.0831,-306.0374 754.228,-296.8532\" fill=\"none\" stroke=\"#000000\"/>\n",
       "<polygon fill=\"#000000\" points=\"757.4445,-295.4728 750.3468,-287.6068 750.99,-298.1821 757.4445,-295.4728\" stroke=\"#000000\"/>\n",
       "</g>\n",
       "<!-- 5182580272 -->\n",
       "<g class=\"node\" id=\"node9\">\n",
       "<title>5182580272</title>\n",
       "<polygon fill=\"none\" points=\"990.2793,-243.5 990.2793,-287.5 1331.8555,-287.5 1331.8555,-243.5 990.2793,-243.5\" stroke=\"#000000\"/>\n",
       "<text fill=\"#000000\" font-family=\"Times,serif\" font-size=\"14.00\" text-anchor=\"middle\" x=\"1073.9087\" y=\"-261.3\">Dropout_static_4: Dropout</text>\n",
       "<polyline fill=\"none\" points=\"1157.5381,-243.5 1157.5381,-287.5 \" stroke=\"#000000\"/>\n",
       "<text fill=\"#000000\" font-family=\"Times,serif\" font-size=\"14.00\" text-anchor=\"middle\" x=\"1185.3726\" y=\"-272.3\">input:</text>\n",
       "<polyline fill=\"none\" points=\"1157.5381,-265.5 1213.207,-265.5 \" stroke=\"#000000\"/>\n",
       "<text fill=\"#000000\" font-family=\"Times,serif\" font-size=\"14.00\" text-anchor=\"middle\" x=\"1185.3726\" y=\"-250.3\">output:</text>\n",
       "<polyline fill=\"none\" points=\"1213.207,-243.5 1213.207,-287.5 \" stroke=\"#000000\"/>\n",
       "<text fill=\"#000000\" font-family=\"Times,serif\" font-size=\"14.00\" text-anchor=\"middle\" x=\"1272.5313\" y=\"-272.3\">(None, 2497, 100)</text>\n",
       "<polyline fill=\"none\" points=\"1213.207,-265.5 1331.8555,-265.5 \" stroke=\"#000000\"/>\n",
       "<text fill=\"#000000\" font-family=\"Times,serif\" font-size=\"14.00\" text-anchor=\"middle\" x=\"1272.5313\" y=\"-250.3\">(None, 2497, 100)</text>\n",
       "</g>\n",
       "<!-- 5131964656&#45;&gt;5182580272 -->\n",
       "<g class=\"edge\" id=\"edge8\">\n",
       "<title>5131964656-&gt;5182580272</title>\n",
       "<path d=\"M1136.358,-324.3664C1139.9186,-315.8838 1144.0517,-306.0374 1147.9068,-296.8532\" fill=\"none\" stroke=\"#000000\"/>\n",
       "<polygon fill=\"#000000\" points=\"1151.1447,-298.1821 1151.788,-287.6068 1144.6903,-295.4728 1151.1447,-298.1821\" stroke=\"#000000\"/>\n",
       "</g>\n",
       "<!-- 5182980896 -->\n",
       "<g class=\"node\" id=\"node10\">\n",
       "<title>5182980896</title>\n",
       "<polygon fill=\"none\" points=\"1440.2793,-243.5 1440.2793,-287.5 1781.8555,-287.5 1781.8555,-243.5 1440.2793,-243.5\" stroke=\"#000000\"/>\n",
       "<text fill=\"#000000\" font-family=\"Times,serif\" font-size=\"14.00\" text-anchor=\"middle\" x=\"1523.9087\" y=\"-261.3\">Dropout_static_5: Dropout</text>\n",
       "<polyline fill=\"none\" points=\"1607.5381,-243.5 1607.5381,-287.5 \" stroke=\"#000000\"/>\n",
       "<text fill=\"#000000\" font-family=\"Times,serif\" font-size=\"14.00\" text-anchor=\"middle\" x=\"1635.3726\" y=\"-272.3\">input:</text>\n",
       "<polyline fill=\"none\" points=\"1607.5381,-265.5 1663.207,-265.5 \" stroke=\"#000000\"/>\n",
       "<text fill=\"#000000\" font-family=\"Times,serif\" font-size=\"14.00\" text-anchor=\"middle\" x=\"1635.3726\" y=\"-250.3\">output:</text>\n",
       "<polyline fill=\"none\" points=\"1663.207,-243.5 1663.207,-287.5 \" stroke=\"#000000\"/>\n",
       "<text fill=\"#000000\" font-family=\"Times,serif\" font-size=\"14.00\" text-anchor=\"middle\" x=\"1722.5313\" y=\"-272.3\">(None, 2496, 100)</text>\n",
       "<polyline fill=\"none\" points=\"1663.207,-265.5 1781.8555,-265.5 \" stroke=\"#000000\"/>\n",
       "<text fill=\"#000000\" font-family=\"Times,serif\" font-size=\"14.00\" text-anchor=\"middle\" x=\"1722.5313\" y=\"-250.3\">(None, 2496, 100)</text>\n",
       "</g>\n",
       "<!-- 5182439152&#45;&gt;5182980896 -->\n",
       "<g class=\"edge\" id=\"edge9\">\n",
       "<title>5182439152-&gt;5182980896</title>\n",
       "<path d=\"M1518.0439,-324.3664C1533.2829,-314.723 1551.3071,-303.3171 1567.4128,-293.1252\" fill=\"none\" stroke=\"#000000\"/>\n",
       "<polygon fill=\"#000000\" points=\"1569.5545,-295.9118 1576.1331,-287.6068 1565.8113,-289.9967 1569.5545,-295.9118\" stroke=\"#000000\"/>\n",
       "</g>\n",
       "<!-- 5131451136 -->\n",
       "<g class=\"node\" id=\"node11\">\n",
       "<title>5131451136</title>\n",
       "<polygon fill=\"none\" points=\"0,-162.5 0,-206.5 462.1348,-206.5 462.1348,-162.5 0,-162.5\" stroke=\"#000000\"/>\n",
       "<text fill=\"#000000\" font-family=\"Times,serif\" font-size=\"14.00\" text-anchor=\"middle\" x=\"143.9087\" y=\"-180.3\">GlobalMaxPool_static_2: GlobalMaxPooling1D</text>\n",
       "<polyline fill=\"none\" points=\"287.8174,-162.5 287.8174,-206.5 \" stroke=\"#000000\"/>\n",
       "<text fill=\"#000000\" font-family=\"Times,serif\" font-size=\"14.00\" text-anchor=\"middle\" x=\"315.6519\" y=\"-191.3\">input:</text>\n",
       "<polyline fill=\"none\" points=\"287.8174,-184.5 343.4863,-184.5 \" stroke=\"#000000\"/>\n",
       "<text fill=\"#000000\" font-family=\"Times,serif\" font-size=\"14.00\" text-anchor=\"middle\" x=\"315.6519\" y=\"-169.3\">output:</text>\n",
       "<polyline fill=\"none\" points=\"343.4863,-162.5 343.4863,-206.5 \" stroke=\"#000000\"/>\n",
       "<text fill=\"#000000\" font-family=\"Times,serif\" font-size=\"14.00\" text-anchor=\"middle\" x=\"402.8105\" y=\"-191.3\">(None, 2499, 100)</text>\n",
       "<polyline fill=\"none\" points=\"343.4863,-184.5 462.1348,-184.5 \" stroke=\"#000000\"/>\n",
       "<text fill=\"#000000\" font-family=\"Times,serif\" font-size=\"14.00\" text-anchor=\"middle\" x=\"402.8105\" y=\"-169.3\">(None, 100)</text>\n",
       "</g>\n",
       "<!-- 6422058208&#45;&gt;5131451136 -->\n",
       "<g class=\"edge\" id=\"edge10\">\n",
       "<title>6422058208-&gt;5131451136</title>\n",
       "<path d=\"M296.4745,-243.3664C286.2557,-234.1695 274.2556,-223.3694 263.3432,-213.5482\" fill=\"none\" stroke=\"#000000\"/>\n",
       "<polygon fill=\"#000000\" points=\"265.4049,-210.695 255.6305,-206.6068 260.7221,-215.8981 265.4049,-210.695\" stroke=\"#000000\"/>\n",
       "</g>\n",
       "<!-- 5132155256 -->\n",
       "<g class=\"node\" id=\"node12\">\n",
       "<title>5132155256</title>\n",
       "<polygon fill=\"none\" points=\"480,-162.5 480,-206.5 942.1348,-206.5 942.1348,-162.5 480,-162.5\" stroke=\"#000000\"/>\n",
       "<text fill=\"#000000\" font-family=\"Times,serif\" font-size=\"14.00\" text-anchor=\"middle\" x=\"623.9087\" y=\"-180.3\">GlobalMaxPool_static_3: GlobalMaxPooling1D</text>\n",
       "<polyline fill=\"none\" points=\"767.8174,-162.5 767.8174,-206.5 \" stroke=\"#000000\"/>\n",
       "<text fill=\"#000000\" font-family=\"Times,serif\" font-size=\"14.00\" text-anchor=\"middle\" x=\"795.6519\" y=\"-191.3\">input:</text>\n",
       "<polyline fill=\"none\" points=\"767.8174,-184.5 823.4863,-184.5 \" stroke=\"#000000\"/>\n",
       "<text fill=\"#000000\" font-family=\"Times,serif\" font-size=\"14.00\" text-anchor=\"middle\" x=\"795.6519\" y=\"-169.3\">output:</text>\n",
       "<polyline fill=\"none\" points=\"823.4863,-162.5 823.4863,-206.5 \" stroke=\"#000000\"/>\n",
       "<text fill=\"#000000\" font-family=\"Times,serif\" font-size=\"14.00\" text-anchor=\"middle\" x=\"882.8105\" y=\"-191.3\">(None, 2498, 100)</text>\n",
       "<polyline fill=\"none\" points=\"823.4863,-184.5 942.1348,-184.5 \" stroke=\"#000000\"/>\n",
       "<text fill=\"#000000\" font-family=\"Times,serif\" font-size=\"14.00\" text-anchor=\"middle\" x=\"882.8105\" y=\"-169.3\">(None, 100)</text>\n",
       "</g>\n",
       "<!-- 5131968408&#45;&gt;5132155256 -->\n",
       "<g class=\"edge\" id=\"edge11\">\n",
       "<title>5131968408-&gt;5132155256</title>\n",
       "<path d=\"M732.8698,-243.3664C729.7611,-234.9731 726.158,-225.2445 722.7872,-216.1434\" fill=\"none\" stroke=\"#000000\"/>\n",
       "<polygon fill=\"#000000\" points=\"726.0104,-214.7687 719.2551,-206.6068 719.4462,-217.2 726.0104,-214.7687\" stroke=\"#000000\"/>\n",
       "</g>\n",
       "<!-- 5182438144 -->\n",
       "<g class=\"node\" id=\"node13\">\n",
       "<title>5182438144</title>\n",
       "<polygon fill=\"none\" points=\"960,-162.5 960,-206.5 1422.1348,-206.5 1422.1348,-162.5 960,-162.5\" stroke=\"#000000\"/>\n",
       "<text fill=\"#000000\" font-family=\"Times,serif\" font-size=\"14.00\" text-anchor=\"middle\" x=\"1103.9087\" y=\"-180.3\">GlobalMaxPool_static_4: GlobalMaxPooling1D</text>\n",
       "<polyline fill=\"none\" points=\"1247.8174,-162.5 1247.8174,-206.5 \" stroke=\"#000000\"/>\n",
       "<text fill=\"#000000\" font-family=\"Times,serif\" font-size=\"14.00\" text-anchor=\"middle\" x=\"1275.6519\" y=\"-191.3\">input:</text>\n",
       "<polyline fill=\"none\" points=\"1247.8174,-184.5 1303.4863,-184.5 \" stroke=\"#000000\"/>\n",
       "<text fill=\"#000000\" font-family=\"Times,serif\" font-size=\"14.00\" text-anchor=\"middle\" x=\"1275.6519\" y=\"-169.3\">output:</text>\n",
       "<polyline fill=\"none\" points=\"1303.4863,-162.5 1303.4863,-206.5 \" stroke=\"#000000\"/>\n",
       "<text fill=\"#000000\" font-family=\"Times,serif\" font-size=\"14.00\" text-anchor=\"middle\" x=\"1362.8105\" y=\"-191.3\">(None, 2497, 100)</text>\n",
       "<polyline fill=\"none\" points=\"1303.4863,-184.5 1422.1348,-184.5 \" stroke=\"#000000\"/>\n",
       "<text fill=\"#000000\" font-family=\"Times,serif\" font-size=\"14.00\" text-anchor=\"middle\" x=\"1362.8105\" y=\"-169.3\">(None, 100)</text>\n",
       "</g>\n",
       "<!-- 5182580272&#45;&gt;5182438144 -->\n",
       "<g class=\"edge\" id=\"edge12\">\n",
       "<title>5182580272-&gt;5182438144</title>\n",
       "<path d=\"M1169.265,-243.3664C1172.3737,-234.9731 1175.9768,-225.2445 1179.3476,-216.1434\" fill=\"none\" stroke=\"#000000\"/>\n",
       "<polygon fill=\"#000000\" points=\"1182.6886,-217.2 1182.8797,-206.6068 1176.1243,-214.7687 1182.6886,-217.2\" stroke=\"#000000\"/>\n",
       "</g>\n",
       "<!-- 5183126104 -->\n",
       "<g class=\"node\" id=\"node14\">\n",
       "<title>5183126104</title>\n",
       "<polygon fill=\"none\" points=\"1440,-162.5 1440,-206.5 1902.1348,-206.5 1902.1348,-162.5 1440,-162.5\" stroke=\"#000000\"/>\n",
       "<text fill=\"#000000\" font-family=\"Times,serif\" font-size=\"14.00\" text-anchor=\"middle\" x=\"1583.9087\" y=\"-180.3\">GlobalMaxPool_static_5: GlobalMaxPooling1D</text>\n",
       "<polyline fill=\"none\" points=\"1727.8174,-162.5 1727.8174,-206.5 \" stroke=\"#000000\"/>\n",
       "<text fill=\"#000000\" font-family=\"Times,serif\" font-size=\"14.00\" text-anchor=\"middle\" x=\"1755.6519\" y=\"-191.3\">input:</text>\n",
       "<polyline fill=\"none\" points=\"1727.8174,-184.5 1783.4863,-184.5 \" stroke=\"#000000\"/>\n",
       "<text fill=\"#000000\" font-family=\"Times,serif\" font-size=\"14.00\" text-anchor=\"middle\" x=\"1755.6519\" y=\"-169.3\">output:</text>\n",
       "<polyline fill=\"none\" points=\"1783.4863,-162.5 1783.4863,-206.5 \" stroke=\"#000000\"/>\n",
       "<text fill=\"#000000\" font-family=\"Times,serif\" font-size=\"14.00\" text-anchor=\"middle\" x=\"1842.8105\" y=\"-191.3\">(None, 2496, 100)</text>\n",
       "<polyline fill=\"none\" points=\"1783.4863,-184.5 1902.1348,-184.5 \" stroke=\"#000000\"/>\n",
       "<text fill=\"#000000\" font-family=\"Times,serif\" font-size=\"14.00\" text-anchor=\"middle\" x=\"1842.8105\" y=\"-169.3\">(None, 100)</text>\n",
       "</g>\n",
       "<!-- 5182980896&#45;&gt;5183126104 -->\n",
       "<g class=\"edge\" id=\"edge13\">\n",
       "<title>5182980896-&gt;5183126104</title>\n",
       "<path d=\"M1627.4626,-243.3664C1634.0106,-234.5266 1641.6557,-224.2058 1648.6994,-214.6967\" fill=\"none\" stroke=\"#000000\"/>\n",
       "<polygon fill=\"#000000\" points=\"1651.5521,-216.7257 1654.6919,-206.6068 1645.9272,-212.5591 1651.5521,-216.7257\" stroke=\"#000000\"/>\n",
       "</g>\n",
       "<!-- 5128394736 -->\n",
       "<g class=\"node\" id=\"node15\">\n",
       "<title>5128394736</title>\n",
       "<polygon fill=\"none\" points=\"676.8926,-81.5 676.8926,-125.5 1225.2422,-125.5 1225.2422,-81.5 676.8926,-81.5\" stroke=\"#000000\"/>\n",
       "<text fill=\"#000000\" font-family=\"Times,serif\" font-size=\"14.00\" text-anchor=\"middle\" x=\"764.7739\" y=\"-99.3\">Concatenate_4: Concatenate</text>\n",
       "<polyline fill=\"none\" points=\"852.6553,-81.5 852.6553,-125.5 \" stroke=\"#000000\"/>\n",
       "<text fill=\"#000000\" font-family=\"Times,serif\" font-size=\"14.00\" text-anchor=\"middle\" x=\"880.4897\" y=\"-110.3\">input:</text>\n",
       "<polyline fill=\"none\" points=\"852.6553,-103.5 908.3242,-103.5 \" stroke=\"#000000\"/>\n",
       "<text fill=\"#000000\" font-family=\"Times,serif\" font-size=\"14.00\" text-anchor=\"middle\" x=\"880.4897\" y=\"-88.3\">output:</text>\n",
       "<polyline fill=\"none\" points=\"908.3242,-81.5 908.3242,-125.5 \" stroke=\"#000000\"/>\n",
       "<text fill=\"#000000\" font-family=\"Times,serif\" font-size=\"14.00\" text-anchor=\"middle\" x=\"1066.7832\" y=\"-110.3\">[(None, 100), (None, 100), (None, 100), (None, 100)]</text>\n",
       "<polyline fill=\"none\" points=\"908.3242,-103.5 1225.2422,-103.5 \" stroke=\"#000000\"/>\n",
       "<text fill=\"#000000\" font-family=\"Times,serif\" font-size=\"14.00\" text-anchor=\"middle\" x=\"1066.6484\" y=\"-88.3\">(None, 400)</text>\n",
       "</g>\n",
       "<!-- 5131451136&#45;&gt;5128394736 -->\n",
       "<g class=\"edge\" id=\"edge14\">\n",
       "<title>5131451136-&gt;5128394736</title>\n",
       "<path d=\"M426.8595,-162.4734C525.4945,-151.3769 645.0602,-137.9258 745.08,-126.6736\" fill=\"none\" stroke=\"#000000\"/>\n",
       "<polygon fill=\"#000000\" points=\"745.7682,-130.1183 755.3142,-125.5222 744.9856,-123.1622 745.7682,-130.1183\" stroke=\"#000000\"/>\n",
       "</g>\n",
       "<!-- 5132155256&#45;&gt;5128394736 -->\n",
       "<g class=\"edge\" id=\"edge15\">\n",
       "<title>5132155256-&gt;5128394736</title>\n",
       "<path d=\"M776.3314,-162.4734C807.1507,-152.0719 844.1004,-139.6014 876.0677,-128.8124\" fill=\"none\" stroke=\"#000000\"/>\n",
       "<polygon fill=\"#000000\" points=\"877.4607,-132.0363 885.8163,-125.5222 875.2222,-125.4039 877.4607,-132.0363\" stroke=\"#000000\"/>\n",
       "</g>\n",
       "<!-- 5182438144&#45;&gt;5128394736 -->\n",
       "<g class=\"edge\" id=\"edge16\">\n",
       "<title>5182438144-&gt;5128394736</title>\n",
       "<path d=\"M1125.8033,-162.4734C1094.984,-152.0719 1058.0344,-139.6014 1026.0671,-128.8124\" fill=\"none\" stroke=\"#000000\"/>\n",
       "<polygon fill=\"#000000\" points=\"1026.9126,-125.4039 1016.3184,-125.5222 1024.6741,-132.0363 1026.9126,-125.4039\" stroke=\"#000000\"/>\n",
       "</g>\n",
       "<!-- 5183126104&#45;&gt;5128394736 -->\n",
       "<g class=\"edge\" id=\"edge17\">\n",
       "<title>5183126104-&gt;5128394736</title>\n",
       "<path d=\"M1475.2753,-162.4734C1376.6402,-151.3769 1257.0746,-137.9258 1157.0548,-126.6736\" fill=\"none\" stroke=\"#000000\"/>\n",
       "<polygon fill=\"#000000\" points=\"1157.1491,-123.1622 1146.8205,-125.5222 1156.3665,-130.1183 1157.1491,-123.1622\" stroke=\"#000000\"/>\n",
       "</g>\n",
       "<!-- 5182982184 -->\n",
       "<g class=\"node\" id=\"node16\">\n",
       "<title>5182982184</title>\n",
       "<polygon fill=\"none\" points=\"834.3311,-.5 834.3311,-44.5 1067.8037,-44.5 1067.8037,-.5 834.3311,-.5\" stroke=\"#000000\"/>\n",
       "<text fill=\"#000000\" font-family=\"Times,serif\" font-size=\"14.00\" text-anchor=\"middle\" x=\"881.4087\" y=\"-18.3\">output: Dense</text>\n",
       "<polyline fill=\"none\" points=\"928.4863,-.5 928.4863,-44.5 \" stroke=\"#000000\"/>\n",
       "<text fill=\"#000000\" font-family=\"Times,serif\" font-size=\"14.00\" text-anchor=\"middle\" x=\"956.3208\" y=\"-29.3\">input:</text>\n",
       "<polyline fill=\"none\" points=\"928.4863,-22.5 984.1553,-22.5 \" stroke=\"#000000\"/>\n",
       "<text fill=\"#000000\" font-family=\"Times,serif\" font-size=\"14.00\" text-anchor=\"middle\" x=\"956.3208\" y=\"-7.3\">output:</text>\n",
       "<polyline fill=\"none\" points=\"984.1553,-.5 984.1553,-44.5 \" stroke=\"#000000\"/>\n",
       "<text fill=\"#000000\" font-family=\"Times,serif\" font-size=\"14.00\" text-anchor=\"middle\" x=\"1025.9795\" y=\"-29.3\">(None, 400)</text>\n",
       "<polyline fill=\"none\" points=\"984.1553,-22.5 1067.8037,-22.5 \" stroke=\"#000000\"/>\n",
       "<text fill=\"#000000\" font-family=\"Times,serif\" font-size=\"14.00\" text-anchor=\"middle\" x=\"1025.9795\" y=\"-7.3\">(None, 1)</text>\n",
       "</g>\n",
       "<!-- 5128394736&#45;&gt;5182982184 -->\n",
       "<g class=\"edge\" id=\"edge18\">\n",
       "<title>5128394736-&gt;5182982184</title>\n",
       "<path d=\"M951.0674,-81.3664C951.0674,-73.1516 951.0674,-63.6579 951.0674,-54.7252\" fill=\"none\" stroke=\"#000000\"/>\n",
       "<polygon fill=\"#000000\" points=\"954.5675,-54.6068 951.0674,-44.6068 947.5675,-54.6069 954.5675,-54.6068\" stroke=\"#000000\"/>\n",
       "</g>\n",
       "</g>\n",
       "</svg>"
      ],
      "text/plain": [
       "<IPython.core.display.SVG object>"
      ]
     },
     "execution_count": 22,
     "metadata": {},
     "output_type": "execute_result"
    }
   ],
   "source": [
    "SVG(model_to_dot(model,\n",
    "                 show_layer_names=True,\n",
    "                 show_shapes=True).create(prog='dot',\n",
    "                                          format='svg'))"
   ]
  },
  {
   "cell_type": "code",
   "execution_count": 23,
   "metadata": {},
   "outputs": [
    {
     "name": "stdout",
     "output_type": "stream",
     "text": [
      "Train on 40000 samples, validate on 5000 samples\n",
      "Epoch 1/6\n",
      "40000/40000 [==============================] - 1813s 45ms/step - loss: 0.4742 - acc: 0.7686 - val_loss: 0.3963 - val_acc: 0.8492\n",
      "Epoch 2/6\n",
      "40000/40000 [==============================] - 1803s 45ms/step - loss: 0.3424 - acc: 0.8489 - val_loss: 0.3708 - val_acc: 0.8490\n",
      "Epoch 3/6\n",
      "40000/40000 [==============================] - 1800s 45ms/step - loss: 0.3060 - acc: 0.8693 - val_loss: 0.3574 - val_acc: 0.8494\n",
      "Epoch 4/6\n",
      "40000/40000 [==============================] - 1828s 46ms/step - loss: 0.2792 - acc: 0.8815 - val_loss: 0.3295 - val_acc: 0.8678\n",
      "Epoch 5/6\n",
      "40000/40000 [==============================] - 1824s 46ms/step - loss: 0.2561 - acc: 0.8930 - val_loss: 0.3131 - val_acc: 0.8790\n",
      "Epoch 6/6\n",
      "40000/40000 [==============================] - 1843s 46ms/step - loss: 0.2380 - acc: 0.9036 - val_loss: 0.3064 - val_acc: 0.8800\n"
     ]
    }
   ],
   "source": [
    "history = model.fit(X_train, y_train,\n",
    "                               validation_data=(X_validation, y_validation),\n",
    "                               epochs=6,\n",
    "                               batch_size=64)"
   ]
  },
  {
   "cell_type": "code",
   "execution_count": 24,
   "metadata": {},
   "outputs": [],
   "source": [
    "def plot_history(history):\n",
    "    acc = history.history['acc']\n",
    "    val_acc = history.history['val_acc']\n",
    "    loss = history.history['loss']\n",
    "    val_loss = history.history['val_loss']\n",
    "    x = range(1, len(acc) + 1)\n",
    "    fig = plt.figure(figsize=(12, 5))\n",
    "    ax = fig.gca()\n",
    "    ax.xaxis.set_major_locator(MaxNLocator(integer=True))\n",
    "    plt.subplot(1, 2, 1)\n",
    "    plt.plot(x, acc, 'b', label='Training acc')\n",
    "    plt.plot(x, val_acc, 'r', label='Validation acc')\n",
    "    plt.title('Training and validation accuracy')\n",
    "    plt.xlabel('Epochs')\n",
    "    plt.legend()\n",
    "    plt.subplot(1, 2, 2)\n",
    "    plt.plot(x, loss, 'b', label='Training loss')\n",
    "    plt.plot(x, val_loss, 'r', label='Validation loss')\n",
    "    plt.title('Training and validation loss')\n",
    "    plt.xlabel('Epochs')\n",
    "    plt.legend() "
   ]
  },
  {
   "cell_type": "code",
   "execution_count": 25,
   "metadata": {},
   "outputs": [
    {
     "name": "stdout",
     "output_type": "stream",
     "text": [
      "Accuracy: 89.14\n"
     ]
    },
    {
     "data": {
      "image/png": "[encoded data removed]",
      "text/plain": [
       "<Figure size 864x360 with 2 Axes>"
      ]
     },
     "metadata": {
      "needs_background": "light"
     },
     "output_type": "display_data"
    }
   ],
   "source": [
    "scores = model.evaluate(X_test, y_test, verbose=0)\n",
    "print(f'Accuracy: {scores[1]*100:.2f}')\n",
    "plot_history(history)"
   ]
  },
  {
   "cell_type": "code",
   "execution_count": null,
   "metadata": {},
   "outputs": [],
   "source": []
  }
 ],
 "metadata": {
  "kernelspec": {
   "display_name": "Python 3",
   "language": "python",
   "name": "python3"
  },
  "language_info": {
   "codemirror_mode": {
    "name": "ipython",
    "version": 3
   },
   "file_extension": ".py",
   "mimetype": "text/x-python",
   "name": "python",
   "nbconvert_exporter": "python",
   "pygments_lexer": "ipython3",
   "version": "3.7.0"
  }
 },
 "nbformat": 4,
 "nbformat_minor": 2
}
