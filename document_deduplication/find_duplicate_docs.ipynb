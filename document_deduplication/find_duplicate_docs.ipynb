{
 "cells": [
  {
   "cell_type": "markdown",
   "metadata": {},
   "source": [
    "# Find Duplicate Documents\n",
    "in the notebook we will build a large corpus by merging several distinct corpora and exclude duplicate documents. "
   ]
  },
  {
   "cell_type": "code",
   "execution_count": 1,
   "metadata": {},
   "outputs": [],
   "source": [
    "%load_ext autoreload\n",
    "%autoreload 2"
   ]
  },
  {
   "cell_type": "code",
   "execution_count": 2,
   "metadata": {},
   "outputs": [],
   "source": [
    "import logging \n",
    "import random\n",
    "import os\n",
    "from tqdm import tqdm\n",
    "from cltk.corpus.readers import get_corpus_reader"
   ]
  },
  {
   "cell_type": "code",
   "execution_count": 3,
   "metadata": {},
   "outputs": [],
   "source": [
    "import sys\n",
    "import inspect\n",
    "from pathlib import Path \n",
    "currentdir = Path.cwd()\n",
    "parentdir = os.path.dirname(currentdir)\n",
    "sys.path.insert(0,parentdir) \n",
    "from mlyoucanuse.text_deduplicater import TextDeduplicater"
   ]
  },
  {
   "cell_type": "code",
   "execution_count": 4,
   "metadata": {},
   "outputs": [],
   "source": [
    "logging.basicConfig(level=logging.INFO)"
   ]
  },
  {
   "cell_type": "markdown",
   "metadata": {},
   "source": [
    "## Load our Corpus readers"
   ]
  },
  {
   "cell_type": "code",
   "execution_count": 5,
   "metadata": {},
   "outputs": [],
   "source": [
    "perseus_latin_reader = get_corpus_reader(corpus_name='latin_text_perseus', language='latin')\n",
    "latin_library_reader = get_corpus_reader(corpus_name='latin_text_latin_library', language='latin')"
   ]
  },
  {
   "cell_type": "markdown",
   "metadata": {},
   "source": [
    "## Create our Text Deduplicator"
   ]
  },
  {
   "cell_type": "code",
   "execution_count": 6,
   "metadata": {},
   "outputs": [],
   "source": [
    "deduper = TextDeduplicater()"
   ]
  },
  {
   "cell_type": "markdown",
   "metadata": {},
   "source": [
    "## Simple proof of the Dedupe functionality\n",
    "Add Caesar docs and pick one of the files at random and add it as a duplicate"
   ]
  },
  {
   "cell_type": "code",
   "execution_count": 7,
   "metadata": {},
   "outputs": [
    {
     "name": "stdout",
     "output_type": "stream",
     "text": [
      "['caesar/alex.txt', 'caesar/bc1.txt', 'caesar/bc2.txt', 'caesar/bc3.txt', 'caesar/bellafr.txt', 'caesar/gall1.txt', 'caesar/gall2.txt', 'caesar/gall3.txt', 'caesar/gall4.txt', 'caesar/gall5.txt', 'caesar/gall6.txt', 'caesar/gall7.txt', 'caesar/gall8.txt', 'caesar/hisp.txt', 'suetonius/suet.caesar.txt', 'xylander/caesar.txt']\n"
     ]
    },
    {
     "name": "stderr",
     "output_type": "stream",
     "text": [
      "100%|██████████| 16/16 [00:00<00:00, 16.41it/s]\n"
     ]
    },
    {
     "name": "stdout",
     "output_type": "stream",
     "text": [
      "Unique doc names: ['suetonius/suet.caesar.txt', 'xylander/caesar.txt', 'caesar/gall2.txt', 'caesar/gall1.txt', 'caesar/bc2.txt', 'caesar/bellafr.txt', 'caesar/bc1.txt', 'caesar/bc3.txt', 'caesar/gall6.txt', 'caesar/gall7.txt', 'caesar/gall4.txt', 'caesar/gall3.txt', 'caesar/alex.txt', 'caesar/hisp.txt', 'caesar/gall5.txt', 'caesar/gall8.txt']\n",
      "Duplicate doc names: [('caesar/bc3.txt', 'caesar/bc3.txt')]\n"
     ]
    }
   ],
   "source": [
    "caesar = [file for  file in latin_library_reader._fileids if 'caesar' in file]\n",
    "print(caesar)\n",
    "deduper = TextDeduplicater()\n",
    "for file in tqdm(caesar):\n",
    "    text = list(latin_library_reader.docs( file ))[0]\n",
    "    deduper.add_document(file, text)\n",
    "dupe_file = random.choice(caesar)\n",
    "text = list(latin_library_reader.docs(dupe_file ))[0]\n",
    "deduper.add_document(dupe_file, text)\n",
    "print(f'Unique doc names: {deduper.get_unique_doc_names()}')\n",
    "print(f'Duplicate doc names: {deduper.get_possible_duplicate_doc_names()}')"
   ]
  },
  {
   "cell_type": "markdown",
   "metadata": {},
   "source": [
    "## Let's check the whole corpus contents\n",
    "if a file has warnings about no trigrams found, it's an indicator that the file is empty."
   ]
  },
  {
   "cell_type": "code",
   "execution_count": 8,
   "metadata": {},
   "outputs": [
    {
     "name": "stderr",
     "output_type": "stream",
     "text": [
      " 23%|██▎       | 494/2141 [00:20<01:17, 21.27it/s]WARNING:mlyoucanuse.text_deduplicater:No trigrams found for celtis.oratio.txt\n",
      " 32%|███▏      | 695/2141 [00:30<01:00, 24.05it/s]WARNING:mlyoucanuse.text_deduplicater:No trigrams found for dicchristi.txt\n",
      " 33%|███▎      | 705/2141 [00:30<00:46, 30.62it/s]WARNING:mlyoucanuse.text_deduplicater:No trigrams found for dulcesolum.txt\n",
      "WARNING:mlyoucanuse.text_deduplicater:No trigrams found for dumestas.txt\n",
      " 33%|███▎      | 711/2141 [00:30<00:44, 32.29it/s]WARNING:mlyoucanuse.text_deduplicater:No trigrams found for ency.fides.txt\n",
      " 58%|█████▊    | 1247/2141 [00:57<00:29, 30.14it/s]WARNING:mlyoucanuse.text_deduplicater:No trigrams found for luther.praef.txt\n",
      " 65%|██████▌   | 1394/2141 [01:00<00:11, 64.20it/s]WARNING:mlyoucanuse.text_deduplicater:No trigrams found for nivis.txt\n",
      " 95%|█████████▌| 2040/2141 [01:26<00:03, 31.27it/s]WARNING:mlyoucanuse.text_deduplicater:No trigrams found for vestiunt.txt\n",
      "100%|██████████| 2141/2141 [01:29<00:00, 21.09it/s]\n"
     ]
    }
   ],
   "source": [
    "# Reset the duplicator\n",
    "deduper = TextDeduplicater()\n",
    "\n",
    "for file in tqdm(latin_library_reader._fileids):\n",
    "    text = list(latin_library_reader.docs(file))[0]\n",
    "    deduper.add_document(file, text)"
   ]
  },
  {
   "cell_type": "markdown",
   "metadata": {},
   "source": [
    "## Surprise, some problematic files"
   ]
  },
  {
   "cell_type": "code",
   "execution_count": 9,
   "metadata": {},
   "outputs": [
    {
     "data": {
      "text/plain": [
       "[('albertanus/albertanus.sermo4.txt', 'albertanus/albertanus.sermo2.txt'),\n",
       " ('lucan/lucan7.txt', 'lucan/lucan8.txt'),\n",
       " ('albertanus/albertanus.sermo4.txt', 'albertanus/albertanus.sermo3.txt'),\n",
       " ('albertanus/albertanus.sermo1.txt', 'albertanus/albertanus.sermo3.txt'),\n",
       " ('albertanus/albertanus.sermo1.txt', 'albertanus/albertanus.sermo2.txt'),\n",
       " ('albertanus/albertanus.sermo1.txt', 'albertanus/albertanus.sermo4.txt'),\n",
       " ('albertanus/albertanus.sermo2.txt', 'albertanus/albertanus.sermo3.txt')]"
      ]
     },
     "execution_count": 9,
     "metadata": {},
     "output_type": "execute_result"
    }
   ],
   "source": [
    "possible_dupes = deduper.get_possible_duplicate_doc_names()\n",
    "possible_dupes"
   ]
  },
  {
   "cell_type": "markdown",
   "metadata": {},
   "source": [
    "## Let's check their similarity scores"
   ]
  },
  {
   "cell_type": "code",
   "execution_count": 10,
   "metadata": {},
   "outputs": [
    {
     "name": "stdout",
     "output_type": "stream",
     "text": [
      "Duplicate documents and similarity scores\n",
      "albertanus/albertanus.sermo4.txt albertanus/albertanus.sermo2.txt 1.0\n",
      "lucan/lucan7.txt lucan/lucan8.txt 0.9987385682749921\n",
      "albertanus/albertanus.sermo4.txt albertanus/albertanus.sermo3.txt 1.0\n",
      "albertanus/albertanus.sermo1.txt albertanus/albertanus.sermo3.txt 1.0\n",
      "albertanus/albertanus.sermo1.txt albertanus/albertanus.sermo2.txt 1.0\n",
      "albertanus/albertanus.sermo1.txt albertanus/albertanus.sermo4.txt 1.0\n",
      "albertanus/albertanus.sermo2.txt albertanus/albertanus.sermo3.txt 1.0\n"
     ]
    }
   ],
   "source": [
    "print('Duplicate documents and similarity scores')\n",
    "for doc_one, doc_two in possible_dupes:\n",
    "    print(doc_one, doc_two,  \n",
    "    deduper.calculate_similarity( \n",
    "    list(latin_library_reader.docs(doc_one))[0],\n",
    "    list(latin_library_reader.docs(doc_two))[0]))"
   ]
  },
  {
   "cell_type": "markdown",
   "metadata": {},
   "source": [
    "## Note: the reported duplicate files are actually errors in the corpus\n",
    "The Lucan file is nearly the same file twice, somehow."
   ]
  },
  {
   "cell_type": "code",
   "execution_count": 11,
   "metadata": {},
   "outputs": [
    {
     "name": "stdout",
     "output_type": "stream",
     "text": [
      "Albertano of Brescia \n",
      "[an error occurred while processing this directive]\n",
      "\n",
      "\n",
      "Albertano of Brescia \n",
      "[an error occurred while processing this directive]\n",
      "\n",
      "\n",
      "Albertano of Brescia \n",
      "[an error occurred while processing this directive]\n",
      "\n",
      "\n",
      "Albertano of Brescia \n",
      "[an error occurred while processing this directive]\n",
      "\n",
      "\n",
      "Lucan Liber VII\n",
      "\t\t \n",
      "\n",
      "\t\t \n",
      "\t\t \n",
      "\t \n",
      "\t\n",
      " \n",
      "\n",
      " M. ANNAEI LVCANI BELLI CIVILIS LIBER SEPTIMVS\n",
      " \n",
      "\n",
      " \n",
      "\n",
      "Segnior, Oceano quam lex aeterna uocabat,\n",
      "luctificus Titan numquam magis aethera contra\n",
      "egit equos cursumque p\n",
      "Lucan Liber VIII\n",
      "\t\t \n",
      "\n",
      "\t\t \n",
      "\t\t \n",
      "\t \n",
      "\t\n",
      " \n",
      "\n",
      " M. ANNAEI LVCANI BELLI CIVILIS LIBER OCTAVVS\n",
      " \n",
      "\n",
      " \n",
      "\n",
      " \n",
      "Segnior, Oceano quam lex aeterna uocabat,\n",
      "luctificus Titan numquam magis aethera contra\n",
      "egit equos cursumque\n"
     ]
    }
   ],
   "source": [
    "print(list(latin_library_reader.docs('albertanus/albertanus.sermo1.txt'))[0][:75])\n",
    "print(list(latin_library_reader.docs('albertanus/albertanus.sermo2.txt'))[0][:75])\n",
    "print(list(latin_library_reader.docs('albertanus/albertanus.sermo3.txt'))[0][:75])\n",
    "print(list(latin_library_reader.docs('albertanus/albertanus.sermo4.txt'))[0][:75])\n",
    "print(list(latin_library_reader.docs('lucan/lucan7.txt'))[0][:200])\n",
    "print(list(latin_library_reader.docs('lucan/lucan8.txt'))[0][:200])"
   ]
  },
  {
   "cell_type": "markdown",
   "metadata": {},
   "source": [
    "## Let's compare with the Perseus corpus anyway"
   ]
  },
  {
   "cell_type": "code",
   "execution_count": 12,
   "metadata": {},
   "outputs": [
    {
     "name": "stderr",
     "output_type": "stream",
     "text": [
      "100%|██████████| 293/293 [00:28<00:00, 10.36it/s]\n"
     ]
    }
   ],
   "source": [
    "for file in tqdm(perseus_latin_reader._fileids):\n",
    "    text = ''.join(list(perseus_latin_reader.paras(file)))\n",
    "    deduper.add_document(file, text)"
   ]
  },
  {
   "cell_type": "markdown",
   "metadata": {},
   "source": [
    "## Find out which files are duplicate\n",
    "Note: of course this does not exclude any files were several texts are put together."
   ]
  },
  {
   "cell_type": "code",
   "execution_count": 13,
   "metadata": {},
   "outputs": [
    {
     "data": {
      "text/plain": [
       "[('cicero__in-the-senate-after-his-return__latin.json',\n",
       "  'cicero/postreditum.txt'),\n",
       " ('nepos/nepos.han.txt', 'nepos-cornelius__hannibal__latin.json'),\n",
       " ('seneca-lucius-annaeus-plays__apocolocyntosis__latin.json',\n",
       "  'sen/sen.apoc.txt')]"
      ]
     },
     "execution_count": 13,
     "metadata": {},
     "output_type": "execute_result"
    }
   ],
   "source": [
    "possible_dupes2 = deduper.get_possible_duplicate_doc_names()\n",
    "possible_dupes2 = [tmp for tmp in possible_dupes2 if tmp not in possible_dupes]\n",
    "possible_dupes2"
   ]
  },
  {
   "cell_type": "code",
   "execution_count": null,
   "metadata": {},
   "outputs": [],
   "source": []
  }
 ],
 "metadata": {
  "kernelspec": {
   "display_name": "Python 3",
   "language": "python",
   "name": "python3"
  },
  "language_info": {
   "codemirror_mode": {
    "name": "ipython",
    "version": 3
   },
   "file_extension": ".py",
   "mimetype": "text/x-python",
   "name": "python",
   "nbconvert_exporter": "python",
   "pygments_lexer": "ipython3",
   "version": "3.7.0"
  },
  "pycharm": {
   "stem_cell": {
    "cell_type": "raw",
    "metadata": {
     "collapsed": false
    },
    "source": []
   }
  }
 },
 "nbformat": 4,
 "nbformat_minor": 2
}
