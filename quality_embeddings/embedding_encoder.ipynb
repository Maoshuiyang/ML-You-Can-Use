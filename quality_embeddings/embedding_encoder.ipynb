{
 "cells": [
  {
   "cell_type": "markdown",
   "metadata": {},
   "source": [
    "# The Case for Using an Embedding Encoder\n",
    "\n",
    "It's a common practice to use pre-trained word embeddings to jump start an NLP classifier's performance. The embeddings can be further updated during training (if they aren't frozen) and this can lead to even better performance. If an unseen word is encountered (usually called OOV, out of vocabulary), typically a new embedding row is added. Typically, there are three main strategies for initializing the row's values:\n",
    "* random values\n",
    "* zeros\n",
    "* random values seeded with the matrix's variance for each corresponding column\n",
    "\n",
    "We'll examine these approaches, and propose a new method, where we train a regression model to predict the row values. Of course, a regression model isn't going to replace the training of embeddings, however, we'll see that it may significantly jump start the seeding values better than the typical approaches. "
   ]
  },
  {
   "cell_type": "markdown",
   "metadata": {},
   "source": [
    "The regression model approach, although elementary, has escaped some recent research:\n",
    "\n",
    "e.g. \"we do not see any significant difference between various methods of random initialization, as long as the variance is kept reasonably low.\" \n",
    "\n",
    "An Exploration of Word Embedding Initialization in Deep-Learning Tasks Tom Kocmi and Ondˇrej Bojar, https://arxiv.org/pdf/1711.09160.pdf"
   ]
  },
  {
   "cell_type": "markdown",
   "metadata": {},
   "source": [
    "### Concrete Task: find which word embeddings are in GoogleNews but not in Glove, train an encoder to create suitable initializations, instead of using random values"
   ]
  },
  {
   "cell_type": "code",
   "execution_count": 1,
   "metadata": {},
   "outputs": [
    {
     "name": "stderr",
     "output_type": "stream",
     "text": [
      "Using TensorFlow backend.\n"
     ]
    }
   ],
   "source": [
    "%load_ext autoreload\n",
    "%autoreload 2\n",
    "%matplotlib inline\n",
    "\n",
    "import matplotlib.pyplot as plt\n",
    "import numpy as np\n",
    "import torch\n",
    "import torch.nn as nn\n",
    "import torch.optim as optim\n",
    "import torchvision\n",
    "from tqdm import tqdm\n",
    "from random import sample\n",
    "from statistics import mean, stdev\n",
    "\n",
    "from scipy.spatial.distance import cosine\n",
    "from sklearn.model_selection import train_test_split\n",
    "from sklearn.manifold import TSNE\n",
    "import numpy as np \n",
    "\n",
    "import os\n",
    "import sys\n",
    "import inspect\n",
    "from pathlib import Path \n",
    "currentdir = Path.cwd()\n",
    "# currentdir = os.path.dirname(os.path.abspath(inspect.getfile(inspect.currentframe())))\n",
    "parentdir = os.path.dirname(currentdir)\n",
    "sys.path.insert(0,parentdir) \n",
    "\n",
    "from mlyoucanuse.embeddings import (load_embeddings, EMBEDDINGS_METADATA,\n",
    "                                    create_embeddings_matrix, \n",
    "                                    get_embeddings_layer, \n",
    "                                    get_embeddings_index)\n",
    "from mlyoucanuse.featurize_text_fun import word_to_features\n",
    "\n",
    "seed = 12\n",
    "torch.manual_seed(seed)\n",
    "torch.backends.cudnn.benchmark = False\n",
    "torch.backends.cudnn.deterministic = True"
   ]
  },
  {
   "cell_type": "markdown",
   "metadata": {},
   "source": [
    "## Load Glove Embeddings, extract vocab, sample"
   ]
  },
  {
   "cell_type": "code",
   "execution_count": 2,
   "metadata": {},
   "outputs": [
    {
     "name": "stdout",
     "output_type": "stream",
     "text": [
      "Available embeddings: glove, GoogleNews, CommonCrawl.840B, Twitter2B, CommonCrawl.42B\n"
     ]
    },
    {
     "name": "stderr",
     "output_type": "stream",
     "text": [
      "100%|██████████| 400000/400000 [00:00<00:00, 1864709.03it/s]\n"
     ]
    },
    {
     "data": {
      "text/plain": [
       "['53.02', 'zumba', 'charal', 'sørland', 'acceptances']"
      ]
     },
     "execution_count": 2,
     "metadata": {},
     "output_type": "execute_result"
    }
   ],
   "source": [
    "print(f\"Available embeddings: {', '.join(list(EMBEDDINGS_METADATA.keys()))}\")\n",
    "\n",
    "glove_embed = get_embeddings_index('glove', parent_dir=parentdir, embedding_dimensions=300)\n",
    "glove_vocab = {tmp for tmp in tqdm(glove_embed.keys())}\n",
    "sample(glove_vocab, 5)"
   ]
  },
  {
   "cell_type": "markdown",
   "metadata": {},
   "source": [
    "## Determine the max sequence length so we can model it."
   ]
  },
  {
   "cell_type": "code",
   "execution_count": 3,
   "metadata": {},
   "outputs": [
    {
     "data": {
      "text/plain": [
       "68"
      ]
     },
     "execution_count": 3,
     "metadata": {},
     "output_type": "execute_result"
    }
   ],
   "source": [
    "max_word_len = max([len(tmp) for tmp in glove_embed.keys()])\n",
    "max_word_len"
   ]
  },
  {
   "cell_type": "markdown",
   "metadata": {},
   "source": [
    "## Load GoogleNews embeddings, extract vocab, sample"
   ]
  },
  {
   "cell_type": "code",
   "execution_count": 4,
   "metadata": {},
   "outputs": [
    {
     "name": "stderr",
     "output_type": "stream",
     "text": [
      "100%|██████████| 3000000/3000000 [00:01<00:00, 1866487.72it/s]\n"
     ]
    },
    {
     "data": {
      "text/plain": [
       "['OPPOSITION_Leader_Kevin_Rudd',\n",
       " 'illegal_file_sharers',\n",
       " 'Girls_Allowed',\n",
       " 'puede_phrase',\n",
       " 'Robert_Daski']"
      ]
     },
     "execution_count": 4,
     "metadata": {},
     "output_type": "execute_result"
    }
   ],
   "source": [
    "gnews_embed = get_embeddings_index('GoogleNews', parent_dir=parentdir, embedding_dimensions=300)\n",
    "gnews_vocab = {tmp for tmp in tqdm(gnews_embed.keys())} \n",
    "sample(gnews_vocab, 5)"
   ]
  },
  {
   "cell_type": "code",
   "execution_count": 5,
   "metadata": {},
   "outputs": [
    {
     "name": "stdout",
     "output_type": "stream",
     "text": [
      "GoogleNews keys with underscores: 2,070,978, 0.69%\n",
      "Glove keys with underscores: 460 0.00%\n"
     ]
    }
   ],
   "source": [
    "sum_underscores = sum([1 for tmp in gnews_vocab if '_' in tmp])\n",
    "print(f\"GoogleNews keys with underscores: {sum_underscores:,}, {sum_underscores / len(gnews_vocab):.2f}%\")\n",
    "\n",
    "sum_underscores = sum([1 for tmp in glove_vocab if '_' in tmp])\n",
    "print(f\"Glove keys with underscores: {sum_underscores:,} {sum_underscores / len(glove_vocab):.2f}%\")"
   ]
  },
  {
   "cell_type": "code",
   "execution_count": 6,
   "metadata": {},
   "outputs": [],
   "source": [
    "gnews_vocab_single_words = {tmp for tmp in gnews_vocab if '_' not in tmp}\n",
    "glove_vocab_single_words = {tmp for tmp in glove_vocab if '_' not in tmp}\n",
    "glove_single_word_embeddings = [val for key, val in glove_embed.items() if '_' not in key]"
   ]
  },
  {
   "cell_type": "code",
   "execution_count": 7,
   "metadata": {},
   "outputs": [
    {
     "name": "stdout",
     "output_type": "stream",
     "text": [
      "Number of single words in GoogleNews: 823,064\n"
     ]
    },
    {
     "data": {
      "text/plain": [
       "['TVNow', 'Rajcok', 'COUNTRIES', 'Roboteq', 'unsubscribing']"
      ]
     },
     "execution_count": 7,
     "metadata": {},
     "output_type": "execute_result"
    }
   ],
   "source": [
    "only_in_gnews = gnews_vocab_single_words - glove_vocab_single_words # use set subtraction to find the missing words\n",
    "print(f\"Number of single words in GoogleNews: {len(only_in_gnews):,}\")\n",
    "sample(only_in_gnews, 5)"
   ]
  },
  {
   "cell_type": "markdown",
   "metadata": {},
   "source": [
    "### Manual sampling and selection produced these only_in_gnews favorites: \n",
    "* resuspension\n",
    "* comments\n",
    "* devourers\n",
    "* stickbait"
   ]
  },
  {
   "cell_type": "markdown",
   "metadata": {},
   "source": [
    "### Capitalized words are usually entities; let's extract lower case candidates since relative words for comparison will be easier to find."
   ]
  },
  {
   "cell_type": "code",
   "execution_count": 8,
   "metadata": {},
   "outputs": [
    {
     "data": {
      "text/plain": [
       "['www.dea.com', 'www.lucent.com', 'iotum', 'meeet', 'boluses']"
      ]
     },
     "execution_count": 8,
     "metadata": {},
     "output_type": "execute_result"
    }
   ],
   "source": [
    "lc_only_in_gnews = {tmp for tmp in only_in_gnews if tmp.islower()}\n",
    "sample(lc_only_in_gnews, 5)"
   ]
  },
  {
   "cell_type": "markdown",
   "metadata": {},
   "source": [
    "### Manual sampling and review selected these suitable candidates:\n",
    "* underserviced\n",
    "* guitaring\n",
    "* wholesomely\n",
    "* redevelops\n",
    "* enkindle\n",
    "* mooched\n",
    "* wattages"
   ]
  },
  {
   "cell_type": "markdown",
   "metadata": {},
   "source": [
    "## Check that are candidates and near matches are available in the target embeddding"
   ]
  },
  {
   "cell_type": "code",
   "execution_count": 9,
   "metadata": {},
   "outputs": [
    {
     "name": "stdout",
     "output_type": "stream",
     "text": [
      "True False\n"
     ]
    }
   ],
   "source": [
    "print('underserviced' in only_in_gnews, 'underservice' in glove_vocab_single_words)\n",
    "some_words_only_in_gnews = [    \n",
    "    'resuspension', \n",
    "    'devourers',    \n",
    "    'underserviced',\n",
    "    'guitaring',\n",
    "    'wholesomely', \n",
    "    'redevelops',\n",
    "    'enkindle',\n",
    "    'mooched',\n",
    "    'wattages',\n",
    "    'hellaciously', \n",
    "    'pouters',\n",
    "    'flushers']\n",
    "\n",
    "for word in some_words_only_in_gnews:\n",
    "    if word not in only_in_gnews:\n",
    "        print(word)\n",
    "\n",
    "analogous_words_in_glove =[     \n",
    "    'suspension',    \n",
    "    'devour',    \n",
    "    'underserved',\n",
    "    'guitar',\n",
    "    'wholesome',\n",
    "    'redevelop',\n",
    "    'kindle',\n",
    "    'mooch',\n",
    "    'wattage',\n",
    "    'hellacious',\n",
    "    'pout',\n",
    "    'flusher']                            \n",
    "for word in analogous_words_in_glove:\n",
    "    if word not in glove_vocab_single_words:\n",
    "        print(word)\n",
    "# not found microcrack, pouter"
   ]
  },
  {
   "cell_type": "markdown",
   "metadata": {},
   "source": [
    "# Define the data and data loader"
   ]
  },
  {
   "cell_type": "code",
   "execution_count": 10,
   "metadata": {},
   "outputs": [
    {
     "name": "stdout",
     "output_type": "stream",
     "text": [
      "X_train torch.Size([379563, 70])\n",
      "y_train torch.Size([379563, 300])\n",
      "X_test torch.Size([19977, 70])\n",
      "y_test torch.Size([19977, 300])\n"
     ]
    }
   ],
   "source": [
    "X = [word_to_features((word + ' '*70)[:70], max_word_length=70, reverse=False) \n",
    "     for word in list(glove_vocab_single_words)]   \n",
    "\n",
    "y = glove_single_word_embeddings\n",
    "\n",
    "X_train, X_test, y_train, y_test = train_test_split(X, y, test_size=0.05, random_state=42)\n",
    "X_train = torch.tensor(X_train, dtype=torch.float)\n",
    "print('X_train', X_train.shape)\n",
    "y_train = torch.tensor(y_train)\n",
    "print('y_train', y_train.shape)\n",
    "X_test = torch.tensor(X_test, dtype=torch.float)\n",
    "print('X_test', X_test.shape)\n",
    "y_test = torch.tensor(y_test)\n",
    "print('y_test', y_test.shape)\n",
    "\n",
    "batch_size = 64\n",
    "epochs = 3\n",
    "learning_rate = 1e-3\n",
    "\n",
    "train_data = []\n",
    "for i in range(len(X_train)):\n",
    "   train_data.append([X_train[i], y_train[i]])\n",
    "trainloader = torch.utils.data.DataLoader(train_data, shuffle=True, batch_size=batch_size)"
   ]
  },
  {
   "cell_type": "markdown",
   "metadata": {},
   "source": [
    "# Define model and train to generate embeddings\n",
    "\n",
    "Other model architectures were tried, but this was the most performant"
   ]
  },
  {
   "cell_type": "code",
   "execution_count": 11,
   "metadata": {},
   "outputs": [
    {
     "name": "stdout",
     "output_type": "stream",
     "text": [
      "[epoch 1, batch     1] loss: 0.114\n",
      "[epoch 1, batch   641] loss: 40.060\n",
      "[epoch 1, batch  1281] loss: 24.410\n",
      "[epoch 1, batch  1921] loss: 7.743\n",
      "[epoch 1, batch  2561] loss: 2.997\n",
      "[epoch 1, batch  3201] loss: 2.233\n",
      "[epoch 1, batch  3841] loss: 0.386\n",
      "[epoch 1, batch  4481] loss: 0.378\n",
      "[epoch 1, batch  5121] loss: 1.125\n",
      "[epoch 1, batch  5761] loss: 1.477\n",
      "[epoch 2, batch     1] loss: 0.000\n",
      "[epoch 2, batch   641] loss: 15.132\n",
      "[epoch 2, batch  1281] loss: 0.190\n",
      "[epoch 2, batch  1921] loss: 0.162\n",
      "[epoch 2, batch  2561] loss: 0.176\n",
      "[epoch 2, batch  3201] loss: 0.170\n",
      "[epoch 2, batch  3841] loss: 0.155\n",
      "[epoch 2, batch  4481] loss: 0.170\n",
      "[epoch 2, batch  5121] loss: 0.145\n",
      "[epoch 2, batch  5761] loss: 0.160\n",
      "[epoch 3, batch     1] loss: 0.000\n",
      "[epoch 3, batch   641] loss: 0.133\n",
      "[epoch 3, batch  1281] loss: 0.137\n",
      "[epoch 3, batch  1921] loss: 0.134\n",
      "[epoch 3, batch  2561] loss: 0.137\n",
      "[epoch 3, batch  3201] loss: 0.132\n",
      "[epoch 3, batch  3841] loss: 0.135\n",
      "[epoch 3, batch  4481] loss: 15.947\n",
      "[epoch 3, batch  5121] loss: 0.132\n",
      "[epoch 3, batch  5761] loss: 0.132\n",
      "Finished Training\n"
     ]
    }
   ],
   "source": [
    "class EmbeddingEncoder(nn.Module):\n",
    "    def __init__(self, input_shape=70, embedding_size=300, **kwargs):\n",
    "        super().__init__()\n",
    "        self.encoder_hidden_layer = nn.Linear(in_features=input_shape, out_features=embedding_size)\n",
    "        self.encoder_output_layer = nn.Linear(in_features=embedding_size, out_features=embedding_size)\n",
    "\n",
    "    def forward(self, features):\n",
    "        activation = self.encoder_hidden_layer(features)\n",
    "        activation = torch.relu(activation)\n",
    "        code = self.encoder_output_layer(activation)\n",
    "        return code\n",
    "\n",
    "device = torch.device(\"cuda\" if torch.cuda.is_available() else \"cpu\")\n",
    "model = EmbeddingEncoder(input_shape=70, embedding_size=300).to(device)\n",
    "optimizer = optim.Adam(model.parameters(), lr=1e-3)\n",
    "criterion = nn.MSELoss()\n",
    "model.train()\n",
    "\n",
    "for epoch in range(epochs): \n",
    "    running_loss = 0.0\n",
    "    for i, data in enumerate(trainloader):\n",
    "        inputs, labels = data   \n",
    "        inputs.to(device)\n",
    "        labels.to(device)\n",
    "        optimizer.zero_grad() #: zero the parameter gradients\n",
    "        outputs = model(inputs)\n",
    "        loss = criterion(outputs, labels)\n",
    "        loss.backward()\n",
    "        optimizer.step()\n",
    "        running_loss += loss.item()\n",
    "        if i % (batch_size * 10) == 0: # print every 100 mini-batches\n",
    "            print('[epoch %d, batch %5d] loss: %.3f' %\n",
    "                  (epoch + 1, i + 1, running_loss / (batch_size *10)  ) )\n",
    "            running_loss = 0.0\n",
    "print('Finished Training')"
   ]
  },
  {
   "cell_type": "markdown",
   "metadata": {},
   "source": [
    "# Verify with the test set\n",
    "## Our metric will be Cosine similarity; so the lower the percent score, the better"
   ]
  },
  {
   "cell_type": "code",
   "execution_count": 12,
   "metadata": {},
   "outputs": [
    {
     "data": {
      "text/plain": [
       "(0.6790134483879718, 0.15936205216074567)"
      ]
     },
     "execution_count": 12,
     "metadata": {},
     "output_type": "execute_result"
    }
   ],
   "source": [
    "y_pred = []\n",
    "model.eval()\n",
    "with torch.no_grad():\n",
    "    for idx, x in enumerate(X_test):\n",
    "        the_pred = model(x)\n",
    "        y_pred.append(the_pred)\n",
    "\n",
    "scores = [cosine(y_pred[idx], sample) for sample in y_test]\n",
    "mean(scores), stdev(scores)\n",
    "# (0.679192502973701, 0.15922573805486012)"
   ]
  },
  {
   "cell_type": "markdown",
   "metadata": {},
   "source": [
    "# Similarity scores for default initializations, rows of all ones"
   ]
  },
  {
   "cell_type": "code",
   "execution_count": 13,
   "metadata": {},
   "outputs": [
    {
     "data": {
      "text/plain": [
       "(1.0110054014078103, 0.0561741914288907)"
      ]
     },
     "execution_count": 13,
     "metadata": {},
     "output_type": "execute_result"
    }
   ],
   "source": [
    "ones = torch.ones(300, dtype=torch.float)\n",
    "scores = [cosine(ones, sample) for sample in glove_embed.values()] \n",
    "mean(scores), stdev(scores)"
   ]
  },
  {
   "cell_type": "markdown",
   "metadata": {},
   "source": [
    "# Similarity scores for default initializations, rows of almost zeros"
   ]
  },
  {
   "cell_type": "code",
   "execution_count": 14,
   "metadata": {},
   "outputs": [
    {
     "data": {
      "text/plain": [
       "(1.0110054011660812, 0.056174190174417875)"
      ]
     },
     "execution_count": 14,
     "metadata": {},
     "output_type": "execute_result"
    }
   ],
   "source": [
    "almost_zeros = torch.tensor([0.1e-3] * 300)\n",
    "scores = [cosine(almost_zeros, sample) for sample in glove_embed.values()] \n",
    "mean(scores), stdev(scores)"
   ]
  },
  {
   "cell_type": "markdown",
   "metadata": {},
   "source": [
    "# Similarity scores for matrix rows initialized to random values centered on the variance of the embedding"
   ]
  },
  {
   "cell_type": "code",
   "execution_count": 15,
   "metadata": {},
   "outputs": [
    {
     "data": {
      "text/plain": [
       "(1.0017122539355887, 0.05685415286427995)"
      ]
     },
     "execution_count": 15,
     "metadata": {},
     "output_type": "execute_result"
    }
   ],
   "source": [
    "cols = list(glove_embed.values())[0].shape[0]\n",
    "embed_ar = np.asarray(list(glove_embed.values()))\n",
    "matrix_variance = np.asarray([np.var(embed_ar[:, idx]) for idx in range(cols)])\n",
    "del embed_ar, cols\n",
    "scores = [cosine(torch.tensor(matrix_variance * np.random.rand(1, 300)),\n",
    "                 sample) for sample in y_test]\n",
    "mean(scores), stdev(scores)    "
   ]
  },
  {
   "cell_type": "code",
   "execution_count": 16,
   "metadata": {},
   "outputs": [],
   "source": [
    "# Save and load if desired\n",
    "# torch.save(model, 'glove_embedding_encoder.pth') \n",
    "# model = torch.load( 'glove_embedding_encoder.pth')"
   ]
  },
  {
   "cell_type": "markdown",
   "metadata": {},
   "source": [
    "# Here's an example of the matrix values we're trying to approximate"
   ]
  },
  {
   "cell_type": "code",
   "execution_count": 17,
   "metadata": {},
   "outputs": [
    {
     "name": "stdout",
     "output_type": "stream",
     "text": [
      "0.35078948736190796\n"
     ]
    }
   ],
   "source": [
    "print(cosine(glove_embed['presidents'], glove_embed['president']))"
   ]
  },
  {
   "cell_type": "code",
   "execution_count": 18,
   "metadata": {},
   "outputs": [
    {
     "name": "stdout",
     "output_type": "stream",
     "text": [
      "0.4403637647628784\n"
     ]
    }
   ],
   "source": [
    "print(cosine(gnews_embed['presidents'], gnews_embed['president']))"
   ]
  },
  {
   "cell_type": "markdown",
   "metadata": {},
   "source": [
    "## Even with the same word, with the difference being singular or plural, there's still some fair amount of difference between their representations."
   ]
  },
  {
   "cell_type": "code",
   "execution_count": 19,
   "metadata": {},
   "outputs": [
    {
     "data": {
      "text/plain": [
       "['suspension',\n",
       " 'devour',\n",
       " 'underserved',\n",
       " 'guitar',\n",
       " 'wholesome',\n",
       " 'redevelop',\n",
       " 'kindle',\n",
       " 'mooch',\n",
       " 'wattage',\n",
       " 'hellacious',\n",
       " 'pout',\n",
       " 'flusher']"
      ]
     },
     "execution_count": 19,
     "metadata": {},
     "output_type": "execute_result"
    }
   ],
   "source": [
    "analogous_words_in_glove"
   ]
  },
  {
   "cell_type": "markdown",
   "metadata": {},
   "source": [
    "## Let's visualize the generated embedding initializations\n",
    "we'll use TSNE to get a visual representation; reducing the dimensionality from 300 to 2 won't give us an exact comparison, but it should allow us to see if we're in the ballpark. "
   ]
  },
  {
   "cell_type": "code",
   "execution_count": 20,
   "metadata": {},
   "outputs": [
    {
     "name": "stdout",
     "output_type": "stream",
     "text": [
      "[t-SNE] Computing 25 nearest neighbors...\n",
      "[t-SNE] Indexed 26 samples in 0.000s...\n",
      "[t-SNE] Computed neighbors for 26 samples in 0.002s...\n",
      "[t-SNE] Computed conditional probabilities for sample 26 / 26\n",
      "[t-SNE] Mean sigma: 0.000000\n",
      "[t-SNE] Computed conditional probabilities in 0.003s\n",
      "[t-SNE] Iteration 50: error = 56.9380188, gradient norm = 0.5224843 (50 iterations in 0.019s)\n",
      "[t-SNE] Iteration 100: error = 57.3133507, gradient norm = 0.4613132 (50 iterations in 0.018s)\n",
      "[t-SNE] Iteration 150: error = 53.1056862, gradient norm = 0.4914672 (50 iterations in 0.023s)\n",
      "[t-SNE] Iteration 200: error = 51.8919334, gradient norm = 0.4598358 (50 iterations in 0.035s)\n",
      "[t-SNE] Iteration 250: error = 60.2063675, gradient norm = 0.2621924 (50 iterations in 0.026s)\n",
      "[t-SNE] KL divergence after 250 iterations with early exaggeration: 60.206367\n",
      "[t-SNE] Iteration 300: error = 0.6627942, gradient norm = 0.0024780 (50 iterations in 0.021s)\n",
      "[t-SNE] Iteration 350: error = 0.4528618, gradient norm = 0.0014517 (50 iterations in 0.027s)\n",
      "[t-SNE] Iteration 400: error = 0.2934511, gradient norm = 0.0002684 (50 iterations in 0.019s)\n",
      "[t-SNE] Iteration 450: error = 0.2813620, gradient norm = 0.0001219 (50 iterations in 0.026s)\n",
      "[t-SNE] Iteration 500: error = 0.2763908, gradient norm = 0.0001080 (50 iterations in 0.026s)\n",
      "[t-SNE] Iteration 550: error = 0.2761032, gradient norm = 0.0000990 (50 iterations in 0.019s)\n",
      "[t-SNE] Iteration 600: error = 0.2762628, gradient norm = 0.0000861 (50 iterations in 0.031s)\n",
      "[t-SNE] Iteration 650: error = 0.2746127, gradient norm = 0.0000748 (50 iterations in 0.022s)\n",
      "[t-SNE] Iteration 700: error = 0.2760592, gradient norm = 0.0000559 (50 iterations in 0.018s)\n",
      "[t-SNE] Iteration 750: error = 0.2752277, gradient norm = 0.0000537 (50 iterations in 0.017s)\n",
      "[t-SNE] Iteration 800: error = 0.2731718, gradient norm = 0.0000465 (50 iterations in 0.016s)\n",
      "[t-SNE] Iteration 850: error = 0.2728696, gradient norm = 0.0000228 (50 iterations in 0.026s)\n",
      "[t-SNE] Iteration 900: error = 0.2723560, gradient norm = 0.0000552 (50 iterations in 0.031s)\n",
      "[t-SNE] Iteration 950: error = 0.2711372, gradient norm = 0.0000211 (50 iterations in 0.036s)\n",
      "[t-SNE] Iteration 1000: error = 0.2711332, gradient norm = 0.0000190 (50 iterations in 0.033s)\n",
      "[t-SNE] KL divergence after 1000 iterations: 0.271133\n"
     ]
    },
    {
     "data": {
      "image/png": "[encoded data removed]",
      "text/plain": [
       "<Figure size 1440x720 with 1 Axes>"
      ]
     },
     "metadata": {
      "needs_background": "light"
     },
     "output_type": "display_data"
    }
   ],
   "source": [
    "X_to_find = [word_to_features((word + ' '*70)[:70], max_word_length=70, reverse=False) \n",
    "     for word in some_words_only_in_gnews]   \n",
    "X_to_find = torch.tensor(X_to_find, dtype=torch.float)\n",
    "\n",
    "old_and_new_words ={}\n",
    "\n",
    "for word in analogous_words_in_glove:\n",
    "    old_and_new_words[word] = glove_embed[word]\n",
    "\n",
    "old_and_new_words['president'] = glove_embed['president']\n",
    "old_and_new_words['presidents'] = glove_embed['presidents']\n",
    "\n",
    "model.eval()\n",
    "with torch.no_grad():\n",
    "    for idx, x in enumerate(X_to_find):\n",
    "        old_and_new_words[some_words_only_in_gnews[idx]] = model(x).detach().numpy()\n",
    "\n",
    "items = list(old_and_new_words.keys())  \n",
    "item_vectors = old_and_new_words.items()\n",
    "vectors = np.asarray([x[1] for x in item_vectors])\n",
    "lengths = np.linalg.norm(vectors, axis=1)\n",
    "norm_vectors = (vectors.T / lengths).T\n",
    "tsne = TSNE(n_components=2, perplexity=10, verbose=2).fit_transform(norm_vectors)\n",
    "\n",
    "x = tsne[:,0]\n",
    "y = tsne[:,1]\n",
    "fig, ax = plt.subplots(figsize=(20, 10))\n",
    "ax.scatter(x, y)\n",
    "for item, x1, y1 in zip(item_vectors, x, y):\n",
    "    ax.annotate(item[0], (x1, y1), size=14)\n",
    "plt.show()"
   ]
  },
  {
   "cell_type": "markdown",
   "metadata": {},
   "source": [
    "### Compare the relations for the words \"president\" and \"presidents\" above with the other, generated word embedding values are close, but could use some further training. But they are better than random. "
   ]
  },
  {
   "cell_type": "markdown",
   "metadata": {},
   "source": [
    "## Summary\n",
    "* Initializing an embedding row for an OOV item via a regression model may provide the best results.\n",
    "* Featurizing each letter may allow the regression model to mimic the subword embeddings similar to those provided by FastText embeddings."
   ]
  }
 ],
 "metadata": {
  "kernelspec": {
   "display_name": "Python 3",
   "language": "python",
   "name": "python3"
  },
  "language_info": {
   "codemirror_mode": {
    "name": "ipython",
    "version": 3
   },
   "file_extension": ".py",
   "mimetype": "text/x-python",
   "name": "python",
   "nbconvert_exporter": "python",
   "pygments_lexer": "ipython3",
   "version": "3.7.0"
  }
 },
 "nbformat": 4,
 "nbformat_minor": 2
}
