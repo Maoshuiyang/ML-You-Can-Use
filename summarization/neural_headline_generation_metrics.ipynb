{
 "cells": [
  {
   "cell_type": "markdown",
   "metadata": {},
   "source": [
    "# Neural Headline Generation Metrics & Comparisons\n",
    "Although human judgment is the gold standard for assessing the quality of summarization outputs, there are several metrics and comparisons we can gather automatically.\n",
    "In this notebook, we will compare a neural headline generation model with metrics previously reported in these arxiv.org papers:\n",
    "    1. Neural Headline Generation with Sentence-wise Optimization by Ayana, Shiqi Shen, Yu Zhao, Zhiyuan Liu, Maosong Sun https://arxiv.org/abs/1604.01904\n",
    "    2. This Email Could Save Your Life: Introducing the Task of Email Subject Line Generation by Rui Zhang, Joel Tetreault https://arxiv.org/abs/1906.03497)\n",
    "    3. Low-Resource Neural Headline Generation by Ottokar Tilk, Tanel Alumäe https://arxiv.org/abs/1707.09769\n",
    "    4. HEADS: Headline Generation as Sequence Prediction Using an Abstract Feature-Rich Space by Carlos A. Colmenares, Marina Litvak, +1 author Fabrizio Silvestri https://www.semanticscholar.org/paper/HEADS%3A-Headline-Generation-as-Sequence-Prediction-Colmenares-Litvak/a9614b05461bb306cc47c8cd645b9b67bb1227ba\n",
    "    5. Neural Headline Generation on Abstract Meaning Representation by Sho Takase, Jun Suzuki, +2 authors Masaaki Nagata https://www.semanticscholar.org/paper/Neural-Headline-Generation-on-Abstract-Meaning-Takase-Suzuki/4d1f12f1a28afc30aab6f5086b3f2e481cf1f49f)\n",
    "    \n",
    "We will also examine performance with respect to several baseline heuristics detailed in the first paper, namely:\n",
    "* TfIdf (top 8 keywords)\n",
    "* original title\n",
    "\n",
    "The model under consideration is a fine-tuned BERT model trained to predict the words of a headline representing a given document. The implementation and the results here are based on several Archiv papers."
   ]
  },
  {
   "cell_type": "code",
   "execution_count": 1,
   "metadata": {},
   "outputs": [],
   "source": [
    "%matplotlib inline\n",
    "from matplotlib.pyplot import hist"
   ]
  },
  {
   "cell_type": "code",
   "execution_count": 2,
   "metadata": {},
   "outputs": [],
   "source": [
    "import statistics\n",
    "import re\n",
    "\n",
    "import pandas as pd\n",
    "from nltk import word_tokenize, sent_tokenize\n",
    "from sklearn.feature_extraction.text import TfidfVectorizer\n",
    "import numpy as np\n",
    "from nltk.stem import PorterStemmer\n",
    "\n",
    "stemmer = PorterStemmer()"
   ]
  },
  {
   "cell_type": "code",
   "execution_count": 3,
   "metadata": {},
   "outputs": [
    {
     "data": {
      "text/html": [
       "<div>\n",
       "<style scoped>\n",
       "    .dataframe tbody tr th:only-of-type {\n",
       "        vertical-align: middle;\n",
       "    }\n",
       "\n",
       "    .dataframe tbody tr th {\n",
       "        vertical-align: top;\n",
       "    }\n",
       "\n",
       "    .dataframe thead th {\n",
       "        text-align: right;\n",
       "    }\n",
       "</style>\n",
       "<table border=\"1\" class=\"dataframe\">\n",
       "  <thead>\n",
       "    <tr style=\"text-align: right;\">\n",
       "      <th></th>\n",
       "      <th>title_original</th>\n",
       "      <th>title_generated</th>\n",
       "      <th>text</th>\n",
       "    </tr>\n",
       "  </thead>\n",
       "  <tbody>\n",
       "    <tr>\n",
       "      <th>0</th>\n",
       "      <td>U.S. Informs Iraqi Government About Reposition...</td>\n",
       "      <td>Some Forces Being Repositioned Inside Iraq</td>\n",
       "      <td>Secretary of Defense Mark Esper announced on M...</td>\n",
       "    </tr>\n",
       "    <tr>\n",
       "      <th>1</th>\n",
       "      <td>Ayatollah Weeps And Iranians Rail Against U.S....</td>\n",
       "      <td>Qassem Soleimani The Commander Of Iran's Elite</td>\n",
       "      <td>Vast crowds thronged the streets of Tehran on ...</td>\n",
       "    </tr>\n",
       "    <tr>\n",
       "      <th>2</th>\n",
       "      <td>Investor's Naked Selfies Ignite #MeToo Moment:...</td>\n",
       "      <td>Venture Capital Investors Influence Over Startup</td>\n",
       "      <td>\"People would assume that my male colleague wa...</td>\n",
       "    </tr>\n",
       "    <tr>\n",
       "      <th>3</th>\n",
       "      <td>Harvey Weinstein Is Charged With Sexual Assaul...</td>\n",
       "      <td>Harvey Weinstein Charged With Sexual Assault</td>\n",
       "      <td>Harvey Weinstein was charged with  four felony...</td>\n",
       "    </tr>\n",
       "    <tr>\n",
       "      <th>4</th>\n",
       "      <td>Australia Wildfires Have Claimed 25 Lives And ...</td>\n",
       "      <td>Deaths Reported In New South</td>\n",
       "      <td>While conditions improved slightly over the we...</td>\n",
       "    </tr>\n",
       "  </tbody>\n",
       "</table>\n",
       "</div>"
      ],
      "text/plain": [
       "                                      title_original  \\\n",
       "0  U.S. Informs Iraqi Government About Reposition...   \n",
       "1  Ayatollah Weeps And Iranians Rail Against U.S....   \n",
       "2  Investor's Naked Selfies Ignite #MeToo Moment:...   \n",
       "3  Harvey Weinstein Is Charged With Sexual Assaul...   \n",
       "4  Australia Wildfires Have Claimed 25 Lives And ...   \n",
       "\n",
       "                                    title_generated  \\\n",
       "0        Some Forces Being Repositioned Inside Iraq   \n",
       "1    Qassem Soleimani The Commander Of Iran's Elite   \n",
       "2  Venture Capital Investors Influence Over Startup   \n",
       "3      Harvey Weinstein Charged With Sexual Assault   \n",
       "4                      Deaths Reported In New South   \n",
       "\n",
       "                                                text  \n",
       "0  Secretary of Defense Mark Esper announced on M...  \n",
       "1  Vast crowds thronged the streets of Tehran on ...  \n",
       "2  \"People would assume that my male colleague wa...  \n",
       "3  Harvey Weinstein was charged with  four felony...  \n",
       "4  While conditions improved slightly over the we...  "
      ]
     },
     "execution_count": 3,
     "metadata": {},
     "output_type": "execute_result"
    }
   ],
   "source": [
    "headlines_df = pd.read_csv('headline_generation.sample.csv', sep='\\t')\n",
    "headlines_df.head()"
   ]
  },
  {
   "cell_type": "markdown",
   "metadata": {},
   "source": [
    "### Rouge recall:\n",
    "#### number of overlapping words / number of words in reference summary\n",
    "\n",
    "Using unigrams is the simplest baseline, others are available https://en.wikipedia.org/wiki/ROUGE_(metric)"
   ]
  },
  {
   "cell_type": "markdown",
   "metadata": {},
   "source": [
    "### Generated Headlines compared to original titles, Rouge-1 recall"
   ]
  },
  {
   "cell_type": "code",
   "execution_count": 4,
   "metadata": {},
   "outputs": [
    {
     "name": "stdout",
     "output_type": "stream",
     "text": [
      "Generated Headlines compared to original titles, Rouge-1 recall\n",
      "mean: 0.3490199638492307, stddev 0.2567401783811817\n"
     ]
    },
    {
     "data": {
      "image/png": "[encoded data removed]",
      "text/plain": [
       "<Figure size 432x288 with 1 Axes>"
      ]
     },
     "metadata": {
      "needs_background": "light"
     },
     "output_type": "display_data"
    }
   ],
   "source": [
    "vals =[]\n",
    "for idx, row in headlines_df.iterrows():\n",
    "    title_original_words = word_tokenize(row['title_original'].lower())\n",
    "    title_generated_words = word_tokenize(row['title_generated'].lower())\n",
    "    title_original_words = [stemmer.stem(word) for word in title_original_words]\n",
    "    title_generated_words = [stemmer.stem(word) for word in title_generated_words]\n",
    "    vals.append(len(set(title_generated_words) & set(title_original_words)) / len(title_generated_words))\n",
    "hist(vals, bins=10)\n",
    "print(f\"Generated Headlines compared to original titles, Rouge-1 recall\\nmean: {statistics.mean(vals)}, stddev {statistics.stdev(vals)}\")    "
   ]
  },
  {
   "cell_type": "markdown",
   "metadata": {},
   "source": [
    "### Rouge recall figures from papers:\n",
    "* 28.80 - from: Neural Headline Generation on Abstract Meaning Representation\n",
    "* 31.3 (TfIdf keyword score) - from: HEADS: Headline Generation as Sequence Prediction Using an Abstract Feature-Rich Space\n",
    "* 21.34 - from: Low-Resource Neural Headline Generation\n",
    "* 44.0 (F1 Score Email domain) - from: This Email Could Save Your Life\n",
    "* 28.81 - from: Neural Headline Generation with Sentence-wise Optimization\n",
    "\n",
    "Our model appears to be making a strong showing, but the papers also suggest that verticle domain specialization may yield stronger results, as it appears to in the email domain."
   ]
  },
  {
   "cell_type": "markdown",
   "metadata": {},
   "source": [
    "## TfIdf\n",
    "High values in TfIdf correspond well to keywords, and keywords are likely to appear in a title; however a list of keywords rarely makes a suitable title."
   ]
  },
  {
   "cell_type": "code",
   "execution_count": 5,
   "metadata": {},
   "outputs": [
    {
     "data": {
      "text/plain": [
       "24862"
      ]
     },
     "execution_count": 5,
     "metadata": {},
     "output_type": "execute_result"
    }
   ],
   "source": [
    "def get_top_tf_idf_words(response, top_n=8):\n",
    "    sorted_nzs = np.argsort(response.data)[:-(top_n+1):-1]\n",
    "    return feature_names[response.indices[sorted_nzs]]\n",
    "\n",
    "# To build our TfIdf calculations, we need to process the entire corpus\n",
    "corpus = [row['text'] for idx, row in headlines_df.iterrows()] \n",
    "tfidf = TfidfVectorizer(stop_words='english')\n",
    "X = tfidf.fit_transform(corpus)\n",
    "feature_names = np.array(tfidf.get_feature_names())\n",
    "len(feature_names)"
   ]
  },
  {
   "cell_type": "markdown",
   "metadata": {},
   "source": [
    "### Here's an example of a document providing the top 8 keywords"
   ]
  },
  {
   "cell_type": "code",
   "execution_count": 6,
   "metadata": {},
   "outputs": [
    {
     "name": "stdout",
     "output_type": "stream",
     "text": [
      "['soleimani', 'iran', 'tehran', 'khamenei', 'ghaani', 'wept', 'funeral', 'war']\n",
      "First 200 characters of the doc:\n",
      "Vast crowds thronged the streets of Tehran on Monday to pay respects to Maj. Gen. Qassem Soleimani, the commander of Iran's elite Quds Force who was killed last week in a U.S. drone strike in Baghdad.\n"
     ]
    }
   ],
   "source": [
    "new_doc = headlines_df.iloc[1]['text']\n",
    "responses = tfidf.transform([new_doc])\n",
    "print([get_top_tf_idf_words(response, 8) for response in responses][0].tolist())\n",
    "print(f\"First 200 characters of the doc:\\n{new_doc[:200]}\")"
   ]
  },
  {
   "cell_type": "markdown",
   "metadata": {},
   "source": [
    "## Calculate the top 8 keywords for each document"
   ]
  },
  {
   "cell_type": "code",
   "execution_count": 7,
   "metadata": {},
   "outputs": [],
   "source": [
    "top8_keywords = []\n",
    "for idx, row in headlines_df.iterrows():\n",
    "    responses = tfidf.transform([row['text']])\n",
    "    top8_keywords.append([get_top_tf_idf_words(response, 8) for response in responses][0].tolist())"
   ]
  },
  {
   "cell_type": "markdown",
   "metadata": {},
   "source": [
    "### Rouge-1 recall of TfIdf keywords and the generated titles"
   ]
  },
  {
   "cell_type": "code",
   "execution_count": 8,
   "metadata": {},
   "outputs": [
    {
     "name": "stdout",
     "output_type": "stream",
     "text": [
      "Rouge-1 recall of TfIdf keywords and the generated titles: \n",
      "mean: 0.2820164416960344, stdev0.19463073251548263\n"
     ]
    },
    {
     "data": {
      "image/png": "[encoded data removed]",
      "text/plain": [
       "<Figure size 432x288 with 1 Axes>"
      ]
     },
     "metadata": {
      "needs_background": "light"
     },
     "output_type": "display_data"
    }
   ],
   "source": [
    "vals =[]\n",
    "for idx, row in headlines_df.iterrows():\n",
    "    tfidf_keywords = top8_keywords[idx] \n",
    "    title_generated_words = word_tokenize(row['title_generated'].lower())\n",
    "    keywords = [stemmer.stem(word) for word in tfidf_keywords]\n",
    "    title_generated_words = [stemmer.stem(word) for word in title_generated_words]\n",
    "    vals.append(len(set(title_generated_words) & set(keywords)) / len(title_generated_words))\n",
    "hist(vals, bins=10)\n",
    "print(f\"Rouge-1 recall of TfIdf keywords and the generated titles: \\nmean: {statistics.mean(vals)}, stdev{statistics.stdev(vals)}\")     "
   ]
  },
  {
   "cell_type": "code",
   "execution_count": null,
   "metadata": {},
   "outputs": [],
   "source": []
  },
  {
   "cell_type": "markdown",
   "metadata": {},
   "source": [
    "### Rouge-1 recall of TfIdf keywords and the original titles"
   ]
  },
  {
   "cell_type": "code",
   "execution_count": 9,
   "metadata": {},
   "outputs": [
    {
     "name": "stdout",
     "output_type": "stream",
     "text": [
      "Rouge-1 recall of TfIdf keywords and the original titles: \n",
      "mean: 0.202844842695546, stdev0.11221382078896976\n"
     ]
    },
    {
     "data": {
      "image/png": "[encoded data removed]",
      "text/plain": [
       "<Figure size 432x288 with 1 Axes>"
      ]
     },
     "metadata": {
      "needs_background": "light"
     },
     "output_type": "display_data"
    }
   ],
   "source": [
    "vals =[]\n",
    "for idx, row in headlines_df.iterrows():\n",
    "    tfidf_keywords = top8_keywords[idx] \n",
    "    title_original_words = word_tokenize(row['title_original'].lower())\n",
    "    keywords = [stemmer.stem(word) for word in tfidf_keywords]\n",
    "    title_original_words = [stemmer.stem(word) for word in title_original_words]\n",
    "    vals.append(len(set(title_original_words) & set(keywords)) / len(title_original_words))\n",
    "hist(vals, bins=10)\n",
    "print(f\"Rouge-1 recall of TfIdf keywords and the original titles: \\nmean: {statistics.mean(vals)}, stdev{statistics.stdev(vals)}\")     "
   ]
  },
  {
   "cell_type": "code",
   "execution_count": null,
   "metadata": {},
   "outputs": [],
   "source": []
  }
 ],
 "metadata": {
  "kernelspec": {
   "display_name": "Python 3",
   "language": "python",
   "name": "python3"
  },
  "language_info": {
   "codemirror_mode": {
    "name": "ipython",
    "version": 3
   },
   "file_extension": ".py",
   "mimetype": "text/x-python",
   "name": "python",
   "nbconvert_exporter": "python",
   "pygments_lexer": "ipython3",
   "version": "3.7.0"
  }
 },
 "nbformat": 4,
 "nbformat_minor": 2
}
