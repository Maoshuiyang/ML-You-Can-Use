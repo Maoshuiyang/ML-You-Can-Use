{
 "cells": [
  {
   "cell_type": "markdown",
   "metadata": {},
   "source": [
    "# The Problem of Loanwords: detection and remedies"
   ]
  },
  {
   "cell_type": "markdown",
   "metadata": {},
   "source": [
    "# Detect Transliterated Greek\n",
    "### In this notebook you will:\n",
    "1. ETL (Extract-Transform-Load) data\n",
    "    1. Extract data using a Corpus Reader object\n",
    "    1. Transform data using a reusable, composable Scikit-Learn Pipeline object\n",
    "    1. Load the data into a data matrix and a classifier\n",
    "1. Train several classifiers and select the best algorithm for the data\n",
    "1. Use GridSearch to tune hyperparameters to achieve the best algorithm performance\n",
    "1. Use the classifier to predict whether or not a word is transliterated Greek\n",
    "1. Examine some unseen, untrained data to discover how well the classifier generalizes to unseen data\n",
    "1. Save the classifier for reuse\n",
    "1. Record the trained classifier model's provenance\n",
    "## Why? \n",
    "### If you desire to make a high quality word embedding, you will probably want to filter out Greek words which may appear transliterated into Latin. Often Latin authors will quote transliterated Greek words (sometimes transliterated Greek words are valid Latin words, but most often they can pollute a computational view of the language). \n",
    "#### The data sets are: the works of Vergil, Eutropius, and Plato's Apologia transliterated into Latin. We will use our classifier to examine the corpus of Cicero to detect the use of transliterated Greek words, and we'll assess the classifier's effectiveness on the entire latin library corpus"
   ]
  },
  {
   "cell_type": "code",
   "execution_count": 2,
   "metadata": {
    "collapsed": false
   },
   "outputs": [
    {
     "name": "stdout",
     "output_type": "stream",
     "text": [
      "Exception reporting mode: Plain\n",
      "Doctest mode is: ON\n"
     ]
    }
   ],
   "source": [
    "%load_ext autoreload\n",
    "%autoreload 2\n",
    "%doctest_mode on\n",
    "%matplotlib inline\n",
    "import warnings\n",
    "warnings.simplefilter('ignore') # quiet warnings for presentation purposes only"
   ]
  },
  {
   "cell_type": "markdown",
   "metadata": {},
   "source": [
    "### Imports"
   ]
  },
  {
   "cell_type": "code",
   "execution_count": 12,
   "metadata": {
    "collapsed": false
   },
   "outputs": [],
   "source": [
    "import datetime\n",
    "import glob\n",
    "import json\n",
    "import logging\n",
    "import multiprocessing\n",
    "import os\n",
    "from copy import deepcopy\n",
    "\n",
    "from tqdm import tqdm\n",
    "import numpy as np\n",
    "from sklearn.pipeline import Pipeline\n",
    "from sklearn.model_selection import train_test_split\n",
    "from sklearn.neighbors import KNeighborsClassifier\n",
    "from sklearn.naive_bayes import MultinomialNB, GaussianNB\n",
    "from sklearn.ensemble import BaggingClassifier, ExtraTreesClassifier, RandomForestClassifier\n",
    "from sklearn.model_selection import GridSearchCV\n",
    "from sklearn.tree import DecisionTreeClassifier\n",
    "from sklearn.utils.extmath import density\n",
    "from sklearn.model_selection import cross_val_score\n",
    "from sklearn.dummy import DummyClassifier\n",
    "from sklearn.externals.joblib import dump, load\n",
    "import sklearn\n",
    "from sklearn.preprocessing import FunctionTransformer, LabelEncoder\n",
    "from cltk.prosody.latin.scansion_constants import ScansionConstants\n",
    "from cltk.prosody.latin.string_utils import remove_punctuation_dict\n",
    "from cltk.corpus.readers import get_corpus_reader\n",
    "from cltk.utils.featurization import word_to_features\n",
    "from cltk.utils.file_operations import md5\n",
    "from cltk.utils.matrix_corpus_fun import (\n",
    "    distinct_words,\n",
    "    separate_camel_cases,\n",
    "    drop_empty_lists,\n",
    "    drop_non_lower,\n",
    "    drop_arabic_numeric,\n",
    "    drop_all_caps,\n",
    "    drop_empty_strings,\n",
    "    jv_transform,\n",
    "    splice_hyphens,\n",
    "    accept_editorial,\n",
    "    profile_chars,\n",
    "    demacronize,\n",
    "    drop_enclitics,\n",
    "    drop_fringe_punctuation,\n",
    "    divide_separate_words,\n",
    "    drop_all_punctuation)\n",
    "from building_language_model.aeoe_replacer import aeoe_transform"
   ]
  },
  {
   "cell_type": "markdown",
   "metadata": {},
   "source": [
    "### Turn on logging, primarily so that library methods may report warnings"
   ]
  },
  {
   "cell_type": "code",
   "execution_count": 13,
   "metadata": {
    "collapsed": true
   },
   "outputs": [],
   "source": [
    "LOG = logging.getLogger('make_model')\n",
    "LOG.addHandler(logging.NullHandler())\n",
    "logging.basicConfig(level=logging.INFO)"
   ]
  },
  {
   "cell_type": "markdown",
   "metadata": {},
   "source": [
    "### Define a corpus reader and remap the _fileids to the text directory containing the corpus of Livy"
   ]
  },
  {
   "cell_type": "code",
   "execution_count": 18,
   "metadata": {
    "collapsed": false
   },
   "outputs": [
    {
     "name": "stderr",
     "output_type": "stream",
     "text": [
      "INFO:make_model:available good files 36\n"
     ]
    },
    {
     "data": {
      "text/plain": [
       "['eutropius/eutropius1.txt', 'eutropius/eutropius10.txt', 'eutropius/eutropius2.txt', 'eutropius/eutropius3.txt', 'eutropius/eutropius4.txt', 'eutropius/eutropius5.txt', 'eutropius/eutropius6.txt', 'eutropius/eutropius7.txt', 'eutropius/eutropius8.txt', 'eutropius/eutropius9.txt', 'vergil/aen1.txt', 'vergil/aen10.txt', 'vergil/aen11.txt', 'vergil/aen12.txt', 'vergil/aen2.txt', 'vergil/aen3.txt', 'vergil/aen4.txt', 'vergil/aen5.txt', 'vergil/aen6.txt', 'vergil/aen7.txt', 'vergil/aen8.txt', 'vergil/aen9.txt', 'vergil/ec1.txt', 'vergil/ec10.txt', 'vergil/ec2.txt', 'vergil/ec3.txt', 'vergil/ec4.txt', 'vergil/ec5.txt', 'vergil/ec6.txt', 'vergil/ec7.txt', 'vergil/ec8.txt', 'vergil/ec9.txt', 'vergil/geo1.txt', 'vergil/geo2.txt', 'vergil/geo3.txt', 'vergil/geo4.txt']"
      ]
     },
     "execution_count": 18,
     "metadata": {},
     "output_type": "execute_result"
    }
   ],
   "source": [
    "reader = get_corpus_reader('latin_text_latin_library', language='latin')\n",
    "ALL_FILE_IDS = list(reader.fileids())\n",
    "good_files = [ file for file in ALL_FILE_IDS\n",
    "              if 'vergil' in file or\n",
    "              'eutropius' in file]\n",
    "\n",
    "LOG.info('available good files %s', len(good_files))\n",
    "reader._fileids = good_files\n",
    "good_files\n",
    "                   "
   ]
  },
  {
   "cell_type": "markdown",
   "metadata": {},
   "source": [
    "### Define a custom Scikit-learn Pipeline, and call the CorpusReader `sents()` method to process the texts\n",
    "#### The functions used in the pipelines are doctest documented in the `corpus_cleaning` module\n",
    "#### The functions used and their order was developed iteratively by running the pipelines on actual data and carefully inspecting the results."
   ]
  },
  {
   "cell_type": "code",
   "execution_count": 20,
   "metadata": {
    "collapsed": false
   },
   "outputs": [
    {
     "name": "stderr",
     "output_type": "stream",
     "text": [
      "100%|██████████| 6580/6580 [00:00<00:00, 38023.29it/s] | 3897/6580 [00:00<00:00, 38966.14it/s]\n"
     ]
    }
   ],
   "source": [
    "process_text_model = Pipeline([\n",
    "    ('separate_camel_cases', FunctionTransformer(separate_camel_cases, validate=False)),\n",
    "    ('splice_hyphens', FunctionTransformer(splice_hyphens, validate=False)),\n",
    "    ('jv_transform', FunctionTransformer(jv_transform, validate=False)),\n",
    "    ('aeoe_transform', FunctionTransformer(aeoe_transform, validate=False)),\n",
    "    ('accept_editorial', FunctionTransformer(accept_editorial, validate=False)),\n",
    "    ('drop_enclitics', FunctionTransformer(drop_enclitics, validate=False)),\n",
    "    ('drop_fringe_punctuation', FunctionTransformer(drop_fringe_punctuation, validate=False)),\n",
    "    ('drop_all_punctuation', FunctionTransformer(drop_all_punctuation, validate=False)),\n",
    "    ('drop_non_lower', FunctionTransformer(drop_non_lower, validate=False)),\n",
    "    ('drop_arabic_numeric', FunctionTransformer(drop_arabic_numeric, validate=False)),\n",
    "    ('drop_all_caps', FunctionTransformer(drop_all_caps, validate=False)),\n",
    "    ('divide_separate_words', FunctionTransformer(divide_separate_words, validate=False)),\n",
    "    ('drop_empty_lists', FunctionTransformer(drop_empty_lists, validate=False)),\n",
    "    ('drop_empty_strings', FunctionTransformer(drop_empty_strings, validate=False))])\n",
    "\n",
    "X = process_text_model.fit_transform(tqdm(list(reader.sents())))"
   ]
  },
  {
   "cell_type": "markdown",
   "metadata": {},
   "source": [
    "### Analyze the resulting matrix, by profiling the character occurences and go back and adjust the pipeline as necessary, and turn the output into a distinct set of words"
   ]
  },
  {
   "cell_type": "code",
   "execution_count": 22,
   "metadata": {
    "collapsed": false
   },
   "outputs": [
    {
     "name": "stdout",
     "output_type": "stream",
     "text": [
      "Character distribution profile, total chars: 590072\n",
      "Counter({'e': 69370, 'i': 59205, 'u': 56178, 'a': 55052, 't': 47491, 's': 44518, 'r': 39859, 'n': 35666, 'm': 30375, 'o': 29541, 'c': 22855, 'l': 19290, 'p': 15088, 'd': 14245, 'q': 9674, 'b': 8559, 'g': 7453, 'f': 5935, 'h': 4656, 'x': 2791, 'A': 1653, 'y': 1152, 'T': 1088, 'P': 987, 'C': 915, 'I': 898, 'M': 690, 'S': 685, 'R': 543, 'D': 530, 'L': 511, 'H': 508, 'N': 383, 'E': 348, 'U': 290, 'G': 267, 'O': 222, 'B': 198, 'F': 159, 'Q': 148, 'z': 39, 'Z': 22, 'K': 13, 'X': 12, 'k': 10})\n",
      "Number of distinct words in Eutropius/Vergil sample 22899\n"
     ]
    }
   ],
   "source": [
    "char_count = profile_chars(X)\n",
    "print('Character distribution profile, total chars:', sum(char_count.values()))\n",
    "print(char_count)\n",
    "distinct_good_latin = distinct_words(X)\n",
    "print('Number of distinct words in Eutropius/Vergil sample', len(distinct_good_latin))"
   ]
  },
  {
   "cell_type": "markdown",
   "metadata": {},
   "source": [
    "### Load the transliterated Greek examples, profile the raw character counts, and go back and tune the pipeline if necessary"
   ]
  },
  {
   "cell_type": "code",
   "execution_count": 23,
   "metadata": {
    "collapsed": false
   },
   "outputs": [
    {
     "name": "stdout",
     "output_type": "stream",
     "text": [
      "Unprocessed character distribution profile of transliterated Greek Counter({'i': 4480, 'a': 4459, 'e': 4386, 'o': 4298, 't': 3851, 'n': 3647, 's': 2523, 'h': 2279, 'u': 2200, 'ō': 1544, 'p': 1518, 'k': 1503, 'ē': 1447, 'm': 1435, 'l': 1292, 'r': 1181, 'd': 1092, 'g': 836, ',': 805, '.': 263, \"'\": 205, 'b': 170, ':': 138, 'x': 126, 'z': 110, ';': 82, 'A': 74, '—': 53, '’': 43, 'M': 36, '‘': 32, 'S': 24, 'D': 11, 'K': 11, 'H': 11, 'P': 10, 'T': 9, 'L': 7, 'E': 3, 'O': 3, 'G': 1, 'Ē': 1, 'N': 1, 'R': 1})\n"
     ]
    }
   ],
   "source": [
    "transliterated_greek_file = 'greek.transliterated.plato.apologia.txt'   \n",
    "greek_transliterated_X = []\n",
    "\n",
    "with open(transliterated_greek_file, 'rt') as reader:\n",
    "    greek_transliterated_X.append(reader.read().split())\n",
    "\n",
    "print('Unprocessed character distribution profile of transliterated Greek',\n",
    "      profile_chars(greek_transliterated_X))"
   ]
  },
  {
   "cell_type": "markdown",
   "metadata": {},
   "source": [
    "### Process the transliterated Greek examples with another custom Scikit-learn Pipeline, analyze character profiles for tuning, create a set distinct words, with and without macrons"
   ]
  },
  {
   "cell_type": "code",
   "execution_count": 24,
   "metadata": {
    "collapsed": false
   },
   "outputs": [
    {
     "name": "stdout",
     "output_type": "stream",
     "text": [
      "Character distribution profile of transliterated Greek Counter({'i': 4480, 'a': 4459, 'e': 4386, 'o': 4298, 't': 3851, 'n': 3647, 's': 2523, 'h': 2279, 'u': 2200, 'ō': 1544, 'p': 1518, 'k': 1503, 'ē': 1447, 'm': 1435, 'l': 1292, 'r': 1181, 'd': 1092, 'g': 836, 'b': 170, 'x': 126, 'z': 110, 'A': 74, 'M': 36, 'S': 24, 'D': 11, 'K': 11, 'H': 11, 'P': 10, 'T': 9, 'L': 7, 'E': 3, 'O': 3, 'G': 1, 'Ē': 1, 'N': 1, 'R': 1})\n",
      "distinct_transliterated_greek_examples 2406\n",
      "distinct_transliterated_greek_examples with & w/out macrons 3356\n"
     ]
    }
   ],
   "source": [
    "process_greek_transliterated_model = Pipeline([\n",
    "    ('splice_hyphens', FunctionTransformer(splice_hyphens, validate=False)),\n",
    "    ('divide_separate_words', FunctionTransformer(divide_separate_words, validate=False)),\n",
    "    ('drop_fringe_punctuation', FunctionTransformer(drop_fringe_punctuation, validate=False)),\n",
    "    ('drop_all_punctuation', FunctionTransformer(drop_all_punctuation, validate=False)),\n",
    "    ('drop_empty_strings', FunctionTransformer(drop_empty_strings, validate=False)),\n",
    "    ('drop_empty_lists', FunctionTransformer(drop_empty_lists, validate=False))])\n",
    "\n",
    "greek_X = process_greek_transliterated_model.fit_transform(greek_transliterated_X)\n",
    "print('Character distribution profile of transliterated Greek', profile_chars(greek_X))\n",
    "distinct_transliterated_greek_examples = distinct_words(greek_X)\n",
    "print('distinct_transliterated_greek_examples', len(distinct_transliterated_greek_examples))\n",
    "demarcronized_greek_X = demacronize(greek_X)\n",
    "distinct_transliterated_greek_examples = distinct_transliterated_greek_examples | distinct_words(\n",
    "    demarcronized_greek_X)\n",
    "print('distinct_transliterated_greek_examples with & w/out macrons',\n",
    "      len(distinct_transliterated_greek_examples))"
   ]
  },
  {
   "cell_type": "markdown",
   "metadata": {},
   "source": [
    "### Remove any words from the transliterated Greek words which have also appear in the Latin corpus"
   ]
  },
  {
   "cell_type": "code",
   "execution_count": 27,
   "metadata": {
    "collapsed": false
   },
   "outputs": [
    {
     "name": "stdout",
     "output_type": "stream",
     "text": [
      "Shared_words: {'lego', 'Orphei', 'dia', 'ito', 'arista', 'heroas', 'hoste', 'ei', 'par', 'esto', 'tonde', 'deo', 'para', 'pater', 'Rhadamanthus', 'polo', 'ara', 'de', 'te', 'Troia', 'meta', 'o', 'iste', 'se', 'tot', 'ergo', 'hostis', 'en', 'duo', 'ne', 'hora', 'ex', 'no', 'porro', 'aedes', 'asto', 'pateras', 'pro', 'omen', 'Di', 'horas', 'an', 'dei', 'este', 'lege', 'di', 'ego', 'hos', 'Salamina', 'Minos', 'ea', 'me', 'nux'}\n",
      "Number of distinct transliterated Greek without matching words in the Latin corpus 3303\n"
     ]
    }
   ],
   "source": [
    "shared_words = distinct_transliterated_greek_examples & distinct_livy\n",
    "print('Shared_words:', shared_words)\n",
    "only_greek_transliterated = distinct_transliterated_greek_examples - shared_words\n",
    "print('Number of distinct transliterated Greek without matching words in the Latin corpus',\n",
    "      len(only_greek_transliterated))\n",
    "# compare with Livy, should probably add some, e.g.: eis"
   ]
  },
  {
   "cell_type": "markdown",
   "metadata": {},
   "source": [
    "### Create a simple data matrix of the single words, transliterated Greek examples followed by the Latin words"
   ]
  },
  {
   "cell_type": "code",
   "execution_count": 28,
   "metadata": {
    "collapsed": false
   },
   "outputs": [
    {
     "data": {
      "text/plain": [
       "26202"
      ]
     },
     "execution_count": 28,
     "metadata": {},
     "output_type": "execute_result"
    }
   ],
   "source": [
    "X = [list(only_greek_transliterated) + list(distinct_good_latin)]\n",
    "len(X[0])"
   ]
  },
  {
   "cell_type": "markdown",
   "metadata": {},
   "source": [
    "### Before we transform our data matrix into a data feature matrix, let's check on the max word lengths"
   ]
  },
  {
   "cell_type": "code",
   "execution_count": 30,
   "metadata": {
    "collapsed": false
   },
   "outputs": [
    {
     "name": "stdout",
     "output_type": "stream",
     "text": [
      "Max word length in Eutropius/Vergil sample 17\n",
      "Max word length in transliterated Greek sample 18\n"
     ]
    }
   ],
   "source": [
    "def get_max_word_len(col):\n",
    "    max_word = 0\n",
    "    for word in col:\n",
    "        max_word = max(len(word), max_word)\n",
    "    return max_word\n",
    "\n",
    "print('Max word length in Eutropius/Vergil sample', get_max_word_len(distinct_livy))\n",
    "print('Max word length in transliterated Greek sample', get_max_word_len(only_greek_transliterated))\n",
    "max_len = max(20, max(get_max_word_len(only_greek_transliterated), get_max_word_len(distinct_livy)))\n",
    "# for testing the feature making function below set \n",
    "# max_len=17"
   ]
  },
  {
   "cell_type": "code",
   "execution_count": 31,
   "metadata": {
    "collapsed": true
   },
   "outputs": [],
   "source": [
    "# This method is included in corpus_cleaning.py but we include it here for easy reference\n",
    "def word_to_features(word, max_word_length=20):\n",
    "    \"\"\"\n",
    "    Convert a single word into an array of numbers based on character ordinals, with padding\n",
    "    :param word: a single word\n",
    "    :param max_word_length: the maximum word length for the feature array\n",
    "    :return: a list of integers padded to the max word length\n",
    "\n",
    "    >>> word_to_features('far', 20)\n",
    "    [116, 114, 97, 32, 32, 32, 32, 32, 32, 32, 32, 32, 32, 32, 32, 32, 32, 32, 32, 32]\n",
    "    \"\"\"\n",
    "    if len(word) > max_word_length:\n",
    "        LOG.warning('Excessive word length {} for {}, truncating to {}'.format(len(word), word,\n",
    "                                                                               max_word_length))\n",
    "        word = word[:max_word_length]\n",
    "    word = list(word)\n",
    "    word.reverse() #: encourage aligning on word endings if possible\n",
    "    return [ord(c) for c in \"\".join(word).ljust(max_word_length, ' ')]\n"
   ]
  },
  {
   "cell_type": "code",
   "execution_count": 32,
   "metadata": {
    "collapsed": false
   },
   "outputs": [
    {
     "name": "stdout",
     "output_type": "stream",
     "text": [
      "y shape (26202,)\n",
      "X shape (26202, 20)\n"
     ]
    }
   ],
   "source": [
    "all_y = np.array([1] * len(only_greek_transliterated) + [0] * len(distinct_livy), dtype=float)\n",
    "print('y shape', all_y.shape)\n",
    "# We use a label encoder to automatically capture the range of values for provenance\n",
    "label_encoder = LabelEncoder()\n",
    "label_encoder.fit(all_y)\n",
    "all_words = list(only_greek_transliterated) + list(distinct_livy)\n",
    "all_X = np.array([word_to_features(word, max_len) for word in all_words])\n",
    "print('X shape', all_X.shape)\n",
    "num_samples = all_y.shape[0] # to be used later by model provenance\n",
    "num_features = all_X.shape[1] # to be used later by model provenance"
   ]
  },
  {
   "cell_type": "markdown",
   "metadata": {},
   "source": [
    "### Train a DummyClassifier to show the baseline which we must improve above"
   ]
  },
  {
   "cell_type": "code",
   "execution_count": 33,
   "metadata": {
    "collapsed": false
   },
   "outputs": [
    {
     "name": "stdout",
     "output_type": "stream",
     "text": [
      "Dummy classifier: 0.7742329415356434\n"
     ]
    }
   ],
   "source": [
    "dummy = DummyClassifier(strategy='stratified', random_state=0)\n",
    "features_train, features_test, target_train, target_test = train_test_split(all_X, all_y,\n",
    "                                                                            random_state=0)\n",
    "dummy.fit(features_train, target_train)\n",
    "dummy_score = dummy.score(features_test, target_test)\n",
    "print('Dummy classifier: {}'.format(dummy_score))"
   ]
  },
  {
   "cell_type": "markdown",
   "metadata": {},
   "source": [
    "### Train and classify the data using several classifiers, printing out the cross validation score results"
   ]
  },
  {
   "cell_type": "code",
   "execution_count": 35,
   "metadata": {
    "collapsed": false
   },
   "outputs": [
    {
     "name": "stderr",
     "output_type": "stream",
     "text": [
      "  0%|          | 0/6 [00:00<?, ?it/s] 33%|███▎      | 2/6 [00:00<00:00, 14.13it/s]"
     ]
    },
    {
     "name": "stdout",
     "output_type": "stream",
     "text": [
      "<class 'sklearn.naive_bayes.MultinomialNB'> 0.7741388912184812 [0.778859   0.76874642 0.78172105 0.7730916  0.76827639]\n",
      "<class 'sklearn.naive_bayes.GaussianNB'> 0.8919550476176541 [0.89105133 0.89047892 0.89601221 0.88244275 0.89979004]\n"
     ]
    },
    {
     "name": "stderr",
     "output_type": "stream",
     "text": [
      "\r",
      " 50%|█████     | 3/6 [00:01<00:01,  2.47it/s]"
     ]
    },
    {
     "name": "stdout",
     "output_type": "stream",
     "text": [
      "<class 'sklearn.neighbors.classification.KNeighborsClassifier'> 0.9197773125067078 [0.92081664 0.92043503 0.91566495 0.91946565 0.92250429]\n"
     ]
    },
    {
     "name": "stderr",
     "output_type": "stream",
     "text": [
      "\r",
      " 67%|██████▋   | 4/6 [00:02<00:01,  1.97it/s]"
     ]
    },
    {
     "name": "stdout",
     "output_type": "stream",
     "text": [
      "<class 'sklearn.ensemble.bagging.BaggingClassifier'> 0.956949732157588 [0.95401641 0.95745087 0.96126693 0.95629771 0.95571674]\n"
     ]
    },
    {
     "name": "stderr",
     "output_type": "stream",
     "text": [
      "\r",
      " 83%|████████▎ | 5/6 [00:02<00:00,  2.34it/s]"
     ]
    },
    {
     "name": "stdout",
     "output_type": "stream",
     "text": [
      "<class 'sklearn.ensemble.forest.ExtraTreesClassifier'> 0.9439356081672641 [0.94123259 0.94428544 0.94504865 0.94561069 0.94350067]\n"
     ]
    },
    {
     "name": "stderr",
     "output_type": "stream",
     "text": [
      "\r",
      "100%|██████████| 6/6 [00:02<00:00,  2.59it/s]"
     ]
    },
    {
     "name": "stdout",
     "output_type": "stream",
     "text": [
      "<class 'sklearn.ensemble.forest.RandomForestClassifier'> 0.9520266214577967 [0.95000954 0.95153597 0.95306239 0.95343511 0.95209009]\n"
     ]
    },
    {
     "name": "stderr",
     "output_type": "stream",
     "text": [
      "\n"
     ]
    }
   ],
   "source": [
    "classifiers = [\n",
    "    MultinomialNB,\n",
    "    GaussianNB,\n",
    "    KNeighborsClassifier,\n",
    "    BaggingClassifier,\n",
    "    ExtraTreesClassifier,\n",
    "    RandomForestClassifier\n",
    "]\n",
    "for cls in tqdm(classifiers):\n",
    "    scores = cross_val_score(cls(), all_X, all_y,\n",
    "                             scoring='accuracy',\n",
    "                             n_jobs=multiprocessing.cpu_count(),\n",
    "                             cv=5)\n",
    "    print('{} {} {}'.format(str(cls), scores.mean(), scores))"
   ]
  },
  {
   "cell_type": "markdown",
   "metadata": {},
   "source": [
    "#### Note: Training on 10% of Livy yielded a dummy classifier of 50%, and a BaggingClassifier with 90%. By using more data, the dummy heuristic goes up, but so does the ceiling of the classifier's ultimate score.\n",
    "### Run Grid Search to optimize one of the best classifiers"
   ]
  },
  {
   "cell_type": "code",
   "execution_count": 36,
   "metadata": {
    "collapsed": false
   },
   "outputs": [
    {
     "name": "stdout",
     "output_type": "stream",
     "text": [
      "Best score: %s 0.9667964277536066\n",
      "Best params %s {'max_features': 0.7, 'max_samples': 1.0, 'n_estimators': 100}\n"
     ]
    }
   ],
   "source": [
    "grids = GridSearchCV(cv=5, error_score='raise',\n",
    "                     estimator=BaggingClassifier(\n",
    "                         base_estimator=DecisionTreeClassifier(class_weight=None,\n",
    "                                                               criterion='gini',\n",
    "                                                               max_depth=None,\n",
    "                                                               max_features=None,\n",
    "                                                               max_leaf_nodes=None,\n",
    "                                                               min_samples_leaf=1,\n",
    "                                                               min_samples_split=2,\n",
    "                                                               min_weight_fraction_leaf=0.0,\n",
    "                                                               presort=False,\n",
    "                                                               random_state=1)), n_jobs=-1,\n",
    "                     param_grid={\n",
    "                         # Here's how to test variations on the super class estimator\n",
    "                         #     'base_estimator__criterion': ['gini'], # 'entropy'],\n",
    "                         'n_estimators': [10, 100, 200],\n",
    "                         # Here are some other ranges tested\n",
    "                     #  150, 250, 300], # 50, 70, 100, 150, 200, 250, 300],\n",
    "                         'max_features': [0.2, 0.4, 0.7, 1.0],\n",
    "                         'max_samples': [0.5, 1.0]  # 0.6, 0.8,\n",
    "                     })\n",
    "grids.fit(all_X, all_y)\n",
    "print('Best score: %s', grids.best_score_)\n",
    "print('Best params %s', grids.best_params_)\n",
    "\n",
    "# Best score: %s 0.9589360709286048\n",
    "# Best params %s {'base_estimator__criterion': 'gini', 'max_features': 0.4, 'max_samples': 1.0, 'n_estimators': 200}\n"
   ]
  },
  {
   "cell_type": "markdown",
   "metadata": {},
   "source": [
    "### Using the best parameters from GridSearch, build the optimal classifier"
   ]
  },
  {
   "cell_type": "code",
   "execution_count": 37,
   "metadata": {
    "collapsed": false
   },
   "outputs": [
    {
     "data": {
      "text/plain": [
       "BaggingClassifier(base_estimator=None, bootstrap=True,\n",
       "         bootstrap_features=False, max_features=0.7, max_samples=1.0,\n",
       "         n_estimators=100, n_jobs=None, oob_score=False, random_state=None,\n",
       "         verbose=0, warm_start=False)"
      ]
     },
     "execution_count": 37,
     "metadata": {},
     "output_type": "execute_result"
    }
   ],
   "source": [
    "# First let's copy the parameters for the provenance file\n",
    "mdl_params = deepcopy(grids.best_params_)\n",
    "# Let's also remove the base_estimator parameters, since they aren't honored by the constructor, unlike GridSearch\n",
    "if 'base_estimator__criterion' in mdl_params:\n",
    "    del mdl_params['base_estimator__criterion']\n",
    "classifier = BaggingClassifier(**mdl_params)\n",
    "classifier.fit(all_X, all_y)"
   ]
  },
  {
   "cell_type": "markdown",
   "metadata": {},
   "source": [
    "### Let's look at Cicero for transliterated Greek words "
   ]
  },
  {
   "cell_type": "code",
   "execution_count": 42,
   "metadata": {
    "collapsed": false
   },
   "outputs": [
    {
     "name": "stderr",
     "output_type": "stream",
     "text": [
      "  0%|          | 0/138 [00:00<?, ?it/s]  1%|          | 1/138 [00:00<02:10,  1.05it/s]"
     ]
    },
    {
     "name": "stdout",
     "output_type": "stream",
     "text": [
      "Checking: acad.txt : 2,057 words\n",
      "found: 3 transliterated Greek words: ['eis', 'eita', 'philosophandi']\n"
     ]
    },
    {
     "name": "stderr",
     "output_type": "stream",
     "text": [
      "\r",
      "  1%|▏         | 2/138 [00:02<02:15,  1.00it/s]"
     ]
    },
    {
     "name": "stdout",
     "output_type": "stream",
     "text": [
      "Checking: adbrutum1.txt : 2,885 words\n",
      "found: 4 transliterated Greek words: ['ep', 'coniunctiori', 'emphatikôtero', 'med']\n"
     ]
    },
    {
     "name": "stderr",
     "output_type": "stream",
     "text": [
      "\r",
      "  2%|▏         | 3/138 [00:02<02:02,  1.10it/s]"
     ]
    },
    {
     "name": "stdout",
     "output_type": "stream",
     "text": [
      "Checking: adbrutum2.txt : 944 words\n",
      "found: 1 transliterated Greek words: ['discrimen']\n"
     ]
    },
    {
     "name": "stderr",
     "output_type": "stream",
     "text": [
      "\r",
      "  3%|▎         | 4/138 [00:03<02:14,  1.01s/it]"
     ]
    },
    {
     "name": "stdout",
     "output_type": "stream",
     "text": [
      "Checking: amic.txt : 3,358 words\n",
      "found: 2 transliterated Greek words: ['eis', 'dissimilitudo']\n"
     ]
    },
    {
     "name": "stderr",
     "output_type": "stream",
     "text": [
      "\r",
      "  4%|▎         | 5/138 [00:04<02:04,  1.07it/s]"
     ]
    },
    {
     "name": "stdout",
     "output_type": "stream",
     "text": [
      "Checking: arch.txt : 1,509 words\n",
      "found: 1 transliterated Greek words: ['eis']\n"
     ]
    },
    {
     "name": "stderr",
     "output_type": "stream",
     "text": [
      "\r",
      "  4%|▍         | 6/138 [00:05<02:13,  1.01s/it]"
     ]
    },
    {
     "name": "stdout",
     "output_type": "stream",
     "text": [
      "Checking: att1.txt : 3,642 words\n",
      "found: 41 transliterated Greek words: ['tauta', 'periodoi', 'anabolai', 'hystero', 'eis', 'aretes', 'kataskeuai', 'oude', 'aner', 'Moysai', 'kai', 'to', 'epi', 'eisi', 'ta', 'dissimilitudo', 'kampai', 'chrestomathe', 'hepei', 'onar', 'ouch', 'pakei', 'Amaltheioi', 'melei', 'aphelestatos', 'admurmurante', 'lekythous', 'hoppos', 'moi', 'topothesiai', 'soloika', 'istorika', 'politikois', 'oud', 'anathema', 'tois', 'constituisti', 'agona', 'politikos', 'pros', 'oyde']\n"
     ]
    },
    {
     "name": "stderr",
     "output_type": "stream",
     "text": [
      "\r",
      "  5%|▌         | 7/138 [00:07<02:17,  1.05s/it]"
     ]
    },
    {
     "name": "stdout",
     "output_type": "stream",
     "text": [
      "Checking: att10.txt : 2,415 words\n",
      "found: 38 transliterated Greek words: ['aphraktoi', 'aretÍ', 'ho', 'perscripsisti', 'ma', 'akimoan', 'ero', 'ethous', 'times', 'kai', 'tou', 'eti', 'to', 'achnumenoi', 'akleios', 'genesomenou', 'thumikotero', 'ta', 'Korukaiioi', 'protetuchthai', 'puthesthai', 'Lakonike', 'ha', 'anethopoieto', 'politikotato', 'mega', 'sumpatheia', 'malista', 'accommodaturi', 'politikou', 'toi', 'zelotupiai', 'polles', 'dein', 'ginesthai', 'Íthos', 'eikastes', 'ge']\n"
     ]
    },
    {
     "name": "stderr",
     "output_type": "stream",
     "text": [
      "\r",
      "  6%|▌         | 8/138 [00:08<02:21,  1.09s/it]"
     ]
    },
    {
     "name": "stdout",
     "output_type": "stream",
     "text": [
      "Checking: att11.txt : 2,098 words\n",
      "found: 6 transliterated Greek words: ['ero', 'cistophoro', 'Epheso', 'Ephesi', 'intellexisti', 'med']\n"
     ]
    },
    {
     "name": "stderr",
     "output_type": "stream",
     "text": [
      "\r",
      "  7%|▋         | 9/138 [00:09<02:34,  1.20s/it]"
     ]
    },
    {
     "name": "stdout",
     "output_type": "stream",
     "text": [
      "Checking: att12.txt : 2,807 words\n",
      "found: 29 transliterated Greek words: ['lesxh', 'krhnh', 'panta', 'politikoi', 'ero', 'mhlwsh', 'eis', 'loghqh', 'meqarmosomai', 'ktopismoi', 'Qeopompou', 'nereuqestero', 'perantologiai', 'gerontikwtero', 'bebiwtai', 'au', 'hdou=i', 'proi', 'makarwnnhsoi', 'Alfeiou', 'melei', 'Peirhnh', 'timh', 'gar', 'poi', 'med', 'Skeyai', 'tetufw=sqai', 'oi']\n"
     ]
    },
    {
     "name": "stderr",
     "output_type": "stream",
     "text": [
      "\r",
      "  7%|▋         | 10/138 [00:11<02:44,  1.29s/it]"
     ]
    },
    {
     "name": "stdout",
     "output_type": "stream",
     "text": [
      "Checking: att13.txt : 2,952 words\n",
      "found: 62 transliterated Greek words: ['genesteroi', 'meroi', 'dunhai', 'spoudazei', 'zhlotupei=sqai', 'Arxidhmou', 'Emetikh', 'so', 'ke', 'eis', 'parakinduneuei', 'yuxh=i', 'poxh', 'kekepfwmai', 'kai', 'skoliai=i', 'skordou', 'tei=xoi', 'perioxai', 'to', 'Pronoiai', 'Panaitiou', 'intellexisti', 'kekrika', 'mou', 'ta', 'meiligma', 'ktenestero', 'ou', 'doi', 'au', 'logoisi', 'pote', 'logo', 'proi', 'filologwtera', 'deinoi', 'spoudh', 'filostorgotero', 'zhlotupei=i', 'th', 'moi', 'op', 'deomai', 'pompeu=sai', 'ambulatiuncula', 'autoi=i', 'kata', 'dika', 'gar', 'polugrafwtatoi', 'mh', 'med', 'nooi', 'difqerai', 'toi=i', 'Faidrou', 'probolh', 'Akadhmikh', 'safesteroi', 'oi', 'filaitioi']\n"
     ]
    },
    {
     "name": "stderr",
     "output_type": "stream",
     "text": [
      "\r",
      "  8%|▊         | 11/138 [00:12<02:39,  1.25s/it]"
     ]
    },
    {
     "name": "stdout",
     "output_type": "stream",
     "text": [
      "Checking: att14.txt : 2,596 words\n",
      "found: 33 transliterated Greek words: ['ph=ma', 'naqewrhsii', 'pepinwmenai', 'gh', 'polesqai', 'dedotai', 'newterismou', 'su', 'kalh=i', 'politeuesqai', 'sorowntes', 'sithsai', 'animaduertendi', 'doih=', 'ou', 'lih', 'bebiwtai', 'Lh=roi', 'logo', 'Akolasia', 'mega', 'phratou', 'posoloika', 'phnemioi', 'Futeolaizo', 'toi', 'kata', 'pepoliteumeqa', 'pinoi', 'mh', 'sqloi=i', 'furmoi', 'telou=i']\n"
     ]
    },
    {
     "name": "stderr",
     "output_type": "stream",
     "text": [
      "\r",
      "  9%|▊         | 12/138 [00:13<02:36,  1.24s/it]"
     ]
    },
    {
     "name": "stdout",
     "output_type": "stream",
     "text": [
      "Checking: att15.txt : 2,422 words\n",
      "found: 33 transliterated Greek words: ['toutou', 'nantifwnhsia', 'speisasqai', 'quous', 'Persikh', 'metewroi', 'prokoph', 'perattikoi', 'kai', 'tou', 'paregxeirhsii', 'semnw=i', 'to', 'tis', 'ta', 'congrediendi', 'dunatai', 'kaqhkontoi', 'filoi', 'ou', 'pepinwmenwi', 'doi', 'au', 'Skopoi', 'Epoxh', 'htoreuousi', 'th', 'contumelioso', 'plou=i', 'dein', 'soi', 'koi', 'oi']\n"
     ]
    },
    {
     "name": "stderr",
     "output_type": "stream",
     "text": [
      "\r",
      "  9%|▉         | 13/138 [00:14<02:32,  1.22s/it]"
     ]
    },
    {
     "name": "stdout",
     "output_type": "stream",
     "text": [
      "Checking: att16.txt : 2,558 words\n",
      "found: 31 transliterated Greek words: ['mbrotoi', 'ep', 'rmainontei', 'peirazesqai', 'po', 'ero', 'eis', 'oph', 'nqh', 'tou', 'rmainonta', 'suntacomai', 'dolesxoi', 'ta', 'dunatai', 'kaqhkontoi', 'swqeih', 'sunagwgh', 'podexqai', 'doi', 'Lh=roi', 'nhsou', 'klogai', 'moi', 'skhptomai', 'kata', 'soi', 'toioutou', 'ge', 'discrimen', 'met']\n"
     ]
    },
    {
     "name": "stderr",
     "output_type": "stream",
     "text": [
      "\r",
      " 10%|█         | 14/138 [00:16<02:32,  1.23s/it]"
     ]
    },
    {
     "name": "stdout",
     "output_type": "stream",
     "text": [
      "Checking: att2.txt : 3,314 words\n",
      "found: 72 transliterated Greek words: ['phusai', 'suskeuazetai', 'dibaphoi', 'helikta', 'egoge', 'auliskois', 'hupo', 'ho', 'elencheie', 'politeiai', 'heis', 'contempsisti', 'anaphainesthai', 'ouden', 'eis', 'sophisteuei', 'apospasmatia', 'cistophoro', 'Sokratikos', 'utpote', 'kratounton', 'all', 'kai', 'kaloi', 'prospepontha', 'eti', 'opithe', 'aristokratikotatos', 'aselgous', 'to', 'ainigmois', 'smikroisi', 'epi', 'tis', 'epangellomai', 'he', 'aspazetai', 'Amaltheiai', 'idesthai', 'homologoumenos', 'ou', 'enturanneisthai', 'philosophei', 'prosthe', 'antherographeisthai', 'tas', 'apamunesthai', 'agathe', 'aphilodoxo', 'moi', 'toi', 'out', 'esophizeto', 'Theophrastou', 'dunamai', 'hote', 'anathesei', 'aideomai', 'kata', 'theioi', 'gar', 'politikoteros', 'amunesthai', 'Kurou', 'kat', 'akkizometha', 'ka', 'adikaiarchoi', 'semnoteros', 'politeuomai', 'hes', 'glukerotero']\n"
     ]
    },
    {
     "name": "stderr",
     "output_type": "stream",
     "text": [
      "\r",
      " 11%|█         | 15/138 [00:17<02:24,  1.17s/it]"
     ]
    },
    {
     "name": "stdout",
     "output_type": "stream",
     "text": [
      "Checking: att3.txt : 2,050 words\n",
      "found: 4 transliterated Greek words: ['ep', 'ero', 'eis', 'Epheso']\n"
     ]
    },
    {
     "name": "stderr",
     "output_type": "stream",
     "text": [
      "\r",
      " 12%|█▏        | 16/138 [00:18<02:21,  1.16s/it]"
     ]
    },
    {
     "name": "stdout",
     "output_type": "stream",
     "text": [
      "Checking: att4.txt : 2,778 words\n",
      "found: 32 transliterated Greek words: ['phthimenoisi', 'exoterikous', 'tauta', 'ho', 'politeiai', 'hupothesei', 'trisareiopagitas', 'houtos', 'philos', 'kai', 'Epheso', 'tode', 'empazeto', 'pote', 'ouk', 'Antiphonti', 'tagoi', 'eie', 'sumpatheia', 'ouch', 'nomenclatori', 'Phokulidou', 'emphilosophesai', 'porpapumnai', 'moi', 'toi', 'eukairotero', 'med', 'eidenai', 'opadoi', 'mepo', 'politikos']\n"
     ]
    },
    {
     "name": "stderr",
     "output_type": "stream",
     "text": [
      "\r",
      " 12%|█▏        | 17/138 [00:19<02:20,  1.16s/it]"
     ]
    },
    {
     "name": "stdout",
     "output_type": "stream",
     "text": [
      "Checking: att5.txt : 2,753 words\n",
      "found: 30 transliterated Greek words: ['hoiaper', 'glukupikro', 'sumphilodoxousi', 'spoudaiotero', 'panika', 'ero', 'eis', 'dialogous', 'endomuchoi', 'hodou', 'utpote', 'tou', 'Epheso', 'akroteleutio', 'Ariobarzanes', 'to', 'Ephesi', 'tis', 'pephusiomai', 'ta', 'he', 'politikotero', 'kena', 'sumpatheia', 'adorodoketo', 'dein', 'polemou', 'med', 'discrimen', 'erdoi']\n"
     ]
    },
    {
     "name": "stderr",
     "output_type": "stream",
     "text": [
      "\r",
      " 13%|█▎        | 18/138 [00:20<02:16,  1.13s/it]"
     ]
    },
    {
     "name": "stdout",
     "output_type": "stream",
     "text": [
      "Checking: att6.txt : 2,709 words\n",
      "found: 112 transliterated Greek words: ['Sipountioi', 'eiko', 'purous', 'anenasthai', 'tauta', 'dieulutesthai', 'hupo', 'anantiphoneto', 'ho', 'metaichmioi', 'halos', 'panta', 'parephthengeto', 'elathe', 'ero', 'so', 'huparchonto', 'prosanatrephomene', 'eis', 'touto', 'exasphalisai', 'akoinonoetos', 'schediazonta', 'katalogoi', 'pephurakenai', 'kai', 'tou', 'Epheso', 'noumeniai', 'paredoke', 'houxeleutheros', 'proekkeimenes', 'oistha', 'hemeras', 'Ariobarzanes', 'Phlious', 'palingenesia', 'edoxe', 'to', 'ainigmois', 'hemas', 'Ephesi', 'historikotatos', 'mou', 'mustikotero', 'periskepsamenos', 'kleronomesai', 'ta', 'apeleuthero', 'polukleous', 'onta', 'apognous', 'deuterou', 'turannoktonou', 'dissimilitudo', 'sphodra', 'ou', 'battarizo', 'lelethotos', 'Peloponneso', 'autou', 'Opountioi', 'hina', 'autika', 'ouk', 'opheilonta', 'emoi', 'hupodechthai', 'tas', 'pollou', 'hupomempsimoirous', 'akoinonoeto', 'opheilethento', 'depou', 'soizetai', 'autois', 'moi', 'toi', 'emes', 'mede', 'phuratou', 'xullogois', 'oichetai', 'ek', 'isodunamousa', 'xunaorou', 'heauto', 'Kamilloi', 'gar', 'psephous', 'tois', 'aidesthe', 'pephrontikenai', 'aphaireseos', 'dedoika', 'apeleutheros', 'ge', 'emou', 'exakanthizei', 'Krotoniatou', 'pros', 'heptalophou', 'kd', 'alogeuomenos', 'huparchousi', 'polla', 'met', 'paristoresai', 'kataskepsomenos', 'paradoxotato', 'tes', 'aphelos']\n"
     ]
    },
    {
     "name": "stderr",
     "output_type": "stream",
     "text": [
      "\r",
      " 14%|█▍        | 19/138 [00:21<02:21,  1.19s/it]"
     ]
    },
    {
     "name": "stdout",
     "output_type": "stream",
     "text": [
      "Checking: att7.txt : 3,058 words\n",
      "found: 59 transliterated Greek words: ['kalou', 'philosophotero', 'ho', 'elencheie', 'enscholazo', 'pou', 'eis', 'houtos', 'logou', 'times', 'meizo', 'hodou', 'hupekthemenos', 'all', 'kai', 'megiste', 'tou', 'apotripsai', 'phainoprosopei', 'phusike', 'dike', 'to', 'adulescentuli', 'achnumenoi', 'neotero', 'epi', 'tode', 'ta', 'antipoliteuomenou', 'aenigma', 'protetuchthai', 'ou', 'prosthe', 'oupote', 'episkopo', 'zetema', 'epeuthometha', 'emo', 'kako', 'Aideomai', 'theo', 'spondeiazonta', 'moi', 'kathodous', 'mede', 'praetermisisse', 'skaphos', 'aideomai', 'soi', 'gar', 'tois', 'empoliteuomai', 'sunapothanein', 'politikos', 'ametameletos', 'pros', 'discrimen', 'katathesei', 'tes']\n"
     ]
    },
    {
     "name": "stderr",
     "output_type": "stream",
     "text": [
      "\r",
      " 14%|█▍        | 20/138 [00:22<02:13,  1.13s/it]"
     ]
    },
    {
     "name": "stdout",
     "output_type": "stream",
     "text": [
      "Checking: att8.txt : 2,151 words\n",
      "found: 22 transliterated Greek words: ['sundiemereuome', 'ep', 'skopos', 'ho', 'ero', 'apolitikotato', 'kai', 'kaloi', 'to', 'kalo', 'Prothespizo', 'tauth', 'emoi', 'aprosphonetous', 'tektainestho', 'toi', 'aideomai', 'gar', 'emou', 'pros', 'polla', 'met']\n"
     ]
    },
    {
     "name": "stderr",
     "output_type": "stream",
     "text": [
      "\r",
      " 15%|█▌        | 21/138 [00:24<02:17,  1.18s/it]"
     ]
    },
    {
     "name": "stdout",
     "output_type": "stream",
     "text": [
      "Checking: att9.txt : 2,875 words\n",
      "found: 92 transliterated Greek words: ['anankais', 'kinduneusei', 'aparrÍsiasto', 'Korinthoi', 'pelorou', 'sunkinduneuteo', 'hupo', 'pantos', 'ho', 'meth', 'potmos', 'ero', 'aphemenoi', 'commeministi', 'su', 'oisth', 'philois', 'polemo', 'touto', 'oude', 'times', 'politikai', 'pos', 'all', 'kai', 'kinduneuseie', 'tou', 'huper', 'kairoi', 'dokimazonta', 'memigmenai', 'tropoi', 'to', 'tis', 'polemoi', 'mellei', 'hoti', 'airetai', 'he', 'logoi', 'esti', 'elapize', 'heautou', 'epeita', 'prourgou', 'autika', 'kindunou', 'pote', 'patho', 'logos', 'ouk', 'autoi', 'chanoi', 'aristois', 'Sophisteuo', 'dokosi', 'politike', 'tas', 'hetoimos', 'Byzantio', 'homos', 'turannoumene', 'anachoresanta', 'alaluktemai', 'hesuchazei', 'epei', 'hetairoi', 'moi', 'toi', 'prosptuxomai', 'eidos', 'politikois', 'soi', 'tous', 'polemou', 'bebouleusthai', 'gar', 'tois', 'kteinomenoi', 'poi', 'epamunai', 'megala', 'hupothesetai', 'ka', 'poieisthai', 'turannoumenes', 'pros', 'Hektora', 'turannoumenei', 'aischrou', 'autos', 'tes']\n"
     ]
    },
    {
     "name": "stderr",
     "output_type": "stream",
     "text": [
      "\r",
      " 16%|█▌        | 22/138 [00:24<02:07,  1.10s/it]"
     ]
    },
    {
     "name": "stdout",
     "output_type": "stream",
     "text": [
      "Checking: balbo.txt : 2,546 words\n",
      "found: 4 transliterated Greek words: ['O', 'eis', 'dissimilitudo', 'discrimen']\n"
     ]
    },
    {
     "name": "stderr",
     "output_type": "stream",
     "text": [
      "\r",
      " 17%|█▋        | 23/138 [00:27<03:00,  1.57s/it]"
     ]
    },
    {
     "name": "stdout",
     "output_type": "stream",
     "text": [
      "Checking: brut.txt : 6,779 words\n",
      "found: 19 transliterated Greek words: ['suauiloquenti', 'po', 'exclamationib', 'Hippias', 'pote', 'tropous', 'intellegenti', 'Gorgias', 'ma', 'ede', 'e', 'consideranti', 'Peitho', 'pop', 'dein', 'eis', 'arcessiuisti', 'con', 'instrumento']\n"
     ]
    },
    {
     "name": "stderr",
     "output_type": "stream",
     "text": [
      "\r",
      " 17%|█▋        | 24/138 [00:28<02:35,  1.37s/it]"
     ]
    },
    {
     "name": "stdout",
     "output_type": "stream",
     "text": [
      "Checking: caecilium.txt : 2,097 words\n",
      "found: 1 transliterated Greek words: ['discrimen']\n"
     ]
    },
    {
     "name": "stderr",
     "output_type": "stream",
     "text": [
      "\r",
      " 18%|█▊        | 25/138 [00:29<02:26,  1.30s/it]"
     ]
    },
    {
     "name": "stdout",
     "output_type": "stream",
     "text": [
      "Checking: caecina.txt : 3,114 words\n",
      "found: 4 transliterated Greek words: ['eis', 'praetereuntes', 'dissimilitudo', 'a']\n"
     ]
    },
    {
     "name": "stderr",
     "output_type": "stream",
     "text": [
      "\r",
      " 19%|█▉        | 26/138 [00:30<02:21,  1.26s/it]"
     ]
    },
    {
     "name": "stdout",
     "output_type": "stream",
     "text": [
      "Checking: cael.txt : 3,395 words\n",
      "found: 3 transliterated Greek words: ['constituitote', 'excluditote', 'percelebrata']\n"
     ]
    },
    {
     "name": "stderr",
     "output_type": "stream",
     "text": [
      "\r",
      " 20%|█▉        | 27/138 [00:31<02:05,  1.13s/it]"
     ]
    },
    {
     "name": "stdout",
     "output_type": "stream",
     "text": [
      "Checking: cat1.txt : 1,622 words\n",
      "found: 3 transliterated Greek words: ['times', 'transtulisti', 'discripsisti']\n"
     ]
    },
    {
     "name": "stderr",
     "output_type": "stream",
     "text": [
      "\r",
      " 20%|██        | 28/138 [00:32<01:52,  1.03s/it]"
     ]
    },
    {
     "name": "stdout",
     "output_type": "stream",
     "text": [
      "Checking: cat2.txt : 1,551 words\n",
      "found: 1 transliterated Greek words: ['deprehendero']\n"
     ]
    },
    {
     "name": "stderr",
     "output_type": "stream",
     "text": [
      "\r",
      " 21%|██        | 29/138 [00:33<01:43,  1.05it/s]"
     ]
    },
    {
     "name": "stdout",
     "output_type": "stream",
     "text": [
      "Checking: cat3.txt : 1,493 words\n",
      "found: 1 transliterated Greek words: ['inflammatos']\n"
     ]
    },
    {
     "name": "stderr",
     "output_type": "stream",
     "text": [
      "\r",
      " 22%|██▏       | 30/138 [00:33<01:36,  1.12it/s]"
     ]
    },
    {
     "name": "stdout",
     "output_type": "stream",
     "text": [
      "Checking: cat4.txt : 1,431 words\n",
      "found: 1 transliterated Greek words: ['discrimen']\n"
     ]
    },
    {
     "name": "stderr",
     "output_type": "stream",
     "text": [
      "\r",
      " 22%|██▏       | 31/138 [00:35<02:07,  1.19s/it]"
     ]
    },
    {
     "name": "stdout",
     "output_type": "stream",
     "text": [
      "Checking: cluentio.txt : 5,784 words\n",
      "found: 2 transliterated Greek words: ['praetermitti', 'eis']\n"
     ]
    },
    {
     "name": "stderr",
     "output_type": "stream",
     "text": [
      "\r",
      " 23%|██▎       | 32/138 [00:36<01:53,  1.07s/it]"
     ]
    },
    {
     "name": "stdout",
     "output_type": "stream",
     "text": [
      "Checking: compet.txt : 1,764 words\n",
      "found: 0 transliterated Greek words: []\n"
     ]
    },
    {
     "name": "stderr",
     "output_type": "stream",
     "text": [
      "\r",
      " 24%|██▍       | 33/138 [00:37<01:37,  1.07it/s]"
     ]
    },
    {
     "name": "stdout",
     "output_type": "stream",
     "text": [
      "Checking: consulatu.txt : 399 words\n",
      "found: 0 transliterated Greek words: []\n"
     ]
    },
    {
     "name": "stderr",
     "output_type": "stream",
     "text": [
      "\r",
      " 25%|██▍       | 34/138 [00:38<01:34,  1.10it/s]"
     ]
    },
    {
     "name": "stdout",
     "output_type": "stream",
     "text": [
      "Checking: deio.txt : 1,849 words\n",
      "found: 4 transliterated Greek words: ['animaduertisti', 'eis', 'praestitisti', 'discrimen']\n"
     ]
    },
    {
     "name": "stderr",
     "output_type": "stream",
     "text": [
      "\r",
      " 25%|██▌       | 35/138 [00:39<01:50,  1.07s/it]"
     ]
    },
    {
     "name": "stdout",
     "output_type": "stream",
     "text": [
      "Checking: divinatione1.txt : 5,124 words\n",
      "found: 19 transliterated Greek words: ['sapientissumi', 'poÎtae', 'Ueios', 'superstitiosi', 'direxÏt', 'Proi', 'mantikh', 'Lacedaemonia', 'Lacedaemonii', 'poÎtam', 'melancholici', 'poÎtarum', 'Peloponneso', 'App', 'dein', 'discrimen', 'BoÎthum', 'integrÏ', 'uigÏlantes']\n"
     ]
    },
    {
     "name": "stderr",
     "output_type": "stream",
     "text": [
      "\r",
      " 26%|██▌       | 36/138 [00:41<02:04,  1.22s/it]"
     ]
    },
    {
     "name": "stdout",
     "output_type": "stream",
     "text": [
      "Checking: divinatione2.txt : 5,013 words\n",
      "found: 22 transliterated Greek words: ['coŒrcenda', 'Ueios', 'philosophandi', 'sapientipotentes', 'superstitiosi', 'animaduertisti', 'poŒta', 'BoŒthus', 'zwdiakoi', 'filippizei', 'hippocentauri', 'Caune˝s', 'Ptol⁄maeus', 'dissimilitudo', 'Dissimilitudo', 'App', 'pot', 'yeudomeno', 'eis', 'poŒma', 'rizontei', 'Pythia']\n"
     ]
    },
    {
     "name": "stderr",
     "output_type": "stream",
     "text": [
      "\r",
      " 27%|██▋       | 37/138 [00:42<02:07,  1.26s/it]"
     ]
    },
    {
     "name": "stdout",
     "output_type": "stream",
     "text": [
      "Checking: domo.txt : 4,890 words\n",
      "found: 8 transliterated Greek words: ['contempsisti', 'ero', 'transtulisti', 'interroganti', 'dein', 'praegustatori', 'constituisti', 'discrimen']\n"
     ]
    },
    {
     "name": "stderr",
     "output_type": "stream",
     "text": [
      "\r",
      " 28%|██▊       | 38/138 [00:43<01:56,  1.17s/it]"
     ]
    },
    {
     "name": "stdout",
     "output_type": "stream",
     "text": [
      "Checking: fam1.txt : 2,655 words\n",
      "found: 3 transliterated Greek words: ['eis', 'praetermitti', 'to']\n"
     ]
    },
    {
     "name": "stderr",
     "output_type": "stream",
     "text": [
      "\r",
      " 28%|██▊       | 39/138 [00:44<01:57,  1.19s/it]"
     ]
    },
    {
     "name": "stdout",
     "output_type": "stream",
     "text": [
      "Checking: fam10.txt : 3,643 words\n",
      "found: 5 transliterated Greek words: ['ep', 'ero', 'eis', 'upote', 'discrimen']\n"
     ]
    },
    {
     "name": "stderr",
     "output_type": "stream",
     "text": [
      "\r",
      " 29%|██▉       | 40/138 [00:45<01:53,  1.16s/it]"
     ]
    },
    {
     "name": "stdout",
     "output_type": "stream",
     "text": [
      "Checking: fam11.txt : 2,597 words\n",
      "found: 6 transliterated Greek words: ['ep', 'ero', 'sxiamaxai', 'dissimilitudo', 'philosophoumena', 'ñrgano']\n"
     ]
    },
    {
     "name": "stderr",
     "output_type": "stream",
     "text": [
      "\r",
      " 30%|██▉       | 41/138 [00:46<01:52,  1.16s/it]"
     ]
    },
    {
     "name": "stdout",
     "output_type": "stream",
     "text": [
      "Checking: fam12.txt : 3,040 words\n",
      "found: 4 transliterated Greek words: ['contempsisti', 'eyurrhmon∞sterow', 'ßm', 'discrimen']\n"
     ]
    },
    {
     "name": "stderr",
     "output_type": "stream",
     "text": [
      "\r",
      " 30%|███       | 42/138 [00:48<02:03,  1.29s/it]"
     ]
    },
    {
     "name": "stdout",
     "output_type": "stream",
     "text": [
      "Checking: fam13.txt : 3,208 words\n",
      "found: 38 transliterated Greek words: ['Õxeow', 'ep', 'Mulaseïw', 'Éiaw', 'çcig≥nu', 'ﬂxìluce', 'treïw', 'ﬂn', 'sof≥w', 'Õllu', 'nefÉlh', 'Ephesi', 'Alabandeïw', 'pomnhmatismé', 'spoudeß', 'pote', 'sofistÊ', 'Öna', 'stêyessi', 'èss', 'xlei¥w', 'Ûstiw', 'peßroxo', 'πw', 'e', 'puyÉsyai', 'yumé', 'dioßxhsi', 'Õlximow', 'ge', 'ﬂssomÉnoisi', 'dioixêseiw', 'a', 'poloßmh', 'ﬂmé', 'èmmenai', 'èpeiye', 'hone']\n"
     ]
    },
    {
     "name": "stderr",
     "output_type": "stream",
     "text": [
      "\r",
      " 31%|███       | 43/138 [00:49<01:50,  1.16s/it]"
     ]
    },
    {
     "name": "stdout",
     "output_type": "stream",
     "text": [
      "Checking: fam14.txt : 1,351 words\n",
      "found: 2 transliterated Greek words: ['xolÿ', 'Íxrato']\n"
     ]
    },
    {
     "name": "stderr",
     "output_type": "stream",
     "text": [
      "\r",
      " 32%|███▏      | 44/138 [00:50<01:44,  1.12s/it]"
     ]
    },
    {
     "name": "stdout",
     "output_type": "stream",
     "text": [
      "Checking: fam15.txt : 2,733 words\n",
      "found: 15 transliterated Greek words: ['æd∞uw', 'communicauisti', 'Ètaraia', 'Èd∞spotoi', 'Epheso', 'Ariobarzanis', 'Èntimuxthrsai', 'Ariobarzanem', 'filxaloi', 'filodxaioi', 'dianohtixÂw', 'fil∆donoi', 'Íneu', 'ædonÿ', 'xal´w']\n"
     ]
    },
    {
     "name": "stderr",
     "output_type": "stream",
     "text": [
      "\r",
      " 33%|███▎      | 45/138 [00:51<01:38,  1.06s/it]"
     ]
    },
    {
     "name": "stdout",
     "output_type": "stream",
     "text": [
      "Checking: fam16.txt : 1,946 words\n",
      "found: 16 transliterated Greek words: ['spoudÿ', 'diarr∆dh', 'xroniâtera', 'Alyzia', 'Èxopa', 'suiht∆sei', 'yorubopoiei', 'Èfwmlhsa', 'Íxuro', 'Èxnduna', 'tr\\uf8ffci', 'polemiâtato', 'uerumtamen', 'xanê', 'filolagai', 'æmÁw']\n"
     ]
    },
    {
     "name": "stderr",
     "output_type": "stream",
     "text": [
      "\r",
      " 33%|███▎      | 46/138 [00:52<01:36,  1.05s/it]"
     ]
    },
    {
     "name": "stdout",
     "output_type": "stream",
     "text": [
      "Checking: fam2.txt : 2,286 words\n",
      "found: 9 transliterated Greek words: ['politiktero', 'ero', 'times', 'kumikéw', 'Ariobarzanis', 'Ariobarzanem', 'ambulatiuncula', 'med', 'discrimen']\n"
     ]
    },
    {
     "name": "stderr",
     "output_type": "stream",
     "text": [
      "\r",
      " 34%|███▍      | 47/138 [00:53<01:32,  1.02s/it]"
     ]
    },
    {
     "name": "stdout",
     "output_type": "stream",
     "text": [
      "Checking: fam3.txt : 2,541 words\n",
      "found: 12 transliterated Greek words: ['ero', 'ke', 'kai', 'Epheso', 'timÍsousi', 'to', 'Ephesi', 'hoi', 'beneuolentiori', 'emoige', 'malista', 'alloi']\n"
     ]
    },
    {
     "name": "stderr",
     "output_type": "stream",
     "text": [
      "\r",
      " 35%|███▍      | 48/138 [00:54<01:28,  1.01it/s]"
     ]
    },
    {
     "name": "stdout",
     "output_type": "stream",
     "text": [
      "Checking: fam4.txt : 2,340 words\n",
      "found: 3 transliterated Greek words: ['proposuero', 'eis', 'esthai']\n"
     ]
    },
    {
     "name": "stderr",
     "output_type": "stream",
     "text": [
      "\r",
      " 36%|███▌      | 49/138 [00:55<01:29,  1.01s/it]"
     ]
    },
    {
     "name": "stdout",
     "output_type": "stream",
     "text": [
      "Checking: fam5.txt : 3,042 words\n",
      "found: 10 transliterated Greek words: ['ep', 'ero', 'Ephesi', 'assentatiuncula', 'Homero', 'pote', 'praestitisti', 'praetermisisse', 'dein', 'discrimen']\n"
     ]
    },
    {
     "name": "stderr",
     "output_type": "stream",
     "text": [
      "\r",
      " 36%|███▌      | 50/138 [00:56<01:28,  1.01s/it]"
     ]
    },
    {
     "name": "stdout",
     "output_type": "stream",
     "text": [
      "Checking: fam6.txt : 2,688 words\n",
      "found: 6 transliterated Greek words: ['retÉw', 'comprehendisti', 'ero', 'dr´ta', 'peregrinator', 'discrimen']\n"
     ]
    },
    {
     "name": "stderr",
     "output_type": "stream",
     "text": [
      "\r",
      " 37%|███▋      | 51/138 [00:57<01:30,  1.04s/it]"
     ]
    },
    {
     "name": "stdout",
     "output_type": "stream",
     "text": [
      "Checking: fam7.txt : 2,910 words\n",
      "found: 17 transliterated Greek words: ['di≠rroia', 'xt∆sei', 'coŒmisse', 'parÎ', 'xr∆sei', 'iureconsulti', 'straggourixÎ', 'dusenterixÎ', 'the', 'e', 'praetermisisse', 'esyai', 'par≠gramma', 'sard≠nio', 'potious', 'discrimen', 'filoy∞uro']\n"
     ]
    },
    {
     "name": "stderr",
     "output_type": "stream",
     "text": [
      "\r",
      " 38%|███▊      | 52/138 [00:58<01:27,  1.02s/it]"
     ]
    },
    {
     "name": "stdout",
     "output_type": "stream",
     "text": [
      "Checking: fam8.txt : 2,623 words\n",
      "found: 1 transliterated Greek words: ['perscripsisti']\n"
     ]
    },
    {
     "name": "stderr",
     "output_type": "stream",
     "text": [
      "\r",
      " 38%|███▊      | 53/138 [00:59<01:28,  1.05s/it]"
     ]
    },
    {
     "name": "stdout",
     "output_type": "stream",
     "text": [
      "Checking: fam9.txt : 3,039 words\n",
      "found: 20 transliterated Greek words: ['eyurrhmon∆sei', 'ﬂulow', 'sumbiutÿ', 'prolegom∞naw', 'poprohgm∞no', 'animaduertendi', 'sophia', 'ßrxom∞nu', 'sof⁄w', 'parembeblhm∞noi', 'Ÿcimaye\\uf8ffw', 'didasx≠lu', 'xatÎ', 'introduxisti', 'rou', 'dein', 'Ÿbeliei', 'discrimen', 'pofyegm≠tu', 'pollo']\n"
     ]
    },
    {
     "name": "stderr",
     "output_type": "stream",
     "text": [
      "\r",
      " 39%|███▉      | 54/138 [01:00<01:25,  1.01s/it]"
     ]
    },
    {
     "name": "stdout",
     "output_type": "stream",
     "text": [
      "Checking: fato.txt : 1,713 words\n",
      "found: 6 transliterated Greek words: ['eis', 'Logike', 'dissimilitudo', 'sq', 'anteposuisti', 'dissentienti']\n"
     ]
    },
    {
     "name": "stderr",
     "output_type": "stream",
     "text": [
      "\r",
      " 40%|███▉      | 55/138 [01:01<01:23,  1.01s/it]"
     ]
    },
    {
     "name": "stdout",
     "output_type": "stream",
     "text": [
      "Checking: fin1.txt : 2,732 words\n",
      "found: 5 transliterated Greek words: ['ero', 'eis', 'logikh', 'Homero', 'dein']\n"
     ]
    },
    {
     "name": "stderr",
     "output_type": "stream",
     "text": [
      "\r",
      " 41%|████      | 56/138 [01:02<01:33,  1.14s/it]"
     ]
    },
    {
     "name": "stdout",
     "output_type": "stream",
     "text": [
      "Checking: fin2.txt : 3,983 words\n",
      "found: 15 transliterated Greek words: ['Gorgias', 'sofÒw', 'interrogandi', 'so', 'eis', 'times', 'sofÚw', 'Homero', 'chrysizo', 'instrumento', 'e', 'lapathe', 'dein', 'skoteinÒw', 'discrimen']\n"
     ]
    },
    {
     "name": "stderr",
     "output_type": "stream",
     "text": [
      "\r",
      " 41%|████▏     | 57/138 [01:03<01:29,  1.11s/it]"
     ]
    },
    {
     "name": "stdout",
     "output_type": "stream",
     "text": [
      "Checking: fin3.txt : 2,549 words\n",
      "found: 23 transliterated Greek words: ['žmolog¤a', 'édiãforo', 'époprohgmšno', 'prohgmšna', 'kak¤a', 'apoproegmenis', 'katÒryusi', 'žrmÆ', 'dusxrhstÆmata', 'felÆmata', 'prohgmšno', 'dissimilitudo', 'poihtikã', 'blãmmata', 'éi¤a', 'e', 'fšlhma', 'kayƒkon', 'katÒryuma', 'pigennhmatikÒ', 'katalÆceiw', 'discrimen', 'telikã']\n"
     ]
    },
    {
     "name": "stderr",
     "output_type": "stream",
     "text": [
      "\r",
      " 42%|████▏     | 58/138 [01:04<01:29,  1.12s/it]"
     ]
    },
    {
     "name": "stdout",
     "output_type": "stream",
     "text": [
      "Checking: fin4.txt : 2,825 words\n",
      "found: 7 transliterated Greek words: ['rmh', 'aequalÌ', 'ratÌo', 'fallaciloquae', 'poÎtarum', 'praeposÏtum', 'dissimilitudo']\n"
     ]
    },
    {
     "name": "stderr",
     "output_type": "stream",
     "text": [
      "\r",
      " 43%|████▎     | 59/138 [01:06<01:33,  1.18s/it]"
     ]
    },
    {
     "name": "stdout",
     "output_type": "stream",
     "text": [
      "Checking: fin5.txt : 3,659 words\n",
      "found: 18 transliterated Greek words: ['poÎtice', 'rmh', 'enÌm', 'poÎtae', 'incommodatura', 'Calliphonti', 'offÌcium', 'times', 'amicÌtiae', 'aliquÌd', 'perdidiceriti', 'Ìnquam', 'gelastoi', 'inuestigazione', 'dissimilitudo', 'instrumento', 'e', 'ast˙tia']\n"
     ]
    },
    {
     "name": "stderr",
     "output_type": "stream",
     "text": [
      "\r",
      " 43%|████▎     | 60/138 [01:07<01:33,  1.20s/it]"
     ]
    },
    {
     "name": "stdout",
     "output_type": "stream",
     "text": [
      "Checking: flacco.txt : 4,245 words\n",
      "found: 6 transliterated Greek words: ['Lacedaemonii', 'eis', 'applicauisti', 'rhetor', 'deprehendisti', 'discrimen']\n"
     ]
    },
    {
     "name": "stderr",
     "output_type": "stream",
     "text": [
      "\r",
      " 44%|████▍     | 61/138 [01:08<01:24,  1.09s/it]"
     ]
    },
    {
     "name": "stdout",
     "output_type": "stream",
     "text": [
      "Checking: fonteio.txt : 2,073 words\n",
      "found: 4 transliterated Greek words: ['eis', 'apograph', 'intertrimenti', 'disceptatori']\n"
     ]
    },
    {
     "name": "stderr",
     "output_type": "stream",
     "text": [
      "\r",
      " 45%|████▍     | 62/138 [01:09<01:22,  1.08s/it]"
     ]
    },
    {
     "name": "stdout",
     "output_type": "stream",
     "text": [
      "Checking: fratrem1.txt : 2,941 words\n",
      "found: 8 transliterated Greek words: ['Žsfal´w', 'Žll', 'Phaethonti', 'Ephesi', 'administranti', 'pai', 'praecipiendi', 'ŸryÎ']\n"
     ]
    },
    {
     "name": "stderr",
     "output_type": "stream",
     "text": [
      "\r",
      " 46%|████▌     | 63/138 [01:10<01:18,  1.05s/it]"
     ]
    },
    {
     "name": "stdout",
     "output_type": "stream",
     "text": [
      "Checking: fratrem2.txt : 2,371 words\n",
      "found: 16 transliterated Greek words: ['ero', 'Sofoxl∞ouw', 'pragmatix´w', 'quicun', 'filalhy´w', 'Õperbolix´w', 'proüxonomhs≠mh', 'lixrin¢w', 'octophoro', 'e', 'mousop≠taxtow', 'ierg≠zetai', 'xaraxtÿr', 'Õpyesi', 'a', 'tl∆mu']\n"
     ]
    },
    {
     "name": "stderr",
     "output_type": "stream",
     "text": [
      "\r",
      " 46%|████▋     | 64/138 [01:11<01:15,  1.02s/it]"
     ]
    },
    {
     "name": "stdout",
     "output_type": "stream",
     "text": [
      "Checking: fratrem3.txt : 2,313 words\n",
      "found: 36 transliterated Greek words: ['êmat', 'deut∞raw', 'oimôzetô', 'gnôthi', 'emmenai', 'ho', 'krinôsi', 'chalepênêi', 'elasôsi', 'mainetai', 'kai', 'llü', 'yetixâtero', 'gn´yi', 'to', 'hudôr', 'hoi', 'kotessamenos', 'par∞rgü', 'ouk', 'aristeuei', 'anektôs', 'chanoi', 'agorêi', 'moi', 'biêi', 'theô', 'allô', 'hote', 'opôrinôi', 'ek', 'alegontes', 'pn∞uw', 'ampôeis', 'kr∞ow', 'dikê']\n"
     ]
    },
    {
     "name": "stderr",
     "output_type": "stream",
     "text": [
      "\r",
      " 47%|████▋     | 65/138 [01:12<01:14,  1.02s/it]"
     ]
    },
    {
     "name": "stdout",
     "output_type": "stream",
     "text": [
      "Checking: haruspicum.txt : 3,189 words\n",
      "found: 6 transliterated Greek words: ['deminutioq', 'circumsaepti', 'ßywa', 'pollutosq', 'a', 'discrimen']\n"
     ]
    },
    {
     "name": "stderr",
     "output_type": "stream",
     "text": [
      "\r",
      " 48%|████▊     | 66/138 [01:13<01:14,  1.04s/it]"
     ]
    },
    {
     "name": "stdout",
     "output_type": "stream",
     "text": [
      "Checking: imp.txt : 2,499 words\n",
      "found: 7 transliterated Greek words: ['eis', 'peradulescenti', 'Ariobarzanes', 'Ariobarzanis', 'uestrßa', 'querimonias', 'discrimen']\n"
     ]
    },
    {
     "name": "stderr",
     "output_type": "stream",
     "text": [
      "\r",
      " 49%|████▊     | 67/138 [01:15<01:31,  1.29s/it]"
     ]
    },
    {
     "name": "stdout",
     "output_type": "stream",
     "text": [
      "Checking: inventione1.txt : 4,123 words\n",
      "found: 6 transliterated Greek words: ['Gorgias', 'eis', 'rhetor', 'quinquepertita', 'dein', 'praecipiendi']\n"
     ]
    },
    {
     "name": "stderr",
     "output_type": "stream",
     "text": [
      "WARNING:make_model:Excessive word length 21 for inferendaConsuetudine, truncating to 20\n",
      " 49%|████▉     | 68/138 [01:17<01:40,  1.43s/it]"
     ]
    },
    {
     "name": "stdout",
     "output_type": "stream",
     "text": [
      "Checking: inventione2.txt : 4,258 words\n",
      "found: 13 transliterated Greek words: ['sermocinandi', 'oportebitDefensor', 'uindicataRemotio', 'accusationemDefensor', 'rhetor', 'accommodabiturSemper', 'feceritSi', 'permansioTemperantia', 'absolutaContra', 'oportebitConcessio', 'inferendaConsuetudine', 'praecipiendi', 'facultatesBeneficia']\n"
     ]
    },
    {
     "name": "stderr",
     "output_type": "stream",
     "text": [
      "\r",
      " 50%|█████     | 69/138 [01:18<01:33,  1.35s/it]"
     ]
    },
    {
     "name": "stdout",
     "output_type": "stream",
     "text": [
      "Checking: leg1.txt : 2,547 words\n",
      "found: 4 transliterated Greek words: ['eis', 'intellegendi', 'tis', 'pote']\n"
     ]
    },
    {
     "name": "stderr",
     "output_type": "stream",
     "text": [
      "\r",
      " 51%|█████     | 70/138 [01:19<01:28,  1.30s/it]"
     ]
    },
    {
     "name": "stdout",
     "output_type": "stream",
     "text": [
      "Checking: leg2.txt : 3,182 words\n",
      "found: 7 transliterated Greek words: ['intercalandi', 'obtemperanto', 'mbon', 'pos', 'coluntoÎ', 'Amphiarai', 'discrimen']\n"
     ]
    },
    {
     "name": "stderr",
     "output_type": "stream",
     "text": [
      "\r",
      " 51%|█████▏    | 71/138 [01:20<01:21,  1.22s/it]"
     ]
    },
    {
     "name": "stdout",
     "output_type": "stream",
     "text": [
      "Checking: leg3.txt : 2,088 words\n",
      "found: 6 transliterated Greek words: ['po', 'intercessori', 'nomofulakoi', 'obtemperandi', 'suntoÎ', 'discrimen']\n"
     ]
    },
    {
     "name": "stderr",
     "output_type": "stream",
     "text": [
      "\r",
      " 52%|█████▏    | 72/138 [01:21<01:10,  1.07s/it]"
     ]
    },
    {
     "name": "stdout",
     "output_type": "stream",
     "text": [
      "Checking: legagr1.txt : 1,275 words\n",
      "found: 2 transliterated Greek words: ['eis', 'emes']\n"
     ]
    },
    {
     "name": "stderr",
     "output_type": "stream",
     "text": [
      "\r",
      " 53%|█████▎    | 73/138 [01:22<01:10,  1.08s/it]"
     ]
    },
    {
     "name": "stdout",
     "output_type": "stream",
     "text": [
      "Checking: legagr2.txt : 3,765 words\n",
      "found: 11 transliterated Greek words: ['eis', 'praetereuntes', 'fraudulenti', 'dissimilitudo', 'Ueios', 'Pseudophilippo', 'conquisituri', 'emes', 'ßxuir', 'percensuisti', 'discrimen']\n"
     ]
    },
    {
     "name": "stderr",
     "output_type": "stream",
     "text": [
      "\r",
      " 54%|█████▎    | 74/138 [01:22<01:00,  1.06it/s]"
     ]
    },
    {
     "name": "stdout",
     "output_type": "stream",
     "text": [
      "Checking: legagr3.txt : 724 words\n",
      "found: 1 transliterated Greek words: ['eis']\n"
     ]
    },
    {
     "name": "stderr",
     "output_type": "stream",
     "text": [
      "\r",
      " 54%|█████▍    | 75/138 [01:23<00:56,  1.11it/s]"
     ]
    },
    {
     "name": "stdout",
     "output_type": "stream",
     "text": [
      "Checking: lig.txt : 1,502 words\n",
      "found: 2 transliterated Greek words: ['exterminandi', 'eis']\n"
     ]
    },
    {
     "name": "stderr",
     "output_type": "stream",
     "text": [
      "\r",
      " 55%|█████▌    | 76/138 [01:24<00:53,  1.16it/s]"
     ]
    },
    {
     "name": "stdout",
     "output_type": "stream",
     "text": [
      "Checking: marc.txt : 1,331 words\n",
      "found: 2 transliterated Greek words: ['eis', 'M']\n"
     ]
    },
    {
     "name": "stderr",
     "output_type": "stream",
     "text": [
      "\r",
      " 56%|█████▌    | 77/138 [01:25<00:59,  1.02it/s]"
     ]
    },
    {
     "name": "stdout",
     "output_type": "stream",
     "text": [
      "Checking: milo.txt : 3,826 words\n",
      "found: 8 transliterated Greek words: ['eis', 'times', 'P', 'exprompsisti', 'uidemusfingite', 'intermortuae', 'dein', 'prop']\n"
     ]
    },
    {
     "name": "stderr",
     "output_type": "stream",
     "text": [
      "\r",
      " 57%|█████▋    | 78/138 [01:27<01:03,  1.07s/it]"
     ]
    },
    {
     "name": "stdout",
     "output_type": "stream",
     "text": [
      "Checking: murena.txt : 3,983 words\n",
      "found: 5 transliterated Greek words: ['po', 'Lacedaemonii', 'eis', 'Pseudophilippo', 'discrimen']\n"
     ]
    },
    {
     "name": "stderr",
     "output_type": "stream",
     "text": [
      "\r",
      " 57%|█████▋    | 79/138 [01:28<01:06,  1.13s/it]"
     ]
    },
    {
     "name": "stdout",
     "output_type": "stream",
     "text": [
      "Checking: nd1.txt : 3,864 words\n",
      "found: 8 transliterated Greek words: ['inflammatos', 'Atheos', 'mediterranei', 'eita', 'philosophandi', 'mantike', 'doxas', 'tantun']\n"
     ]
    },
    {
     "name": "stderr",
     "output_type": "stream",
     "text": [
      "\r",
      " 58%|█████▊    | 80/138 [01:29<01:12,  1.26s/it]"
     ]
    },
    {
     "name": "stdout",
     "output_type": "stream",
     "text": [
      "Checking: nd2.txt : 5,441 words\n",
      "found: 6 transliterated Greek words: ['Fainwn', 'superstitiosi', 'gh', 'Engonasi', 'hyei', 'dein']\n"
     ]
    },
    {
     "name": "stderr",
     "output_type": "stream",
     "text": [
      "\r",
      " 59%|█████▊    | 81/138 [01:31<01:10,  1.24s/it]"
     ]
    },
    {
     "name": "stdout",
     "output_type": "stream",
     "text": [
      "Checking: nd3.txt : 3,511 words\n",
      "found: 7 transliterated Greek words: ['animaduertisti', 'eis', 'intellegendi', 'Sabazia', 'synpatheia', 'Melete', 'discrimen']\n"
     ]
    },
    {
     "name": "stderr",
     "output_type": "stream",
     "text": [
      "\r",
      " 59%|█████▉    | 82/138 [01:32<01:16,  1.37s/it]"
     ]
    },
    {
     "name": "stdout",
     "output_type": "stream",
     "text": [
      "Checking: off1.txt : 4,765 words\n",
      "found: 7 transliterated Greek words: ['belligerantes', 'sophia', 'katheko', 'obtemperantes', 'philosophandi', 'praecipienti', 'discrimen']\n"
     ]
    },
    {
     "name": "stderr",
     "output_type": "stream",
     "text": [
      "\r",
      " 60%|██████    | 83/138 [01:33<01:12,  1.31s/it]"
     ]
    },
    {
     "name": "stdout",
     "output_type": "stream",
     "text": [
      "Checking: off2.txt : 3,351 words\n",
      "found: 8 transliterated Greek words: ['Lacedaemonii', 'emas', 'circumueniri', 'App', 'dein', 'fraudulentos', 'pathe', 'discrimen']\n"
     ]
    },
    {
     "name": "stderr",
     "output_type": "stream",
     "text": [
      "\r",
      " 61%|██████    | 84/138 [01:35<01:11,  1.33s/it]"
     ]
    },
    {
     "name": "stdout",
     "output_type": "stream",
     "text": [
      "Checking: off3.txt : 3,913 words\n",
      "found: 2 transliterated Greek words: ['eis', 'Troezene']\n"
     ]
    },
    {
     "name": "stderr",
     "output_type": "stream",
     "text": [
      "\r",
      " 62%|██████▏   | 85/138 [01:36<01:00,  1.14s/it]"
     ]
    },
    {
     "name": "stdout",
     "output_type": "stream",
     "text": [
      "Checking: optgen.txt : 831 words\n",
      "found: 2 transliterated Greek words: ['eis', 'dithyrambici']\n"
     ]
    },
    {
     "name": "stderr",
     "output_type": "stream",
     "text": [
      "\r",
      " 62%|██████▏   | 86/138 [01:37<01:09,  1.33s/it]"
     ]
    },
    {
     "name": "stdout",
     "output_type": "stream",
     "text": [
      "Checking: orator.txt : 5,626 words\n",
      "found: 21 transliterated Greek words: ['ethiko', 'Homero', 'uersutiloquas', 'Gorgias', 'e', 'eita', 'hypallage', 'logodaidalous', 'quadringenti', 'circumscripti', 'paean', 'praetereuntes', 'intellegendi', 'adulescentuli', 'rhetor', 'dissimilitudo', 'thesi', 'dein', 'dialogoi', 'eis', 'praecipiendi']\n"
     ]
    },
    {
     "name": "stderr",
     "output_type": "stream",
     "text": [
      "\r",
      " 63%|██████▎   | 87/138 [01:39<01:11,  1.40s/it]"
     ]
    },
    {
     "name": "stdout",
     "output_type": "stream",
     "text": [
      "Checking: oratore1.txt : 5,312 words\n",
      "found: 12 transliterated Greek words: ['times', 'confitenture', 'stipulatiuncula', 'eita', 'praetereuntes', 'intellegendi', 'pragmatikoi', 'physikous', 'circumdedisti', 'discrimen', 'eis', 'instrumento']\n"
     ]
    },
    {
     "name": "stderr",
     "output_type": "stream",
     "text": [
      "\r",
      " 64%|██████▍   | 88/138 [01:41<01:22,  1.66s/it]"
     ]
    },
    {
     "name": "stdout",
     "output_type": "stream",
     "text": [
      "Checking: oratore2.txt : 7,130 words\n",
      "found: 10 transliterated Greek words: ['interroganti', 'circumueniri', 'eita', 'dialektike', 'ero', 'intellegendi', 'Byzantii', 'discrimen', 'eis', 'emas']\n"
     ]
    },
    {
     "name": "stderr",
     "output_type": "stream",
     "text": [
      "\r",
      " 64%|██████▍   | 89/138 [01:43<01:19,  1.62s/it]"
     ]
    },
    {
     "name": "stdout",
     "output_type": "stream",
     "text": [
      "Checking: oratore3.txt : 5,468 words\n",
      "found: 15 transliterated Greek words: ['efflorescenti', 'Hippias', 'eiti', 'uersutiloquas', 'Gorgias', 'transferendi', 'paean', 'intellegendi', 'dissimilitudo', 'commeministi', 'eis', 'lexeis', 'interpunctas', 'heroi', 'praecipiendi']\n"
     ]
    },
    {
     "name": "stderr",
     "output_type": "stream",
     "text": [
      "\r",
      " 65%|██████▌   | 90/138 [01:43<01:06,  1.38s/it]"
     ]
    },
    {
     "name": "stdout",
     "output_type": "stream",
     "text": [
      "Checking: paradoxa.txt : 2,011 words\n",
      "found: 17 transliterated Greek words: ['êfru', 'times', 'égayÒ', 'leÊyerow', 'éretØ', 'parãdoia', 'ýsa', 'prÚw', 'kalÚ', 'sofÚw', 'concupiscenti', 'èmartÆmata', 'kaÐ', 'douloi', 'ploÊsiow', 'ma¤netai', 'discrimen']\n"
     ]
    },
    {
     "name": "stderr",
     "output_type": "stream",
     "text": [
      "\r",
      " 66%|██████▌   | 91/138 [01:45<01:02,  1.32s/it]"
     ]
    },
    {
     "name": "stdout",
     "output_type": "stream",
     "text": [
      "Checking: partitione.txt : 3,207 words\n",
      "found: 4 transliterated Greek words: ['eis', 'animaduertendi', 'obtemperandi', 'praecipiendi']\n"
     ]
    },
    {
     "name": "stderr",
     "output_type": "stream",
     "text": [
      "\r",
      " 67%|██████▋   | 92/138 [01:45<00:53,  1.17s/it]"
     ]
    },
    {
     "name": "stdout",
     "output_type": "stream",
     "text": [
      "Checking: phil1.txt : 1,757 words\n",
      "found: 1 transliterated Greek words: ['tis']\n"
     ]
    },
    {
     "name": "stderr",
     "output_type": "stream",
     "text": [
      "\r",
      " 67%|██████▋   | 93/138 [01:46<00:47,  1.05s/it]"
     ]
    },
    {
     "name": "stdout",
     "output_type": "stream",
     "text": [
      "Checking: phil10.txt : 1,365 words\n",
      "found: 2 transliterated Greek words: ['interposuisti', 'discrimen']\n"
     ]
    },
    {
     "name": "stderr",
     "output_type": "stream",
     "text": [
      "\r",
      " 68%|██████▊   | 94/138 [01:47<00:43,  1.01it/s]"
     ]
    },
    {
     "name": "stdout",
     "output_type": "stream",
     "text": [
      "Checking: phil11.txt : 1,983 words\n",
      "found: 2 transliterated Greek words: ['ero', 'eis']\n"
     ]
    },
    {
     "name": "stderr",
     "output_type": "stream",
     "text": [
      "\r",
      " 69%|██████▉   | 95/138 [01:48<00:40,  1.07it/s]"
     ]
    },
    {
     "name": "stdout",
     "output_type": "stream",
     "text": [
      "Checking: phil12.txt : 1,623 words\n",
      "found: 3 transliterated Greek words: ['ero', 'rp', 'Seios']\n"
     ]
    },
    {
     "name": "stderr",
     "output_type": "stream",
     "text": [
      "\r",
      " 70%|██████▉   | 96/138 [01:49<00:39,  1.07it/s]"
     ]
    },
    {
     "name": "stdout",
     "output_type": "stream",
     "text": [
      "Checking: phil13.txt : 2,512 words\n",
      "found: 1 transliterated Greek words: ['discrimen']\n"
     ]
    },
    {
     "name": "stderr",
     "output_type": "stream",
     "text": [
      "\r",
      " 70%|███████   | 97/138 [01:50<00:36,  1.12it/s]"
     ]
    },
    {
     "name": "stdout",
     "output_type": "stream",
     "text": [
      "Checking: phil14.txt : 1,665 words\n",
      "found: 2 transliterated Greek words: ['eis', 'discrimen']\n"
     ]
    },
    {
     "name": "stderr",
     "output_type": "stream",
     "text": [
      "\r",
      " 71%|███████   | 98/138 [01:51<00:42,  1.05s/it]"
     ]
    },
    {
     "name": "stdout",
     "output_type": "stream",
     "text": [
      "Checking: phil2.txt : 4,277 words\n",
      "found: 6 transliterated Greek words: ['conlocauisti', 'septemuiratu', 'reprehendisti', 'perstrinxisti', 'adscripsisti', 'obstrinxisti']\n"
     ]
    },
    {
     "name": "stderr",
     "output_type": "stream",
     "text": [
      "\r",
      " 72%|███████▏  | 99/138 [01:52<00:38,  1.02it/s]"
     ]
    },
    {
     "name": "stdout",
     "output_type": "stream",
     "text": [
      "Checking: phil3.txt : 1,814 words\n",
      "found: 2 transliterated Greek words: ['eis', 'discrimen']\n"
     ]
    },
    {
     "name": "stderr",
     "output_type": "stream",
     "text": [
      "\r",
      " 72%|███████▏  | 100/138 [01:53<00:33,  1.13it/s]"
     ]
    },
    {
     "name": "stdout",
     "output_type": "stream",
     "text": [
      "Checking: phil4.txt : 783 words\n",
      "found: 0 transliterated Greek words: []\n"
     ]
    },
    {
     "name": "stderr",
     "output_type": "stream",
     "text": [
      "\r",
      " 73%|███████▎  | 101/138 [01:53<00:33,  1.11it/s]"
     ]
    },
    {
     "name": "stdout",
     "output_type": "stream",
     "text": [
      "Checking: phil5.txt : 2,342 words\n",
      "found: 4 transliterated Greek words: ['eis', 'utpote', 'Antesignanos', 'discrimen']\n"
     ]
    },
    {
     "name": "stderr",
     "output_type": "stream",
     "text": [
      "\r",
      " 74%|███████▍  | 102/138 [01:54<00:30,  1.19it/s]"
     ]
    },
    {
     "name": "stdout",
     "output_type": "stream",
     "text": [
      "Checking: phil6.txt : 986 words\n",
      "found: 1 transliterated Greek words: ['discrimen']\n"
     ]
    },
    {
     "name": "stderr",
     "output_type": "stream",
     "text": [
      "\r",
      " 75%|███████▍  | 103/138 [01:55<00:28,  1.23it/s]"
     ]
    },
    {
     "name": "stdout",
     "output_type": "stream",
     "text": [
      "Checking: phil7.txt : 1,187 words\n",
      "found: 1 transliterated Greek words: ['discrimen']\n"
     ]
    },
    {
     "name": "stderr",
     "output_type": "stream",
     "text": [
      "\r",
      " 75%|███████▌  | 104/138 [01:56<00:27,  1.23it/s]"
     ]
    },
    {
     "name": "stdout",
     "output_type": "stream",
     "text": [
      "Checking: phil8.txt : 1,509 words\n",
      "found: 2 transliterated Greek words: ['adulescentuli', 'discrimen']\n"
     ]
    },
    {
     "name": "stderr",
     "output_type": "stream",
     "text": [
      "\r",
      " 76%|███████▌  | 105/138 [01:56<00:25,  1.28it/s]"
     ]
    },
    {
     "name": "stdout",
     "output_type": "stream",
     "text": [
      "Checking: phil9.txt : 898 words\n",
      "found: 0 transliterated Greek words: []\n"
     ]
    },
    {
     "name": "stderr",
     "output_type": "stream",
     "text": [
      "\r",
      " 77%|███████▋  | 106/138 [01:58<00:29,  1.08it/s]"
     ]
    },
    {
     "name": "stdout",
     "output_type": "stream",
     "text": [
      "Checking: piso.txt : 4,384 words\n",
      "found: 9 transliterated Greek words: ['contempsisti', 'delectamenta', 'eis', 'times', 'intellegenti', 'Byzantii', 'oichetai', 'dein', 'pronuntiauisti']\n"
     ]
    },
    {
     "name": "stderr",
     "output_type": "stream",
     "text": [
      "\r",
      " 78%|███████▊  | 107/138 [01:59<00:33,  1.07s/it]"
     ]
    },
    {
     "name": "stdout",
     "output_type": "stream",
     "text": [
      "Checking: plancio.txt : 3,823 words\n",
      "found: 3 transliterated Greek words: ['eis', 'reprehendisti', 'discrimen']\n"
     ]
    },
    {
     "name": "stderr",
     "output_type": "stream",
     "text": [
      "\r",
      " 78%|███████▊  | 108/138 [02:00<00:30,  1.02s/it]"
     ]
    },
    {
     "name": "stdout",
     "output_type": "stream",
     "text": [
      "Checking: postreditum.txt : 1,943 words\n",
      "found: 2 transliterated Greek words: ['quadringenti', 'discrimen']\n"
     ]
    },
    {
     "name": "stderr",
     "output_type": "stream",
     "text": [
      "\r",
      " 79%|███████▉  | 109/138 [02:01<00:27,  1.06it/s]"
     ]
    },
    {
     "name": "stdout",
     "output_type": "stream",
     "text": [
      "Checking: postreditum2.txt : 1,296 words\n",
      "found: 0 transliterated Greek words: []\n"
     ]
    },
    {
     "name": "stderr",
     "output_type": "stream",
     "text": [
      "\r",
      " 80%|███████▉  | 110/138 [02:02<00:26,  1.07it/s]"
     ]
    },
    {
     "name": "stdout",
     "output_type": "stream",
     "text": [
      "Checking: prov.txt : 2,210 words\n",
      "found: 3 transliterated Greek words: ['ero', 'Ariobarzanes', 'Byzantii']\n"
     ]
    },
    {
     "name": "stderr",
     "output_type": "stream",
     "text": [
      "\r",
      " 80%|████████  | 111/138 [02:03<00:26,  1.00it/s]"
     ]
    },
    {
     "name": "stdout",
     "output_type": "stream",
     "text": [
      "Checking: quinc.txt : 2,913 words\n",
      "found: 2 transliterated Greek words: ['eis', 'circumueniri']\n"
     ]
    },
    {
     "name": "stderr",
     "output_type": "stream",
     "text": [
      "\r",
      " 81%|████████  | 112/138 [02:04<00:24,  1.07it/s]"
     ]
    },
    {
     "name": "stdout",
     "output_type": "stream",
     "text": [
      "Checking: rabirio.txt : 1,650 words\n",
      "found: 2 transliterated Greek words: ['eis', 'discrimen']\n"
     ]
    },
    {
     "name": "stderr",
     "output_type": "stream",
     "text": [
      "\r",
      " 82%|████████▏ | 113/138 [02:04<00:22,  1.11it/s]"
     ]
    },
    {
     "name": "stdout",
     "output_type": "stream",
     "text": [
      "Checking: rabiriopost.txt : 1,862 words\n",
      "found: 1 transliterated Greek words: ['eis']\n"
     ]
    },
    {
     "name": "stderr",
     "output_type": "stream",
     "text": [
      "\r",
      " 83%|████████▎ | 114/138 [02:06<00:23,  1.02it/s]"
     ]
    },
    {
     "name": "stdout",
     "output_type": "stream",
     "text": [
      "Checking: repub1.txt : 3,071 words\n",
      "found: 6 transliterated Greek words: ['Lacedaemonii', 'so', 'Philolai', 'eita', 'dein', 'zerstört']\n"
     ]
    },
    {
     "name": "stderr",
     "output_type": "stream",
     "text": [
      "\r",
      " 83%|████████▎ | 115/138 [02:07<00:22,  1.01it/s]"
     ]
    },
    {
     "name": "stdout",
     "output_type": "stream",
     "text": [
      "Checking: repub2.txt : 2,600 words\n",
      "found: 8 transliterated Greek words: ['po', 'ma', 'so', 'labefactandi', 'eis', 'duodeuiginti', 'Fremdzitat', 'latrocinandi']\n"
     ]
    },
    {
     "name": "stderr",
     "output_type": "stream",
     "text": [
      "\r",
      " 84%|████████▍ | 116/138 [02:07<00:20,  1.08it/s]"
     ]
    },
    {
     "name": "stdout",
     "output_type": "stream",
     "text": [
      "Checking: repub3.txt : 1,340 words\n",
      "found: 1 transliterated Greek words: ['Lacedaemonii']\n"
     ]
    },
    {
     "name": "stderr",
     "output_type": "stream",
     "text": [
      "\r",
      " 85%|████████▍ | 117/138 [02:08<00:17,  1.22it/s]"
     ]
    },
    {
     "name": "stdout",
     "output_type": "stream",
     "text": [
      "Checking: repub4.txt : 171 words\n",
      "found: 1 transliterated Greek words: ['Lacedaemonii']\n"
     ]
    },
    {
     "name": "stderr",
     "output_type": "stream",
     "text": [
      "\r",
      " 86%|████████▌ | 118/138 [02:09<00:15,  1.33it/s]"
     ]
    },
    {
     "name": "stdout",
     "output_type": "stream",
     "text": [
      "Checking: repub5.txt : 278 words\n",
      "found: 0 transliterated Greek words: []\n"
     ]
    },
    {
     "name": "stderr",
     "output_type": "stream",
     "text": [
      "\r",
      " 86%|████████▌ | 119/138 [02:09<00:14,  1.35it/s]"
     ]
    },
    {
     "name": "stdout",
     "output_type": "stream",
     "text": [
      "Checking: repub6.txt : 1,182 words\n",
      "found: 2 transliterated Greek words: ['quous', 'Homero']\n"
     ]
    },
    {
     "name": "stderr",
     "output_type": "stream",
     "text": [
      "\r",
      " 87%|████████▋ | 120/138 [02:10<00:13,  1.29it/s]"
     ]
    },
    {
     "name": "stdout",
     "output_type": "stream",
     "text": [
      "Checking: rosccom.txt : 1,860 words\n",
      "found: 1 transliterated Greek words: ['eis']\n"
     ]
    },
    {
     "name": "stderr",
     "output_type": "stream",
     "text": [
      "\r",
      " 88%|████████▊ | 121/138 [02:11<00:13,  1.26it/s]"
     ]
    },
    {
     "name": "stdout",
     "output_type": "stream",
     "text": [
      "Checking: scauro.txt : 1,493 words\n",
      "found: 3 transliterated Greek words: ['eis', 'tis', 'comperendinasti']\n"
     ]
    },
    {
     "name": "stderr",
     "output_type": "stream",
     "text": [
      "\r",
      " 88%|████████▊ | 122/138 [02:12<00:14,  1.08it/s]"
     ]
    },
    {
     "name": "stdout",
     "output_type": "stream",
     "text": [
      "Checking: senectute.txt : 3,401 words\n",
      "found: 3 transliterated Greek words: ['Gorgias', 'eis', 'adulescentuli']\n"
     ]
    },
    {
     "name": "stderr",
     "output_type": "stream",
     "text": [
      "\r",
      " 89%|████████▉ | 123/138 [02:14<00:16,  1.12s/it]"
     ]
    },
    {
     "name": "stdout",
     "output_type": "stream",
     "text": [
      "Checking: sestio.txt : 5,454 words\n",
      "found: 8 transliterated Greek words: ['transferendi', 'ero', 'gazis', 'discrimen', 'circumscribi', 'praecipitanti', 'deliberatori', 'nou']\n"
     ]
    },
    {
     "name": "stderr",
     "output_type": "stream",
     "text": [
      "\r",
      " 90%|████████▉ | 124/138 [02:15<00:17,  1.22s/it]"
     ]
    },
    {
     "name": "stdout",
     "output_type": "stream",
     "text": [
      "Checking: sex.rosc.txt : 4,214 words\n",
      "found: 5 transliterated Greek words: ['interrogandi', 'proscriptos', 'eis', 'praetereuntes', 'discrimen']\n"
     ]
    },
    {
     "name": "stderr",
     "output_type": "stream",
     "text": [
      "\r",
      " 91%|█████████ | 125/138 [02:16<00:15,  1.22s/it]"
     ]
    },
    {
     "name": "stdout",
     "output_type": "stream",
     "text": [
      "Checking: sulla.txt : 3,348 words\n",
      "found: 4 transliterated Greek words: ['eis', 'praecipitanti', 'inuestigasti', 'App']\n"
     ]
    },
    {
     "name": "stderr",
     "output_type": "stream",
     "text": [
      "\r",
      " 91%|█████████▏| 126/138 [02:18<00:14,  1.18s/it]"
     ]
    },
    {
     "name": "stdout",
     "output_type": "stream",
     "text": [
      "Checking: topica.txt : 2,498 words\n",
      "found: 22 transliterated Greek words: ['étšxnouw', 'sterhtikã', 'eiti', 'dialektikó', 'suzug¤a', 'pagugó', 'eis', 'sxæmata', 'tumolog¤a', 'rhetor', 'dissimilitudo', 'Íperboló', 'dialektikæ', 'Ípòyesi', 'topikó', 'pròlhci', 'épofatikå', 'xaraktƒra', 'nyumæmata', 'nyÊmhma', 'krinòmeno', 'stãsiw']\n"
     ]
    },
    {
     "name": "stderr",
     "output_type": "stream",
     "text": [
      "\r",
      " 92%|█████████▏| 127/138 [02:19<00:14,  1.29s/it]"
     ]
    },
    {
     "name": "stdout",
     "output_type": "stream",
     "text": [
      "Checking: tusc1.txt : 4,467 words\n",
      "found: 18 transliterated Greek words: ['imminetpropter', 'moriunturfortuna', 'apokartero', 'Clazomenas', 'Euthynous', 'Lacedaemonii', 'Hesiodo', 'suntalteros', 'gloriaetiamsi', 'Homero', 'rhetor', 'faciuntsomni', 'interroganti', 'dissentienti', 'confeceritreliquos', 'dein', 'ratiocinandi', 'endelecheia']\n"
     ]
    },
    {
     "name": "stderr",
     "output_type": "stream",
     "text": [
      "\r",
      " 93%|█████████▎| 128/138 [02:20<00:12,  1.23s/it]"
     ]
    },
    {
     "name": "stdout",
     "output_type": "stream",
     "text": [
      "Checking: tusc2.txt : 2,960 words\n",
      "found: 2 transliterated Greek words: ['laudabiliora', 'eis']\n"
     ]
    },
    {
     "name": "stderr",
     "output_type": "stream",
     "text": [
      "\r",
      " 93%|█████████▎| 129/138 [02:21<00:11,  1.26s/it]"
     ]
    },
    {
     "name": "stdout",
     "output_type": "stream",
     "text": [
      "Checking: tusc3.txt : 3,315 words\n",
      "found: 12 transliterated Greek words: ['luph', 'poŒta', 'paqoi', 'eis', 'timwroumenoi', 'paqh', 'Peloponneso', 'Bellerophonte', 'confœci', 'dein', 'offœcium', 'perfricuisti']\n"
     ]
    },
    {
     "name": "stderr",
     "output_type": "stream",
     "text": [
      "\r",
      " 94%|█████████▍| 130/138 [02:23<00:10,  1.27s/it]"
     ]
    },
    {
     "name": "stdout",
     "output_type": "stream",
     "text": [
      "Checking: tusc4.txt : 3,220 words\n",
      "found: 21 transliterated Greek words: ['eflœcitur', 'paqoi', 'poŒtae', 'poŒtas', 'eis', 'uehementœus', 'paqh', 'signiiœcat', 'kathgorhmata', 'poŒticam', 'logika', 'obtemperantes', 'poŒtam', 'misanqrwpoi', 'grauidinosos', 'consideranti', 'poŒsis', 'recentœs', 'dein', 'insanœa', 'effœcienda']\n"
     ]
    },
    {
     "name": "stderr",
     "output_type": "stream",
     "text": [
      "\r",
      " 95%|█████████▍| 131/138 [02:24<00:09,  1.32s/it]"
     ]
    },
    {
     "name": "stdout",
     "output_type": "stream",
     "text": [
      "Checking: tusc5.txt : 4,054 words\n",
      "found: 12 transliterated Greek words: ['poŒtae', 'Lacedaemonii', 'eis', 'poŒsi', 'Homero', 'sofoi', 'pote', 'interclusisti', 'poŒtam', 'tas', 'e', 'philosophandi']\n"
     ]
    },
    {
     "name": "stderr",
     "output_type": "stream",
     "text": [
      "\r",
      " 96%|█████████▌| 132/138 [02:25<00:07,  1.18s/it]"
     ]
    },
    {
     "name": "stdout",
     "output_type": "stream",
     "text": [
      "Checking: vatin.txt : 1,959 words\n",
      "found: 3 transliterated Greek words: ['to', 'e', 'recognoscendi']\n"
     ]
    },
    {
     "name": "stderr",
     "output_type": "stream",
     "text": [
      "\r",
      " 96%|█████████▋| 133/138 [02:26<00:05,  1.10s/it]"
     ]
    },
    {
     "name": "stdout",
     "output_type": "stream",
     "text": [
      "Checking: ver1.txt : 2,015 words\n",
      "found: 2 transliterated Greek words: ['interrogandi', 'eis']\n"
     ]
    },
    {
     "name": "stderr",
     "output_type": "stream",
     "text": [
      "\r",
      " 97%|█████████▋| 134/138 [02:28<00:05,  1.27s/it]"
     ]
    },
    {
     "name": "stdout",
     "output_type": "stream",
     "text": [
      "Checking: verres.2.1.txt : 5,069 words\n",
      "found: 9 transliterated Greek words: ['Ephesi', 'circumueniri', 'pp', 'ero', 'nauigaueruntO', 'intertrimento', 'querimonias', 'discrimen', 'eis']\n"
     ]
    },
    {
     "name": "stderr",
     "output_type": "stream",
     "text": [
      "\r",
      " 98%|█████████▊| 135/138 [02:30<00:04,  1.48s/it]"
     ]
    },
    {
     "name": "stdout",
     "output_type": "stream",
     "text": [
      "Checking: verres.2.2.txt : 5,470 words\n",
      "found: 6 transliterated Greek words: ['priuatirn', 'e', 'ciuitatestota', 'dein', 'querimonias', 'discrimen']\n"
     ]
    },
    {
     "name": "stderr",
     "output_type": "stream",
     "text": [
      "\r",
      " 99%|█████████▊| 136/138 [02:32<00:03,  1.67s/it]"
     ]
    },
    {
     "name": "stdout",
     "output_type": "stream",
     "text": [
      "Checking: verres.2.3.txt : 6,563 words\n",
      "found: 16 transliterated Greek words: ['Leontinos', 'praetermitti', 'existimaturi', 'substituisti', 'Ephesi', 'adulescentuli', 'ßiil', 'med', 'constituisti', 'querimonias', 'discrimen', 'administrasti', 'eis', 'reprehendisti', 'instrumento', 'eme']\n"
     ]
    },
    {
     "name": "stderr",
     "output_type": "stream",
     "text": [
      "\r",
      " 99%|█████████▉| 137/138 [02:33<00:01,  1.69s/it]"
     ]
    },
    {
     "name": "stdout",
     "output_type": "stream",
     "text": [
      "Checking: verres.2.4.txt : 5,515 words\n",
      "found: 9 transliterated Greek words: ['comperendinato', 'Archagatho', 'peruenissentne', 'circumueniri', 'peripetasmatis', 'querimonias', 'peripetasmata', 'intellexisti', 'instrumento']\n"
     ]
    },
    {
     "name": "stderr",
     "output_type": "stream",
     "text": [
      "\r",
      "100%|██████████| 138/138 [02:35<00:00,  1.77s/it]"
     ]
    },
    {
     "name": "stdout",
     "output_type": "stream",
     "text": [
      "Checking: verres.2.5.txt : 5,915 words\n",
      "found: 6 transliterated Greek words: ['conlocauisti', 'octaphoro', 'pronuntiasti', 'discrimen', 'eis', 'interrogasti']\n",
      "Number of Greek words not in training data: 844\n"
     ]
    },
    {
     "name": "stderr",
     "output_type": "stream",
     "text": [
      "\n"
     ]
    }
   ],
   "source": [
    "greek_in_cicero = set()\n",
    "reader = get_corpus_reader(corpus_name='latin_text_latin_library', language='latin')\n",
    "\n",
    "cicero = [ file for file in reader.fileids()\n",
    "         if 'cicero' in file ]\n",
    "for file in tqdm(cicero):\n",
    "    reader = get_corpus_reader(corpus_name='latin_text_latin_library', language='latin')\n",
    "    reader._fileids = [file]\n",
    "    unseen_X = process_text_model.fit_transform(list(reader.sents()))\n",
    "    distinct_unseen = distinct_words(unseen_X)\n",
    "    print('Checking: {} : {:,} words'.format(file[file.rfind('/') + 1:], len(distinct_unseen)))\n",
    "    unseen_words = list(distinct_unseen)\n",
    "    if unseen_words:\n",
    "        arr = classifier.predict(\n",
    "            np.array([word_to_features(word, max_len) for word in unseen_words]))\n",
    "        marks = arr.tolist()\n",
    "        found_greek = [unseen_words[idx]\n",
    "                       for idx, point in enumerate(marks)\n",
    "                       if point == 1]\n",
    "        greek_in_cicero |= set(found_greek)\n",
    "        print('found: {:,} transliterated Greek words: {}'.format(np.count_nonzero(arr), found_greek))\n",
    "print('Number of Greek words not in training data: {:,}'.format(len(greek_in_cicero - only_greek_transliterated)))"
   ]
  },
  {
   "cell_type": "markdown",
   "metadata": {},
   "source": [
    "### Note: ML is not failsafe like set intersection; a classifier predicts based on features that are aggregates of the sample space; e.g. notice the classifier is marking `non` as transliterated Greek even when it's not mismatched in the samples."
   ]
  },
  {
   "cell_type": "code",
   "execution_count": 43,
   "metadata": {
    "collapsed": false
   },
   "outputs": [
    {
     "name": "stdout",
     "output_type": "stream",
     "text": [
      "True\n",
      "False\n"
     ]
    }
   ],
   "source": [
    "print('non' in distinct_good_latin)\n",
    "print('non' in distinct_transliterated_greek_examples)\n",
    "# TODO find a better example"
   ]
  },
  {
   "cell_type": "markdown",
   "metadata": {},
   "source": [
    "### ...With a larger training set, this minor inconsistency would probably disappear.\n",
    "#### However, the `-on` ending is common noun and adjective accusative declension in Greek, and the Latin word `non` is an anomaly.\n",
    "#### Also, 98.5% accuracy still means 1.5% inaccuracy so there is a cost for AI assessments.\n",
    "### Save the classifier for future use using the sklearn joblib library"
   ]
  },
  {
   "cell_type": "code",
   "execution_count": 44,
   "metadata": {
    "collapsed": true
   },
   "outputs": [],
   "source": [
    "\n",
    "def rle(inarray):\n",
    "        \"\"\"Run length encoding. Partial credit to R rle function. \n",
    "            Multi datatype arrays catered for including non Numpy\n",
    "            returns: tuple (runlengths, startpositions, values) \"\"\"\n",
    "        ia = np.asarray(inarray)                  # force numpy\n",
    "        n = len(ia)\n",
    "        if n == 0: \n",
    "            return (None, None, None)\n",
    "        else:\n",
    "            y = np.array(ia[1:] != ia[:-1])     # pairwise unequal (string safe)\n",
    "            i = np.append(np.where(y), n - 1)   # must include last element posi\n",
    "            z = np.diff(np.append(-1, i))       # run lengths\n",
    "            p = np.cumsum(np.append(0, z))[:-1] # positions\n",
    "            return(z, p, ia[i])\n",
    "            \n",
    "# cribbed from stack overflow, needs annotations, and it's bit overkill but many possible uses"
   ]
  },
  {
   "cell_type": "code",
   "execution_count": 47,
   "metadata": {
    "collapsed": false
   },
   "outputs": [
    {
     "data": {
      "text/plain": [
       "array([1.])"
      ]
     },
     "execution_count": 47,
     "metadata": {},
     "output_type": "execute_result"
    }
   ],
   "source": [
    "word='agathon'\n",
    "classifier.predict(\n",
    "            np.array([word_to_features(word, max_len)]))"
   ]
  },
  {
   "cell_type": "code",
   "execution_count": null,
   "metadata": {
    "collapsed": true
   },
   "outputs": [],
   "source": []
  },
  {
   "cell_type": "markdown",
   "metadata": {},
   "source": [
    "### Find which texts of livy have the least greek"
   ]
  },
  {
   "cell_type": "code",
   "execution_count": 56,
   "metadata": {
    "collapsed": false
   },
   "outputs": [],
   "source": [
    " \n",
    "latin_files= glob.glob(\n",
    "    os.path.expanduser('~/cltk_data/latin/text/latin_text_latin_library//livy/*'))\n"
   ]
  },
  {
   "cell_type": "code",
   "execution_count": 65,
   "metadata": {
    "collapsed": false
   },
   "outputs": [
    {
     "name": "stderr",
     "output_type": "stream",
     "text": [
      "\n",
      "\n",
      "\n",
      "\n",
      "  0%|          | 0/178 [00:00<?, ?it/s]\u001b[A\u001b[A\u001b[A\u001b[A\n",
      "\n",
      "\n",
      "\n",
      "  1%|          | 1/178 [00:00<01:45,  1.67it/s]\u001b[A\u001b[A\u001b[A\u001b[A"
     ]
    },
    {
     "name": "stdout",
     "output_type": "stream",
     "text": [
      "file: liv.per67.txt total words: 171 with 0 transliterated Greek words: []\n"
     ]
    },
    {
     "name": "stderr",
     "output_type": "stream",
     "text": [
      "\n",
      "\n",
      "\n",
      "\n",
      "  1%|          | 2/178 [00:01<01:42,  1.71it/s]\u001b[A\u001b[A\u001b[A\u001b[A"
     ]
    },
    {
     "name": "stdout",
     "output_type": "stream",
     "text": [
      "file: liv.per128.txt total words: 50 with 0 transliterated Greek words: []\n"
     ]
    },
    {
     "name": "stderr",
     "output_type": "stream",
     "text": [
      "\n",
      "\n",
      "\n",
      "\n",
      "  2%|▏         | 3/178 [00:01<01:42,  1.71it/s]\u001b[A\u001b[A\u001b[A\u001b[A"
     ]
    },
    {
     "name": "stdout",
     "output_type": "stream",
     "text": [
      "file: liv.per73.txt total words: 127 with 0 transliterated Greek words: []\n"
     ]
    },
    {
     "name": "stderr",
     "output_type": "stream",
     "text": [
      "\n",
      "\n",
      "\n",
      "\n",
      "  2%|▏         | 4/178 [00:02<01:41,  1.72it/s]\u001b[A\u001b[A\u001b[A\u001b[A"
     ]
    },
    {
     "name": "stdout",
     "output_type": "stream",
     "text": [
      "file: liv.per114.txt total words: 92 with 0 transliterated Greek words: []\n"
     ]
    },
    {
     "name": "stderr",
     "output_type": "stream",
     "text": [
      "\n",
      "\n",
      "\n",
      "\n",
      "  3%|▎         | 5/178 [00:02<01:40,  1.73it/s]\u001b[A\u001b[A\u001b[A\u001b[A"
     ]
    },
    {
     "name": "stdout",
     "output_type": "stream",
     "text": [
      "file: liv.per100.txt total words: 68 with 0 transliterated Greek words: []\n"
     ]
    },
    {
     "name": "stderr",
     "output_type": "stream",
     "text": [
      "\n",
      "\n",
      "\n",
      "\n",
      "  3%|▎         | 6/178 [00:03<01:39,  1.73it/s]\u001b[A\u001b[A\u001b[A\u001b[A"
     ]
    },
    {
     "name": "stdout",
     "output_type": "stream",
     "text": [
      "file: liv.per98.txt total words: 116 with 0 transliterated Greek words: []\n"
     ]
    },
    {
     "name": "stderr",
     "output_type": "stream",
     "text": [
      "\n",
      "\n",
      "\n",
      "\n",
      "  4%|▍         | 7/178 [00:04<01:38,  1.74it/s]\u001b[A\u001b[A\u001b[A\u001b[A"
     ]
    },
    {
     "name": "stdout",
     "output_type": "stream",
     "text": [
      "file: liv.per99.txt total words: 103 with 0 transliterated Greek words: []\n"
     ]
    },
    {
     "name": "stderr",
     "output_type": "stream",
     "text": [
      "\n",
      "\n",
      "\n",
      "\n",
      "  4%|▍         | 8/178 [00:04<01:37,  1.75it/s]\u001b[A\u001b[A\u001b[A\u001b[A"
     ]
    },
    {
     "name": "stdout",
     "output_type": "stream",
     "text": [
      "file: liv.per101.txt total words: 77 with 0 transliterated Greek words: []\n"
     ]
    },
    {
     "name": "stderr",
     "output_type": "stream",
     "text": [
      "\n",
      "\n",
      "\n",
      "\n",
      "  5%|▌         | 9/178 [00:05<01:36,  1.76it/s]\u001b[A\u001b[A\u001b[A\u001b[A"
     ]
    },
    {
     "name": "stdout",
     "output_type": "stream",
     "text": [
      "file: liv.per115.txt total words: 77 with 0 transliterated Greek words: []\n"
     ]
    },
    {
     "name": "stderr",
     "output_type": "stream",
     "text": [
      "\n",
      "\n",
      "\n",
      "\n",
      "  6%|▌         | 10/178 [00:05<01:35,  1.77it/s]\u001b[A\u001b[A\u001b[A\u001b[A"
     ]
    },
    {
     "name": "stdout",
     "output_type": "stream",
     "text": [
      "file: liv.per72.txt total words: 70 with 0 transliterated Greek words: []\n"
     ]
    },
    {
     "name": "stderr",
     "output_type": "stream",
     "text": [
      "\n",
      "\n",
      "\n",
      "\n",
      "  6%|▌         | 11/178 [00:06<01:34,  1.77it/s]\u001b[A\u001b[A\u001b[A\u001b[A"
     ]
    },
    {
     "name": "stdout",
     "output_type": "stream",
     "text": [
      "file: liv.per129.txt total words: 80 with 0 transliterated Greek words: []\n"
     ]
    },
    {
     "name": "stderr",
     "output_type": "stream",
     "text": [
      "\n",
      "\n",
      "\n",
      "\n",
      "  7%|▋         | 12/178 [00:06<01:32,  1.79it/s]\u001b[A\u001b[A\u001b[A\u001b[A"
     ]
    },
    {
     "name": "stdout",
     "output_type": "stream",
     "text": [
      "file: liv.per66.txt total words: 41 with 0 transliterated Greek words: []\n"
     ]
    },
    {
     "name": "stderr",
     "output_type": "stream",
     "text": [
      "\n",
      "\n",
      "\n",
      "\n",
      "  7%|▋         | 13/178 [00:07<01:31,  1.80it/s]\u001b[A\u001b[A\u001b[A\u001b[A"
     ]
    },
    {
     "name": "stdout",
     "output_type": "stream",
     "text": [
      "file: liv.per136-7.txt total words: 4 with 0 transliterated Greek words: []\n"
     ]
    },
    {
     "name": "stderr",
     "output_type": "stream",
     "text": [
      "\n",
      "\n",
      "\n",
      "\n",
      "  8%|▊         | 14/178 [00:07<01:31,  1.79it/s]\u001b[A\u001b[A\u001b[A\u001b[A"
     ]
    },
    {
     "name": "stdout",
     "output_type": "stream",
     "text": [
      "file: liv.per70.txt total words: 151 with 1 transliterated Greek words: ['Ariobarzanes']\n"
     ]
    },
    {
     "name": "stderr",
     "output_type": "stream",
     "text": [
      "\n",
      "\n",
      "\n",
      "\n",
      "  8%|▊         | 15/178 [00:08<01:31,  1.78it/s]\u001b[A\u001b[A\u001b[A\u001b[A"
     ]
    },
    {
     "name": "stdout",
     "output_type": "stream",
     "text": [
      "file: liv.per64.txt total words: 111 with 0 transliterated Greek words: []\n"
     ]
    },
    {
     "name": "stderr",
     "output_type": "stream",
     "text": [
      "\n",
      "\n",
      "\n",
      "\n",
      "  9%|▉         | 16/178 [00:09<01:32,  1.75it/s]\u001b[A\u001b[A\u001b[A\u001b[A"
     ]
    },
    {
     "name": "stdout",
     "output_type": "stream",
     "text": [
      "file: liv.per103.txt total words: 140 with 0 transliterated Greek words: []\n"
     ]
    },
    {
     "name": "stderr",
     "output_type": "stream",
     "text": [
      "\n",
      "\n",
      "\n",
      "\n",
      " 10%|▉         | 17/178 [00:09<01:32,  1.75it/s]\u001b[A\u001b[A\u001b[A\u001b[A"
     ]
    },
    {
     "name": "stdout",
     "output_type": "stream",
     "text": [
      "file: liv.per58.txt total words: 198 with 0 transliterated Greek words: []\n"
     ]
    },
    {
     "name": "stderr",
     "output_type": "stream",
     "text": [
      "\n",
      "\n",
      "\n",
      "\n",
      " 10%|█         | 18/178 [00:10<01:31,  1.76it/s]\u001b[A\u001b[A\u001b[A\u001b[A"
     ]
    },
    {
     "name": "stdout",
     "output_type": "stream",
     "text": [
      "file: liv.per117.txt total words: 125 with 0 transliterated Greek words: []\n"
     ]
    },
    {
     "name": "stderr",
     "output_type": "stream",
     "text": [
      "\n",
      "\n",
      "\n",
      "\n",
      " 11%|█         | 19/178 [00:10<01:31,  1.75it/s]\u001b[A\u001b[A\u001b[A\u001b[A"
     ]
    },
    {
     "name": "stdout",
     "output_type": "stream",
     "text": [
      "file: liv.per116.txt total words: 182 with 0 transliterated Greek words: []\n"
     ]
    },
    {
     "name": "stderr",
     "output_type": "stream",
     "text": [
      "\n",
      "\n",
      "\n",
      "\n",
      " 11%|█         | 20/178 [00:11<01:31,  1.74it/s]\u001b[A\u001b[A\u001b[A\u001b[A"
     ]
    },
    {
     "name": "stdout",
     "output_type": "stream",
     "text": [
      "file: liv.per59.txt total words: 339 with 0 transliterated Greek words: []\n"
     ]
    },
    {
     "name": "stderr",
     "output_type": "stream",
     "text": [
      "\n",
      "\n",
      "\n",
      "\n",
      " 12%|█▏        | 21/178 [00:11<01:29,  1.75it/s]\u001b[A\u001b[A\u001b[A\u001b[A"
     ]
    },
    {
     "name": "stdout",
     "output_type": "stream",
     "text": [
      "file: liv.per102.txt total words: 97 with 0 transliterated Greek words: []\n"
     ]
    },
    {
     "name": "stderr",
     "output_type": "stream",
     "text": [
      "\n",
      "\n",
      "\n",
      "\n",
      " 12%|█▏        | 22/178 [00:12<01:28,  1.76it/s]\u001b[A\u001b[A\u001b[A\u001b[A"
     ]
    },
    {
     "name": "stdout",
     "output_type": "stream",
     "text": [
      "file: liv.per65.txt total words: 72 with 0 transliterated Greek words: []\n"
     ]
    },
    {
     "name": "stderr",
     "output_type": "stream",
     "text": [
      "\n",
      "\n",
      "\n",
      "\n",
      " 13%|█▎        | 23/178 [00:13<01:27,  1.78it/s]\u001b[A\u001b[A\u001b[A\u001b[A"
     ]
    },
    {
     "name": "stdout",
     "output_type": "stream",
     "text": [
      "file: liv.per71.txt total words: 83 with 0 transliterated Greek words: []\n"
     ]
    },
    {
     "name": "stderr",
     "output_type": "stream",
     "text": [
      "\n",
      "\n",
      "\n",
      "\n",
      " 13%|█▎        | 24/178 [00:13<01:26,  1.77it/s]\u001b[A\u001b[A\u001b[A\u001b[A"
     ]
    },
    {
     "name": "stdout",
     "output_type": "stream",
     "text": [
      "file: liv.per106.txt total words: 111 with 0 transliterated Greek words: []\n"
     ]
    },
    {
     "name": "stderr",
     "output_type": "stream",
     "text": [
      "\n",
      "\n",
      "\n",
      "\n",
      " 14%|█▍        | 25/178 [00:14<01:28,  1.73it/s]\u001b[A\u001b[A\u001b[A\u001b[A"
     ]
    },
    {
     "name": "stdout",
     "output_type": "stream",
     "text": [
      "file: liv.per49.txt total words: 706 with 0 transliterated Greek words: []\n"
     ]
    },
    {
     "name": "stderr",
     "output_type": "stream",
     "text": [
      "\n",
      "\n",
      "\n",
      "\n",
      " 15%|█▍        | 26/178 [00:14<01:27,  1.73it/s]\u001b[A\u001b[A\u001b[A\u001b[A"
     ]
    },
    {
     "name": "stdout",
     "output_type": "stream",
     "text": [
      "file: liv.per112.txt total words: 129 with 0 transliterated Greek words: []\n"
     ]
    },
    {
     "name": "stderr",
     "output_type": "stream",
     "text": [
      "\n",
      "\n",
      "\n",
      "\n",
      " 15%|█▌        | 27/178 [00:15<01:27,  1.73it/s]\u001b[A\u001b[A\u001b[A\u001b[A"
     ]
    },
    {
     "name": "stdout",
     "output_type": "stream",
     "text": [
      "file: liv.per75.txt total words: 96 with 0 transliterated Greek words: []\n"
     ]
    },
    {
     "name": "stderr",
     "output_type": "stream",
     "text": [
      "\n",
      "\n",
      "\n",
      "\n",
      " 16%|█▌        | 28/178 [00:15<01:26,  1.73it/s]\u001b[A\u001b[A\u001b[A\u001b[A"
     ]
    },
    {
     "name": "stdout",
     "output_type": "stream",
     "text": [
      "file: liv.per61.txt total words: 150 with 0 transliterated Greek words: []\n"
     ]
    },
    {
     "name": "stderr",
     "output_type": "stream",
     "text": [
      "\n",
      "\n",
      "\n",
      "\n",
      " 16%|█▋        | 29/178 [00:16<01:26,  1.73it/s]\u001b[A\u001b[A\u001b[A\u001b[A"
     ]
    },
    {
     "name": "stdout",
     "output_type": "stream",
     "text": [
      "file: liv.per60.txt total words: 206 with 0 transliterated Greek words: []\n"
     ]
    },
    {
     "name": "stderr",
     "output_type": "stream",
     "text": [
      "\n",
      "\n",
      "\n",
      "\n",
      " 17%|█▋        | 30/178 [00:17<01:24,  1.75it/s]\u001b[A\u001b[A\u001b[A\u001b[A"
     ]
    },
    {
     "name": "stdout",
     "output_type": "stream",
     "text": [
      "file: liv.per74.txt total words: 88 with 1 transliterated Greek words: ['Ariobarzanes']\n"
     ]
    },
    {
     "name": "stderr",
     "output_type": "stream",
     "text": [
      "\n",
      "\n",
      "\n",
      "\n",
      " 17%|█▋        | 31/178 [00:17<01:23,  1.75it/s]\u001b[A\u001b[A\u001b[A\u001b[A"
     ]
    },
    {
     "name": "stdout",
     "output_type": "stream",
     "text": [
      "file: liv.per113.txt total words: 129 with 0 transliterated Greek words: []\n"
     ]
    },
    {
     "name": "stderr",
     "output_type": "stream",
     "text": [
      "\n",
      "\n",
      "\n",
      "\n",
      " 18%|█▊        | 32/178 [00:18<01:25,  1.71it/s]\u001b[A\u001b[A\u001b[A\u001b[A"
     ]
    },
    {
     "name": "stdout",
     "output_type": "stream",
     "text": [
      "file: liv.per48.txt total words: 511 with 0 transliterated Greek words: []\n"
     ]
    },
    {
     "name": "stderr",
     "output_type": "stream",
     "text": [
      "\n",
      "\n",
      "\n",
      "\n",
      " 19%|█▊        | 33/178 [00:18<01:25,  1.70it/s]\u001b[A\u001b[A\u001b[A\u001b[A"
     ]
    },
    {
     "name": "stdout",
     "output_type": "stream",
     "text": [
      "file: liv.per107.txt total words: 133 with 0 transliterated Greek words: []\n"
     ]
    },
    {
     "name": "stderr",
     "output_type": "stream",
     "text": [
      "\n",
      "\n",
      "\n",
      "\n",
      " 19%|█▉        | 34/178 [00:19<01:24,  1.71it/s]\u001b[A\u001b[A\u001b[A\u001b[A"
     ]
    },
    {
     "name": "stdout",
     "output_type": "stream",
     "text": [
      "file: liv.per111.txt total words: 106 with 0 transliterated Greek words: []\n"
     ]
    },
    {
     "name": "stderr",
     "output_type": "stream",
     "text": [
      "\n",
      "\n",
      "\n",
      "\n",
      " 20%|█▉        | 35/178 [00:20<01:23,  1.71it/s]\u001b[A\u001b[A\u001b[A\u001b[A"
     ]
    },
    {
     "name": "stdout",
     "output_type": "stream",
     "text": [
      "file: liv.per105.txt total words: 94 with 0 transliterated Greek words: []\n"
     ]
    },
    {
     "name": "stderr",
     "output_type": "stream",
     "text": [
      "\n",
      "\n",
      "\n",
      "\n",
      " 20%|██        | 36/178 [00:20<01:22,  1.72it/s]\u001b[A\u001b[A\u001b[A\u001b[A"
     ]
    },
    {
     "name": "stdout",
     "output_type": "stream",
     "text": [
      "file: liv.per62.txt total words: 57 with 0 transliterated Greek words: []\n"
     ]
    },
    {
     "name": "stderr",
     "output_type": "stream",
     "text": [
      "\n",
      "\n",
      "\n",
      "\n",
      " 21%|██        | 37/178 [00:21<01:21,  1.74it/s]\u001b[A\u001b[A\u001b[A\u001b[A"
     ]
    },
    {
     "name": "stdout",
     "output_type": "stream",
     "text": [
      "file: liv.per139.txt total words: 35 with 0 transliterated Greek words: []\n"
     ]
    },
    {
     "name": "stderr",
     "output_type": "stream",
     "text": [
      "\n",
      "\n",
      "\n",
      "\n",
      " 21%|██▏       | 38/178 [00:21<01:20,  1.74it/s]\u001b[A\u001b[A\u001b[A\u001b[A"
     ]
    },
    {
     "name": "stdout",
     "output_type": "stream",
     "text": [
      "file: liv.per76.txt total words: 87 with 1 transliterated Greek words: ['Ariobarzanes']\n"
     ]
    },
    {
     "name": "stderr",
     "output_type": "stream",
     "text": [
      "\n",
      "\n",
      "\n",
      "\n",
      " 22%|██▏       | 39/178 [00:22<01:20,  1.73it/s]\u001b[A\u001b[A\u001b[A\u001b[A"
     ]
    },
    {
     "name": "stdout",
     "output_type": "stream",
     "text": [
      "file: liv.per89.txt total words: 247 with 0 transliterated Greek words: []\n"
     ]
    },
    {
     "name": "stderr",
     "output_type": "stream",
     "text": [
      "\n",
      "\n",
      "\n",
      "\n",
      " 22%|██▏       | 40/178 [00:22<01:20,  1.72it/s]\u001b[A\u001b[A\u001b[A\u001b[A"
     ]
    },
    {
     "name": "stdout",
     "output_type": "stream",
     "text": [
      "file: liv.per88.txt total words: 125 with 0 transliterated Greek words: []\n"
     ]
    },
    {
     "name": "stderr",
     "output_type": "stream",
     "text": [
      "\n",
      "\n",
      "\n",
      "\n",
      " 23%|██▎       | 41/178 [00:23<01:19,  1.73it/s]\u001b[A\u001b[A\u001b[A\u001b[A"
     ]
    },
    {
     "name": "stdout",
     "output_type": "stream",
     "text": [
      "file: liv.per77.txt total words: 182 with 0 transliterated Greek words: []\n"
     ]
    },
    {
     "name": "stderr",
     "output_type": "stream",
     "text": [
      "\n",
      "\n",
      "\n",
      "\n",
      " 24%|██▎       | 42/178 [00:24<01:17,  1.75it/s]\u001b[A\u001b[A\u001b[A\u001b[A"
     ]
    },
    {
     "name": "stdout",
     "output_type": "stream",
     "text": [
      "file: liv.per138.txt total words: 18 with 0 transliterated Greek words: []\n"
     ]
    },
    {
     "name": "stderr",
     "output_type": "stream",
     "text": [
      "\n",
      "\n",
      "\n",
      "\n",
      " 24%|██▍       | 43/178 [00:24<01:17,  1.74it/s]\u001b[A\u001b[A\u001b[A\u001b[A"
     ]
    },
    {
     "name": "stdout",
     "output_type": "stream",
     "text": [
      "file: liv.per63.txt total words: 69 with 0 transliterated Greek words: []\n"
     ]
    },
    {
     "name": "stderr",
     "output_type": "stream",
     "text": [
      "\n",
      "\n",
      "\n",
      "\n",
      " 25%|██▍       | 44/178 [00:25<01:18,  1.71it/s]\u001b[A\u001b[A\u001b[A\u001b[A"
     ]
    },
    {
     "name": "stdout",
     "output_type": "stream",
     "text": [
      "file: liv.per104.txt total words: 164 with 0 transliterated Greek words: []\n"
     ]
    },
    {
     "name": "stderr",
     "output_type": "stream",
     "text": [
      "\n",
      "\n",
      "\n",
      "\n",
      " 25%|██▌       | 45/178 [00:25<01:17,  1.71it/s]\u001b[A\u001b[A\u001b[A\u001b[A"
     ]
    },
    {
     "name": "stdout",
     "output_type": "stream",
     "text": [
      "file: liv.per110.txt total words: 121 with 0 transliterated Greek words: []\n"
     ]
    },
    {
     "name": "stderr",
     "output_type": "stream",
     "text": [
      "\n",
      "\n",
      "\n",
      "\n",
      " 26%|██▌       | 46/178 [00:26<01:17,  1.71it/s]\u001b[A\u001b[A\u001b[A\u001b[A"
     ]
    },
    {
     "name": "stdout",
     "output_type": "stream",
     "text": [
      "file: liv.per7.txt total words: 319 with 0 transliterated Greek words: []\n"
     ]
    },
    {
     "name": "stderr",
     "output_type": "stream",
     "text": [
      "\n",
      "\n",
      "\n",
      "\n",
      " 26%|██▋       | 47/178 [00:27<01:16,  1.70it/s]\u001b[A\u001b[A\u001b[A\u001b[A"
     ]
    },
    {
     "name": "stdout",
     "output_type": "stream",
     "text": [
      "file: liv.per10.txt total words: 117 with 0 transliterated Greek words: []\n"
     ]
    },
    {
     "name": "stderr",
     "output_type": "stream",
     "text": [
      "\n",
      "\n",
      "\n",
      "\n",
      " 27%|██▋       | 48/178 [00:27<01:16,  1.70it/s]\u001b[A\u001b[A\u001b[A\u001b[A"
     ]
    },
    {
     "name": "stdout",
     "output_type": "stream",
     "text": [
      "file: liv.per38.txt total words: 247 with 1 transliterated Greek words: ['Tolostobogios']\n"
     ]
    },
    {
     "name": "stderr",
     "output_type": "stream",
     "text": [
      "\n",
      "\n",
      "\n",
      "\n",
      " 28%|██▊       | 49/178 [00:28<01:15,  1.71it/s]\u001b[A\u001b[A\u001b[A\u001b[A"
     ]
    },
    {
     "name": "stdout",
     "output_type": "stream",
     "text": [
      "file: liv.per39.txt total words: 205 with 0 transliterated Greek words: []\n"
     ]
    },
    {
     "name": "stderr",
     "output_type": "stream",
     "text": [
      "\n",
      "\n",
      "\n",
      "\n",
      " 28%|██▊       | 50/178 [00:28<01:14,  1.71it/s]\u001b[A\u001b[A\u001b[A\u001b[A"
     ]
    },
    {
     "name": "stdout",
     "output_type": "stream",
     "text": [
      "file: liv.per11.txt total words: 198 with 0 transliterated Greek words: []\n"
     ]
    },
    {
     "name": "stderr",
     "output_type": "stream",
     "text": [
      "\n",
      "\n",
      "\n",
      "\n",
      " 29%|██▊       | 51/178 [00:29<01:14,  1.71it/s]\u001b[A\u001b[A\u001b[A\u001b[A"
     ]
    },
    {
     "name": "stdout",
     "output_type": "stream",
     "text": [
      "file: liv.per6.txt total words: 107 with 0 transliterated Greek words: []\n"
     ]
    },
    {
     "name": "stderr",
     "output_type": "stream",
     "text": [
      "\n",
      "\n",
      "\n",
      "\n",
      " 29%|██▉       | 52/178 [00:29<01:14,  1.69it/s]\u001b[A\u001b[A\u001b[A\u001b[A"
     ]
    },
    {
     "name": "stdout",
     "output_type": "stream",
     "text": [
      "file: liv.per4.txt total words: 187 with 0 transliterated Greek words: []\n"
     ]
    },
    {
     "name": "stderr",
     "output_type": "stream",
     "text": [
      "\n",
      "\n",
      "\n",
      "\n",
      " 30%|██▉       | 53/178 [00:30<01:12,  1.72it/s]\u001b[A\u001b[A\u001b[A\u001b[A"
     ]
    },
    {
     "name": "stdout",
     "output_type": "stream",
     "text": [
      "file: liv.per13.txt total words: 166 with 0 transliterated Greek words: []\n"
     ]
    },
    {
     "name": "stderr",
     "output_type": "stream",
     "text": [
      "\n",
      "\n",
      "\n",
      "\n",
      " 30%|███       | 54/178 [00:32<01:56,  1.06it/s]\u001b[A\u001b[A\u001b[A\u001b[A"
     ]
    },
    {
     "name": "stdout",
     "output_type": "stream",
     "text": [
      "file: liv.38.txt total words: 16,992 with 24 transliterated Greek words: ['dein', 'Ephesi', 'dein', 'dein', 'dein', 'Epheso', 'Byzantio', 'Hellesponti', 'dein', 'dein', 'Philopoemen', 'Lacedaemonii', 'Lacedaemonii', 'Lacedaemonii', 'Lacedaemonii', 'Philopoemenis', 'Lacedaemonii', 'Lacedaemonii', 'dein', 'Appropinquanti', 'Epheso', 'Epheso', 'Epheso', 'e']\n"
     ]
    },
    {
     "name": "stderr",
     "output_type": "stream",
     "text": [
      "\n",
      "\n",
      "\n",
      "\n",
      " 31%|███       | 55/178 [00:33<02:21,  1.15s/it]\u001b[A\u001b[A\u001b[A\u001b[A"
     ]
    },
    {
     "name": "stdout",
     "output_type": "stream",
     "text": [
      "file: liv.10.txt total words: 15,286 with 29 transliterated Greek words: ['eis', 'eis', 'dein', 'discrimen', 'discrimen', 'quadringenti', 'eis', 'quadringenti', 'duodeuiginti', 'eis', 'discrimen', 'dein', 'eis', 'eis', 'discrimen', 'discrimen', 'dein', 'dein', 'circumuallaturi', 'circumagendi', 'dein', 'eis', 'integumento', 'eis', 'consentienti', 'quadringenti', 'duodeuiginti', 'quadringenti', 'quadringenti']\n"
     ]
    },
    {
     "name": "stderr",
     "output_type": "stream",
     "text": [
      "\n",
      "\n",
      "\n",
      "\n",
      " 31%|███▏      | 56/178 [00:35<02:38,  1.30s/it]\u001b[A\u001b[A\u001b[A\u001b[A"
     ]
    },
    {
     "name": "stdout",
     "output_type": "stream",
     "text": [
      "file: liv.39.txt total words: 14,682 with 22 transliterated Greek words: ['discrimen', 'praecipitantes', 'transmontanos', 'discrimen', 'inhonoratos', 'Peloponneso', 'Lacedaemonii', 'Philopoemenis', 'Lacedaemonii', 'Lacedaemonii', 'Peloponneso', 'Lacedaemonii', 'Lacedaemonii', 'Lacedaemonii', 'querimonias', 'Lacedaemonii', 'Lacedaemonii', 'Peloponneso', 'Peloponneso', 'Philopoemenis', 'Peloponneso', 'Dentheletos']\n"
     ]
    },
    {
     "name": "stderr",
     "output_type": "stream",
     "text": [
      "\n",
      "\n",
      "\n",
      "\n",
      " 32%|███▏      | 57/178 [00:36<02:10,  1.08s/it]\u001b[A\u001b[A\u001b[A\u001b[A"
     ]
    },
    {
     "name": "stdout",
     "output_type": "stream",
     "text": [
      "file: liv.per12.txt total words: 93 with 0 transliterated Greek words: []\n"
     ]
    },
    {
     "name": "stderr",
     "output_type": "stream",
     "text": [
      "\n",
      "\n",
      "\n",
      "\n",
      " 33%|███▎      | 58/178 [00:36<01:52,  1.07it/s]\u001b[A\u001b[A\u001b[A\u001b[A"
     ]
    },
    {
     "name": "stdout",
     "output_type": "stream",
     "text": [
      "file: liv.per5.txt total words: 293 with 2 transliterated Greek words: ['Ueios', 'Ueios']\n"
     ]
    },
    {
     "name": "stderr",
     "output_type": "stream",
     "text": [
      "\n",
      "\n",
      "\n",
      "\n",
      " 33%|███▎      | 59/178 [00:37<01:39,  1.19it/s]\u001b[A\u001b[A\u001b[A\u001b[A"
     ]
    },
    {
     "name": "stdout",
     "output_type": "stream",
     "text": [
      "file: liv.per1.txt total words: 444 with 0 transliterated Greek words: []\n"
     ]
    },
    {
     "name": "stderr",
     "output_type": "stream",
     "text": [
      "\n",
      "\n",
      "\n",
      "\n",
      " 34%|███▎      | 60/178 [00:39<02:08,  1.09s/it]\u001b[A\u001b[A\u001b[A\u001b[A"
     ]
    },
    {
     "name": "stdout",
     "output_type": "stream",
     "text": [
      "file: liv.9.txt total words: 16,165 with 10 transliterated Greek words: ['eis', 'eis', 'discrimen', 'dein', 'circumueniri', 'dein', 'inclementiori', 'M', 'dein', 'dein']\n"
     ]
    },
    {
     "name": "stderr",
     "output_type": "stream",
     "text": [
      "\n",
      "\n",
      "\n",
      "\n",
      " 34%|███▍      | 61/178 [00:39<01:49,  1.07it/s]\u001b[A\u001b[A\u001b[A\u001b[A"
     ]
    },
    {
     "name": "stdout",
     "output_type": "stream",
     "text": [
      "file: liv.per16.txt total words: 82 with 0 transliterated Greek words: []\n"
     ]
    },
    {
     "name": "stderr",
     "output_type": "stream",
     "text": [
      "\n",
      "\n",
      "\n",
      "\n",
      " 35%|███▍      | 62/178 [00:41<02:06,  1.09s/it]\u001b[A\u001b[A\u001b[A\u001b[A"
     ]
    },
    {
     "name": "stdout",
     "output_type": "stream",
     "text": [
      "file: liv.29.txt total words: 12,385 with 19 transliterated Greek words: ['dissimulasti', 'dein', 'dein', 'praesidiarii', 'dein', 'dein', 'detulissentne', 'dein', 'Carthaginiensi', 'dein', 'Carthaginiensi', 'Oezalcem', 'Lacumaze', 'dein', 'Lacumazes', 'Oezalces', 'Lacumaze', 'Oezalcem', 'Carthaginiensi']\n"
     ]
    },
    {
     "name": "stderr",
     "output_type": "stream",
     "text": [
      "\n",
      "\n",
      "\n",
      "\n",
      " 35%|███▌      | 63/178 [00:42<02:30,  1.30s/it]\u001b[A\u001b[A\u001b[A\u001b[A"
     ]
    },
    {
     "name": "stdout",
     "output_type": "stream",
     "text": [
      "file: liv.28.txt total words: 16,850 with 23 transliterated Greek words: ['eis', 'Carthaginiensi', 'eis', 'dein', 'quinquagenos', 'dein', 'eis', 'eis', 'dein', 'dein', 'eis', 'eis', 'circumspectantes', 'consociaturi', 'eis', 'discrimen', 'Carthaginiensi', 'renuntiaturi', 'eis', 'dissentienti', 'Carthaginiensi', 'discrimen', 'Carthaginiensi']\n"
     ]
    },
    {
     "name": "stderr",
     "output_type": "stream",
     "text": [
      "\n",
      "\n",
      "\n",
      "\n",
      " 36%|███▌      | 64/178 [00:43<02:04,  1.09s/it]\u001b[A\u001b[A\u001b[A\u001b[A"
     ]
    },
    {
     "name": "stdout",
     "output_type": "stream",
     "text": [
      "file: liv.per17.txt total words: 115 with 0 transliterated Greek words: []\n"
     ]
    },
    {
     "name": "stderr",
     "output_type": "stream",
     "text": [
      "\n",
      "\n",
      "\n",
      "\n",
      " 37%|███▋      | 65/178 [00:45<02:21,  1.25s/it]\u001b[A\u001b[A\u001b[A\u001b[A"
     ]
    },
    {
     "name": "stdout",
     "output_type": "stream",
     "text": [
      "file: liv.8.txt total words: 13,066 with 23 transliterated Greek words: ['eis', 'dein', 'eis', 'eis', 'eis', 'dein', 'discrimen', 'eis', 'eis', 'eis', 'quinquagenos', 'eis', 'eis', 'eis', 'Ueios', 'eis', 'eis', 'discrimen', 'dein', 'discrimen', 'eis', 'eis', 'antesignanos']\n"
     ]
    },
    {
     "name": "stderr",
     "output_type": "stream",
     "text": [
      "\n",
      "\n",
      "\n",
      "\n",
      " 37%|███▋      | 66/178 [00:45<01:58,  1.06s/it]\u001b[A\u001b[A\u001b[A\u001b[A"
     ]
    },
    {
     "name": "stdout",
     "output_type": "stream",
     "text": [
      "file: liv.per2.txt total words: 453 with 0 transliterated Greek words: []\n"
     ]
    },
    {
     "name": "stderr",
     "output_type": "stream",
     "text": [
      "\n",
      "\n",
      "\n",
      "\n",
      " 38%|███▊      | 67/178 [00:46<01:41,  1.09it/s]\u001b[A\u001b[A\u001b[A\u001b[A"
     ]
    },
    {
     "name": "stdout",
     "output_type": "stream",
     "text": [
      "file: liv.per29.txt total words: 378 with 0 transliterated Greek words: []\n"
     ]
    },
    {
     "name": "stderr",
     "output_type": "stream",
     "text": [
      "\n",
      "\n",
      "\n",
      "\n",
      " 38%|███▊      | 68/178 [00:46<01:29,  1.23it/s]\u001b[A\u001b[A\u001b[A\u001b[A"
     ]
    },
    {
     "name": "stdout",
     "output_type": "stream",
     "text": [
      "file: liv.per15.txt total words: 65 with 0 transliterated Greek words: []\n"
     ]
    },
    {
     "name": "stderr",
     "output_type": "stream",
     "text": [
      "\n",
      "\n",
      "\n",
      "\n",
      " 39%|███▉      | 69/178 [00:47<01:20,  1.35it/s]\u001b[A\u001b[A\u001b[A\u001b[A"
     ]
    },
    {
     "name": "stdout",
     "output_type": "stream",
     "text": [
      "file: liv.per14.txt total words: 117 with 0 transliterated Greek words: []\n"
     ]
    },
    {
     "name": "stderr",
     "output_type": "stream",
     "text": [
      "\n",
      "\n",
      "\n",
      "\n",
      " 39%|███▉      | 70/178 [00:48<01:15,  1.42it/s]\u001b[A\u001b[A\u001b[A\u001b[A"
     ]
    },
    {
     "name": "stdout",
     "output_type": "stream",
     "text": [
      "file: liv.per28.txt total words: 272 with 0 transliterated Greek words: []\n"
     ]
    },
    {
     "name": "stderr",
     "output_type": "stream",
     "text": [
      "\n",
      "\n",
      "\n",
      "\n",
      " 40%|███▉      | 71/178 [00:48<01:10,  1.51it/s]\u001b[A\u001b[A\u001b[A\u001b[A"
     ]
    },
    {
     "name": "stdout",
     "output_type": "stream",
     "text": [
      "file: liv.per3.txt total words: 257 with 0 transliterated Greek words: []\n"
     ]
    },
    {
     "name": "stderr",
     "output_type": "stream",
     "text": [
      "\n",
      "\n",
      "\n",
      "\n",
      " 40%|████      | 72/178 [00:49<01:08,  1.54it/s]\u001b[A\u001b[A\u001b[A\u001b[A"
     ]
    },
    {
     "name": "stdout",
     "output_type": "stream",
     "text": [
      "file: liv.per25.txt total words: 215 with 0 transliterated Greek words: []\n"
     ]
    },
    {
     "name": "stderr",
     "output_type": "stream",
     "text": [
      "\n",
      "\n",
      "\n",
      "\n",
      " 41%|████      | 73/178 [00:50<01:36,  1.09it/s]\u001b[A\u001b[A\u001b[A\u001b[A"
     ]
    },
    {
     "name": "stdout",
     "output_type": "stream",
     "text": [
      "file: liv.6.txt total words: 13,487 with 16 transliterated Greek words: ['eis', 'Ueios', 'Ueios', 'antesignanos', 'eis', 'Ueios', 'eis', 'dein', 'quous', 'eis', 'eis', 'eis', 'dein', 'praecipitauere', 'eis', 'eis']\n"
     ]
    },
    {
     "name": "stderr",
     "output_type": "stream",
     "text": [
      "\n",
      "\n",
      "\n",
      "\n",
      " 42%|████▏     | 74/178 [00:51<01:24,  1.23it/s]\u001b[A\u001b[A\u001b[A\u001b[A"
     ]
    },
    {
     "name": "stdout",
     "output_type": "stream",
     "text": [
      "file: liv.per31.txt total words: 180 with 0 transliterated Greek words: []\n"
     ]
    },
    {
     "name": "stderr",
     "output_type": "stream",
     "text": [
      "\n",
      "\n",
      "\n",
      "\n",
      " 42%|████▏     | 75/178 [00:51<01:16,  1.35it/s]\u001b[A\u001b[A\u001b[A\u001b[A"
     ]
    },
    {
     "name": "stdout",
     "output_type": "stream",
     "text": [
      "file: liv.per19.txt total words: 193 with 0 transliterated Greek words: []\n"
     ]
    },
    {
     "name": "stderr",
     "output_type": "stream",
     "text": [
      "\n",
      "\n",
      "\n",
      "\n",
      " 43%|████▎     | 76/178 [00:52<01:10,  1.45it/s]\u001b[A\u001b[A\u001b[A\u001b[A"
     ]
    },
    {
     "name": "stdout",
     "output_type": "stream",
     "text": [
      "file: liv.per142.txt total words: 50 with 0 transliterated Greek words: []\n"
     ]
    },
    {
     "name": "stderr",
     "output_type": "stream",
     "text": [
      "\n",
      "\n",
      "\n",
      "\n",
      " 43%|████▎     | 77/178 [00:54<01:41,  1.01s/it]\u001b[A\u001b[A\u001b[A\u001b[A"
     ]
    },
    {
     "name": "stdout",
     "output_type": "stream",
     "text": [
      "file: liv.26.txt total words: 17,088 with 25 transliterated Greek words: ['eis', 'qualemcun', 'transgredientes', 'duodeuiginti', 'dein', 'eis', 'quacun', 'eis', 'eis', 'eis', 'Lacedaemonii', 'eis', 'eis', 'praetereunti', 'quodcun', 'eis', 'dein', 'eis', 'dein', 'dein', 'eis', 'discrimen', 'eis', 'scorpionumsex', 'eis']\n"
     ]
    },
    {
     "name": "stderr",
     "output_type": "stream",
     "text": [
      "\n",
      "\n",
      "\n",
      "\n",
      " 44%|████▍     | 78/178 [00:55<01:50,  1.11s/it]\u001b[A\u001b[A\u001b[A\u001b[A"
     ]
    },
    {
     "name": "stdout",
     "output_type": "stream",
     "text": [
      "file: liv.32.txt total words: 10,766 with 10 transliterated Greek words: ['dein', 'dein', 'dein', 'Peloponneso', 'Lacedaemonii', 'Megalopolitanos', 'times', 'eis', 'dein', 'descissehilocles']\n"
     ]
    },
    {
     "name": "stderr",
     "output_type": "stream",
     "text": [
      "\n",
      "\n",
      "\n",
      "\n",
      " 44%|████▍     | 79/178 [00:57<01:59,  1.20s/it]\u001b[A\u001b[A\u001b[A\u001b[A"
     ]
    },
    {
     "name": "stdout",
     "output_type": "stream",
     "text": [
      "file: liv.33.txt total words: 11,631 with 11 transliterated Greek words: ['dein', 'dein', 'discrimen', 'transgredientes', 'antesignanos', 'Ephesi', 'Epheso', 'Epheso', 'supplementi', 'Peloponneso', 'Ephesi']\n"
     ]
    },
    {
     "name": "stderr",
     "output_type": "stream",
     "text": [
      "\n",
      "\n",
      "\n",
      "\n",
      " 45%|████▍     | 80/178 [00:58<02:17,  1.40s/it]\u001b[A\u001b[A\u001b[A\u001b[A"
     ]
    },
    {
     "name": "stdout",
     "output_type": "stream",
     "text": [
      "file: liv.27.txt total words: 17,376 with 15 transliterated Greek words: ['Carthaginiensi', 'dein', 'Q', 'duodeuiginti', 'mediterranei', 'extraordinarii', 'dein', 'dein', 'interroganti', 'duodeuiginti', 'duodeuiginti', 'dein', 'uituperarentne', 'antesignanos', 'quadringenti']\n"
     ]
    },
    {
     "name": "stderr",
     "output_type": "stream",
     "text": [
      "\n",
      "\n",
      "\n",
      "\n",
      " 46%|████▌     | 81/178 [00:59<01:51,  1.15s/it]\u001b[A\u001b[A\u001b[A\u001b[A"
     ]
    },
    {
     "name": "stdout",
     "output_type": "stream",
     "text": [
      "file: liv.per18.txt total words: 160 with 0 transliterated Greek words: []\n"
     ]
    },
    {
     "name": "stderr",
     "output_type": "stream",
     "text": [
      "\n",
      "\n",
      "\n",
      "\n",
      " 46%|████▌     | 82/178 [01:00<01:34,  1.02it/s]\u001b[A\u001b[A\u001b[A\u001b[A"
     ]
    },
    {
     "name": "stdout",
     "output_type": "stream",
     "text": [
      "file: liv.per30.txt total words: 184 with 0 transliterated Greek words: []\n"
     ]
    },
    {
     "name": "stderr",
     "output_type": "stream",
     "text": [
      "\n",
      "\n",
      "\n",
      "\n",
      " 47%|████▋     | 83/178 [01:01<01:49,  1.15s/it]\u001b[A\u001b[A\u001b[A\u001b[A"
     ]
    },
    {
     "name": "stdout",
     "output_type": "stream",
     "text": [
      "file: liv.7.txt total words: 13,288 with 12 transliterated Greek words: ['M', 'eis', 'discrimen', 'eis', 'alioquin', 'dein', 'reciperaturi', 'dein', 'L', 'existimaturi', 'antesignanos', 'instrumento']\n"
     ]
    },
    {
     "name": "stderr",
     "output_type": "stream",
     "text": [
      "\n",
      "\n",
      "\n",
      "\n",
      " 47%|████▋     | 84/178 [01:02<01:32,  1.02it/s]\u001b[A\u001b[A\u001b[A\u001b[A"
     ]
    },
    {
     "name": "stdout",
     "output_type": "stream",
     "text": [
      "file: liv.per24.txt total words: 141 with 0 transliterated Greek words: []\n"
     ]
    },
    {
     "name": "stderr",
     "output_type": "stream",
     "text": [
      "\n",
      "\n",
      "\n",
      "\n",
      " 48%|████▊     | 85/178 [01:03<01:52,  1.21s/it]\u001b[A\u001b[A\u001b[A\u001b[A"
     ]
    },
    {
     "name": "stdout",
     "output_type": "stream",
     "text": [
      "file: liv.5.txt total words: 16,315 with 63 transliterated Greek words: ['eis', 'ede', 'Ueios', 'Ueios', 'eis', 'Ueios', 'discrimen', 'Ueios', 'Ueios', 'Ueios', 'Ueios', 'Ueios', 'Ueios', 'Ueios', 'Ueios', 'discrimen', 'Ueios', 'Ueios', 'praedamnatos', 'transferendi', 'Ueios', 'praetereundi', 'Ueios', 'Ueios', 'praecipitauere', 'Ueios', 'Ueios', 'Ueios', 'Ueios', 'Ueios', 'Ueios', 'Ueios', 'Ueios', 'Ueios', 'Ueios', 'Ueios', 'Ueios', 'Ueios', 'Ueios', 'Ueios', 'Ueios', 'eis', 'Ueios', 'eis', 'extraordinarii', 'circumueniri', 'Ueios', 'Ueios', 'eis', 'Ueios', 'Ueios', 'Ueios', 'Ueios', 'Ueios', 'Ueios', 'Ueios', 'Ueios', 'Ueios', 'Ueios', 'Ueios', 'Ueios', 'Ueios', 'Ueios']\n"
     ]
    },
    {
     "name": "stderr",
     "output_type": "stream",
     "text": [
      "\n",
      "\n",
      "\n",
      "\n",
      " 48%|████▊     | 86/178 [01:04<01:33,  1.02s/it]\u001b[A\u001b[A\u001b[A\u001b[A"
     ]
    },
    {
     "name": "stdout",
     "output_type": "stream",
     "text": [
      "file: liv.per32.txt total words: 108 with 0 transliterated Greek words: []\n"
     ]
    },
    {
     "name": "stderr",
     "output_type": "stream",
     "text": [
      "\n",
      "\n",
      "\n",
      "\n",
      " 49%|████▉     | 87/178 [01:05<01:20,  1.13it/s]\u001b[A\u001b[A\u001b[A\u001b[A"
     ]
    },
    {
     "name": "stdout",
     "output_type": "stream",
     "text": [
      "file: liv.per26.txt total words: 172 with 0 transliterated Greek words: []\n"
     ]
    },
    {
     "name": "stderr",
     "output_type": "stream",
     "text": [
      "\n",
      "\n",
      "\n",
      "\n",
      " 49%|████▉     | 88/178 [01:05<01:11,  1.26it/s]\u001b[A\u001b[A\u001b[A\u001b[A"
     ]
    },
    {
     "name": "stdout",
     "output_type": "stream",
     "text": [
      "file: liv.per141.txt total words: 45 with 1 transliterated Greek words: ['transrhenanas']\n"
     ]
    },
    {
     "name": "stderr",
     "output_type": "stream",
     "text": [
      "\n",
      "\n",
      "\n",
      "\n",
      " 50%|█████     | 89/178 [01:07<01:33,  1.05s/it]\u001b[A\u001b[A\u001b[A\u001b[A"
     ]
    },
    {
     "name": "stdout",
     "output_type": "stream",
     "text": [
      "file: liv.31.txt total words: 12,815 with 7 transliterated Greek words: ['quadringenti', 'L', 'eis', 'eis', 'Peloponneso', 'utpote', 'dein']\n"
     ]
    },
    {
     "name": "stderr",
     "output_type": "stream",
     "text": [
      "\n",
      "\n",
      "\n",
      "\n",
      " 51%|█████     | 90/178 [01:08<01:47,  1.22s/it]\u001b[A\u001b[A\u001b[A\u001b[A"
     ]
    },
    {
     "name": "stdout",
     "output_type": "stream",
     "text": [
      "file: liv.25.txt total words: 14,686 with 15 transliterated Greek words: ['eis', 'eis', 'Ueios', 'discrimen', 'praecipitauere', 'circumsessuri', 'dein', 'dein', 'duodeuiginti', 'Lacedaemonii', 'dein', 'dein', 'dein', 'Carthaginiensi', 'dein']\n"
     ]
    },
    {
     "name": "stderr",
     "output_type": "stream",
     "text": [
      "\n",
      "\n",
      "\n",
      "\n",
      " 51%|█████     | 91/178 [01:10<01:55,  1.33s/it]\u001b[A\u001b[A\u001b[A\u001b[A"
     ]
    },
    {
     "name": "stdout",
     "output_type": "stream",
     "text": [
      "file: liv.24.txt total words: 14,348 with 60 transliterated Greek words: ['eis', 'eis', 'eis', 'Carthaginiensi', 'Leontinos', 'eis', 'Carthaginiensi', 'eis', 'discrimen', 'duodeuiginti', 'eis', 'eis', 'eis', 'eis', 'dein', 'discrimen', 'quadringenti', 'eis', 'quacun', 'dein', 'dein', 'quaecun', 'eis', 'eis', 'eis', 'eis', 'eis', 'Leontinos', 'eis', 'Leontinos', 'Leontinos', 'Leontinos', 'eis', 'Leontinos', 'eis', 'eis', 'eis', 'dein', 'eis', 'eis', 'eis', 'eis', 'eis', 'Leontinos', 'Leontinos', 'machinamenta', 'dein', 'eis', 'dein', 'ero', 'dein', 'Leontinos', 'Leonta', 'eis', 'a', 'eis', 'eis', 'dein', 'dein', 'eis']\n"
     ]
    },
    {
     "name": "stderr",
     "output_type": "stream",
     "text": [
      "\n",
      "\n",
      "\n",
      "\n",
      " 52%|█████▏    | 92/178 [01:12<02:00,  1.41s/it]\u001b[A\u001b[A\u001b[A\u001b[A"
     ]
    },
    {
     "name": "stdout",
     "output_type": "stream",
     "text": [
      "file: liv.30.txt total words: 13,632 with 21 transliterated Greek words: ['P', 'dein', 'dein', 'dein', 'instrumento', 'utpote', 'transiliendi', 'dein', 'dein', 'Carthaginiensi', 'dein', 'Carthaginiensi', 'interrogandi', 'dein', 'adpropinquanti', 'discrimen', 'discrimen', 'M', 'P', 'transferenti', 'Carthaginiensi']\n"
     ]
    },
    {
     "name": "stderr",
     "output_type": "stream",
     "text": [
      "\n",
      "\n",
      "\n",
      "\n",
      " 52%|█████▏    | 93/178 [01:12<01:38,  1.16s/it]\u001b[A\u001b[A\u001b[A\u001b[A"
     ]
    },
    {
     "name": "stdout",
     "output_type": "stream",
     "text": [
      "file: liv.per140.txt total words: 34 with 0 transliterated Greek words: []\n"
     ]
    },
    {
     "name": "stderr",
     "output_type": "stream",
     "text": [
      "\n",
      "\n",
      "\n",
      "\n",
      " 53%|█████▎    | 94/178 [01:13<01:25,  1.02s/it]\u001b[A\u001b[A\u001b[A\u001b[A"
     ]
    },
    {
     "name": "stdout",
     "output_type": "stream",
     "text": [
      "file: liv.per27.txt total words: 176 with 0 transliterated Greek words: []\n"
     ]
    },
    {
     "name": "stderr",
     "output_type": "stream",
     "text": [
      "\n",
      "\n",
      "\n",
      "\n",
      " 53%|█████▎    | 95/178 [01:13<01:13,  1.13it/s]\u001b[A\u001b[A\u001b[A\u001b[A"
     ]
    },
    {
     "name": "stdout",
     "output_type": "stream",
     "text": [
      "file: liv.per33.txt total words: 107 with 0 transliterated Greek words: []\n"
     ]
    },
    {
     "name": "stderr",
     "output_type": "stream",
     "text": [
      "\n",
      "\n",
      "\n",
      "\n",
      " 54%|█████▍    | 96/178 [01:15<01:34,  1.15s/it]\u001b[A\u001b[A\u001b[A\u001b[A"
     ]
    },
    {
     "name": "stdout",
     "output_type": "stream",
     "text": [
      "file: liv.4.txt total words: 16,830 with 15 transliterated Greek words: ['interroganti', 'discrimen', 'T', 'circumagenti', 'Ueios', 'Ueios', 'Ueios', 'Ueios', 'a', 'Ueios', 'antesignanos', 'Ueios', 'Ueios', 'Ueios', 'Ueios']\n"
     ]
    },
    {
     "name": "stderr",
     "output_type": "stream",
     "text": [
      "\n",
      "\n",
      "\n",
      "\n",
      " 54%|█████▍    | 97/178 [01:16<01:19,  1.02it/s]\u001b[A\u001b[A\u001b[A\u001b[A"
     ]
    },
    {
     "name": "stdout",
     "output_type": "stream",
     "text": [
      "file: liv.per8.txt total words: 232 with 0 transliterated Greek words: []\n"
     ]
    },
    {
     "name": "stderr",
     "output_type": "stream",
     "text": [
      "\n",
      "\n",
      "\n",
      "\n",
      " 55%|█████▌    | 98/178 [01:16<01:08,  1.17it/s]\u001b[A\u001b[A\u001b[A\u001b[A"
     ]
    },
    {
     "name": "stdout",
     "output_type": "stream",
     "text": [
      "file: liv.per37.txt total words: 142 with 0 transliterated Greek words: []\n"
     ]
    },
    {
     "name": "stderr",
     "output_type": "stream",
     "text": [
      "\n",
      "\n",
      "\n",
      "\n",
      " 56%|█████▌    | 99/178 [01:17<01:00,  1.30it/s]\u001b[A\u001b[A\u001b[A\u001b[A"
     ]
    },
    {
     "name": "stdout",
     "output_type": "stream",
     "text": [
      "file: liv.per23.txt total words: 196 with 0 transliterated Greek words: []\n"
     ]
    },
    {
     "name": "stderr",
     "output_type": "stream",
     "text": [
      "\n",
      "\n",
      "\n",
      "\n",
      " 56%|█████▌    | 100/178 [01:19<01:21,  1.04s/it]\u001b[A\u001b[A\u001b[A\u001b[A"
     ]
    },
    {
     "name": "stdout",
     "output_type": "stream",
     "text": [
      "file: liv.34.txt total words: 15,035 with 16 transliterated Greek words: ['intertrimenti', 'Peloponneso', 'Lacedaemonii', 'quadringenti', 'duodeuiginti', 'a', 'Menelai', 'pronuntiasti', 'Lacedaemonii', 'Lacedaemonii', 'Lacedaemonii', 'Lacedaemonii', 'Lacedaemonii', 'dein', 'dein', 'Ephesi']\n"
     ]
    },
    {
     "name": "stderr",
     "output_type": "stream",
     "text": [
      "\n",
      "\n",
      "\n",
      "\n",
      " 57%|█████▋    | 101/178 [01:20<01:36,  1.25s/it]\u001b[A\u001b[A\u001b[A\u001b[A"
     ]
    },
    {
     "name": "stdout",
     "output_type": "stream",
     "text": [
      "file: liv.21.txt total words: 15,827 with 15 transliterated Greek words: ['querimonias', 'e', 'discrimen', 'quadringenti', 'Carthaginiensi', 'Carthaginiensi', 'quadringenti', 'Sedunoueragri', 'circumspectantes', 'reciperaturi', 'dein', 'dein', 'dein', 'dein', 'Q']\n"
     ]
    },
    {
     "name": "stderr",
     "output_type": "stream",
     "text": [
      "\n",
      "\n",
      "\n",
      "\n",
      " 57%|█████▋    | 102/178 [01:22<01:41,  1.33s/it]\u001b[A\u001b[A\u001b[A\u001b[A"
     ]
    },
    {
     "name": "stdout",
     "output_type": "stream",
     "text": [
      "file: liv.35.txt total words: 12,675 with 16 transliterated Greek words: ['praetergressi', 'extraordinarii', 'extraordinarii', 'interequitantes', 'dein', 'Peloponneso', 'Ephesi', 'Epheso', 'antesignanos', 'Peloponneso', 'Philopoemenis', 'dein', 'Lacedaemonii', 'Chalcioecon', 'L', 'praegrauatura']\n"
     ]
    },
    {
     "name": "stderr",
     "output_type": "stream",
     "text": [
      "\n",
      "\n",
      "\n",
      "\n",
      " 58%|█████▊    | 103/178 [01:22<01:23,  1.11s/it]\u001b[A\u001b[A\u001b[A\u001b[A"
     ]
    },
    {
     "name": "stdout",
     "output_type": "stream",
     "text": [
      "file: liv.per22.txt total words: 365 with 1 transliterated Greek words: ['circumposita']\n"
     ]
    },
    {
     "name": "stderr",
     "output_type": "stream",
     "text": [
      "\n",
      "\n",
      "\n",
      "\n",
      " 58%|█████▊    | 104/178 [01:23<01:09,  1.06it/s]\u001b[A\u001b[A\u001b[A\u001b[A"
     ]
    },
    {
     "name": "stdout",
     "output_type": "stream",
     "text": [
      "file: liv.per36.txt total words: 55 with 0 transliterated Greek words: []\n"
     ]
    },
    {
     "name": "stderr",
     "output_type": "stream",
     "text": [
      "\n",
      "\n",
      "\n",
      "\n",
      " 59%|█████▉    | 105/178 [01:25<01:33,  1.28s/it]\u001b[A\u001b[A\u001b[A\u001b[A"
     ]
    },
    {
     "name": "stdout",
     "output_type": "stream",
     "text": [
      "file: liv.1.txt total words: 17,350 with 8 transliterated Greek words: ['dein', 'discrimen', 'Peloponneso', 'dein', 'Ueios', 'circumueniri', 'a', 'existimaturi']\n"
     ]
    },
    {
     "name": "stderr",
     "output_type": "stream",
     "text": [
      "\n",
      "\n",
      "\n",
      "\n",
      " 60%|█████▉    | 106/178 [01:26<01:17,  1.08s/it]\u001b[A\u001b[A\u001b[A\u001b[A"
     ]
    },
    {
     "name": "stdout",
     "output_type": "stream",
     "text": [
      "file: liv.pr.txt total words: 483 with 0 transliterated Greek words: []\n"
     ]
    },
    {
     "name": "stderr",
     "output_type": "stream",
     "text": [
      "\n",
      "\n",
      "\n",
      "\n",
      " 60%|██████    | 107/178 [01:26<01:06,  1.07it/s]\u001b[A\u001b[A\u001b[A\u001b[A"
     ]
    },
    {
     "name": "stdout",
     "output_type": "stream",
     "text": [
      "file: liv.per9.txt total words: 262 with 0 transliterated Greek words: []\n"
     ]
    },
    {
     "name": "stderr",
     "output_type": "stream",
     "text": [
      "\n",
      "\n",
      "\n",
      "\n",
      " 61%|██████    | 108/178 [01:27<00:59,  1.18it/s]\u001b[A\u001b[A\u001b[A\u001b[A"
     ]
    },
    {
     "name": "stdout",
     "output_type": "stream",
     "text": [
      "file: liv.per20.txt total words: 164 with 0 transliterated Greek words: []\n"
     ]
    },
    {
     "name": "stderr",
     "output_type": "stream",
     "text": [
      "\n",
      "\n",
      "\n",
      "\n",
      " 61%|██████    | 109/178 [01:29<01:31,  1.33s/it]\u001b[A\u001b[A\u001b[A\u001b[A"
     ]
    },
    {
     "name": "stdout",
     "output_type": "stream",
     "text": [
      "file: liv.3.txt total words: 20,397 with 10 transliterated Greek words: ['dein', 'tumultuatos', 'discrimen', 'discrimen', 'C', 'dein', 'discrimen', 'interpellato', 'praeterequitantes', 'praecipitauere']\n"
     ]
    },
    {
     "name": "stderr",
     "output_type": "stream",
     "text": [
      "\n",
      "\n",
      "\n",
      "\n",
      " 62%|██████▏   | 110/178 [01:30<01:16,  1.12s/it]\u001b[A\u001b[A\u001b[A\u001b[A"
     ]
    },
    {
     "name": "stdout",
     "output_type": "stream",
     "text": [
      "file: liv.per34.txt total words: 155 with 0 transliterated Greek words: []\n"
     ]
    },
    {
     "name": "stderr",
     "output_type": "stream",
     "text": [
      "\n",
      "\n",
      "\n",
      "\n",
      " 62%|██████▏   | 111/178 [01:32<01:36,  1.44s/it]\u001b[A\u001b[A\u001b[A\u001b[A"
     ]
    },
    {
     "name": "stdout",
     "output_type": "stream",
     "text": [
      "file: liv.23.txt total words: 14,919 with 12 transliterated Greek words: ['eis', 'interroganti', 'M', 'quadringenti', 'Petelinos', 'antesignanos', 'ubicun', 'dein', 'dein', 'dein', 'dein', 'dein']\n"
     ]
    },
    {
     "name": "stderr",
     "output_type": "stream",
     "text": [
      "\n",
      "\n",
      "\n",
      "\n",
      " 63%|██████▎   | 112/178 [01:35<01:54,  1.74s/it]\u001b[A\u001b[A\u001b[A\u001b[A"
     ]
    },
    {
     "name": "stdout",
     "output_type": "stream",
     "text": [
      "file: liv.37.txt total words: 16,390 with 32 transliterated Greek words: ['eis', 'Hellesponti', 'Ephesi', 'percunctanti', 'Ephesi', 'Hellesponti', 'Epheso', 'Ephesi', 'Epheso', 'Ephesi', 'Epheso', 'Epheso', 'discrimen', 'Hellesponti', 'Philopoemenis', 'Hellesponti', 'Epheso', 'Epheso', 'Teios', 'eis', 'dein', 'P', 'dein', 'dein', 'dein', 'quadringenti', 'Epheso', 'quadringenti', 'dein', 'Peloponneso', 'existimaturi', 'Epheso']\n"
     ]
    },
    {
     "name": "stderr",
     "output_type": "stream",
     "text": [
      "\n",
      "\n",
      "\n",
      "\n",
      " 63%|██████▎   | 113/178 [01:36<01:55,  1.78s/it]\u001b[A\u001b[A\u001b[A\u001b[A"
     ]
    },
    {
     "name": "stdout",
     "output_type": "stream",
     "text": [
      "file: liv.36.txt total words: 11,411 with 17 transliterated Greek words: ['supplementi', 'eis', 'eis', 'Peloponneso', 'dein', 'eis', 'appropinquanti', 'Epheso', 'dein', 'utpote', 'Peloponneso', 'discrimen', 'eis', 'Ephesi', 'Ephesi', 'utpote', 'Ephesi']\n"
     ]
    },
    {
     "name": "stderr",
     "output_type": "stream",
     "text": [
      "\n",
      "\n",
      "\n",
      "\n",
      " 64%|██████▍   | 114/178 [01:39<02:06,  1.98s/it]\u001b[A\u001b[A\u001b[A\u001b[A"
     ]
    },
    {
     "name": "stdout",
     "output_type": "stream",
     "text": [
      "file: liv.22.txt total words: 17,401 with 14 transliterated Greek words: ['uou', 'Carthaginiensi', 'dein', 'Ueios', 'instrumento', 'eis', 'dein', 'dein', 'appellauero', 'dein', 'eis', 'superincubanti', 'eis', 'recognoscendi']\n"
     ]
    },
    {
     "name": "stderr",
     "output_type": "stream",
     "text": [
      "\n",
      "\n",
      "\n",
      "\n",
      " 65%|██████▍   | 115/178 [01:40<01:46,  1.69s/it]\u001b[A\u001b[A\u001b[A\u001b[A"
     ]
    },
    {
     "name": "stdout",
     "output_type": "stream",
     "text": [
      "file: liv.per35.txt total words: 188 with 1 transliterated Greek words: ['Ephesi']\n"
     ]
    },
    {
     "name": "stderr",
     "output_type": "stream",
     "text": [
      "\n",
      "\n",
      "\n",
      "\n",
      " 65%|██████▌   | 116/178 [01:44<02:28,  2.39s/it]\u001b[A\u001b[A\u001b[A\u001b[A"
     ]
    },
    {
     "name": "stdout",
     "output_type": "stream",
     "text": [
      "file: liv.2.txt total words: 18,009 with 17 transliterated Greek words: ['dein', 'discrimen', 'dein', 'discrimen', 'praelatos', 'dein', 'ero', 'utpote', 'repraesentatas', 'dein', 'deliberabundi', 'dein', 'praecipitauere', 'Ueios', 'Ueios', 'dein', 'discrimen']\n"
     ]
    },
    {
     "name": "stderr",
     "output_type": "stream",
     "text": [
      "\n",
      "\n",
      "\n",
      "\n",
      " 66%|██████▌   | 117/178 [01:45<02:05,  2.05s/it]\u001b[A\u001b[A\u001b[A\u001b[A"
     ]
    },
    {
     "name": "stdout",
     "output_type": "stream",
     "text": [
      "file: liv.per21.txt total words: 127 with 0 transliterated Greek words: []\n"
     ]
    },
    {
     "name": "stderr",
     "output_type": "stream",
     "text": [
      "\n",
      "\n",
      "\n",
      "\n",
      " 66%|██████▋   | 118/178 [01:46<01:47,  1.79s/it]\u001b[A\u001b[A\u001b[A\u001b[A"
     ]
    },
    {
     "name": "stdout",
     "output_type": "stream",
     "text": [
      "file: liv.per46.txt total words: 206 with 0 transliterated Greek words: []\n"
     ]
    },
    {
     "name": "stderr",
     "output_type": "stream",
     "text": [
      "\n",
      "\n",
      "\n",
      "\n",
      " 67%|██████▋   | 119/178 [01:47<01:29,  1.51s/it]\u001b[A\u001b[A\u001b[A\u001b[A"
     ]
    },
    {
     "name": "stdout",
     "output_type": "stream",
     "text": [
      "file: liv.per109.txt total words: 94 with 1 transliterated Greek words: ['dein']\n"
     ]
    },
    {
     "name": "stderr",
     "output_type": "stream",
     "text": [
      "\n",
      "\n",
      "\n",
      "\n",
      " 67%|██████▋   | 120/178 [01:48<01:20,  1.38s/it]\u001b[A\u001b[A\u001b[A\u001b[A"
     ]
    },
    {
     "name": "stdout",
     "output_type": "stream",
     "text": [
      "file: liv.per52.txt total words: 272 with 0 transliterated Greek words: []\n"
     ]
    },
    {
     "name": "stderr",
     "output_type": "stream",
     "text": [
      "\n",
      "\n",
      "\n",
      "\n",
      " 68%|██████▊   | 121/178 [01:49<01:06,  1.16s/it]\u001b[A\u001b[A\u001b[A\u001b[A"
     ]
    },
    {
     "name": "stdout",
     "output_type": "stream",
     "text": [
      "file: liv.per135.txt total words: 16 with 0 transliterated Greek words: []\n"
     ]
    },
    {
     "name": "stderr",
     "output_type": "stream",
     "text": [
      "\n",
      "\n",
      "\n",
      "\n",
      " 69%|██████▊   | 122/178 [01:50<00:58,  1.05s/it]\u001b[A\u001b[A\u001b[A\u001b[A"
     ]
    },
    {
     "name": "stdout",
     "output_type": "stream",
     "text": [
      "file: liv.per121.txt total words: 42 with 0 transliterated Greek words: []\n"
     ]
    },
    {
     "name": "stderr",
     "output_type": "stream",
     "text": [
      "\n",
      "\n",
      "\n",
      "\n",
      " 69%|██████▉   | 123/178 [01:51<00:55,  1.02s/it]\u001b[A\u001b[A\u001b[A\u001b[A"
     ]
    },
    {
     "name": "stdout",
     "output_type": "stream",
     "text": [
      "file: liv.per85.txt total words: 98 with 0 transliterated Greek words: []\n"
     ]
    },
    {
     "name": "stderr",
     "output_type": "stream",
     "text": [
      "\n",
      "\n",
      "\n",
      "\n",
      " 70%|██████▉   | 124/178 [01:52<00:51,  1.05it/s]\u001b[A\u001b[A\u001b[A\u001b[A"
     ]
    },
    {
     "name": "stdout",
     "output_type": "stream",
     "text": [
      "file: liv.per91.txt total words: 40 with 0 transliterated Greek words: []\n"
     ]
    },
    {
     "name": "stderr",
     "output_type": "stream",
     "text": [
      "\n",
      "\n",
      "\n",
      "\n",
      " 70%|███████   | 125/178 [01:54<01:09,  1.32s/it]\u001b[A\u001b[A\u001b[A\u001b[A"
     ]
    },
    {
     "name": "stdout",
     "output_type": "stream",
     "text": [
      "file: liv.45.txt total words: 13,274 with 13 transliterated Greek words: ['dein', 'discrimen', 'dein', 'Rhizoni', 'Antinous', 'Antinous', 'Rhizonitas', 'Rhizonitas', 'percunctanti', 'Peloponneso', 'eis', 'dein', 'eis']\n"
     ]
    },
    {
     "name": "stderr",
     "output_type": "stream",
     "text": [
      "\n",
      "\n",
      "\n",
      "\n",
      " 71%|███████   | 126/178 [01:59<02:04,  2.39s/it]\u001b[A\u001b[A\u001b[A\u001b[A"
     ]
    },
    {
     "name": "stdout",
     "output_type": "stream",
     "text": [
      "file: liv.44.txt total words: 12,801 with 22 transliterated Greek words: ['Azorum', 'Hippias', 'Hippias', 'dein', 'dein', 'eis', 'eis', 'dein', 'existimastis', 'discrimen', 'Bylazora', 'dein', 'to', 'Pythoi', 'dein', 'dein', 'circumspectu', 'praetermisisse', 'pote', 'dein', 'Hippias', 'Amphipolitanos']\n"
     ]
    },
    {
     "name": "stderr",
     "output_type": "stream",
     "text": [
      "\n",
      "\n",
      "\n",
      "\n",
      " 71%|███████▏  | 127/178 [02:00<01:49,  2.15s/it]\u001b[A\u001b[A\u001b[A\u001b[A"
     ]
    },
    {
     "name": "stdout",
     "output_type": "stream",
     "text": [
      "file: liv.per90.txt total words: 69 with 0 transliterated Greek words: []\n"
     ]
    },
    {
     "name": "stderr",
     "output_type": "stream",
     "text": [
      "\n",
      "\n",
      "\n",
      "\n",
      " 72%|███████▏  | 128/178 [02:02<01:46,  2.13s/it]\u001b[A\u001b[A\u001b[A\u001b[A"
     ]
    },
    {
     "name": "stdout",
     "output_type": "stream",
     "text": [
      "file: liv.per84.txt total words: 115 with 0 transliterated Greek words: []\n"
     ]
    },
    {
     "name": "stderr",
     "output_type": "stream",
     "text": [
      "\n",
      "\n",
      "\n",
      "\n",
      " 72%|███████▏  | 129/178 [02:04<01:41,  2.06s/it]\u001b[A\u001b[A\u001b[A\u001b[A"
     ]
    },
    {
     "name": "stdout",
     "output_type": "stream",
     "text": [
      "file: liv.per120.txt total words: 135 with 0 transliterated Greek words: []\n"
     ]
    },
    {
     "name": "stderr",
     "output_type": "stream",
     "text": [
      "\n",
      "\n",
      "\n",
      "\n",
      " 73%|███████▎  | 130/178 [02:06<01:31,  1.91s/it]\u001b[A\u001b[A\u001b[A\u001b[A"
     ]
    },
    {
     "name": "stdout",
     "output_type": "stream",
     "text": [
      "file: liv.per134.txt total words: 46 with 0 transliterated Greek words: []\n"
     ]
    },
    {
     "name": "stderr",
     "output_type": "stream",
     "text": [
      "\n",
      "\n",
      "\n",
      "\n",
      " 74%|███████▎  | 131/178 [02:08<01:37,  2.07s/it]\u001b[A\u001b[A\u001b[A\u001b[A"
     ]
    },
    {
     "name": "stdout",
     "output_type": "stream",
     "text": [
      "file: liv.per53.txt total words: 41 with 0 transliterated Greek words: []\n"
     ]
    },
    {
     "name": "stderr",
     "output_type": "stream",
     "text": [
      "\n",
      "\n",
      "\n",
      "\n",
      " 74%|███████▍  | 132/178 [02:10<01:34,  2.06s/it]\u001b[A\u001b[A\u001b[A\u001b[A"
     ]
    },
    {
     "name": "stdout",
     "output_type": "stream",
     "text": [
      "file: liv.per108.txt total words: 81 with 0 transliterated Greek words: []\n"
     ]
    },
    {
     "name": "stderr",
     "output_type": "stream",
     "text": [
      "\n",
      "\n",
      "\n",
      "\n",
      " 75%|███████▍  | 133/178 [02:12<01:32,  2.06s/it]\u001b[A\u001b[A\u001b[A\u001b[A"
     ]
    },
    {
     "name": "stdout",
     "output_type": "stream",
     "text": [
      "file: liv.per47.txt total words: 171 with 0 transliterated Greek words: []\n"
     ]
    },
    {
     "name": "stderr",
     "output_type": "stream",
     "text": [
      "\n",
      "\n",
      "\n",
      "\n",
      " 75%|███████▌  | 134/178 [02:15<01:38,  2.24s/it]\u001b[A\u001b[A\u001b[A\u001b[A"
     ]
    },
    {
     "name": "stdout",
     "output_type": "stream",
     "text": [
      "file: liv.per.txt total words: 2 with 0 transliterated Greek words: []\n"
     ]
    },
    {
     "name": "stderr",
     "output_type": "stream",
     "text": [
      "\n",
      "\n",
      "\n",
      "\n",
      " 76%|███████▌  | 135/178 [02:17<01:36,  2.25s/it]\u001b[A\u001b[A\u001b[A\u001b[A"
     ]
    },
    {
     "name": "stdout",
     "output_type": "stream",
     "text": [
      "file: liv.per51.txt total words: 158 with 0 transliterated Greek words: []\n"
     ]
    },
    {
     "name": "stderr",
     "output_type": "stream",
     "text": [
      "\n",
      "\n",
      "\n",
      "\n",
      " 76%|███████▋  | 136/178 [02:18<01:20,  1.91s/it]\u001b[A\u001b[A\u001b[A\u001b[A"
     ]
    },
    {
     "name": "stdout",
     "output_type": "stream",
     "text": [
      "file: liv.per45.txt total words: 187 with 0 transliterated Greek words: []\n"
     ]
    },
    {
     "name": "stderr",
     "output_type": "stream",
     "text": [
      "\n",
      "\n",
      "\n",
      "\n",
      " 77%|███████▋  | 137/178 [02:19<01:07,  1.64s/it]\u001b[A\u001b[A\u001b[A\u001b[A"
     ]
    },
    {
     "name": "stdout",
     "output_type": "stream",
     "text": [
      "file: liv.per122.txt total words: 35 with 0 transliterated Greek words: []\n"
     ]
    },
    {
     "name": "stderr",
     "output_type": "stream",
     "text": [
      "\n",
      "\n",
      "\n",
      "\n",
      " 78%|███████▊  | 138/178 [02:20<00:53,  1.34s/it]\u001b[A\u001b[A\u001b[A\u001b[A"
     ]
    },
    {
     "name": "stdout",
     "output_type": "stream",
     "text": [
      "file: liv.per79.txt total words: 131 with 0 transliterated Greek words: []\n"
     ]
    },
    {
     "name": "stderr",
     "output_type": "stream",
     "text": [
      "\n",
      "\n",
      "\n",
      "\n",
      " 78%|███████▊  | 139/178 [02:21<00:43,  1.12s/it]\u001b[A\u001b[A\u001b[A\u001b[A"
     ]
    },
    {
     "name": "stdout",
     "output_type": "stream",
     "text": [
      "file: liv.per92.txt total words: 75 with 0 transliterated Greek words: []\n"
     ]
    },
    {
     "name": "stderr",
     "output_type": "stream",
     "text": [
      "\n",
      "\n",
      "\n",
      "\n",
      " 79%|███████▊  | 140/178 [02:21<00:36,  1.04it/s]\u001b[A\u001b[A\u001b[A\u001b[A"
     ]
    },
    {
     "name": "stdout",
     "output_type": "stream",
     "text": [
      "file: liv.per86.txt total words: 113 with 0 transliterated Greek words: []\n"
     ]
    },
    {
     "name": "stderr",
     "output_type": "stream",
     "text": [
      "\n",
      "\n",
      "\n",
      "\n",
      " 79%|███████▉  | 141/178 [02:22<00:31,  1.16it/s]\u001b[A\u001b[A\u001b[A\u001b[A"
     ]
    },
    {
     "name": "stdout",
     "output_type": "stream",
     "text": [
      "file: liv.per87.txt total words: 34 with 0 transliterated Greek words: []\n"
     ]
    },
    {
     "name": "stderr",
     "output_type": "stream",
     "text": [
      "\n",
      "\n",
      "\n",
      "\n",
      " 80%|███████▉  | 142/178 [02:22<00:28,  1.26it/s]\u001b[A\u001b[A\u001b[A\u001b[A"
     ]
    },
    {
     "name": "stdout",
     "output_type": "stream",
     "text": [
      "file: liv.per93.txt total words: 81 with 1 transliterated Greek words: ['dein']\n"
     ]
    },
    {
     "name": "stderr",
     "output_type": "stream",
     "text": [
      "\n",
      "\n",
      "\n",
      "\n",
      " 80%|████████  | 143/178 [02:23<00:27,  1.29it/s]\u001b[A\u001b[A\u001b[A\u001b[A"
     ]
    },
    {
     "name": "stdout",
     "output_type": "stream",
     "text": [
      "file: liv.per78.txt total words: 65 with 0 transliterated Greek words: []\n"
     ]
    },
    {
     "name": "stderr",
     "output_type": "stream",
     "text": [
      "\n",
      "\n",
      "\n",
      "\n",
      " 81%|████████  | 144/178 [02:24<00:24,  1.39it/s]\u001b[A\u001b[A\u001b[A\u001b[A"
     ]
    },
    {
     "name": "stdout",
     "output_type": "stream",
     "text": [
      "file: liv.per123.txt total words: 66 with 1 transliterated Greek words: ['dein']\n"
     ]
    },
    {
     "name": "stderr",
     "output_type": "stream",
     "text": [
      "\n",
      "\n",
      "\n",
      "\n",
      " 81%|████████▏ | 145/178 [02:24<00:23,  1.42it/s]\u001b[A\u001b[A\u001b[A\u001b[A"
     ]
    },
    {
     "name": "stdout",
     "output_type": "stream",
     "text": [
      "file: liv.per44.txt total words: 141 with 0 transliterated Greek words: []\n"
     ]
    },
    {
     "name": "stderr",
     "output_type": "stream",
     "text": [
      "\n",
      "\n",
      "\n",
      "\n",
      " 82%|████████▏ | 146/178 [02:25<00:22,  1.39it/s]\u001b[A\u001b[A\u001b[A\u001b[A"
     ]
    },
    {
     "name": "stdout",
     "output_type": "stream",
     "text": [
      "file: liv.per50.txt total words: 306 with 0 transliterated Greek words: []\n"
     ]
    },
    {
     "name": "stderr",
     "output_type": "stream",
     "text": [
      "\n",
      "\n",
      "\n",
      "\n",
      " 83%|████████▎ | 147/178 [02:26<00:22,  1.35it/s]\u001b[A\u001b[A\u001b[A\u001b[A"
     ]
    },
    {
     "name": "stdout",
     "output_type": "stream",
     "text": [
      "file: liv.per127.txt total words: 105 with 0 transliterated Greek words: []\n"
     ]
    },
    {
     "name": "stderr",
     "output_type": "stream",
     "text": [
      "\n",
      "\n",
      "\n",
      "\n",
      " 83%|████████▎ | 148/178 [02:27<00:21,  1.42it/s]\u001b[A\u001b[A\u001b[A\u001b[A"
     ]
    },
    {
     "name": "stdout",
     "output_type": "stream",
     "text": [
      "file: liv.per68.txt total words: 164 with 0 transliterated Greek words: []\n"
     ]
    },
    {
     "name": "stderr",
     "output_type": "stream",
     "text": [
      "\n",
      "\n",
      "\n",
      "\n",
      " 84%|████████▎ | 149/178 [02:27<00:19,  1.46it/s]\u001b[A\u001b[A\u001b[A\u001b[A"
     ]
    },
    {
     "name": "stdout",
     "output_type": "stream",
     "text": [
      "file: liv.per133.txt total words: 78 with 0 transliterated Greek words: []\n"
     ]
    },
    {
     "name": "stderr",
     "output_type": "stream",
     "text": [
      "\n",
      "\n",
      "\n",
      "\n",
      " 84%|████████▍ | 150/178 [02:28<00:18,  1.50it/s]\u001b[A\u001b[A\u001b[A\u001b[A"
     ]
    },
    {
     "name": "stdout",
     "output_type": "stream",
     "text": [
      "file: liv.per54.txt total words: 128 with 0 transliterated Greek words: []\n"
     ]
    },
    {
     "name": "stderr",
     "output_type": "stream",
     "text": [
      "\n",
      "\n",
      "\n",
      "\n",
      " 85%|████████▍ | 151/178 [02:28<00:18,  1.49it/s]\u001b[A\u001b[A\u001b[A\u001b[A"
     ]
    },
    {
     "name": "stdout",
     "output_type": "stream",
     "text": [
      "file: liv.per40.txt total words: 200 with 0 transliterated Greek words: []\n"
     ]
    },
    {
     "name": "stderr",
     "output_type": "stream",
     "text": [
      "\n",
      "\n",
      "\n",
      "\n",
      " 85%|████████▌ | 152/178 [02:30<00:22,  1.17it/s]\u001b[A\u001b[A\u001b[A\u001b[A"
     ]
    },
    {
     "name": "stdout",
     "output_type": "stream",
     "text": [
      "file: liv.43.txt total words: 5,693 with 5 transliterated Greek words: ['dein', 'tis', 'supplementi', 'dein', 'dein']\n"
     ]
    },
    {
     "name": "stderr",
     "output_type": "stream",
     "text": [
      "\n",
      "\n",
      "\n",
      "\n",
      " 86%|████████▌ | 153/178 [02:30<00:19,  1.28it/s]\u001b[A\u001b[A\u001b[A\u001b[A"
     ]
    },
    {
     "name": "stdout",
     "output_type": "stream",
     "text": [
      "file: liv.per97.txt total words: 98 with 1 transliterated Greek words: ['dein']\n"
     ]
    },
    {
     "name": "stderr",
     "output_type": "stream",
     "text": [
      "\n",
      "\n",
      "\n",
      "\n",
      " 87%|████████▋ | 154/178 [02:31<00:17,  1.39it/s]\u001b[A\u001b[A\u001b[A\u001b[A"
     ]
    },
    {
     "name": "stdout",
     "output_type": "stream",
     "text": [
      "file: liv.per83.txt total words: 139 with 0 transliterated Greek words: []\n"
     ]
    },
    {
     "name": "stderr",
     "output_type": "stream",
     "text": [
      "\n",
      "\n",
      "\n",
      "\n",
      " 87%|████████▋ | 155/178 [02:32<00:15,  1.49it/s]\u001b[A\u001b[A\u001b[A\u001b[A"
     ]
    },
    {
     "name": "stdout",
     "output_type": "stream",
     "text": [
      "file: liv.per82.txt total words: 76 with 0 transliterated Greek words: []\n"
     ]
    },
    {
     "name": "stderr",
     "output_type": "stream",
     "text": [
      "\n",
      "\n",
      "\n",
      "\n",
      " 88%|████████▊ | 156/178 [02:32<00:14,  1.55it/s]\u001b[A\u001b[A\u001b[A\u001b[A"
     ]
    },
    {
     "name": "stdout",
     "output_type": "stream",
     "text": [
      "file: liv.per96.txt total words: 100 with 0 transliterated Greek words: []\n"
     ]
    },
    {
     "name": "stderr",
     "output_type": "stream",
     "text": [
      "\n",
      "\n",
      "\n",
      "\n",
      " 88%|████████▊ | 157/178 [02:34<00:22,  1.08s/it]\u001b[A\u001b[A\u001b[A\u001b[A"
     ]
    },
    {
     "name": "stdout",
     "output_type": "stream",
     "text": [
      "file: liv.42.txt total words: 16,858 with 13 transliterated Greek words: ['instrumento', 'eis', 'intemperanti', 'eis', 'Misagenen', 'ero', 'eis', 'Hippias', 'dein', 'Azorum', 'quadringenti', 'Hippias', 'circumsideri']\n"
     ]
    },
    {
     "name": "stderr",
     "output_type": "stream",
     "text": [
      "\n",
      "\n",
      "\n",
      "\n",
      " 89%|████████▉ | 158/178 [02:35<00:18,  1.08it/s]\u001b[A\u001b[A\u001b[A\u001b[A"
     ]
    },
    {
     "name": "stdout",
     "output_type": "stream",
     "text": [
      "file: liv.per41.txt total words: 142 with 0 transliterated Greek words: []\n"
     ]
    },
    {
     "name": "stderr",
     "output_type": "stream",
     "text": [
      "\n",
      "\n",
      "\n",
      "\n",
      " 89%|████████▉ | 159/178 [02:35<00:15,  1.20it/s]\u001b[A\u001b[A\u001b[A\u001b[A"
     ]
    },
    {
     "name": "stdout",
     "output_type": "stream",
     "text": [
      "file: liv.per55.txt total words: 217 with 0 transliterated Greek words: []\n"
     ]
    },
    {
     "name": "stderr",
     "output_type": "stream",
     "text": [
      "\n",
      "\n",
      "\n",
      "\n",
      " 90%|████████▉ | 160/178 [02:36<00:13,  1.34it/s]\u001b[A\u001b[A\u001b[A\u001b[A"
     ]
    },
    {
     "name": "stdout",
     "output_type": "stream",
     "text": [
      "file: liv.per132.txt total words: 67 with 0 transliterated Greek words: []\n"
     ]
    },
    {
     "name": "stderr",
     "output_type": "stream",
     "text": [
      "\n",
      "\n",
      "\n",
      "\n",
      " 90%|█████████ | 161/178 [02:37<00:11,  1.42it/s]\u001b[A\u001b[A\u001b[A\u001b[A"
     ]
    },
    {
     "name": "stdout",
     "output_type": "stream",
     "text": [
      "file: liv.per69.txt total words: 137 with 0 transliterated Greek words: []\n"
     ]
    },
    {
     "name": "stderr",
     "output_type": "stream",
     "text": [
      "\n",
      "\n",
      "\n",
      "\n",
      " 91%|█████████ | 162/178 [02:37<00:10,  1.52it/s]\u001b[A\u001b[A\u001b[A\u001b[A"
     ]
    },
    {
     "name": "stdout",
     "output_type": "stream",
     "text": [
      "file: liv.per126.txt total words: 44 with 0 transliterated Greek words: []\n"
     ]
    },
    {
     "name": "stderr",
     "output_type": "stream",
     "text": [
      "\n",
      "\n",
      "\n",
      "\n",
      " 92%|█████████▏| 163/178 [02:38<00:09,  1.58it/s]\u001b[A\u001b[A\u001b[A\u001b[A"
     ]
    },
    {
     "name": "stdout",
     "output_type": "stream",
     "text": [
      "file: liv.per130.txt total words: 74 with 0 transliterated Greek words: []\n"
     ]
    },
    {
     "name": "stderr",
     "output_type": "stream",
     "text": [
      "\n",
      "\n",
      "\n",
      "\n",
      " 92%|█████████▏| 164/178 [02:39<00:09,  1.40it/s]\u001b[A\u001b[A\u001b[A\u001b[A"
     ]
    },
    {
     "name": "stdout",
     "output_type": "stream",
     "text": [
      "file: liv.per124.txt total words: 73 with 1 transliterated Greek words: ['dein']\n"
     ]
    },
    {
     "name": "stderr",
     "output_type": "stream",
     "text": [
      "\n",
      "\n",
      "\n",
      "\n",
      " 93%|█████████▎| 165/178 [02:39<00:09,  1.42it/s]\u001b[A\u001b[A\u001b[A\u001b[A"
     ]
    },
    {
     "name": "stdout",
     "output_type": "stream",
     "text": [
      "file: liv.per43.txt total words: 79 with 0 transliterated Greek words: []\n"
     ]
    },
    {
     "name": "stderr",
     "output_type": "stream",
     "text": [
      "\n",
      "\n",
      "\n",
      "\n",
      " 93%|█████████▎| 166/178 [02:40<00:08,  1.48it/s]\u001b[A\u001b[A\u001b[A\u001b[A"
     ]
    },
    {
     "name": "stdout",
     "output_type": "stream",
     "text": [
      "file: liv.per118.txt total words: 72 with 0 transliterated Greek words: []\n"
     ]
    },
    {
     "name": "stderr",
     "output_type": "stream",
     "text": [
      "\n",
      "\n",
      "\n",
      "\n",
      " 94%|█████████▍| 167/178 [02:41<00:08,  1.36it/s]\u001b[A\u001b[A\u001b[A\u001b[A"
     ]
    },
    {
     "name": "stdout",
     "output_type": "stream",
     "text": [
      "file: liv.per57.txt total words: 173 with 0 transliterated Greek words: []\n"
     ]
    },
    {
     "name": "stderr",
     "output_type": "stream",
     "text": [
      "\n",
      "\n",
      "\n",
      "\n",
      " 94%|█████████▍| 168/178 [02:43<00:10,  1.05s/it]\u001b[A\u001b[A\u001b[A\u001b[A"
     ]
    },
    {
     "name": "stdout",
     "output_type": "stream",
     "text": [
      "file: liv.40.txt total words: 14,714 with 14 transliterated Greek words: ['praetermitti', 'ero', 'eis', 'Dentheletos', 'dein', 'eis', 'quadringenti', 'quadringenti', 'quadringenti', 'quadringenti', 'quinquagenos', 'eis', 'illacrimasti', 'dein']\n"
     ]
    },
    {
     "name": "stderr",
     "output_type": "stream",
     "text": [
      "\n",
      "\n",
      "\n",
      "\n",
      " 95%|█████████▍| 169/178 [02:43<00:08,  1.09it/s]\u001b[A\u001b[A\u001b[A\u001b[A"
     ]
    },
    {
     "name": "stdout",
     "output_type": "stream",
     "text": [
      "file: liv.per80.txt total words: 194 with 0 transliterated Greek words: []\n"
     ]
    },
    {
     "name": "stderr",
     "output_type": "stream",
     "text": [
      "\n",
      "\n",
      "\n",
      "\n",
      " 96%|█████████▌| 170/178 [02:44<00:06,  1.24it/s]\u001b[A\u001b[A\u001b[A\u001b[A"
     ]
    },
    {
     "name": "stdout",
     "output_type": "stream",
     "text": [
      "file: liv.per94.txt total words: 43 with 0 transliterated Greek words: []\n"
     ]
    },
    {
     "name": "stderr",
     "output_type": "stream",
     "text": [
      "\n",
      "\n",
      "\n",
      "\n",
      " 96%|█████████▌| 171/178 [02:44<00:05,  1.36it/s]\u001b[A\u001b[A\u001b[A\u001b[A"
     ]
    },
    {
     "name": "stdout",
     "output_type": "stream",
     "text": [
      "file: liv.per95.txt total words: 59 with 0 transliterated Greek words: []\n"
     ]
    },
    {
     "name": "stderr",
     "output_type": "stream",
     "text": [
      "\n",
      "\n",
      "\n",
      "\n",
      " 97%|█████████▋| 172/178 [02:45<00:04,  1.46it/s]\u001b[A\u001b[A\u001b[A\u001b[A"
     ]
    },
    {
     "name": "stdout",
     "output_type": "stream",
     "text": [
      "file: liv.per81.txt total words: 41 with 0 transliterated Greek words: []\n"
     ]
    },
    {
     "name": "stderr",
     "output_type": "stream",
     "text": [
      "\n",
      "\n",
      "\n",
      "\n",
      " 97%|█████████▋| 173/178 [02:46<00:04,  1.20it/s]\u001b[A\u001b[A\u001b[A\u001b[A"
     ]
    },
    {
     "name": "stdout",
     "output_type": "stream",
     "text": [
      "file: liv.41.txt total words: 7,612 with 5 transliterated Greek words: ['dein', 'eis', 'dein', 'tumultuosos', 'Peloponneso']\n"
     ]
    },
    {
     "name": "stderr",
     "output_type": "stream",
     "text": [
      "\n",
      "\n",
      "\n",
      "\n",
      " 98%|█████████▊| 174/178 [02:47<00:03,  1.33it/s]\u001b[A\u001b[A\u001b[A\u001b[A"
     ]
    },
    {
     "name": "stdout",
     "output_type": "stream",
     "text": [
      "file: liv.per56.txt total words: 159 with 0 transliterated Greek words: []\n"
     ]
    },
    {
     "name": "stderr",
     "output_type": "stream",
     "text": [
      "\n",
      "\n",
      "\n",
      "\n",
      " 98%|█████████▊| 175/178 [02:47<00:02,  1.43it/s]\u001b[A\u001b[A\u001b[A\u001b[A"
     ]
    },
    {
     "name": "stdout",
     "output_type": "stream",
     "text": [
      "file: liv.per119.txt total words: 151 with 0 transliterated Greek words: []\n"
     ]
    },
    {
     "name": "stderr",
     "output_type": "stream",
     "text": [
      "\n",
      "\n",
      "\n",
      "\n",
      " 99%|█████████▉| 176/178 [02:48<00:01,  1.51it/s]\u001b[A\u001b[A\u001b[A\u001b[A"
     ]
    },
    {
     "name": "stdout",
     "output_type": "stream",
     "text": [
      "file: liv.per42.txt total words: 107 with 0 transliterated Greek words: []\n"
     ]
    },
    {
     "name": "stderr",
     "output_type": "stream",
     "text": [
      "\n",
      "\n",
      "\n",
      "\n",
      " 99%|█████████▉| 177/178 [02:48<00:00,  1.58it/s]\u001b[A\u001b[A\u001b[A\u001b[A"
     ]
    },
    {
     "name": "stdout",
     "output_type": "stream",
     "text": [
      "file: liv.per125.txt total words: 69 with 0 transliterated Greek words: []\n"
     ]
    },
    {
     "name": "stderr",
     "output_type": "stream",
     "text": [
      "\n",
      "\n",
      "\n",
      "\n",
      "100%|██████████| 178/178 [02:49<00:00,  1.63it/s]\u001b[A\u001b[A\u001b[A\u001b[A\n",
      "\n",
      "\n",
      "\n",
      "\u001b[A\u001b[A\u001b[A\u001b[A"
     ]
    },
    {
     "name": "stdout",
     "output_type": "stream",
     "text": [
      "file: liv.per131.txt total words: 64 with 0 transliterated Greek words: []\n"
     ]
    }
   ],
   "source": [
    "corpus_files = {}  \n",
    "for full_path in tqdm(latin_files) :\n",
    "    filename = full_path[full_path.rfind('/') + 1:]\n",
    "    reader = get_corpus_reader(corpus_name='latin_text_latin_library', language='latin')\n",
    "    reader._fileids =    [full_path]\n",
    "    unseen_X = process_text_model.fit_transform(list(reader.sents()))\n",
    "    distinct_unseen = distinct_words(unseen_X)    \n",
    "    unseen_words = list(distinct_unseen)    \n",
    "    total_words =[word\n",
    "                for sentence in unseen_X\n",
    "                for word in sentence]    \n",
    "    arr = classifier.predict(\n",
    "            np.array([word_to_features(word, max_len) for word in total_words]))\n",
    "    total_greek_words = np.count_nonzero(arr)\n",
    "    marks = arr.tolist()\n",
    "    if marks:\n",
    "        found_greek = [total_words[idx]\n",
    "                       for idx, point in enumerate(marks)\n",
    "                       if point == 1]\n",
    "        corpus_files [filename]=  ( len(total_words), total_greek_words)\n",
    "        print('file: {} total words: {:,} with {:,} transliterated Greek words: {}'.format(\n",
    "            filename, len(total_words), total_greek_words, found_greek ))        "
   ]
  },
  {
   "cell_type": "code",
   "execution_count": 66,
   "metadata": {
    "collapsed": false
   },
   "outputs": [
    {
     "name": "stdout",
     "output_type": "stream",
     "text": [
      "178\n",
      "('liv.per67.txt', 171, 0, 0.0)\n",
      "('liv.per128.txt', 50, 0, 0.0)\n",
      "('liv.per73.txt', 127, 0, 0.0)\n",
      "('liv.per114.txt', 92, 0, 0.0)\n",
      "('liv.per100.txt', 68, 0, 0.0)\n",
      "('liv.per98.txt', 116, 0, 0.0)\n",
      "('liv.per99.txt', 103, 0, 0.0)\n",
      "('liv.per101.txt', 77, 0, 0.0)\n",
      "('liv.per115.txt', 77, 0, 0.0)\n",
      "('liv.per72.txt', 70, 0, 0.0)\n",
      "('liv.per129.txt', 80, 0, 0.0)\n",
      "('liv.per66.txt', 41, 0, 0.0)\n",
      "('liv.per136-7.txt', 4, 0, 0.0)\n",
      "('liv.per64.txt', 111, 0, 0.0)\n",
      "('liv.per103.txt', 140, 0, 0.0)\n",
      "('liv.per58.txt', 198, 0, 0.0)\n",
      "('liv.per117.txt', 125, 0, 0.0)\n",
      "('liv.per116.txt', 182, 0, 0.0)\n",
      "('liv.per59.txt', 339, 0, 0.0)\n",
      "('liv.per102.txt', 97, 0, 0.0)\n",
      "('liv.per65.txt', 72, 0, 0.0)\n",
      "('liv.per71.txt', 83, 0, 0.0)\n",
      "('liv.per106.txt', 111, 0, 0.0)\n",
      "('liv.per49.txt', 706, 0, 0.0)\n",
      "('liv.per112.txt', 129, 0, 0.0)\n",
      "('liv.per75.txt', 96, 0, 0.0)\n",
      "('liv.per61.txt', 150, 0, 0.0)\n",
      "('liv.per60.txt', 206, 0, 0.0)\n",
      "('liv.per113.txt', 129, 0, 0.0)\n",
      "('liv.per48.txt', 511, 0, 0.0)\n",
      "('liv.per107.txt', 133, 0, 0.0)\n",
      "('liv.per111.txt', 106, 0, 0.0)\n",
      "('liv.per105.txt', 94, 0, 0.0)\n",
      "('liv.per62.txt', 57, 0, 0.0)\n",
      "('liv.per139.txt', 35, 0, 0.0)\n",
      "('liv.per89.txt', 247, 0, 0.0)\n",
      "('liv.per88.txt', 125, 0, 0.0)\n",
      "('liv.per77.txt', 182, 0, 0.0)\n",
      "('liv.per138.txt', 18, 0, 0.0)\n",
      "('liv.per63.txt', 69, 0, 0.0)\n",
      "('liv.per104.txt', 164, 0, 0.0)\n",
      "('liv.per110.txt', 121, 0, 0.0)\n",
      "('liv.per7.txt', 319, 0, 0.0)\n",
      "('liv.per10.txt', 117, 0, 0.0)\n",
      "('liv.per39.txt', 205, 0, 0.0)\n",
      "('liv.per11.txt', 198, 0, 0.0)\n",
      "('liv.per6.txt', 107, 0, 0.0)\n",
      "('liv.per4.txt', 187, 0, 0.0)\n",
      "('liv.per13.txt', 166, 0, 0.0)\n",
      "('liv.per12.txt', 93, 0, 0.0)\n",
      "('liv.per1.txt', 444, 0, 0.0)\n",
      "('liv.per16.txt', 82, 0, 0.0)\n",
      "('liv.per17.txt', 115, 0, 0.0)\n",
      "('liv.per2.txt', 453, 0, 0.0)\n",
      "('liv.per29.txt', 378, 0, 0.0)\n",
      "('liv.per15.txt', 65, 0, 0.0)\n",
      "('liv.per14.txt', 117, 0, 0.0)\n",
      "('liv.per28.txt', 272, 0, 0.0)\n",
      "('liv.per3.txt', 257, 0, 0.0)\n",
      "('liv.per25.txt', 215, 0, 0.0)\n",
      "('liv.per31.txt', 180, 0, 0.0)\n",
      "('liv.per19.txt', 193, 0, 0.0)\n",
      "('liv.per142.txt', 50, 0, 0.0)\n",
      "('liv.per18.txt', 160, 0, 0.0)\n",
      "('liv.per30.txt', 184, 0, 0.0)\n",
      "('liv.per24.txt', 141, 0, 0.0)\n",
      "('liv.per32.txt', 108, 0, 0.0)\n",
      "('liv.per26.txt', 172, 0, 0.0)\n",
      "('liv.per140.txt', 34, 0, 0.0)\n",
      "('liv.per27.txt', 176, 0, 0.0)\n",
      "('liv.per33.txt', 107, 0, 0.0)\n",
      "('liv.per8.txt', 232, 0, 0.0)\n",
      "('liv.per37.txt', 142, 0, 0.0)\n",
      "('liv.per23.txt', 196, 0, 0.0)\n",
      "('liv.per36.txt', 55, 0, 0.0)\n",
      "('liv.pr.txt', 483, 0, 0.0)\n",
      "('liv.per9.txt', 262, 0, 0.0)\n",
      "('liv.per20.txt', 164, 0, 0.0)\n",
      "('liv.per34.txt', 155, 0, 0.0)\n",
      "('liv.per21.txt', 127, 0, 0.0)\n",
      "('liv.per46.txt', 206, 0, 0.0)\n",
      "('liv.per52.txt', 272, 0, 0.0)\n",
      "('liv.per135.txt', 16, 0, 0.0)\n",
      "('liv.per121.txt', 42, 0, 0.0)\n",
      "('liv.per85.txt', 98, 0, 0.0)\n",
      "('liv.per91.txt', 40, 0, 0.0)\n",
      "('liv.per90.txt', 69, 0, 0.0)\n",
      "('liv.per84.txt', 115, 0, 0.0)\n",
      "('liv.per120.txt', 135, 0, 0.0)\n",
      "('liv.per134.txt', 46, 0, 0.0)\n",
      "('liv.per53.txt', 41, 0, 0.0)\n",
      "('liv.per108.txt', 81, 0, 0.0)\n",
      "('liv.per47.txt', 171, 0, 0.0)\n",
      "('liv.per.txt', 2, 0, 0.0)\n",
      "('liv.per51.txt', 158, 0, 0.0)\n",
      "('liv.per45.txt', 187, 0, 0.0)\n",
      "('liv.per122.txt', 35, 0, 0.0)\n",
      "('liv.per79.txt', 131, 0, 0.0)\n",
      "('liv.per92.txt', 75, 0, 0.0)\n",
      "('liv.per86.txt', 113, 0, 0.0)\n",
      "('liv.per87.txt', 34, 0, 0.0)\n",
      "('liv.per78.txt', 65, 0, 0.0)\n",
      "('liv.per44.txt', 141, 0, 0.0)\n",
      "('liv.per50.txt', 306, 0, 0.0)\n",
      "('liv.per127.txt', 105, 0, 0.0)\n",
      "('liv.per68.txt', 164, 0, 0.0)\n",
      "('liv.per133.txt', 78, 0, 0.0)\n",
      "('liv.per54.txt', 128, 0, 0.0)\n",
      "('liv.per40.txt', 200, 0, 0.0)\n",
      "('liv.per83.txt', 139, 0, 0.0)\n",
      "('liv.per82.txt', 76, 0, 0.0)\n",
      "('liv.per96.txt', 100, 0, 0.0)\n",
      "('liv.per41.txt', 142, 0, 0.0)\n",
      "('liv.per55.txt', 217, 0, 0.0)\n",
      "('liv.per132.txt', 67, 0, 0.0)\n",
      "('liv.per69.txt', 137, 0, 0.0)\n",
      "('liv.per126.txt', 44, 0, 0.0)\n",
      "('liv.per130.txt', 74, 0, 0.0)\n",
      "('liv.per43.txt', 79, 0, 0.0)\n",
      "('liv.per118.txt', 72, 0, 0.0)\n",
      "('liv.per57.txt', 173, 0, 0.0)\n",
      "('liv.per80.txt', 194, 0, 0.0)\n",
      "('liv.per94.txt', 43, 0, 0.0)\n",
      "('liv.per95.txt', 59, 0, 0.0)\n",
      "('liv.per81.txt', 41, 0, 0.0)\n",
      "('liv.per56.txt', 159, 0, 0.0)\n",
      "('liv.per119.txt', 151, 0, 0.0)\n",
      "('liv.per42.txt', 107, 0, 0.0)\n",
      "('liv.per125.txt', 69, 0, 0.0)\n",
      "('liv.per131.txt', 64, 0, 0.0)\n",
      "('liv.1.txt', 17350, 8, 0.0004610951008645533)\n",
      "('liv.3.txt', 20397, 10, 0.0004902681766926508)\n",
      "('liv.31.txt', 12815, 7, 0.0005462348809988295)\n",
      "('liv.9.txt', 16165, 10, 0.0006186204763377668)\n",
      "('liv.41.txt', 7612, 5, 0.0006568575932737783)\n",
      "('liv.42.txt', 16858, 13, 0.0007711472298018745)\n",
      "('liv.23.txt', 14919, 12, 0.0008043434546551378)\n",
      "('liv.22.txt', 17401, 14, 0.000804551462559623)\n",
      "('liv.27.txt', 17376, 15, 0.0008632596685082873)\n",
      "('liv.43.txt', 5693, 5, 0.0008782715615668365)\n",
      "('liv.4.txt', 16830, 15, 0.00089126559714795)\n",
      "('liv.7.txt', 13288, 12, 0.0009030704394942806)\n",
      "('liv.32.txt', 10766, 10, 0.0009288500835965075)\n",
      "('liv.2.txt', 18009, 17, 0.0009439724582153368)\n",
      "('liv.33.txt', 11631, 11, 0.0009457484309173759)\n",
      "('liv.21.txt', 15827, 15, 0.0009477475200606559)\n",
      "('liv.40.txt', 14714, 14, 0.0009514747859181732)\n",
      "('liv.45.txt', 13274, 13, 0.0009793581437396413)\n",
      "('liv.25.txt', 14686, 15, 0.0010213809069862453)\n",
      "('liv.34.txt', 15035, 16, 0.0010641835716661125)\n",
      "('liv.6.txt', 13487, 16, 0.0011863275747015644)\n",
      "('liv.35.txt', 12675, 16, 0.00126232741617357)\n",
      "('liv.28.txt', 16850, 23, 0.0013649851632047479)\n",
      "('liv.38.txt', 16992, 24, 0.0014124293785310734)\n",
      "('liv.26.txt', 17088, 25, 0.0014630149812734083)\n",
      "('liv.36.txt', 11411, 17, 0.0014897905529751994)\n",
      "('liv.39.txt', 14682, 22, 0.0014984334559324344)\n",
      "('liv.29.txt', 12385, 19, 0.0015341138473960437)\n",
      "('liv.30.txt', 13632, 21, 0.0015404929577464788)\n",
      "('liv.44.txt', 12801, 22, 0.001718615733145848)\n",
      "('liv.8.txt', 13066, 23, 0.0017602938925455381)\n",
      "('liv.10.txt', 15286, 29, 0.0018971608007326967)\n",
      "('liv.37.txt', 16390, 32, 0.0019524100061012813)\n",
      "('liv.per22.txt', 365, 1, 0.0027397260273972603)\n",
      "('liv.5.txt', 16315, 63, 0.0038614771682500765)\n",
      "('liv.per38.txt', 247, 1, 0.004048582995951417)\n",
      "('liv.24.txt', 14348, 60, 0.004181767493727348)\n",
      "('liv.per35.txt', 188, 1, 0.005319148936170213)\n",
      "('liv.per70.txt', 151, 1, 0.006622516556291391)\n",
      "('liv.per5.txt', 293, 2, 0.006825938566552901)\n",
      "('liv.per97.txt', 98, 1, 0.01020408163265306)\n",
      "('liv.per109.txt', 94, 1, 0.010638297872340425)\n",
      "('liv.per74.txt', 88, 1, 0.011363636363636364)\n",
      "('liv.per76.txt', 87, 1, 0.011494252873563218)\n",
      "('liv.per93.txt', 81, 1, 0.012345679012345678)\n",
      "('liv.per124.txt', 73, 1, 0.0136986301369863)\n",
      "('liv.per123.txt', 66, 1, 0.015151515151515152)\n",
      "('liv.per141.txt', 45, 1, 0.022222222222222223)\n"
     ]
    }
   ],
   "source": [
    "print(len(corpus_files ))\n",
    "rankings = [ (key, val[0], val[1], val[1]/val[0]) for key, val in corpus_files.items()]\n",
    "rankings.sort(key=lambda x: x[3])\n",
    "for rank in rankings:\n",
    "    print (rank)"
   ]
  },
  {
   "cell_type": "code",
   "execution_count": null,
   "metadata": {
    "collapsed": true
   },
   "outputs": [],
   "source": []
  },
  {
   "cell_type": "code",
   "execution_count": null,
   "metadata": {
    "collapsed": true
   },
   "outputs": [],
   "source": []
  },
  {
   "cell_type": "code",
   "execution_count": null,
   "metadata": {
    "collapsed": true
   },
   "outputs": [],
   "source": []
  },
  {
   "cell_type": "code",
   "execution_count": null,
   "metadata": {
    "collapsed": true
   },
   "outputs": [],
   "source": []
  },
  {
   "cell_type": "code",
   "execution_count": null,
   "metadata": {
    "collapsed": true
   },
   "outputs": [],
   "source": [
    "model_output_file = 'is_transliterated_greek.mdl.{}.joblib'.format(sklearn.__version__)\n",
    "dump(classifier, model_output_file)"
   ]
  },
  {
   "cell_type": "markdown",
   "metadata": {},
   "source": [
    "### Reconstitute the classifier for use at runtime"
   ]
  },
  {
   "cell_type": "code",
   "execution_count": null,
   "metadata": {
    "collapsed": true
   },
   "outputs": [],
   "source": [
    "classifier = load(model_output_file)"
   ]
  },
  {
   "cell_type": "markdown",
   "metadata": {},
   "source": [
    "### Some demo examples"
   ]
  },
  {
   "cell_type": "code",
   "execution_count": null,
   "metadata": {
    "collapsed": true
   },
   "outputs": [],
   "source": [
    "classifier.predict(\n",
    "    np.array([word_to_features(word, max_len) for word in ['quid', 'est', 'veritas']]))"
   ]
  },
  {
   "cell_type": "code",
   "execution_count": null,
   "metadata": {
    "collapsed": true
   },
   "outputs": [],
   "source": [
    "classifier.predict(\n",
    "    np.array([word_to_features(word, max_len) for word in ['ou', 'eis', 'panta', 'ton']]))"
   ]
  },
  {
   "cell_type": "markdown",
   "metadata": {},
   "source": [
    "### Save model provenance \n",
    "#### Provenance -  a record of how, when, and with what the classifier was made with.\n",
    "#### Important for allowing others to use the classifier in the future without rebuilding from scratch, or determining how it may be recreated for better or different performance"
   ]
  },
  {
   "cell_type": "code",
   "execution_count": null,
   "metadata": {
    "collapsed": true
   },
   "outputs": [],
   "source": [
    "data_files = {}\n",
    "idx = 0\n",
    "for idx, file in enumerate(files):\n",
    "    data_files[idx] = {\"filename\": file[file.rfind(\"/\") + 1:],\n",
    "                       \"md5\": md5(file)\n",
    "                       }\n",
    "data_files[idx + 1] = {\n",
    "    \"filename\": transliterated_greek_file,\n",
    "    \"md5\": md5(transliterated_greek_file)\n",
    "}\n",
    "\n",
    "provenance_file = '{}.prov.json'.format(model_output_file)\n",
    "\n",
    "params = {\n",
    "    \"provenance_data\": provenance_file,\n",
    "    \"date_created\": str(datetime.datetime.now()),\n",
    "    \"model_parameters\": mdl_params,\n",
    "    \"max_word_length\": max_len,\n",
    "    \"num_samples\": num_samples,\n",
    "    \"num_features\": num_features,\n",
    "    \"library_version\": sklearn.__version__,\n",
    "    \"classifier_class\": \"{}\".format(str(classifier.__class__ )),\n",
    "    \"classifier_best_score\": grids.best_score_,\n",
    "    \"data_files\": data_files,\n",
    "    \"model_output_file\": model_output_file,\n",
    "    \"model_output_md5\": md5(model_output_file),\n",
    "    \"labels\": label_encoder.classes_.tolist(),\n",
    "    # manually added information\n",
    "    \"comment\": \"Transliterated Greek Classifier\",\n",
    "    \"code_generated_by\": \"detect_transliterated_greek.ipynb\",\n",
    "    \"feature_encoding_fun\": \"word_to_features\",\n",
    "    \"author\": \"Todd Cook\"\n",
    "}\n",
    "\n",
    "with open(provenance_file, 'wt') as writer:\n",
    "    json.dump(params, writer, indent=2)\n",
    "    print('Wrote provenance file: {}'.format(provenance_file))\n"
   ]
  },
  {
   "cell_type": "markdown",
   "metadata": {},
   "source": [
    "# Appendix"
   ]
  },
  {
   "cell_type": "markdown",
   "metadata": {},
   "source": [
    "### How about that model provenance file? It should be readable, here it is:"
   ]
  },
  {
   "cell_type": "code",
   "execution_count": null,
   "metadata": {
    "collapsed": true
   },
   "outputs": [],
   "source": [
    "print(params)"
   ]
  },
  {
   "cell_type": "code",
   "execution_count": null,
   "metadata": {
    "collapsed": true
   },
   "outputs": [],
   "source": []
  },
  {
   "cell_type": "code",
   "execution_count": null,
   "metadata": {
    "collapsed": true
   },
   "outputs": [],
   "source": []
  },
  {
   "cell_type": "code",
   "execution_count": null,
   "metadata": {
    "collapsed": true
   },
   "outputs": [],
   "source": []
  },
  {
   "cell_type": "markdown",
   "metadata": {},
   "source": [
    "# That's all folks!"
   ]
  },
  {
   "cell_type": "code",
   "execution_count": null,
   "metadata": {
    "collapsed": true
   },
   "outputs": [],
   "source": []
  },
  {
   "cell_type": "code",
   "execution_count": null,
   "metadata": {
    "collapsed": true
   },
   "outputs": [],
   "source": []
  }
 ],
 "metadata": {
  "kernelspec": {
   "display_name": "Python 3",
   "language": "python",
   "name": "python3"
  },
  "language_info": {
   "codemirror_mode": {
    "name": "ipython",
    "version": 3
   },
   "file_extension": ".py",
   "mimetype": "text/x-python",
   "name": "python",
   "nbconvert_exporter": "python",
   "pygments_lexer": "ipython3",
   "version": "3.7.0"
  }
 },
 "nbformat": 4,
 "nbformat_minor": 2
}
