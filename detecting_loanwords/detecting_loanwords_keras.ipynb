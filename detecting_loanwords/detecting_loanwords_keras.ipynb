{
 "cells": [
  {
   "cell_type": "markdown",
   "metadata": {},
   "source": [
    "# Detecting loadwords with Keras"
   ]
  },
  {
   "cell_type": "markdown",
   "metadata": {},
   "source": [
    "### In this notebook you will:\n",
    "1. Train a neural network using Keras.\n",
    "1. Optimize hyperparameters for the Neural Net\n",
    "1. Compare the performance between a Neural Net and a Decision Tree classifier."
   ]
  },
  {
   "cell_type": "code",
   "execution_count": 3,
   "metadata": {},
   "outputs": [],
   "source": [
    "%load_ext autoreload\n",
    "%autoreload 2\n",
    "%matplotlib inline"
   ]
  },
  {
   "cell_type": "markdown",
   "metadata": {},
   "source": [
    "### Imports"
   ]
  },
  {
   "cell_type": "code",
   "execution_count": 4,
   "metadata": {},
   "outputs": [
    {
     "name": "stderr",
     "output_type": "stream",
     "text": [
      "Using TensorFlow backend.\n"
     ]
    }
   ],
   "source": [
    "import logging\n",
    "import random\n",
    "import pickle\n",
    "\n",
    "from keras.models import Sequential\n",
    "from keras.layers import Dense\n",
    "from keras.wrappers.scikit_learn import KerasClassifier\n",
    "from sklearn.preprocessing import StandardScaler\n",
    "from keras.callbacks import EarlyStopping, TensorBoard\n",
    "from keras.models import load_model\n",
    "\n",
    "import matplotlib.pyplot as plt\n",
    "import numpy as np\n",
    "from sklearn.model_selection import train_test_split\n",
    "from sklearn.utils.extmath import density\n",
    "from cltk.stem.latin.j_v import JVReplacer\n",
    "from cltk.prosody.latin.scansion_constants import ScansionConstants\n",
    "from cltk.prosody.latin.string_utils import remove_punctuation_dict\n",
    "from cltk.tokenize.word import WordTokenizer\n",
    "from cltk.corpus.readers import get_corpus_reader\n",
    "from cltk.utils.featurization import word_to_features\n",
    "from cltk.utils.file_operations import md5\n",
    "\n",
    "plt.style.use('fivethirtyeight')\n"
   ]
  },
  {
   "cell_type": "markdown",
   "metadata": {},
   "source": [
    "## Fix random seed values for reproducibility and tuning\n",
    "see: https://keras.io/getting-started/faq/#how-can-i-obtain-reproducible-results-using-keras-during-development"
   ]
  },
  {
   "cell_type": "code",
   "execution_count": 5,
   "metadata": {},
   "outputs": [],
   "source": [
    "import tensorflow as tf\n",
    "\n",
    "# The below is necessary for starting Numpy generated random numbers\n",
    "# in a well-defined initial state.\n",
    "np.random.seed(42)\n",
    "\n",
    "# The below is necessary for starting core Python generated random numbers\n",
    "# in a well-defined state.\n",
    "random.seed(12345)\n",
    "\n",
    "# Force TensorFlow to use single thread.\n",
    "# Multiple threads are a potential source of non-reproducible results.\n",
    "# For further details, see: https://stackoverflow.com/questions/42022950/\n",
    "\n",
    "session_conf = tf.ConfigProto(intra_op_parallelism_threads=1,\n",
    "                              inter_op_parallelism_threads=1)\n",
    "\n",
    "from keras import backend as K\n",
    "\n",
    "# The below tf.set_random_seed() will make random number generation\n",
    "# in the TensorFlow backend have a well-defined initial state.\n",
    "# For further details, see:\n",
    "# https://www.tensorflow.org/api_docs/python/tf/set_random_seed\n",
    "\n",
    "tf.set_random_seed(1234)\n",
    "sess = tf.Session(graph=tf.get_default_graph(), config=session_conf)\n",
    "K.set_session(sess)"
   ]
  },
  {
   "cell_type": "markdown",
   "metadata": {},
   "source": [
    "### Add parent directory to path so we can access our common code"
   ]
  },
  {
   "cell_type": "code",
   "execution_count": 6,
   "metadata": {},
   "outputs": [],
   "source": [
    "import os\n",
    "import sys\n",
    "import inspect\n",
    "currentdir = os.path.dirname(os.path.abspath(inspect.getfile(inspect.currentframe())))\n",
    "parentdir = os.path.dirname(currentdir)\n",
    "sys.path.insert(0, parentdir) "
   ]
  },
  {
   "cell_type": "code",
   "execution_count": 7,
   "metadata": {},
   "outputs": [],
   "source": [
    "from mlyoucanuse.featurize_text_fun import word_to_features"
   ]
  },
  {
   "cell_type": "markdown",
   "metadata": {},
   "source": [
    "### Turn on logging, primarily so that library methods may report warnings, if any"
   ]
  },
  {
   "cell_type": "code",
   "execution_count": 8,
   "metadata": {},
   "outputs": [],
   "source": [
    "LOG = logging.getLogger('make_model')\n",
    "LOG.addHandler(logging.NullHandler())\n",
    "logging.basicConfig(level=logging.INFO)"
   ]
  },
  {
   "cell_type": "markdown",
   "metadata": {},
   "source": [
    "## Load the saved X,y matrix \n",
    "as created in the `detect_loanwords_problems_solutions` notebook"
   ]
  },
  {
   "cell_type": "code",
   "execution_count": 9,
   "metadata": {},
   "outputs": [],
   "source": [
    "all_X = None\n",
    "with open('all_X.pkl', 'rb') as pickle_file:\n",
    "    all_X = pickle.load(pickle_file)\n",
    "all_y = None\n",
    "with open('all_y', 'rb') as pickle_file:\n",
    "    all_y = pickle.load(pickle_file)"
   ]
  },
  {
   "cell_type": "markdown",
   "metadata": {},
   "source": [
    "## Create a function to plot the history of the model training and validation"
   ]
  },
  {
   "cell_type": "code",
   "execution_count": 10,
   "metadata": {},
   "outputs": [],
   "source": [
    "def plot_history(history):\n",
    "    acc = history.history['acc']\n",
    "    val_acc = history.history['val_acc']\n",
    "    loss = history.history['loss']\n",
    "    val_loss = history.history['val_loss']\n",
    "    x = range(1, len(acc) + 1)\n",
    "    plt.figure(figsize=(12, 5))\n",
    "    plt.subplot(1, 2, 1)\n",
    "    plt.plot(x, acc, 'b', label='Training acc')\n",
    "    plt.plot(x, val_acc, 'r', label='Validation acc')\n",
    "    plt.title('Training and validation accuracy')\n",
    "    plt.legend()\n",
    "    plt.subplot(1, 2, 2)\n",
    "    plt.plot(x, loss, 'b', label='Training loss')\n",
    "    plt.plot(x, val_loss, 'r', label='Validation loss')\n",
    "    plt.title('Training and validation loss')\n",
    "    plt.legend()"
   ]
  },
  {
   "cell_type": "markdown",
   "metadata": {},
   "source": [
    "## Process the saved matrix"
   ]
  },
  {
   "cell_type": "code",
   "execution_count": 11,
   "metadata": {},
   "outputs": [],
   "source": [
    "scaler = StandardScaler()\n",
    "# try:  all_X.astype(np.float64)\n",
    "scaler.fit(all_X.astype(np.float64))\n",
    "# TODO pickle this scaler for applying the same transforms to input\n",
    "with open('scaler.pkl', 'wb') as fwriter:\n",
    "    pickle.dump(scaler, fwriter)    \n",
    "all_X_scaled = scaler.transform(all_X.astype(np.float64))"
   ]
  },
  {
   "cell_type": "code",
   "execution_count": 12,
   "metadata": {},
   "outputs": [],
   "source": [
    "X_train, X_test, y_train, y_test = train_test_split(all_X_scaled, all_y, test_size=0.2, random_state=42)"
   ]
  },
  {
   "cell_type": "markdown",
   "metadata": {},
   "source": [
    "## Create Keras callbacks as desired"
   ]
  },
  {
   "cell_type": "code",
   "execution_count": 13,
   "metadata": {},
   "outputs": [],
   "source": [
    "early_stopping = EarlyStopping(monitor='val_loss',\n",
    "                               min_delta=0,\n",
    "                               patience=3,\n",
    "                               verbose=0,\n",
    "                               mode='auto',\n",
    "                               baseline=None,\n",
    "                               restore_best_weights=False)\n",
    "tensor_board = TensorBoard(log_dir='./logs',\n",
    "                           histogram_freq=0,\n",
    "                           batch_size=32,\n",
    "                           write_graph=True,\n",
    "                           write_grads=False,\n",
    "                           write_images=False,\n",
    "                           embeddings_freq=0,\n",
    "                           embeddings_layer_names=None,\n",
    "                           embeddings_metadata=None,\n",
    "                           embeddings_data=None,\n",
    "                           update_freq='epoch')"
   ]
  },
  {
   "cell_type": "markdown",
   "metadata": {},
   "source": [
    "# Create Keras Model"
   ]
  },
  {
   "cell_type": "code",
   "execution_count": 37,
   "metadata": {},
   "outputs": [
    {
     "name": "stdout",
     "output_type": "stream",
     "text": [
      "_________________________________________________________________\n",
      "Layer (type)                 Output Shape              Param #   \n",
      "=================================================================\n",
      "dense_19 (Dense)             (None, 500)               13000     \n",
      "_________________________________________________________________\n",
      "dense_20 (Dense)             (None, 500)               250500    \n",
      "_________________________________________________________________\n",
      "dense_21 (Dense)             (None, 1)                 501       \n",
      "=================================================================\n",
      "Total params: 264,001\n",
      "Trainable params: 264,001\n",
      "Non-trainable params: 0\n",
      "_________________________________________________________________\n"
     ]
    }
   ],
   "source": [
    "num_features = all_X.shape[1]   \n",
    "\n",
    "model = Sequential()\n",
    "model.add(Dense(500, input_dim=num_features, activation='relu'))\n",
    "model.add(Dense(500, activation='relu'))\n",
    "model.add(Dense(1, activation='sigmoid'))\n",
    "model.compile(loss='binary_crossentropy', \n",
    "              optimizer='adam', \n",
    "              metrics=['accuracy'])\n",
    "# also tried:\n",
    "#  optimizer='rmsprop' \n",
    "# activation='elu'\n",
    "model.summary()"
   ]
  },
  {
   "cell_type": "code",
   "execution_count": 38,
   "metadata": {},
   "outputs": [
    {
     "name": "stdout",
     "output_type": "stream",
     "text": [
      "Train on 181280 samples, validate on 45321 samples\n",
      "Epoch 1/20\n",
      "181280/181280 [==============================] - 40s 220us/step - loss: 0.3943 - acc: 0.8330 - val_loss: 0.3330 - val_acc: 0.8600\n",
      "Epoch 2/20\n",
      "181280/181280 [==============================] - 40s 219us/step - loss: 0.3001 - acc: 0.8726 - val_loss: 0.2772 - val_acc: 0.8857\n",
      "Epoch 3/20\n",
      "181280/181280 [==============================] - 40s 220us/step - loss: 0.2552 - acc: 0.8936 - val_loss: 0.2465 - val_acc: 0.8950\n",
      "Epoch 4/20\n",
      "181280/181280 [==============================] - 40s 221us/step - loss: 0.2370 - acc: 0.9010 - val_loss: 0.2491 - val_acc: 0.8963\n",
      "Epoch 5/20\n",
      "181280/181280 [==============================] - 39s 218us/step - loss: 0.2272 - acc: 0.9058 - val_loss: 0.2271 - val_acc: 0.9065\n",
      "Epoch 6/20\n",
      "181280/181280 [==============================] - 39s 218us/step - loss: 0.2209 - acc: 0.9085 - val_loss: 0.2244 - val_acc: 0.9083\n",
      "Epoch 7/20\n",
      "181280/181280 [==============================] - 39s 217us/step - loss: 0.2158 - acc: 0.9115 - val_loss: 0.2167 - val_acc: 0.9123\n",
      "Epoch 8/20\n",
      "181280/181280 [==============================] - 40s 219us/step - loss: 0.2084 - acc: 0.9140 - val_loss: 0.2116 - val_acc: 0.9139\n",
      "Epoch 9/20\n",
      "181280/181280 [==============================] - 39s 218us/step - loss: 0.2052 - acc: 0.9159 - val_loss: 0.2098 - val_acc: 0.9137\n",
      "Epoch 10/20\n",
      "181280/181280 [==============================] - 39s 218us/step - loss: 0.1998 - acc: 0.9174 - val_loss: 0.2097 - val_acc: 0.9178\n",
      "Epoch 11/20\n",
      "181280/181280 [==============================] - 39s 218us/step - loss: 0.1978 - acc: 0.9194 - val_loss: 0.2103 - val_acc: 0.9161\n",
      "Epoch 12/20\n",
      "181280/181280 [==============================] - 39s 218us/step - loss: 0.1927 - acc: 0.9204 - val_loss: 0.1968 - val_acc: 0.9207\n",
      "Epoch 13/20\n",
      "181280/181280 [==============================] - 39s 217us/step - loss: 0.1916 - acc: 0.9218 - val_loss: 0.2030 - val_acc: 0.9209\n",
      "Epoch 14/20\n",
      "181280/181280 [==============================] - 40s 220us/step - loss: 0.1897 - acc: 0.9227 - val_loss: 0.1975 - val_acc: 0.9200\n",
      "Epoch 15/20\n",
      "181280/181280 [==============================] - 41s 226us/step - loss: 0.1874 - acc: 0.9238 - val_loss: 0.1922 - val_acc: 0.9236\n",
      "Epoch 16/20\n",
      "181280/181280 [==============================] - 45s 248us/step - loss: 0.1878 - acc: 0.9243 - val_loss: 0.1961 - val_acc: 0.9213\n",
      "Epoch 17/20\n",
      "181280/181280 [==============================] - 43s 235us/step - loss: 0.1879 - acc: 0.9251 - val_loss: 0.1954 - val_acc: 0.9235\n",
      "Epoch 18/20\n",
      "181280/181280 [==============================] - 41s 227us/step - loss: 0.1860 - acc: 0.9258 - val_loss: 0.1984 - val_acc: 0.9209\n",
      "Epoch 19/20\n",
      "181280/181280 [==============================] - 44s 241us/step - loss: 0.1826 - acc: 0.9265 - val_loss: 0.1945 - val_acc: 0.9245\n",
      "Epoch 20/20\n",
      "181280/181280 [==============================] - 43s 239us/step - loss: 0.1821 - acc: 0.9263 - val_loss: 0.1998 - val_acc: 0.9238\n"
     ]
    }
   ],
   "source": [
    " history = model.fit(X_train, y_train,\n",
    "                     epochs=20,\n",
    "                     verbose=True,\n",
    "                     validation_data=(X_test, y_test),\n",
    "                     batch_size=16,\n",
    "                     callbacks=[ tensor_board ]\n",
    "                    )"
   ]
  },
  {
   "cell_type": "code",
   "execution_count": 39,
   "metadata": {
    "scrolled": true
   },
   "outputs": [
    {
     "name": "stdout",
     "output_type": "stream",
     "text": [
      "181280/181280 [==============================] - 5s 27us/step\n",
      "Training Accuracy: 0.9274\n",
      "45321/45321 [==============================] - 1s 26us/step\n",
      "Testing Accuracy: 0.9238\n"
     ]
    }
   ],
   "source": [
    "loss, accuracy = model.evaluate(X_train, y_train, verbose=True)\n",
    "print(f\"Training Accuracy: {accuracy:.4f}\")\n",
    "loss, accuracy = model.evaluate(X_test, y_test, verbose=True)\n",
    "print(f\"Testing Accuracy: {accuracy:.4f}\")"
   ]
  },
  {
   "cell_type": "code",
   "execution_count": 40,
   "metadata": {},
   "outputs": [
    {
     "data": {
      "image/png": "[encoded data removed]",
      "text/plain": [
       "<Figure size 864x360 with 2 Axes>"
      ]
     },
     "metadata": {},
     "output_type": "display_data"
    }
   ],
   "source": [
    "plot_history(history)"
   ]
  },
  {
   "cell_type": "code",
   "execution_count": null,
   "metadata": {},
   "outputs": [],
   "source": []
  },
  {
   "cell_type": "markdown",
   "metadata": {},
   "source": [
    "## Results of parameter tuning\n",
    "### 1 Layer\n",
    "* 800 units, 1 layer, 20 epochs\n",
    "    * Training Accuracy: 0.8638\n",
    "    * Testing Accuracy: 0.8606\n",
    "### 2 Layers\n",
    "* 800 units, 2 layers, 15 epochs: 92%\n",
    "    * Training Accuracy: 0.9192 \n",
    "    * Testing Accuracy: 0.9124\n",
    "* 1000 units, 25 epochs: \n",
    "    * Training Accuracy: 0.9318\n",
    "    * Testing Accuracy: 0.9251\n",
    "* 100->50 units, 25 epochs, stopped at:\n",
    "* 48*25 = 1200 units, 25 epochs using elu\n",
    "    * Training Accuracy: 0.9055\n",
    "    * Testing Accuracy: 0.9031\n",
    "* 1200 units\n",
    "    * Training Accuracy: 0.9322\n",
    "    * Testing Accuracy: 0.9253\n",
    "* 900 units\n",
    "    * Training Accuracy: 0.9322\n",
    "    * Testing Accuracy: 0.9242\n",
    "* 800 units\n",
    "    * Training Accuracy: 0.9329\n",
    "    * Testing Accuracy: 0.9266\n",
    "* 200 units\n",
    "    * Training Accuracy: 0.9284\n",
    "    * Testing Accuracy: 0.9217\n",
    "* 400 units\n",
    "    * Training Accuracy: 0.9305\n",
    "    * Testing Accuracy: 0.9227\n",
    "* 600 units\n",
    "    * Training Accuracy: 0.9332\n",
    "    * Testing Accuracy: 0.9272\n",
    "* 500 units\n",
    "    * Training Accuracy: 0.9274\n",
    "    * Testing Accuracy: 0.9238"
   ]
  },
  {
   "cell_type": "markdown",
   "metadata": {},
   "source": [
    "## Tips for parameter tuning\n",
    "* Set a seed for random on the Python and library levels, as done early in this notebook\n",
    "* Be sure to recreate and compile your model fresh with each training session;\n",
    "    * If you rerun the .fit() method, you’ll start off with the computed weights from the previous training.\n",
    "* Study the history plots of each run, notice where training and validation characteristically starts to diverge more and more.\n",
    "    * Your training and validation graphs may have local minima, so you might not be able to use early stopping automatically.\n"
   ]
  },
  {
   "cell_type": "markdown",
   "metadata": {},
   "source": [
    "## Train and save with final params"
   ]
  },
  {
   "cell_type": "code",
   "execution_count": 41,
   "metadata": {},
   "outputs": [
    {
     "name": "stdout",
     "output_type": "stream",
     "text": [
      "_________________________________________________________________\n",
      "Layer (type)                 Output Shape              Param #   \n",
      "=================================================================\n",
      "dense_22 (Dense)             (None, 600)               15600     \n",
      "_________________________________________________________________\n",
      "dense_23 (Dense)             (None, 600)               360600    \n",
      "_________________________________________________________________\n",
      "dense_24 (Dense)             (None, 1)                 601       \n",
      "=================================================================\n",
      "Total params: 376,801\n",
      "Trainable params: 376,801\n",
      "Non-trainable params: 0\n",
      "_________________________________________________________________\n"
     ]
    }
   ],
   "source": [
    "model = Sequential()\n",
    "model.add(Dense(600, input_dim=num_features, activation='relu'))\n",
    "model.add(Dense(600, activation='relu'))\n",
    "model.add(Dense(1, activation='sigmoid'))\n",
    "model.compile(loss='binary_crossentropy', \n",
    "              optimizer='adam', \n",
    "              metrics=['accuracy'])\n",
    "model.summary()\n",
    "model.fit(all_X_scaled, all_y,\n",
    "                     epochs=17,\n",
    "                     verbose=False,\n",
    "                     batch_size=16)\n",
    "model.save('loanword_detector.greek_latin.keras.h5')  # creates an HDF5 file "
   ]
  },
  {
   "cell_type": "markdown",
   "metadata": {},
   "source": [
    "## Load the model and call it a run time (don't use pickle)"
   ]
  },
  {
   "cell_type": "code",
   "execution_count": 42,
   "metadata": {},
   "outputs": [],
   "source": [
    "mymodel = load_model('loanword_detector.greek_latin.keras.h5')"
   ]
  },
  {
   "cell_type": "code",
   "execution_count": 43,
   "metadata": {},
   "outputs": [],
   "source": [
    "def is_greek(word):\n",
    "    x = [word_to_features(word, max_word_length=25)]\n",
    "    # Use the fitted transformer, load from a pickle if necessary\n",
    "    x = scaler.transform(x)\n",
    "    return mymodel.predict(x)"
   ]
  },
  {
   "cell_type": "code",
   "execution_count": 54,
   "metadata": {},
   "outputs": [
    {
     "data": {
      "text/plain": [
       "array([[0.96278566]], dtype=float32)"
      ]
     },
     "execution_count": 54,
     "metadata": {},
     "output_type": "execute_result"
    }
   ],
   "source": [
    "is_greek('arxomai') "
   ]
  },
  {
   "cell_type": "code",
   "execution_count": 46,
   "metadata": {},
   "outputs": [
    {
     "data": {
      "text/plain": [
       "array([[0.06464736]], dtype=float32)"
      ]
     },
     "execution_count": 46,
     "metadata": {},
     "output_type": "execute_result"
    }
   ],
   "source": [
    "is_greek('veritas')"
   ]
  },
  {
   "cell_type": "code",
   "execution_count": 50,
   "metadata": {},
   "outputs": [
    {
     "data": {
      "text/plain": [
       "array([[0.99877995]], dtype=float32)"
      ]
     },
     "execution_count": 50,
     "metadata": {},
     "output_type": "execute_result"
    }
   ],
   "source": [
    "is_greek('thuon')"
   ]
  },
  {
   "cell_type": "code",
   "execution_count": null,
   "metadata": {},
   "outputs": [],
   "source": []
  },
  {
   "cell_type": "markdown",
   "metadata": {},
   "source": [
    "## Comparing the scikit learn classifier vs. the Keras Neural Net\n",
    "* RandomForest Classifier\n",
    "    * 1.3 Gigabytes pickle size\n",
    "    * accuracy: 96%\n",
    "* Keras Neural Net\n",
    "    * 4.3 Megabytes h5 size\n",
    "    * accuracy: 92.7%\n"
   ]
  },
  {
   "cell_type": "code",
   "execution_count": null,
   "metadata": {},
   "outputs": [],
   "source": []
  },
  {
   "cell_type": "markdown",
   "metadata": {},
   "source": [
    "# That's all for now folks!"
   ]
  }
 ],
 "metadata": {
  "kernelspec": {
   "display_name": "Python 3",
   "language": "python",
   "name": "python3"
  },
  "language_info": {
   "codemirror_mode": {
    "name": "ipython",
    "version": 3
   },
   "file_extension": ".py",
   "mimetype": "text/x-python",
   "name": "python",
   "nbconvert_exporter": "python",
   "pygments_lexer": "ipython3",
   "version": "3.7.0"
  }
 },
 "nbformat": 4,
 "nbformat_minor": 2
}
