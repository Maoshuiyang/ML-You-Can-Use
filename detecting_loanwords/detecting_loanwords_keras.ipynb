{
 "cells": [
  {
   "cell_type": "markdown",
   "metadata": {},
   "source": [
    "# Detecting loadwords with Keras"
   ]
  },
  {
   "cell_type": "markdown",
   "metadata": {},
   "source": [
    "### In this notebook you will:\n",
    "1. Train a neural network using Keras.\n",
    "1. Optimize hyperparameters for the Neural Net.\n",
    "1. Record model training statistics for viewing with tensor board.\n",
    "1. Save the best model using checkpoints. \n",
    "1. Compare the performance between the Neural Net and the Decision Tree classifier."
   ]
  },
  {
   "cell_type": "code",
   "execution_count": 1,
   "metadata": {},
   "outputs": [],
   "source": [
    "%load_ext autoreload\n",
    "%autoreload 2\n",
    "%matplotlib inline"
   ]
  },
  {
   "cell_type": "markdown",
   "metadata": {},
   "source": [
    "### Imports"
   ]
  },
  {
   "cell_type": "code",
   "execution_count": 2,
   "metadata": {},
   "outputs": [
    {
     "name": "stderr",
     "output_type": "stream",
     "text": [
      "Using TensorFlow backend.\n"
     ]
    }
   ],
   "source": [
    "import logging\n",
    "import random\n",
    "import pickle\n",
    "\n",
    "from keras.models import Sequential\n",
    "from keras.layers import Dense\n",
    "from keras.wrappers.scikit_learn import KerasClassifier\n",
    "from sklearn.preprocessing import StandardScaler\n",
    "from keras.callbacks import EarlyStopping, TensorBoard, ModelCheckpoint\n",
    "from keras.models import load_model\n",
    "\n",
    "import matplotlib.pyplot as plt\n",
    "import numpy as np\n",
    "from sklearn.model_selection import train_test_split\n",
    "from sklearn.utils.extmath import density\n",
    "from cltk.stem.latin.j_v import JVReplacer\n",
    "from cltk.prosody.latin.scansion_constants import ScansionConstants\n",
    "from cltk.prosody.latin.string_utils import remove_punctuation_dict\n",
    "from cltk.tokenize.word import WordTokenizer\n",
    "from cltk.corpus.readers import get_corpus_reader\n",
    "from cltk.utils.featurization import word_to_features\n",
    "from cltk.utils.file_operations import md5\n",
    "\n",
    "plt.style.use('fivethirtyeight')\n"
   ]
  },
  {
   "cell_type": "markdown",
   "metadata": {},
   "source": [
    "## Fix random seed values for reproducibility and tuning\n",
    "see: https://keras.io/getting-started/faq/#how-can-i-obtain-reproducible-results-using-keras-during-development"
   ]
  },
  {
   "cell_type": "code",
   "execution_count": 3,
   "metadata": {},
   "outputs": [],
   "source": [
    "import tensorflow as tf\n",
    "\n",
    "# The below is necessary for starting Numpy generated random numbers\n",
    "# in a well-defined initial state.\n",
    "np.random.seed(42)\n",
    "\n",
    "# The below is necessary for starting core Python generated random numbers\n",
    "# in a well-defined state.\n",
    "random.seed(12345)\n",
    "\n",
    "# Force TensorFlow to use single thread.\n",
    "# Multiple threads are a potential source of non-reproducible results.\n",
    "# For further details, see: https://stackoverflow.com/questions/42022950/\n",
    "\n",
    "session_conf = tf.ConfigProto(intra_op_parallelism_threads=1,\n",
    "                              inter_op_parallelism_threads=1)\n",
    "\n",
    "from keras import backend as K\n",
    "\n",
    "# The below tf.set_random_seed() will make random number generation\n",
    "# in the TensorFlow backend have a well-defined initial state.\n",
    "# For further details, see:\n",
    "# https://www.tensorflow.org/api_docs/python/tf/set_random_seed\n",
    "\n",
    "tf.set_random_seed(1234)\n",
    "sess = tf.Session(graph=tf.get_default_graph(), config=session_conf)\n",
    "K.set_session(sess)"
   ]
  },
  {
   "cell_type": "markdown",
   "metadata": {},
   "source": [
    "### Add parent directory to path so we can access our common code"
   ]
  },
  {
   "cell_type": "code",
   "execution_count": 4,
   "metadata": {},
   "outputs": [],
   "source": [
    "import os\n",
    "import sys\n",
    "import inspect\n",
    "currentdir = os.path.dirname(os.path.abspath(inspect.getfile(inspect.currentframe())))\n",
    "parentdir = os.path.dirname(currentdir)\n",
    "sys.path.insert(0, parentdir) "
   ]
  },
  {
   "cell_type": "code",
   "execution_count": 5,
   "metadata": {},
   "outputs": [],
   "source": [
    "from mlyoucanuse.featurize_text_fun import word_to_features"
   ]
  },
  {
   "cell_type": "markdown",
   "metadata": {},
   "source": [
    "### Turn on logging, primarily so that library methods may report warnings, if any"
   ]
  },
  {
   "cell_type": "code",
   "execution_count": 6,
   "metadata": {},
   "outputs": [],
   "source": [
    "LOG = logging.getLogger('make_model')\n",
    "LOG.addHandler(logging.NullHandler())\n",
    "logging.basicConfig(level=logging.INFO)\n",
    "tf.logging.set_verbosity(tf.logging.ERROR) # silence a deprecation warning; todo revisit"
   ]
  },
  {
   "cell_type": "markdown",
   "metadata": {},
   "source": [
    "## Load the saved X,y matrix \n",
    "as created in the `detect_loanwords_problems_solutions` notebook"
   ]
  },
  {
   "cell_type": "code",
   "execution_count": 41,
   "metadata": {},
   "outputs": [
    {
     "data": {
      "text/plain": [
       "array([1., 1., 1., ..., 0., 0., 0.], dtype=float32)"
      ]
     },
     "execution_count": 41,
     "metadata": {},
     "output_type": "execute_result"
    }
   ],
   "source": [
    "all_X = None\n",
    "with open('all_X.pkl', 'rb') as pickle_file:\n",
    "    all_X = pickle.load(pickle_file)\n",
    "all_y = None\n",
    "with open('all_y', 'rb') as pickle_file:\n",
    "    all_y = pickle.load(pickle_file)\n",
    "all_X.astype(np.float32)\n",
    "all_y.astype(np.float32)"
   ]
  },
  {
   "cell_type": "markdown",
   "metadata": {},
   "source": [
    "## Process the saved matrix"
   ]
  },
  {
   "cell_type": "code",
   "execution_count": 42,
   "metadata": {},
   "outputs": [],
   "source": [
    "X_train, X_test, y_train, y_test = train_test_split(all_X, all_y, test_size=0.3, random_state=42)\n",
    "# Partition equal sizes of test and validation sets\n",
    "X_test, X_validation, y_test, y_validation = train_test_split(X_test, y_test, test_size=0.5, random_state=42)"
   ]
  },
  {
   "cell_type": "code",
   "execution_count": 43,
   "metadata": {},
   "outputs": [],
   "source": [
    "scaler = StandardScaler()\n",
    "# try:  all_X.astype(np.float64)\n",
    "# Fit scaler only on training slice of data; \n",
    "# As with all the transformations, it is important to fit the scalers to the training data only,\n",
    "# not to the full dataset (including the test set).\n",
    "scaler.fit(X_train.astype(np.float32))\n",
    "# TODO pickle this scaler for applying the same transforms to input\n",
    "with open('scaler.pkl', 'wb') as fwriter:\n",
    "    pickle.dump(scaler, fwriter)    \n",
    "# Fit all 3 data sets\n",
    "X_train = scaler.transform(X_train.astype(np.float32))\n",
    "X_test = scaler.transform(X_test.astype(np.float32))\n",
    "X_validation = scaler.transform(X_validation.astype(np.float32))"
   ]
  },
  {
   "cell_type": "markdown",
   "metadata": {},
   "source": [
    "## Create Keras callbacks for Checkpointing, Tensor board, and Early Stopping\n",
    "Early stopping is promising, but it did not work as well as expected for this data set. Elsewhere and with large batches, it can be invaluable."
   ]
  },
  {
   "cell_type": "code",
   "execution_count": 44,
   "metadata": {},
   "outputs": [],
   "source": [
    "early_stopping = EarlyStopping(monitor='val_loss',\n",
    "                               min_delta=0,\n",
    "                               patience=3,\n",
    "                               verbose=0,\n",
    "                               mode='auto',\n",
    "                               baseline=None,\n",
    "                               restore_best_weights=False)\n",
    "tensor_board = TensorBoard(log_dir='./logs',\n",
    "                           histogram_freq=0,\n",
    "                           batch_size=32,\n",
    "                           write_graph=True,\n",
    "                           write_grads=False,\n",
    "                           write_images=False,\n",
    "                           embeddings_freq=0,\n",
    "                           embeddings_layer_names=None,\n",
    "                           embeddings_metadata=None,\n",
    "                           embeddings_data=None,\n",
    "                           update_freq='epoch')\n",
    "# checkpoint\n",
    "filepath=\"weights.best.hdf5\"\n",
    "checkpoint = ModelCheckpoint(filepath, monitor='val_acc', verbose=1, save_best_only=True, mode='max')\n",
    "callbacks_list = [checkpoint, tensor_board]"
   ]
  },
  {
   "cell_type": "markdown",
   "metadata": {},
   "source": [
    "## Create a function to plot the history of the model training and validation"
   ]
  },
  {
   "cell_type": "code",
   "execution_count": 45,
   "metadata": {},
   "outputs": [],
   "source": [
    "def plot_history(history):\n",
    "    acc = history.history['acc']\n",
    "    val_acc = history.history['val_acc']\n",
    "    loss = history.history['loss']\n",
    "    val_loss = history.history['val_loss']\n",
    "    x = range(1, len(acc) + 1)\n",
    "    plt.figure(figsize=(12, 5))\n",
    "    plt.subplot(1, 2, 1)\n",
    "    plt.plot(x, acc, 'b', label='Training acc')\n",
    "    plt.plot(x, val_acc, 'r', label='Validation acc')\n",
    "    plt.title('Training and validation accuracy')\n",
    "    plt.xlabel('Epochs')\n",
    "    plt.legend()\n",
    "    plt.subplot(1, 2, 2)\n",
    "    plt.plot(x, loss, 'b', label='Training loss')\n",
    "    plt.plot(x, val_loss, 'r', label='Validation loss')\n",
    "    plt.title('Training and validation loss')\n",
    "    plt.xlabel('Epochs')\n",
    "    plt.legend()"
   ]
  },
  {
   "cell_type": "markdown",
   "metadata": {},
   "source": [
    "# Create Keras Model"
   ]
  },
  {
   "cell_type": "code",
   "execution_count": 46,
   "metadata": {},
   "outputs": [
    {
     "name": "stdout",
     "output_type": "stream",
     "text": [
      "_________________________________________________________________\n",
      "Layer (type)                 Output Shape              Param #   \n",
      "=================================================================\n",
      "dense_16 (Dense)             (None, 500)               13000     \n",
      "_________________________________________________________________\n",
      "dense_17 (Dense)             (None, 500)               250500    \n",
      "_________________________________________________________________\n",
      "dense_18 (Dense)             (None, 1)                 501       \n",
      "=================================================================\n",
      "Total params: 264,001\n",
      "Trainable params: 264,001\n",
      "Non-trainable params: 0\n",
      "_________________________________________________________________\n"
     ]
    }
   ],
   "source": [
    "num_features = all_X.shape[1]   \n",
    "\n",
    "model = Sequential()\n",
    "model.add(Dense(500, input_dim=num_features, activation='relu'))\n",
    "model.add(Dense(500, activation='relu'))\n",
    "model.add(Dense(1, activation='sigmoid'))\n",
    "\n",
    "# you could preload training weights, but this could bias your search\n",
    "# if os.path.exists('weights.best.hdf5'):\n",
    "#     model.load_weights('weights.best.hdf5')\n",
    "\n",
    "model.compile(loss='binary_crossentropy', \n",
    "              optimizer=\n",
    "#  'nadam',                            \n",
    "# 'sgd' ,               \n",
    "# 'adadelta',\n",
    " 'adam',\n",
    "              metrics=['accuracy'])\n",
    "# also tried:\n",
    "#  optimizer='rmsprop' \n",
    "# activation='elu'\n",
    "model.summary()"
   ]
  },
  {
   "cell_type": "code",
   "execution_count": 47,
   "metadata": {},
   "outputs": [
    {
     "name": "stdout",
     "output_type": "stream",
     "text": [
      "Train on 158620 samples, validate on 33990 samples\n",
      "Epoch 1/20\n",
      "158620/158620 [==============================] - 21s 131us/step - loss: 0.4067 - acc: 0.8271 - val_loss: 0.3620 - val_acc: 0.8417\n",
      "\n",
      "Epoch 00001: val_acc improved from -inf to 0.84175, saving model to weights.best.hdf5\n",
      "Epoch 2/20\n",
      "158620/158620 [==============================] - 21s 130us/step - loss: 0.3169 - acc: 0.8651 - val_loss: 0.2748 - val_acc: 0.8835\n",
      "\n",
      "Epoch 00002: val_acc improved from 0.84175 to 0.88352, saving model to weights.best.hdf5\n",
      "Epoch 3/20\n",
      "158620/158620 [==============================] - 21s 131us/step - loss: 0.2624 - acc: 0.8893 - val_loss: 0.2479 - val_acc: 0.8976\n",
      "\n",
      "Epoch 00003: val_acc improved from 0.88352 to 0.89765, saving model to weights.best.hdf5\n",
      "Epoch 4/20\n",
      "158620/158620 [==============================] - 20s 128us/step - loss: 0.2398 - acc: 0.8997 - val_loss: 0.2479 - val_acc: 0.8917\n",
      "\n",
      "Epoch 00004: val_acc did not improve from 0.89765\n",
      "Epoch 5/20\n",
      "158620/158620 [==============================] - 20s 128us/step - loss: 0.2291 - acc: 0.9039 - val_loss: 0.2266 - val_acc: 0.9062\n",
      "\n",
      "Epoch 00005: val_acc improved from 0.89765 to 0.90618, saving model to weights.best.hdf5\n",
      "Epoch 6/20\n",
      "158620/158620 [==============================] - 20s 128us/step - loss: 0.2207 - acc: 0.9088 - val_loss: 0.2196 - val_acc: 0.9089\n",
      "\n",
      "Epoch 00006: val_acc improved from 0.90618 to 0.90886, saving model to weights.best.hdf5\n",
      "Epoch 7/20\n",
      "158620/158620 [==============================] - 20s 127us/step - loss: 0.2138 - acc: 0.9109 - val_loss: 0.2146 - val_acc: 0.9115\n",
      "\n",
      "Epoch 00007: val_acc improved from 0.90886 to 0.91147, saving model to weights.best.hdf5\n",
      "Epoch 8/20\n",
      "158620/158620 [==============================] - 21s 130us/step - loss: 0.2084 - acc: 0.9135 - val_loss: 0.2118 - val_acc: 0.9102\n",
      "\n",
      "Epoch 00008: val_acc did not improve from 0.91147\n",
      "Epoch 9/20\n",
      "158620/158620 [==============================] - 21s 130us/step - loss: 0.2040 - acc: 0.9157 - val_loss: 0.2081 - val_acc: 0.9121\n",
      "\n",
      "Epoch 00009: val_acc improved from 0.91147 to 0.91209, saving model to weights.best.hdf5\n",
      "Epoch 10/20\n",
      "158620/158620 [==============================] - 21s 132us/step - loss: 0.1987 - acc: 0.9177 - val_loss: 0.2049 - val_acc: 0.9149\n",
      "\n",
      "Epoch 00010: val_acc improved from 0.91209 to 0.91486, saving model to weights.best.hdf5\n",
      "Epoch 11/20\n",
      "158620/158620 [==============================] - 21s 130us/step - loss: 0.1944 - acc: 0.9201 - val_loss: 0.2000 - val_acc: 0.9179\n",
      "\n",
      "Epoch 00011: val_acc improved from 0.91486 to 0.91795, saving model to weights.best.hdf5\n",
      "Epoch 12/20\n",
      "158620/158620 [==============================] - 21s 130us/step - loss: 0.1916 - acc: 0.9210 - val_loss: 0.1985 - val_acc: 0.9199\n",
      "\n",
      "Epoch 00012: val_acc improved from 0.91795 to 0.91995, saving model to weights.best.hdf5\n",
      "Epoch 13/20\n",
      "158620/158620 [==============================] - 21s 130us/step - loss: 0.1883 - acc: 0.9232 - val_loss: 0.2000 - val_acc: 0.9182\n",
      "\n",
      "Epoch 00013: val_acc did not improve from 0.91995\n",
      "Epoch 14/20\n",
      "158620/158620 [==============================] - 21s 132us/step - loss: 0.1870 - acc: 0.9233 - val_loss: 0.2105 - val_acc: 0.9120\n",
      "\n",
      "Epoch 00014: val_acc did not improve from 0.91995\n",
      "Epoch 15/20\n",
      "158620/158620 [==============================] - 21s 131us/step - loss: 0.1859 - acc: 0.9249 - val_loss: 0.1990 - val_acc: 0.9217\n",
      "\n",
      "Epoch 00015: val_acc improved from 0.91995 to 0.92168, saving model to weights.best.hdf5\n",
      "Epoch 16/20\n",
      "158620/158620 [==============================] - 21s 130us/step - loss: 0.1837 - acc: 0.9257 - val_loss: 0.1871 - val_acc: 0.9226\n",
      "\n",
      "Epoch 00016: val_acc improved from 0.92168 to 0.92257, saving model to weights.best.hdf5\n",
      "Epoch 17/20\n",
      "158620/158620 [==============================] - 21s 130us/step - loss: 0.1795 - acc: 0.9268 - val_loss: 0.1944 - val_acc: 0.9207\n",
      "\n",
      "Epoch 00017: val_acc did not improve from 0.92257\n",
      "Epoch 18/20\n",
      "158620/158620 [==============================] - 21s 131us/step - loss: 0.1779 - acc: 0.9274 - val_loss: 0.1895 - val_acc: 0.9221\n",
      "\n",
      "Epoch 00018: val_acc did not improve from 0.92257\n",
      "Epoch 19/20\n",
      "158620/158620 [==============================] - 21s 131us/step - loss: 0.1773 - acc: 0.9279 - val_loss: 0.1918 - val_acc: 0.9234\n",
      "\n",
      "Epoch 00019: val_acc improved from 0.92257 to 0.92336, saving model to weights.best.hdf5\n",
      "Epoch 20/20\n",
      "158620/158620 [==============================] - 21s 131us/step - loss: 0.1755 - acc: 0.9283 - val_loss: 0.1843 - val_acc: 0.9250\n",
      "\n",
      "Epoch 00020: val_acc improved from 0.92336 to 0.92504, saving model to weights.best.hdf5\n"
     ]
    }
   ],
   "source": [
    " history = model.fit(X_train, y_train,\n",
    "                     epochs=20,\n",
    "                     verbose=True,\n",
    "                     validation_data=(X_test, y_test),\n",
    "                     batch_size=32,\n",
    "                     callbacks=callbacks_list)"
   ]
  },
  {
   "cell_type": "code",
   "execution_count": 48,
   "metadata": {
    "scrolled": true
   },
   "outputs": [
    {
     "name": "stdout",
     "output_type": "stream",
     "text": [
      "158620/158620 [==============================] - 4s 27us/step\n",
      "Training Accuracy: 0.9332 Loss: 0.1632\n",
      "33990/33990 [==============================] - 1s 27us/step\n",
      "Testing Accuracy: 0.9250 Loss: 0.1843\n",
      "33991/33991 [==============================] - 1s 27us/step\n",
      "Unseen Accuracy: 0.9243 Loss: 0.1831\n"
     ]
    }
   ],
   "source": [
    "loss, accuracy = model.evaluate(X_train, y_train, verbose=True)\n",
    "print(f\"Training Accuracy: {accuracy:.4f} Loss: {loss:.4f}\")\n",
    "loss, accuracy = model.evaluate(X_test, y_test, verbose=True)\n",
    "print(f\"Testing Accuracy: {accuracy:.4f} Loss: {loss:.4f}\")\n",
    "loss, accuracy = model.evaluate(X_validation, y_validation, verbose=True)\n",
    "print(f\"Unseen Accuracy: {accuracy:.4f} Loss: {loss:.4f}\")"
   ]
  },
  {
   "cell_type": "code",
   "execution_count": 49,
   "metadata": {},
   "outputs": [
    {
     "data": {
      "image/png": "[encoded data removed]",
      "text/plain": [
       "<Figure size 864x360 with 2 Axes>"
      ]
     },
     "metadata": {},
     "output_type": "display_data"
    }
   ],
   "source": [
    "plot_history(history)"
   ]
  },
  {
   "cell_type": "markdown",
   "metadata": {},
   "source": [
    "## Results of parameter tuning\n",
    "### 1 Layer\n",
    "* 800 units, 1 layer, 20 epochs\n",
    "    * Training Accuracy: 0.8638\n",
    "    * Testing Accuracy: 0.8606\n",
    "### 2 Layers\n",
    "* 800 units, 2 layers, 15 epochs: 92%\n",
    "    * Training Accuracy: 0.9192 \n",
    "    * Testing Accuracy: 0.9124\n",
    "* 1000 units, 25 epochs: \n",
    "    * Training Accuracy: 0.9318\n",
    "    * Testing Accuracy: 0.9251\n",
    "* 100->50 units, 25 epochs, stopped at:\n",
    "* 48*25 = 1200 units, 25 epochs using elu\n",
    "    * Training Accuracy: 0.9055\n",
    "    * Testing Accuracy: 0.9031\n",
    "* 1200 units\n",
    "    * Training Accuracy: 0.9322\n",
    "    * Testing Accuracy: 0.9253\n",
    "* 900 units\n",
    "    * Training Accuracy: 0.9322\n",
    "    * Testing Accuracy: 0.9242\n",
    "* 800 units\n",
    "    * Training Accuracy: 0.9329\n",
    "    * Testing Accuracy: 0.9266\n",
    "* 200 units\n",
    "    * Training Accuracy: 0.9284\n",
    "    * Testing Accuracy: 0.9217\n",
    "* 400 units\n",
    "    * Training Accuracy: 0.9305\n",
    "    * Testing Accuracy: 0.9227\n",
    "* 600 units\n",
    "    * Training Accuracy: 0.9332\n",
    "    * Testing Accuracy: 0.9272\n",
    "* 500 units using nadam:\n",
    "    * Training Accuracy: 0.9164\n",
    "    * Testing Accuracy: 0.9117\n",
    "* 500 units using adam, batch 16:\n",
    "    * Training Accuracy: 0.9279 Loss: 0.1768\n",
    "    * Testing Accuracy: 0.9204 Loss: 0.2025\n",
    "    * Unseen Accuracy: 0.9226 Loss: 0.1937\n",
    "* 500 units, adam, batch 8:\n",
    "    * Training Accuracy: 0.9257 Loss: 0.2001\n",
    "    * Testing Accuracy: 0.9204 Loss: 0.2224\n",
    "    * Unseen Accuracy: 0.9210 Loss: 0.2146\n",
    "* 500 units, adam, batch: 32\n",
    "    * Training Accuracy: 0.9305 Loss: 0.1685\n",
    "    * Testing Accuracy: 0.9222 Loss: 0.1918\n",
    "    * Unseen Accuracy: 0.9235 Loss: 0.1904\n",
    "* Same as above using 32 bit floats:\n",
    "    * Training Accuracy: 0.9332 Loss: 0.1632\n",
    "    * Testing Accuracy: 0.9250 Loss: 0.1843\n",
    "    * Unseen Accuracy: 0.9243 Loss: 0.1831"
   ]
  },
  {
   "cell_type": "markdown",
   "metadata": {},
   "source": [
    "## Tips for parameter tuning\n",
    "* Set a seed for random on the Python and library levels, as done early in this notebook\n",
    "* Be sure to recreate and compile your model fresh with each training session;\n",
    "    * If you rerun the .fit() method, you’ll start off with the computed weights from the previous training.\n",
    "* Study the history plots of each run, notice where training and validation characteristically starts to diverge more and more.\n",
    "    * Your training and validation graphs may have local minima, so you might not be able to use early stopping automatically.\n"
   ]
  },
  {
   "cell_type": "markdown",
   "metadata": {},
   "source": [
    "## Fit final model"
   ]
  },
  {
   "cell_type": "code",
   "execution_count": 35,
   "metadata": {},
   "outputs": [],
   "source": [
    "all_X_scaled = scaler.fit_transform(all_X.astype(np.float32))\n",
    "model = Sequential()\n",
    "model.add(Dense(500, input_dim=num_features, activation='relu'))\n",
    "model.add(Dense(500, activation='relu'))\n",
    "model.add(Dense(1, activation='sigmoid'))    \n",
    "model.compile(loss='binary_crossentropy', \n",
    "              optimizer='adam')\n",
    "model.fit(all_X_scaled, all_y,\n",
    "                     epochs=18,\n",
    "                     verbose=False,                     \n",
    "                     batch_size=32)\n",
    "model.save('loanword_detector.greek_latin.keras.h5')"
   ]
  },
  {
   "cell_type": "markdown",
   "metadata": {},
   "source": [
    "## Load the model and call it a run time (don't use pickle)"
   ]
  },
  {
   "cell_type": "code",
   "execution_count": 36,
   "metadata": {},
   "outputs": [],
   "source": [
    "mymodel = load_model('loanword_detector.greek_latin.keras.h5')"
   ]
  },
  {
   "cell_type": "code",
   "execution_count": 37,
   "metadata": {},
   "outputs": [],
   "source": [
    "def is_greek(word):\n",
    "    x = [word_to_features(word, max_word_length=25)]\n",
    "    # Use the fitted transformer, load from a pickle if necessary\n",
    "    x=np.array(x).astype(np.float32)\n",
    "    x = scaler.transform(x) \n",
    "    return mymodel.predict(x)"
   ]
  },
  {
   "cell_type": "code",
   "execution_count": 38,
   "metadata": {},
   "outputs": [
    {
     "data": {
      "text/plain": [
       "array([[0.9515998]], dtype=float32)"
      ]
     },
     "execution_count": 38,
     "metadata": {},
     "output_type": "execute_result"
    }
   ],
   "source": [
    "is_greek('arxomai') "
   ]
  },
  {
   "cell_type": "code",
   "execution_count": 39,
   "metadata": {},
   "outputs": [
    {
     "data": {
      "text/plain": [
       "array([[0.12234748]], dtype=float32)"
      ]
     },
     "execution_count": 39,
     "metadata": {},
     "output_type": "execute_result"
    }
   ],
   "source": [
    "is_greek('veritas')"
   ]
  },
  {
   "cell_type": "code",
   "execution_count": 40,
   "metadata": {},
   "outputs": [
    {
     "data": {
      "text/plain": [
       "array([[0.99567956]], dtype=float32)"
      ]
     },
     "execution_count": 40,
     "metadata": {},
     "output_type": "execute_result"
    }
   ],
   "source": [
    "is_greek('thuon')"
   ]
  },
  {
   "cell_type": "markdown",
   "metadata": {},
   "source": [
    "## Comparing the scikit learn classifier vs. the Keras Neural Net\n",
    "* RandomForest Classifier\n",
    "    * 1.3 Gigabytes pickle size\n",
    "    * accuracy: 96%\n",
    "* Keras Neural Net\n",
    "    * 4.3 Megabytes h5 size\n",
    "    * accuracy: 92.88%\n",
    "\n",
    "These results are typical for a relatively small dataset. Decision tree classifiers do very well, but can be prone to overfitting; and on the downside, the decision tree model is somewhat large. The neural net is small and is not overfitting. It is more compact and quite performant, and should a worthwhile consideration.\n",
    "\n",
    "Both models might benefit from training with more data, and this is an area for future investigation."
   ]
  },
  {
   "cell_type": "markdown",
   "metadata": {},
   "source": [
    "# That's all for now folks!"
   ]
  }
 ],
 "metadata": {
  "kernelspec": {
   "display_name": "Python 3",
   "language": "python",
   "name": "python3"
  },
  "language_info": {
   "codemirror_mode": {
    "name": "ipython",
    "version": 3
   },
   "file_extension": ".py",
   "mimetype": "text/x-python",
   "name": "python",
   "nbconvert_exporter": "python",
   "pygments_lexer": "ipython3",
   "version": "3.7.0"
  }
 },
 "nbformat": 4,
 "nbformat_minor": 2
}
