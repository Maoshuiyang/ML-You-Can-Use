{
 "cells": [
  {
   "cell_type": "markdown",
   "metadata": {},
   "source": [
    "# Detecting loadwords with Keras"
   ]
  },
  {
   "cell_type": "markdown",
   "metadata": {},
   "source": [
    "### In this notebook you will:\n",
    "1. Train a neural network using Keras.\n",
    "1. Optimize hyperparameters for the Neural Net.\n",
    "1. Record model training statistics for viewing with tensor board.\n",
    "1. Save the best model using checkpoints. \n",
    "1. Compare the performance between the Neural Net and the Decision Tree classifier."
   ]
  },
  {
   "cell_type": "code",
   "execution_count": 2,
   "metadata": {},
   "outputs": [],
   "source": [
    "%load_ext autoreload\n",
    "%autoreload 2\n",
    "%matplotlib inline"
   ]
  },
  {
   "cell_type": "markdown",
   "metadata": {},
   "source": [
    "### Imports"
   ]
  },
  {
   "cell_type": "code",
   "execution_count": 53,
   "metadata": {},
   "outputs": [
    {
     "data": {
      "text/plain": [
       "[]"
      ]
     },
     "execution_count": 53,
     "metadata": {},
     "output_type": "execute_result"
    }
   ],
   "source": [
    "import logging\n",
    "import random\n",
    "import pickle\n",
    "\n",
    "from keras.models import Sequential\n",
    "from keras.layers import Dense, Dropout\n",
    "from keras.wrappers.scikit_learn import KerasClassifier\n",
    "from sklearn.preprocessing import StandardScaler\n",
    "from keras.callbacks import EarlyStopping, TensorBoard, ModelCheckpoint\n",
    "from keras.models import load_model\n",
    "from keras import backend as K\n",
    "\n",
    "import matplotlib.pyplot as plt\n",
    "import numpy as np\n",
    "from sklearn.model_selection import train_test_split\n",
    "from sklearn.utils.extmath import density\n",
    "from cltk.stem.latin.j_v import JVReplacer\n",
    "from cltk.prosody.latin.scansion_constants import ScansionConstants\n",
    "from cltk.prosody.latin.string_utils import remove_punctuation_dict\n",
    "from cltk.tokenize.word import WordTokenizer\n",
    "from cltk.corpus.readers import get_corpus_reader\n",
    "from cltk.utils.featurization import word_to_features\n",
    "from cltk.utils.file_operations import md5\n",
    "\n",
    "plt.style.use('fivethirtyeight')\n",
    "import logging\n",
    "logging.disable(logging.WARNING)\n",
    "K.tensorflow_backend._get_available_gpus()\n",
    "logging.disable(logging.NOTSET)\n",
    "K.tensorflow_backend._get_available_gpus()"
   ]
  },
  {
   "cell_type": "markdown",
   "metadata": {},
   "source": [
    "## Fix random seed values for reproducibility and tuning\n",
    "see: https://keras.io/getting-started/faq/#how-can-i-obtain-reproducible-results-using-keras-during-development"
   ]
  },
  {
   "cell_type": "code",
   "execution_count": 4,
   "metadata": {},
   "outputs": [],
   "source": [
    "# The below is necessary for starting Numpy generated random numbers\n",
    "# in a well-defined initial state.\n",
    "np.random.seed(12)\n",
    "\n",
    "# The below is necessary for starting core Python generated random numbers\n",
    "# in a well-defined state.\n",
    "random.seed(12) "
   ]
  },
  {
   "cell_type": "markdown",
   "metadata": {},
   "source": [
    "### Add parent directory to path so we can access our common code"
   ]
  },
  {
   "cell_type": "code",
   "execution_count": 5,
   "metadata": {},
   "outputs": [],
   "source": [
    "import os\n",
    "import sys\n",
    "import inspect\n",
    "currentdir = os.path.dirname(os.path.abspath(inspect.getfile(inspect.currentframe())))\n",
    "parentdir = os.path.dirname(currentdir)\n",
    "sys.path.insert(0, parentdir) "
   ]
  },
  {
   "cell_type": "code",
   "execution_count": 6,
   "metadata": {},
   "outputs": [],
   "source": [
    "from mlyoucanuse.featurize_text_fun import word_to_features"
   ]
  },
  {
   "cell_type": "markdown",
   "metadata": {},
   "source": [
    "### Turn on logging, primarily so that library methods may report warnings, if any"
   ]
  },
  {
   "cell_type": "code",
   "execution_count": 7,
   "metadata": {},
   "outputs": [],
   "source": [
    "LOG = logging.getLogger('make_model')\n",
    "LOG.addHandler(logging.NullHandler())\n",
    "logging.basicConfig(level=logging.INFO)\n",
    "# tf.logging.set_verbosity(tf.logging.ERROR) # silence a deprecation warning; todo revisit"
   ]
  },
  {
   "cell_type": "markdown",
   "metadata": {},
   "source": [
    "## Load the saved X,y matrix \n",
    "as created in the `detect_loanwords_problems_solutions` notebook"
   ]
  },
  {
   "cell_type": "code",
   "execution_count": 8,
   "metadata": {},
   "outputs": [
    {
     "data": {
      "text/plain": [
       "array([1., 1., 1., ..., 0., 0., 0.], dtype=float32)"
      ]
     },
     "execution_count": 8,
     "metadata": {},
     "output_type": "execute_result"
    }
   ],
   "source": [
    "all_X = None\n",
    "with open('all_X.pkl', 'rb') as pickle_file:\n",
    "    all_X = pickle.load(pickle_file)\n",
    "all_y = None\n",
    "with open('all_y', 'rb') as pickle_file:\n",
    "    all_y = pickle.load(pickle_file)\n",
    "all_X.astype(np.float32)\n",
    "all_y.astype(np.float32)"
   ]
  },
  {
   "cell_type": "markdown",
   "metadata": {},
   "source": [
    "## Process the saved matrix"
   ]
  },
  {
   "cell_type": "code",
   "execution_count": 9,
   "metadata": {},
   "outputs": [],
   "source": [
    "X_train, X_test, y_train, y_test = train_test_split(all_X, all_y, test_size=0.3, random_state=42)\n",
    "# Partition equal sizes of test and validation sets\n",
    "X_test, X_validation, y_test, y_validation = train_test_split(X_test, y_test, test_size=0.5, random_state=42)"
   ]
  },
  {
   "cell_type": "code",
   "execution_count": 10,
   "metadata": {},
   "outputs": [],
   "source": [
    "scaler = StandardScaler()\n",
    "# try:  all_X.astype(np.float64)\n",
    "# Fit scaler only on training slice of data; \n",
    "# As with all the transformations, it is important to fit the scalers to the training data only,\n",
    "# not to the full dataset (including the test set).\n",
    "scaler.fit(X_train.astype(np.float32))\n",
    "# TODO pickle this scaler for applying the same transforms to input\n",
    "with open('scaler.pkl', 'wb') as fwriter:\n",
    "    pickle.dump(scaler, fwriter)    \n",
    "# Fit all 3 data sets\n",
    "X_train = scaler.transform(X_train.astype(np.float32))\n",
    "X_test = scaler.transform(X_test.astype(np.float32))\n",
    "X_validation = scaler.transform(X_validation.astype(np.float32))"
   ]
  },
  {
   "cell_type": "markdown",
   "metadata": {},
   "source": [
    "## Create Keras callbacks for Checkpointing, Tensor board, and Early Stopping\n",
    "Early stopping is promising, but it did not work as well as expected for this data set. Elsewhere and with large batches, it can be invaluable."
   ]
  },
  {
   "cell_type": "code",
   "execution_count": 11,
   "metadata": {},
   "outputs": [],
   "source": [
    "early_stopping = EarlyStopping(monitor='val_loss',\n",
    "                               min_delta=0,\n",
    "                               patience=3,\n",
    "                               verbose=0,\n",
    "                               mode='auto',\n",
    "                               baseline=None,\n",
    "                               restore_best_weights=False)\n",
    "tensor_board = TensorBoard(log_dir='./logs',\n",
    "                           histogram_freq=0,                           \n",
    "                           write_graph=True,\n",
    "                           write_grads=False,\n",
    "                           write_images=False,\n",
    "                           embeddings_freq=0,\n",
    "                           embeddings_layer_names=None,\n",
    "                           embeddings_metadata=None,\n",
    "                           embeddings_data=None,\n",
    "                           update_freq='epoch')\n",
    "# checkpoint\n",
    "filepath=\"weights.best.hdf5\"\n",
    "checkpoint = ModelCheckpoint(filepath, monitor='val_acc', verbose=1, save_best_only=True, mode='max')\n",
    "callbacks_list = [checkpoint, tensor_board]"
   ]
  },
  {
   "cell_type": "markdown",
   "metadata": {},
   "source": [
    "## Create a function to plot the history of the model training and validation"
   ]
  },
  {
   "cell_type": "code",
   "execution_count": 12,
   "metadata": {},
   "outputs": [],
   "source": [
    "def plot_history(history, filename=None):\n",
    "    \"\"\"Plot Keras metrics.\"\"\"\n",
    "    # Note, the key types can be reported differently, hence we use defaults on lookup\n",
    "    acc = history.history.get('acc', history.history.get('accuracy'))\n",
    "    val_acc = history.history.get('val_acc', history.history.get('val_accuracy')) \n",
    "    loss = history.history['loss']\n",
    "    val_loss = history.history['val_loss']\n",
    "    x = range(1, len(acc) + 1)\n",
    "    plt.figure(figsize=(12, 5))\n",
    "    plt.subplot(1, 2, 1)\n",
    "    plt.plot(x, acc, 'b', label='Training acc')\n",
    "    plt.plot(x, val_acc, 'r', label='Validation acc')\n",
    "    plt.title('Training and validation accuracy')\n",
    "    plt.xlabel('Epochs')\n",
    "    plt.legend()\n",
    "    plt.subplot(1, 2, 2)\n",
    "    plt.plot(x, loss, 'b', label='Training loss')\n",
    "    plt.plot(x, val_loss, 'r', label='Validation loss')\n",
    "    plt.title('Training and validation loss')\n",
    "    plt.xlabel('Epochs')\n",
    "    plt.legend()\n",
    "    if filename:\n",
    "        plt.savefig(filename)"
   ]
  },
  {
   "cell_type": "markdown",
   "metadata": {},
   "source": [
    "# Create Keras Model"
   ]
  },
  {
   "cell_type": "code",
   "execution_count": 22,
   "metadata": {},
   "outputs": [
    {
     "name": "stdout",
     "output_type": "stream",
     "text": [
      "Model: \"Loanword detector\"\n",
      "_________________________________________________________________\n",
      "Layer (type)                 Output Shape              Param #   \n",
      "=================================================================\n",
      "Dense_layer_1 (Dense)        (None, 256)               7424      \n",
      "_________________________________________________________________\n",
      "Dense_layer_2 (Dense)        (None, 256)               65792     \n",
      "_________________________________________________________________\n",
      "Dense_layer_3 (Dense)        (None, 1)                 257       \n",
      "=================================================================\n",
      "Total params: 73,473\n",
      "Trainable params: 73,473\n",
      "Non-trainable params: 0\n",
      "_________________________________________________________________\n"
     ]
    }
   ],
   "source": [
    "num_features = all_X.shape[1]   \n",
    "\n",
    "model = Sequential(name='Loanword detector')\n",
    "model.add(Dense(256, name='Dense_layer_1',\n",
    "                input_dim=num_features, activation='relu'))\n",
    "model.add(Dense(256, name='Dense_layer_2',\n",
    "                activation='relu'))\n",
    "model.add(Dense(1, name='Dense_layer_3', activation='sigmoid'))\n",
    "model.compile(loss='binary_crossentropy', \n",
    "              optimizer= 'adam',\n",
    "              metrics=['accuracy'])  \n",
    "model.summary()\n",
    "# Also experiemented with Kernel regularizers and dropout but neither added improvements"
   ]
  },
  {
   "cell_type": "code",
   "execution_count": 23,
   "metadata": {},
   "outputs": [
    {
     "name": "stdout",
     "output_type": "stream",
     "text": [
      "Train on 153563 samples, validate on 32907 samples\n",
      "Epoch 1/40\n",
      "153563/153563 [==============================] - 4s 24us/step - loss: 0.4373 - accuracy: 0.8197 - val_loss: 0.4063 - val_accuracy: 0.8288\n",
      "Epoch 2/40\n",
      "153563/153563 [==============================] - 4s 23us/step - loss: 0.3877 - accuracy: 0.8324 - val_loss: 0.3777 - val_accuracy: 0.8384\n",
      "Epoch 3/40\n",
      "153563/153563 [==============================] - 3s 23us/step - loss: 0.3627 - accuracy: 0.8443 - val_loss: 0.3607 - val_accuracy: 0.8446\n",
      "Epoch 4/40\n",
      "153563/153563 [==============================] - 3s 22us/step - loss: 0.3436 - accuracy: 0.8519 - val_loss: 0.3336 - val_accuracy: 0.8581\n",
      "Epoch 5/40\n",
      "153563/153563 [==============================] - 3s 22us/step - loss: 0.3275 - accuracy: 0.8587 - val_loss: 0.3307 - val_accuracy: 0.8588\n",
      "Epoch 6/40\n",
      "153563/153563 [==============================] - 3s 22us/step - loss: 0.3138 - accuracy: 0.8655 - val_loss: 0.3093 - val_accuracy: 0.8657\n",
      "Epoch 7/40\n",
      "153563/153563 [==============================] - 3s 23us/step - loss: 0.3024 - accuracy: 0.8711 - val_loss: 0.3005 - val_accuracy: 0.8732\n",
      "Epoch 8/40\n",
      "153563/153563 [==============================] - 3s 23us/step - loss: 0.2925 - accuracy: 0.8759 - val_loss: 0.2986 - val_accuracy: 0.8749\n",
      "Epoch 9/40\n",
      "153563/153563 [==============================] - 4s 23us/step - loss: 0.2873 - accuracy: 0.8796 - val_loss: 0.2920 - val_accuracy: 0.8750\n",
      "Epoch 10/40\n",
      "153563/153563 [==============================] - 3s 23us/step - loss: 0.2749 - accuracy: 0.8844 - val_loss: 0.2889 - val_accuracy: 0.8785\n",
      "Epoch 11/40\n",
      "153563/153563 [==============================] - 3s 22us/step - loss: 0.2670 - accuracy: 0.8878 - val_loss: 0.2787 - val_accuracy: 0.8824\n",
      "Epoch 12/40\n",
      "153563/153563 [==============================] - 3s 22us/step - loss: 0.2608 - accuracy: 0.8906 - val_loss: 0.2776 - val_accuracy: 0.8841\n",
      "Epoch 13/40\n",
      "153563/153563 [==============================] - 3s 23us/step - loss: 0.2572 - accuracy: 0.8934 - val_loss: 0.2717 - val_accuracy: 0.8869\n",
      "Epoch 14/40\n",
      "153563/153563 [==============================] - 3s 22us/step - loss: 0.2491 - accuracy: 0.8956 - val_loss: 0.2649 - val_accuracy: 0.8899\n",
      "Epoch 15/40\n",
      "153563/153563 [==============================] - 3s 22us/step - loss: 0.2421 - accuracy: 0.8992 - val_loss: 0.2652 - val_accuracy: 0.8921\n",
      "Epoch 16/40\n",
      "153563/153563 [==============================] - 3s 22us/step - loss: 0.2378 - accuracy: 0.9015 - val_loss: 0.2563 - val_accuracy: 0.8950\n",
      "Epoch 17/40\n",
      "153563/153563 [==============================] - 3s 22us/step - loss: 0.2315 - accuracy: 0.9039 - val_loss: 0.2621 - val_accuracy: 0.8923\n",
      "Epoch 18/40\n",
      "153563/153563 [==============================] - 3s 22us/step - loss: 0.2317 - accuracy: 0.9064 - val_loss: 0.2537 - val_accuracy: 0.8954\n",
      "Epoch 19/40\n",
      "153563/153563 [==============================] - 3s 22us/step - loss: 0.2219 - accuracy: 0.9083 - val_loss: 0.2502 - val_accuracy: 0.8985\n",
      "Epoch 20/40\n",
      "153563/153563 [==============================] - 3s 22us/step - loss: 0.2177 - accuracy: 0.9104 - val_loss: 0.2510 - val_accuracy: 0.8983\n",
      "Epoch 21/40\n",
      "153563/153563 [==============================] - 3s 22us/step - loss: 0.2143 - accuracy: 0.9115 - val_loss: 0.2422 - val_accuracy: 0.9012\n",
      "Epoch 22/40\n",
      "153563/153563 [==============================] - 3s 23us/step - loss: 0.2104 - accuracy: 0.9133 - val_loss: 0.2517 - val_accuracy: 0.9003\n",
      "Epoch 23/40\n",
      "153563/153563 [==============================] - 3s 22us/step - loss: 0.2069 - accuracy: 0.9145 - val_loss: 0.2463 - val_accuracy: 0.9028\n",
      "Epoch 24/40\n",
      "153563/153563 [==============================] - 3s 22us/step - loss: 0.2062 - accuracy: 0.9157 - val_loss: 0.2432 - val_accuracy: 0.9014\n",
      "Epoch 25/40\n",
      "153563/153563 [==============================] - 3s 22us/step - loss: 0.1990 - accuracy: 0.9180 - val_loss: 0.2357 - val_accuracy: 0.9045\n",
      "Epoch 26/40\n",
      "153563/153563 [==============================] - 3s 22us/step - loss: 0.1961 - accuracy: 0.9194 - val_loss: 0.2454 - val_accuracy: 0.9067\n",
      "Epoch 27/40\n",
      "153563/153563 [==============================] - 3s 22us/step - loss: 0.1941 - accuracy: 0.9202 - val_loss: 0.2347 - val_accuracy: 0.9079\n",
      "Epoch 28/40\n",
      "153563/153563 [==============================] - 3s 22us/step - loss: 0.1908 - accuracy: 0.9215 - val_loss: 0.2433 - val_accuracy: 0.9045\n",
      "Epoch 29/40\n",
      "153563/153563 [==============================] - 3s 22us/step - loss: 0.1905 - accuracy: 0.9233 - val_loss: 0.2417 - val_accuracy: 0.9059\n",
      "Epoch 30/40\n",
      "153563/153563 [==============================] - 3s 22us/step - loss: 0.1866 - accuracy: 0.9237 - val_loss: 0.2356 - val_accuracy: 0.9075\n",
      "Epoch 31/40\n",
      "153563/153563 [==============================] - 3s 22us/step - loss: 0.1826 - accuracy: 0.9252 - val_loss: 0.2358 - val_accuracy: 0.9091\n",
      "Epoch 32/40\n",
      "153563/153563 [==============================] - 3s 22us/step - loss: 0.1805 - accuracy: 0.9262 - val_loss: 0.2370 - val_accuracy: 0.9070\n",
      "Epoch 33/40\n",
      "153563/153563 [==============================] - 3s 22us/step - loss: 0.1767 - accuracy: 0.9277 - val_loss: 0.2381 - val_accuracy: 0.9083\n",
      "Epoch 34/40\n",
      "153563/153563 [==============================] - 3s 22us/step - loss: 0.1762 - accuracy: 0.9274 - val_loss: 0.2306 - val_accuracy: 0.9107\n",
      "Epoch 35/40\n",
      "153563/153563 [==============================] - 3s 22us/step - loss: 0.1729 - accuracy: 0.9296 - val_loss: 0.2312 - val_accuracy: 0.9090\n",
      "Epoch 36/40\n",
      "153563/153563 [==============================] - 3s 22us/step - loss: 0.1803 - accuracy: 0.9302 - val_loss: 0.2299 - val_accuracy: 0.9093\n",
      "Epoch 37/40\n",
      "153563/153563 [==============================] - 3s 22us/step - loss: 0.1681 - accuracy: 0.9313 - val_loss: 0.2297 - val_accuracy: 0.9124\n",
      "Epoch 38/40\n",
      "153563/153563 [==============================] - 3s 22us/step - loss: 0.1668 - accuracy: 0.9324 - val_loss: 0.2311 - val_accuracy: 0.9109\n",
      "Epoch 39/40\n",
      "153563/153563 [==============================] - 3s 22us/step - loss: 0.1655 - accuracy: 0.9323 - val_loss: 0.2336 - val_accuracy: 0.9074\n",
      "Epoch 40/40\n",
      "153563/153563 [==============================] - 3s 22us/step - loss: 0.1631 - accuracy: 0.9334 - val_loss: 0.2322 - val_accuracy: 0.9107\n"
     ]
    }
   ],
   "source": [
    " history = model.fit(X_train, y_train,\n",
    "                     epochs=40,\n",
    "                     verbose=True,\n",
    "                     validation_data=(X_test, y_test),\n",
    "                     batch_size=32,\n",
    "                     callbacks=callbacks_list)"
   ]
  },
  {
   "cell_type": "code",
   "execution_count": 24,
   "metadata": {
    "scrolled": true
   },
   "outputs": [
    {
     "name": "stdout",
     "output_type": "stream",
     "text": [
      "153563/153563 [==============================] - 1s 7us/step\n",
      "Training Accuracy: 0.9373 Loss: 0.1521\n",
      "32907/32907 [==============================] - 0s 7us/step\n",
      "Testing Accuracy: 0.9107 Loss: 0.2322\n",
      "32907/32907 [==============================] - 0s 7us/step\n",
      "Unseen Accuracy: 0.9120 Loss: 0.4213\n"
     ]
    }
   ],
   "source": [
    "loss, accuracy  = model.evaluate(X_train, y_train, verbose=True)\n",
    "print(f\"Training Accuracy: {accuracy:.4f} Loss: {loss:.4f}\")\n",
    "loss, accuracy = model.evaluate(X_test, y_test, verbose=True)\n",
    "print(f\"Testing Accuracy: {accuracy:.4f} Loss: {loss:.4f}\")\n",
    "loss, accuracy = model.evaluate(X_validation, y_validation, verbose=True)\n",
    "print(f\"Unseen Accuracy: {accuracy:.4f} Loss: {loss:.4f}\")"
   ]
  },
  {
   "cell_type": "markdown",
   "metadata": {},
   "source": [
    "# Sample training runs for tuning\n",
    "blindly running grid search on random parameter variations isn't usually very helpful. \n",
    "Here we show some obvious variations to narrow the parameter ranges and tune manually."
   ]
  },
  {
   "cell_type": "code",
   "execution_count": 25,
   "metadata": {},
   "outputs": [],
   "source": [
    "# 128, 64\n",
    "\n",
    "# 153563/153563 [==============================] - 2s 16us/step\n",
    "# Training Accuracy: 0.9110 Loss: 0.2175\n",
    "# 32907/32907 [==============================] - 1s 17us/step\n",
    "# Testing Accuracy: 0.8991 Loss: 0.2483\n",
    "# 32907/32907 [==============================] - 1s 17us/step\n",
    "# Unseen Accuracy: 0.8974 Loss: 0.4771\n",
    "\n",
    "#128, 128\n",
    "# 153563/153563 [==============================] - 2s 16us/step\n",
    "# Training Accuracy: 0.9110 Loss: 0.2175\n",
    "# 32907/32907 [==============================] - 1s 17us/step\n",
    "# Testing Accuracy: 0.8991 Loss: 0.2483\n",
    "# 32907/32907 [==============================] - 1s 17us/step\n",
    "# Unseen Accuracy: 0.8974 Loss: 0.4771\n",
    "\n",
    "# 256, 256\n",
    "# 153563/153563 [==============================] - 2s 15us/step\n",
    "# Training Accuracy: 0.9397 Loss: 0.1494\n",
    "# 32907/32907 [==============================] - 1s 16us/step\n",
    "# Testing Accuracy: 0.9162 Loss: 0.2208\n",
    "# 32907/32907 [==============================] - 0s 15us/step\n",
    "# Unseen Accuracy: 0.9139 Loss: 0.5172\n",
    "\n",
    "# 256, 256 w/regularization\n",
    "# 153563/153563 [==============================] - 3s 18us/step\n",
    "# Training Accuracy: 0.8370 Loss: 0.3993\n",
    "# 32907/32907 [==============================] - 1s 18us/step\n",
    "# Testing Accuracy: 0.8358 Loss: 0.3997\n",
    "# 32907/32907 [==============================] - 1s 17us/step\n",
    "# Unseen Accuracy: 0.8365 Loss: 0.3970\n",
    "\n",
    "# 256,256 with droput\n",
    "# 153563/153563 [==============================] - 2s 16us/step\n",
    "# Training Accuracy: 0.9246 Loss: 0.1851\n",
    "# 32907/32907 [==============================] - 1s 16us/step\n",
    "# Testing Accuracy: 0.9094 Loss: 0.2239\n",
    "# 32907/32907 [==============================] - 1s 16us/step\n",
    "# Unseen Accuracy: 0.9086 Loss: 0.2397\n",
    "\n",
    "#256, 128 w/dropout\n",
    "# 153563/153563 [==============================] - 3s 18us/step\n",
    "# Training Accuracy: 0.9123 Loss: 0.2111\n",
    "# 32907/32907 [==============================] - 1s 18us/step\n",
    "# Testing Accuracy: 0.8999 Loss: 0.2410\n",
    "# 32907/32907 [==============================] - 1s 18us/step\n",
    "# Unseen Accuracy: 0.9019 Loss: 0.2815\n",
    "\n",
    "#256, 128\n",
    "# 153563/153563 [==============================] - 3s 17us/step\n",
    "# Training Accuracy: 0.9280 Loss: 0.1736\n",
    "# 32907/32907 [==============================] - 1s 17us/step\n",
    "# Testing Accuracy: 0.9079 Loss: 0.2321\n",
    "# 32907/32907 [==============================] - 1s 16us/step\n",
    "# Unseen Accuracy: 0.9080 Loss: 0.3344\n",
    "\n",
    "# 256,256 using a different seed\n",
    "# 153563/153563 [==============================] - 1s 7us/step\n",
    "# Training Accuracy: 0.9373 Loss: 0.1521\n",
    "# 32907/32907 [==============================] - 0s 7us/step\n",
    "# Testing Accuracy: 0.9107 Loss: 0.2322\n",
    "# 32907/32907 [==============================] - 0s 7us/step\n",
    "# Unseen Accuracy: 0.9120 Loss: 0.4213\n",
    "\n",
    "#500, 500 using the 256 seed above\n",
    "# 153563/153563 [==============================] - 1s 9us/step\n",
    "# Training Accuracy: 0.9453 Loss: 0.1326\n",
    "# 32907/32907 [==============================] - 0s 10us/step\n",
    "# Testing Accuracy: 0.9178 Loss: 0.2263\n",
    "# 32907/32907 [==============================] - 0s 9us/step\n",
    "# Unseen Accuracy: 0.9150 Loss: 0.2291\n"
   ]
  },
  {
   "cell_type": "code",
   "execution_count": 26,
   "metadata": {},
   "outputs": [
    {
     "data": {
      "image/png": "[encoded data removed]",
      "text/plain": [
       "<Figure size 864x360 with 2 Axes>"
      ]
     },
     "metadata": {},
     "output_type": "display_data"
    }
   ],
   "source": [
    "plot_history(history, 'loanword_detectory_val_acc.256x256nn.png')"
   ]
  },
  {
   "cell_type": "code",
   "execution_count": null,
   "metadata": {},
   "outputs": [],
   "source": []
  },
  {
   "cell_type": "markdown",
   "metadata": {},
   "source": [
    "## Tips for parameter tuning\n",
    "* Set a seed for random on the Python and library levels, as done early in this notebook\n",
    "* Be sure to recreate and compile your model fresh with each training session;\n",
    "    * If you rerun the .fit() method, you’ll start off with the computed weights from the previous training.\n",
    "* Study the history plots of each run, notice where training and validation characteristically starts to diverge more and more.\n",
    "    * Your training and validation graphs may have local minima, so you might not be able to use early stopping automatically.\n",
    "* Keep your validation and test (unseen) scores close; if they diverge, you're overfitting on the training and validation data."
   ]
  },
  {
   "cell_type": "markdown",
   "metadata": {},
   "source": [
    "## Fit final model"
   ]
  },
  {
   "cell_type": "code",
   "execution_count": 27,
   "metadata": {},
   "outputs": [],
   "source": [
    "all_X_scaled = scaler.fit_transform(all_X.astype(np.float32))\n",
    "\n",
    "model = Sequential(name='Loanword detector')\n",
    "model.add(Dense(256, name='Dense_layer_1',\n",
    "                input_dim=num_features, activation='relu'))\n",
    "model.add(Dense(256, name='Dense_layer_2',\n",
    "                activation='relu'))\n",
    "model.add(Dense(1, name='Dense_layer_3', activation='sigmoid'))\n",
    "model.compile(loss='binary_crossentropy', \n",
    "              optimizer= 'adam',\n",
    "              metrics=['accuracy'])  \n",
    "model.fit(all_X_scaled, all_y,\n",
    "                     epochs=26,\n",
    "                     verbose=False,                     \n",
    "                     batch_size=32)\n",
    "model.save('loanword_detector.greek_latin.keras.h5')"
   ]
  },
  {
   "cell_type": "markdown",
   "metadata": {},
   "source": [
    "## Load the model and call it a run time (don't use pickle)"
   ]
  },
  {
   "cell_type": "code",
   "execution_count": 28,
   "metadata": {},
   "outputs": [],
   "source": [
    "mymodel = load_model('loanword_detector.greek_latin.keras.h5')"
   ]
  },
  {
   "cell_type": "code",
   "execution_count": 35,
   "metadata": {},
   "outputs": [],
   "source": [
    "the_char_idx = {' ': 0, 'A': 1, 'B': 2, 'C': 3, 'D': 4, 'E': 5, 'F': 6, 'G': 7, 'H': 8, 'I': 9, 'K': 10, 'L': 11, 'M': 12, 'N': 13, 'O': 14, 'P': 15, 'Q': 16, 'R': 17, 'S': 18, 'T': 19, 'U': 20, 'V': 21, 'X': 22, 'Y': 23, 'Z': 24, 'a': 25, 'b': 26, 'c': 27, 'd': 28, 'e': 29, 'f': 30, 'g': 31, 'h': 32, 'i': 33, 'k': 34, 'l': 35, 'm': 36, 'n': 37, 'o': 38, 'p': 39, 'q': 40, 'r': 41, 's': 42, 't': 43, 'u': 44, 'v': 45, 'x': 46, 'y': 47, 'z': 48, 'Å': 49, 'Ē': 50, 'ē': 51, 'Ō': 52, 'ō': 53}\n",
    "\n",
    "def encode_word(word, char_idx, max_len=28):\n",
    "    vals =np.zeros(max_len)\n",
    "    for idx, car in enumerate(word):\n",
    "        vals[idx] = char_idx.get(car, 0) / len(char_idx) # total_uniq_char_count\n",
    "    return vals"
   ]
  },
  {
   "cell_type": "code",
   "execution_count": 42,
   "metadata": {},
   "outputs": [],
   "source": [
    "def is_greek(word):\n",
    "    x = [encode_word(word, the_char_idx, max_len=28)]\n",
    "    # Use the fitted transformer, load from a pickle if necessary\n",
    "    x=np.array(x).astype(np.float32)\n",
    "    x = scaler.transform(x) \n",
    "    return mymodel.predict(x)"
   ]
  },
  {
   "cell_type": "code",
   "execution_count": 43,
   "metadata": {},
   "outputs": [
    {
     "data": {
      "text/plain": [
       "array([[0.1272271]], dtype=float32)"
      ]
     },
     "execution_count": 43,
     "metadata": {},
     "output_type": "execute_result"
    }
   ],
   "source": [
    "is_greek('arxomai') "
   ]
  },
  {
   "cell_type": "code",
   "execution_count": 44,
   "metadata": {},
   "outputs": [
    {
     "data": {
      "text/plain": [
       "array([[0.15047942]], dtype=float32)"
      ]
     },
     "execution_count": 44,
     "metadata": {},
     "output_type": "execute_result"
    }
   ],
   "source": [
    "is_greek('veritas')"
   ]
  },
  {
   "cell_type": "code",
   "execution_count": 45,
   "metadata": {},
   "outputs": [
    {
     "data": {
      "text/plain": [
       "array([[0.9263797]], dtype=float32)"
      ]
     },
     "execution_count": 45,
     "metadata": {},
     "output_type": "execute_result"
    }
   ],
   "source": [
    "is_greek('thuon')"
   ]
  },
  {
   "cell_type": "code",
   "execution_count": 48,
   "metadata": {},
   "outputs": [
    {
     "name": "stdout",
     "output_type": "stream",
     "text": [
      "-rw-r--r-- 1 todd todd 889K Mar 29 14:13 loanword_detector.greek_latin.keras.h5\r\n"
     ]
    }
   ],
   "source": [
    "! ls -lh  loanword_detector.greek_latin.keras.h5"
   ]
  },
  {
   "cell_type": "markdown",
   "metadata": {},
   "source": [
    "## Comparing the scikit learn classifier vs. the Keras Neural Net\n",
    "* RandomForest Classifier\n",
    "    * 626 MB pickle size\n",
    "    * accuracy: 96%\n",
    "* Keras Neural Net\n",
    "    * 889 kb h5 pickle size\n",
    "    * accuracy: 92.88%\n",
    "\n",
    "These results are typical for a relatively small dataset. Decision tree classifiers do very well, but can be prone to overfitting; and on the downside, the decision tree model is somewhat large. The neural net is small and is not overfitting. It is more compact and quite performant, and should a worthwhile consideration.\n",
    "\n",
    "Both models might benefit from training with more data, and this is an area for future investigation.\n",
    "\n",
    "## When to use which model?\n",
    "* trying to win a Kaggle competition, choose the highest scoring one, even if it overfits ;-)\n",
    "* need to deploy at scale? Consider sacrificing a few percentage points for a smaller model size for:\n",
    "    * smaller memory footprint\n",
    "    * more throughput"
   ]
  },
  {
   "cell_type": "markdown",
   "metadata": {},
   "source": [
    "# That's all for now folks!"
   ]
  }
 ],
 "metadata": {
  "kernelspec": {
   "display_name": "Python 3",
   "language": "python",
   "name": "python3"
  },
  "language_info": {
   "codemirror_mode": {
    "name": "ipython",
    "version": 3
   },
   "file_extension": ".py",
   "mimetype": "text/x-python",
   "name": "python",
   "nbconvert_exporter": "python",
   "pygments_lexer": "ipython3",
   "version": "3.7.3"
  }
 },
 "nbformat": 4,
 "nbformat_minor": 2
}
